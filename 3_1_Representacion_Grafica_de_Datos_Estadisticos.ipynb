{
 "cells": [
  {
   "cell_type": "markdown",
   "metadata": {},
   "source": [
    "# Representación Gráfica de Datos Estadísticos"
   ]
  },
  {
   "cell_type": "code",
   "execution_count": null,
   "metadata": {},
   "outputs": [],
   "source": [
    "import pandas as pd   # Bibliotecapara el análisis de datos\n",
    "import numpy as np   # Biblioteca para las operaciones matemáticas\n",
    "import matplotlib.pyplot as plt   # Biblioteca de graficación"
   ]
  },
  {
   "cell_type": "markdown",
   "metadata": {},
   "source": [
    "# Diccionario de Datos\n",
    "\n",
    "Tesis: [Propiedades físicas de los aerosoles atmosféricos en Juriquilla, Querétaro.](http://132.248.9.195/ptd2019/junio/0790097/Index.html)\n",
    "\n",
    "+ hora: hora de la medición en hora:minuto:segundo\n",
    "+ fecha día de la medición\n",
    "+ coedisp: coeficiente de dispersión de la luz incidente\n",
    "+ abso: coeficiente de absorción de la luz incidente\n",
    "+ albedo: coeficiente de albedo (porcentaje de radiación que la superficie refleja cuando un rayo de radiación incide sobre ella)\n",
    "+ extinc: coeficiente de extinción, suma de los coeficientes de dispersión y absorción\n",
    "+ cn: cantidad de carbono negro estimada"
   ]
  },
  {
   "cell_type": "code",
   "execution_count": null,
   "metadata": {},
   "outputs": [],
   "source": [
    "# Lectura de datos\n",
    "datos = pd.read_excel('Datos/todoslosmeses.xlsx')"
   ]
  },
  {
   "cell_type": "code",
   "execution_count": null,
   "metadata": {},
   "outputs": [],
   "source": [
    "# Primeros 5 registros para ver estructura de la tabla\n",
    "datos.head()"
   ]
  },
  {
   "cell_type": "code",
   "execution_count": null,
   "metadata": {},
   "outputs": [],
   "source": [
    "# Columnas de la tabla\n",
    "datos.columns"
   ]
  },
  {
   "cell_type": "code",
   "execution_count": null,
   "metadata": {},
   "outputs": [],
   "source": [
    "# Reenombrando columnas\n",
    "datos.columns = ['hora', 'fecha', 'coef_dispersion', 'coef_absorcion',\n",
    "                 'coef_albedo', 'coef_extincion', 'cn']"
   ]
  },
  {
   "cell_type": "code",
   "execution_count": null,
   "metadata": {},
   "outputs": [],
   "source": [
    "datos.head()"
   ]
  },
  {
   "cell_type": "code",
   "execution_count": null,
   "metadata": {},
   "outputs": [],
   "source": [
    "# Info de la tabla\n",
    "datos.info()"
   ]
  },
  {
   "cell_type": "code",
   "execution_count": null,
   "metadata": {},
   "outputs": [],
   "source": [
    "# Método que devuelve los números espaciados uniformemente\n",
    "np.linspace(0,1,11)"
   ]
  },
  {
   "cell_type": "code",
   "execution_count": null,
   "metadata": {},
   "outputs": [],
   "source": [
    "# Indicamos el tamaño del intervalo con un arrange\n",
    "np.arange(0,1.1,0.1)"
   ]
  },
  {
   "cell_type": "code",
   "execution_count": null,
   "metadata": {},
   "outputs": [],
   "source": [
    "# Descriptivos de la tabla\n",
    "datos.describe(percentiles=np.linspace(0,1,11))"
   ]
  },
  {
   "cell_type": "markdown",
   "metadata": {},
   "source": [
    "Localizando el valor mínimo del cn:"
   ]
  },
  {
   "cell_type": "code",
   "execution_count": null,
   "metadata": {},
   "outputs": [],
   "source": [
    "datos[datos.cn == datos.cn.min()]"
   ]
  },
  {
   "cell_type": "markdown",
   "metadata": {},
   "source": [
    "Localizando la mediana del albedo:"
   ]
  },
  {
   "cell_type": "code",
   "execution_count": null,
   "metadata": {},
   "outputs": [],
   "source": [
    "datos[datos['coef_albedo'] == datos['coef_albedo'].median()]"
   ]
  },
  {
   "cell_type": "markdown",
   "metadata": {},
   "source": [
    "Localizando el valor máximo del carbono negro."
   ]
  },
  {
   "cell_type": "code",
   "execution_count": null,
   "metadata": {},
   "outputs": [],
   "source": [
    "datos[datos.cn == datos.cn.max()]"
   ]
  },
  {
   "cell_type": "markdown",
   "metadata": {},
   "source": [
    "# Datos Nulos\n",
    "\n",
    "NaN (nulos/NULL/...) es un marcador especial usado en diverosos lenguajes de programación para indicar que no existe un valor dentro de una base de datos.\n",
    "\n",
    "<img src=\"Imagenes/rgde1.jpg\">\n",
    "\n",
    "Simplemente significa que la base de datos **NO cuenta con ese dato**.\n",
    "\n",
    "Para saber si tenemos datos nulos utilizamos el método *isnull()*:"
   ]
  },
  {
   "cell_type": "code",
   "execution_count": null,
   "metadata": {},
   "outputs": [],
   "source": [
    "datos.isnull().sum()"
   ]
  },
  {
   "cell_type": "code",
   "execution_count": null,
   "metadata": {},
   "outputs": [],
   "source": [
    "# nulos.nul_values/datos.shape[0] * 100"
   ]
  },
  {
   "cell_type": "code",
   "execution_count": null,
   "metadata": {},
   "outputs": [],
   "source": [
    "# Vemos el número de registros que tenemos\n",
    "datos.shape[0]"
   ]
  },
  {
   "cell_type": "code",
   "execution_count": null,
   "metadata": {},
   "outputs": [],
   "source": [
    "len(datos)"
   ]
  },
  {
   "cell_type": "markdown",
   "metadata": {},
   "source": [
    "Generemos una tabla para ver qué porcentaje de cada variable corresponde a valores nulos:"
   ]
  },
  {
   "cell_type": "code",
   "execution_count": null,
   "metadata": {},
   "outputs": [],
   "source": [
    "nulos = pd.DataFrame(datos.isnull().sum(), columns = ['nul_values'])\n",
    "\n",
    "#se crea nueva columna de porcentaje\n",
    "nulos['porcentaje'] = nulos.nul_values/datos.shape[0] * 100\n",
    "nulos"
   ]
  },
  {
   "cell_type": "markdown",
   "metadata": {},
   "source": [
    "Si queremos el número total de valores nulos bastará con:"
   ]
  },
  {
   "cell_type": "code",
   "execution_count": null,
   "metadata": {},
   "outputs": [],
   "source": [
    "print(\"El número total de nulos es:\", nulos.nul_values.sum())"
   ]
  },
  {
   "cell_type": "markdown",
   "metadata": {},
   "source": [
    "Y si no tienes nada que hacer puedes agregar un último renglón de número total de nulos así:"
   ]
  },
  {
   "cell_type": "code",
   "execution_count": null,
   "metadata": {},
   "outputs": [],
   "source": [
    "# Nos regresa la suma de los valores nulos\n",
    "pd.DataFrame(nulos.nul_values.sum(),\n",
    "             index=['total'],\n",
    "             columns=['nul_values'])"
   ]
  },
  {
   "cell_type": "code",
   "execution_count": null,
   "metadata": {},
   "outputs": [],
   "source": [
    "# Creamos una fila nueva\n",
    "nulos.append(\n",
    "    pd.DataFrame(data=nulos.nul_values.sum(),\n",
    "                 index=['total'],\n",
    "                 columns=['nul_values']))"
   ]
  },
  {
   "cell_type": "markdown",
   "metadata": {},
   "source": [
    "Tenemos dos opciones para lidiar con los nulos: _remplazarlos por algún otro valor_ o simplemente _eliminar los registros_ que tengan valores nulos."
   ]
  },
  {
   "cell_type": "markdown",
   "metadata": {},
   "source": [
    "Para quitar nulos: "
   ]
  },
  {
   "cell_type": "code",
   "execution_count": null,
   "metadata": {},
   "outputs": [],
   "source": [
    "# datos.dropna(inplace=True)"
   ]
  },
  {
   "cell_type": "markdown",
   "metadata": {},
   "source": [
    "Para reemplazarlos (en este caso lo remplaza por el promedio):"
   ]
  },
  {
   "cell_type": "code",
   "execution_count": null,
   "metadata": {},
   "outputs": [],
   "source": [
    "# datos.fillna(datos.mean(), inplace=True)"
   ]
  },
  {
   "cell_type": "markdown",
   "metadata": {},
   "source": [
    "¿Qué nos convendría más?\n",
    "\n",
    "Vamos a ver:"
   ]
  },
  {
   "cell_type": "code",
   "execution_count": null,
   "metadata": {},
   "outputs": [],
   "source": [
    "datos.isnull().sum()"
   ]
  },
  {
   "cell_type": "markdown",
   "metadata": {},
   "source": [
    "Tenemos hasta 14 mil valores nulos en nuestras variables, si sólo tiraramos los valores nulos:"
   ]
  },
  {
   "cell_type": "code",
   "execution_count": null,
   "metadata": {},
   "outputs": [],
   "source": [
    "t = (datos.isnull().sum().max())/ (len(datos)) * 100\n",
    "print(\"Porcentaje aproximado de datos que perderíamos:\", str(round(t,2)) + '%' )"
   ]
  },
  {
   "cell_type": "markdown",
   "metadata": {},
   "source": [
    "En esta ocasión optaremos por rellenarlo con la mediana porque la mediana es más robusta a outliers que el promedio:"
   ]
  },
  {
   "cell_type": "code",
   "execution_count": null,
   "metadata": {},
   "outputs": [],
   "source": [
    "# Datos para rellenar valores nulos\n",
    "datos.fillna(datos.median(), inplace=True)"
   ]
  },
  {
   "cell_type": "code",
   "execution_count": null,
   "metadata": {},
   "outputs": [],
   "source": [
    "datos.isnull().sum()"
   ]
  },
  {
   "cell_type": "markdown",
   "metadata": {},
   "source": [
    "## ADVERTENCIA: NUNCA SE DEBEN REMPLAZAR LOS VALORES NULOS ANTES DEL ANÁLISIS ESTADÍSTICO DE LOS DATOS, MÁS ADELANTE VEREMOS PORQUÉ. EN ESTA CLASE LO HEMOS HECHO ASÍ PARA ILUSTRAR EL PUNTO"
   ]
  },
  {
   "cell_type": "code",
   "execution_count": null,
   "metadata": {},
   "outputs": [],
   "source": [
    "# Distribuciones\n",
    "\n",
    "plt.figure(figsize = (10,5))\n",
    "datos.cn.hist(bins=100)\n",
    "\n",
    "plt.xlim(-0.2, datos.cn.quantile(0.99))\n",
    "plt.xlabel('carbono negro')\n",
    "plt.ylabel(u'número de datos')\n",
    "plt.title('Distribución del carbono negro acotado', fontsize=20,)\n",
    "plt.xticks(fontsize = 18)\n",
    "plt.yticks(fontsize = 16);"
   ]
  },
  {
   "cell_type": "code",
   "execution_count": null,
   "metadata": {},
   "outputs": [],
   "source": [
    "# Histogramas de datos\n",
    "datos.hist(bins=100, figsize=(15,10)) \n",
    "plt.tight_layout()  #ajusta automaticamente el padding"
   ]
  },
  {
   "cell_type": "markdown",
   "metadata": {},
   "source": [
    "¿Qué son esos picos horribles en los coeficientes de extinción y en el albedo?"
   ]
  },
  {
   "cell_type": "code",
   "execution_count": null,
   "metadata": {},
   "outputs": [],
   "source": [
    "datos.columns"
   ]
  },
  {
   "cell_type": "code",
   "execution_count": null,
   "metadata": {},
   "outputs": [],
   "source": [
    "for col in datos.select_dtypes(exclude=[\"object\", 'datetime']):   # Para columna en columna desde la columna 2 hasta la final\n",
    "    print(col)   # Imprime tu iterador \n",
    "    datos[col].hist(bins=100,)   # Histograma de la columna con 100 intervalos \n",
    "    plt.xlim(datos[col].quantile(0.01),datos[col].quantile(0.99))   # Limite del eje x con respcto del 1 % al 99%\n",
    "    plt.title(col,fontsize=20)\n",
    "    plt.yticks(fontsize = 14)\n",
    "    plt.xticks(fontsize = 14)\n",
    "    plt.ylabel('Frecuencia', fontsize = 16)\n",
    "    plt.show()\n",
    "    print(\"------------------------------------------------------------------------\")"
   ]
  },
  {
   "cell_type": "markdown",
   "metadata": {},
   "source": [
    "## Correlaciones"
   ]
  },
  {
   "cell_type": "code",
   "execution_count": null,
   "metadata": {},
   "outputs": [],
   "source": [
    "# Revisión de correlaciones\n",
    "datos.corr(method='pearson')"
   ]
  },
  {
   "cell_type": "code",
   "execution_count": null,
   "metadata": {},
   "outputs": [],
   "source": [
    "# Mapa de calor de las correlaciones\n",
    "plt.figure(figsize = (10,10))\n",
    "plt.imshow(datos.corr(), cmap='RdYlBu_r')\n",
    "plt.colorbar()\n",
    "plt.xticks(np.arange(5), datos.describe().columns, fontsize=8)\n",
    "plt.yticks(np.arange(5), datos.describe().columns, fontsize=12);"
   ]
  },
  {
   "cell_type": "markdown",
   "metadata": {},
   "source": [
    "Ahora hagamos lo mismo, pero con una biblioteca de visualización de datos más bonita:"
   ]
  },
  {
   "cell_type": "code",
   "execution_count": null,
   "metadata": {},
   "outputs": [],
   "source": [
    "import seaborn as sbn"
   ]
  },
  {
   "cell_type": "code",
   "execution_count": null,
   "metadata": {},
   "outputs": [],
   "source": [
    "corr = datos.corr()\n",
    "mask = np.triu(np.ones_like(corr, dtype=np.bool))\n",
    "sbn.heatmap(corr, annot=True, cmap='RdBu_r', vmin=-1,vmax=1, mask=mask);"
   ]
  },
  {
   "cell_type": "code",
   "execution_count": null,
   "metadata": {},
   "outputs": [],
   "source": [
    "cov = datos.cov()\n",
    "mask = np.triu(np.ones_like(corr, dtype=np.bool))\n",
    "sbn.heatmap(cov, annot=True, cmap='RdBu_r', mask=mask);"
   ]
  },
  {
   "cell_type": "markdown",
   "metadata": {},
   "source": [
    "# Series de tiempo"
   ]
  },
  {
   "cell_type": "code",
   "execution_count": null,
   "metadata": {},
   "outputs": [],
   "source": [
    "datos.head()"
   ]
  },
  {
   "cell_type": "code",
   "execution_count": null,
   "metadata": {},
   "outputs": [],
   "source": [
    "datos['fecha']"
   ]
  },
  {
   "cell_type": "code",
   "execution_count": null,
   "metadata": {},
   "outputs": [],
   "source": [
    "datos.groupby('fecha').mean().plot(figsize = (15,7));"
   ]
  },
  {
   "cell_type": "code",
   "execution_count": null,
   "metadata": {},
   "outputs": [],
   "source": [
    "datos.hora.astype(str).str.split(\":\").str[0]"
   ]
  },
  {
   "cell_type": "code",
   "execution_count": null,
   "metadata": {},
   "outputs": [],
   "source": [
    "datos[\"hora_buena\"] = datos.hora.astype(str).str.split(\":\").str[0]"
   ]
  },
  {
   "cell_type": "code",
   "execution_count": null,
   "metadata": {},
   "outputs": [],
   "source": [
    "datos.groupby('hora_buena').mean().plot(figsize = (15,5));"
   ]
  }
 ],
 "metadata": {
  "kernelspec": {
   "display_name": "Python 3",
   "language": "python",
   "name": "python3"
  },
  "language_info": {
   "codemirror_mode": {
    "name": "ipython",
    "version": 3
   },
   "file_extension": ".py",
   "mimetype": "text/x-python",
   "name": "python",
   "nbconvert_exporter": "python",
   "pygments_lexer": "ipython3",
   "version": "3.8.3"
  },
  "toc": {
   "base_numbering": 1,
   "nav_menu": {},
   "number_sections": true,
   "sideBar": true,
   "skip_h1_title": false,
   "title_cell": "Table of Contents",
   "title_sidebar": "Contents",
   "toc_cell": false,
   "toc_position": {},
   "toc_section_display": "block",
   "toc_window_display": false
  },
  "varInspector": {
   "cols": {
    "lenName": 16,
    "lenType": 16,
    "lenVar": 40
   },
   "kernels_config": {
    "python": {
     "delete_cmd_postfix": "",
     "delete_cmd_prefix": "del ",
     "library": "var_list.py",
     "varRefreshCmd": "print(var_dic_list())"
    },
    "r": {
     "delete_cmd_postfix": ") ",
     "delete_cmd_prefix": "rm(",
     "library": "var_list.r",
     "varRefreshCmd": "cat(var_dic_list()) "
    }
   },
   "types_to_exclude": [
    "module",
    "function",
    "builtin_function_or_method",
    "instance",
    "_Feature"
   ],
   "window_display": false
  }
 },
 "nbformat": 4,
 "nbformat_minor": 4
}
