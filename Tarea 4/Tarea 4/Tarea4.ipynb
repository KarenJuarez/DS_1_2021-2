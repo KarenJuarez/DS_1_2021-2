{
 "cells": [
  {
   "cell_type": "markdown",
   "metadata": {},
   "source": [
    "# Tarea 4. Pandas Intermedio (yo no escogí el nombre)\n",
    "\n",
    "🐼"
   ]
  },
  {
   "cell_type": "markdown",
   "metadata": {},
   "source": [
    "1) Lee los datos la NBA includos dentro de la carpeta \"Datos\" adjunta en esta tarea.\n",
    "* Crea un DataFrame donde filtres a todos los jugadores de la semana (MVP) del 2019 (usa la columna 'Season short' para no complicarte).\n",
    "\n",
    "* Usa el método groupby() en tus datos filtrados para agruparlos por **conferencia** y **posición**. Usa el método count() para hacer un conteo sobre el número de MVP's que hubo por cada una de las posiciones de juego.\n",
    "\n",
    "* Recicla tu código del inciso anterior y usa la función unstack para generar un DataFrame donde las columnas sean las posiciones de juego. Haz una gráfica de tus resultados. Tiene que verse más o menos como:\n",
    "\n",
    "<img src=\"Imágenes/Tarea4-1.png\" width=\"400\"/> "
   ]
  },
  {
   "cell_type": "code",
   "execution_count": 201,
   "metadata": {},
   "outputs": [],
   "source": [
    "import pandas as pd\n",
    "import numpy as np\n",
    "import matplotlib.pyplot as plt"
   ]
  },
  {
   "cell_type": "code",
   "execution_count": 2,
   "metadata": {},
   "outputs": [],
   "source": [
    "datos = pd.read_csv(\"Datos\\\\NBA_player_of_the_week.csv\")"
   ]
  },
  {
   "cell_type": "code",
   "execution_count": 3,
   "metadata": {},
   "outputs": [
    {
     "data": {
      "text/html": [
       "<div>\n",
       "<style scoped>\n",
       "    .dataframe tbody tr th:only-of-type {\n",
       "        vertical-align: middle;\n",
       "    }\n",
       "\n",
       "    .dataframe tbody tr th {\n",
       "        vertical-align: top;\n",
       "    }\n",
       "\n",
       "    .dataframe thead th {\n",
       "        text-align: right;\n",
       "    }\n",
       "</style>\n",
       "<table border=\"1\" class=\"dataframe\">\n",
       "  <thead>\n",
       "    <tr style=\"text-align: right;\">\n",
       "      <th></th>\n",
       "      <th>Active season</th>\n",
       "      <th>Player</th>\n",
       "      <th>Team</th>\n",
       "      <th>Conference</th>\n",
       "      <th>Date</th>\n",
       "      <th>Position</th>\n",
       "      <th>Height</th>\n",
       "      <th>Weight</th>\n",
       "      <th>Age</th>\n",
       "      <th>Draft Year</th>\n",
       "      <th>Seasons in league</th>\n",
       "      <th>Season</th>\n",
       "      <th>Season short</th>\n",
       "      <th>Real_value</th>\n",
       "    </tr>\n",
       "  </thead>\n",
       "  <tbody>\n",
       "    <tr>\n",
       "      <td>0</td>\n",
       "      <td>0</td>\n",
       "      <td>Micheal Ray Richardson</td>\n",
       "      <td>New Jersey Nets</td>\n",
       "      <td>NaN</td>\n",
       "      <td>Apr 14, 1985</td>\n",
       "      <td>PG</td>\n",
       "      <td>6-5</td>\n",
       "      <td>189</td>\n",
       "      <td>29</td>\n",
       "      <td>1978</td>\n",
       "      <td>6</td>\n",
       "      <td>1984-1985</td>\n",
       "      <td>1985</td>\n",
       "      <td>1.0</td>\n",
       "    </tr>\n",
       "    <tr>\n",
       "      <td>1</td>\n",
       "      <td>0</td>\n",
       "      <td>Derek Smith</td>\n",
       "      <td>Los Angeles Clippers</td>\n",
       "      <td>NaN</td>\n",
       "      <td>Apr 7, 1985</td>\n",
       "      <td>SG</td>\n",
       "      <td>6-6</td>\n",
       "      <td>205</td>\n",
       "      <td>23</td>\n",
       "      <td>1982</td>\n",
       "      <td>2</td>\n",
       "      <td>1984-1985</td>\n",
       "      <td>1985</td>\n",
       "      <td>1.0</td>\n",
       "    </tr>\n",
       "    <tr>\n",
       "      <td>2</td>\n",
       "      <td>0</td>\n",
       "      <td>Calvin Natt</td>\n",
       "      <td>Denver Nuggets</td>\n",
       "      <td>NaN</td>\n",
       "      <td>Apr 1, 1985</td>\n",
       "      <td>F</td>\n",
       "      <td>6-6</td>\n",
       "      <td>220</td>\n",
       "      <td>28</td>\n",
       "      <td>1979</td>\n",
       "      <td>5</td>\n",
       "      <td>1984-1985</td>\n",
       "      <td>1985</td>\n",
       "      <td>1.0</td>\n",
       "    </tr>\n",
       "    <tr>\n",
       "      <td>3</td>\n",
       "      <td>0</td>\n",
       "      <td>Kareem Abdul-Jabbar</td>\n",
       "      <td>Los Angeles Lakers</td>\n",
       "      <td>NaN</td>\n",
       "      <td>Mar 24, 1985</td>\n",
       "      <td>C</td>\n",
       "      <td>7-2</td>\n",
       "      <td>225</td>\n",
       "      <td>37</td>\n",
       "      <td>1969</td>\n",
       "      <td>15</td>\n",
       "      <td>1984-1985</td>\n",
       "      <td>1985</td>\n",
       "      <td>1.0</td>\n",
       "    </tr>\n",
       "    <tr>\n",
       "      <td>4</td>\n",
       "      <td>0</td>\n",
       "      <td>Larry Bird</td>\n",
       "      <td>Boston Celtics</td>\n",
       "      <td>NaN</td>\n",
       "      <td>Mar 17, 1985</td>\n",
       "      <td>SF</td>\n",
       "      <td>6-9</td>\n",
       "      <td>220</td>\n",
       "      <td>28</td>\n",
       "      <td>1978</td>\n",
       "      <td>5</td>\n",
       "      <td>1984-1985</td>\n",
       "      <td>1985</td>\n",
       "      <td>1.0</td>\n",
       "    </tr>\n",
       "  </tbody>\n",
       "</table>\n",
       "</div>"
      ],
      "text/plain": [
       "   Active season                  Player                  Team Conference  \\\n",
       "0              0  Micheal Ray Richardson       New Jersey Nets        NaN   \n",
       "1              0             Derek Smith  Los Angeles Clippers        NaN   \n",
       "2              0             Calvin Natt        Denver Nuggets        NaN   \n",
       "3              0     Kareem Abdul-Jabbar    Los Angeles Lakers        NaN   \n",
       "4              0              Larry Bird        Boston Celtics        NaN   \n",
       "\n",
       "           Date Position Height  Weight  Age  Draft Year  Seasons in league  \\\n",
       "0  Apr 14, 1985       PG    6-5     189   29        1978                  6   \n",
       "1   Apr 7, 1985       SG    6-6     205   23        1982                  2   \n",
       "2   Apr 1, 1985        F    6-6     220   28        1979                  5   \n",
       "3  Mar 24, 1985        C    7-2     225   37        1969                 15   \n",
       "4  Mar 17, 1985       SF    6-9     220   28        1978                  5   \n",
       "\n",
       "      Season  Season short  Real_value  \n",
       "0  1984-1985          1985         1.0  \n",
       "1  1984-1985          1985         1.0  \n",
       "2  1984-1985          1985         1.0  \n",
       "3  1984-1985          1985         1.0  \n",
       "4  1984-1985          1985         1.0  "
      ]
     },
     "execution_count": 3,
     "metadata": {},
     "output_type": "execute_result"
    }
   ],
   "source": [
    "datos.head()"
   ]
  },
  {
   "cell_type": "code",
   "execution_count": 4,
   "metadata": {},
   "outputs": [],
   "source": [
    "MVP_2019 = datos[datos['Season short'] == 2019]"
   ]
  },
  {
   "cell_type": "code",
   "execution_count": 5,
   "metadata": {},
   "outputs": [
    {
     "data": {
      "text/html": [
       "<div>\n",
       "<style scoped>\n",
       "    .dataframe tbody tr th:only-of-type {\n",
       "        vertical-align: middle;\n",
       "    }\n",
       "\n",
       "    .dataframe tbody tr th {\n",
       "        vertical-align: top;\n",
       "    }\n",
       "\n",
       "    .dataframe thead th {\n",
       "        text-align: right;\n",
       "    }\n",
       "</style>\n",
       "<table border=\"1\" class=\"dataframe\">\n",
       "  <thead>\n",
       "    <tr style=\"text-align: right;\">\n",
       "      <th></th>\n",
       "      <th></th>\n",
       "      <th>Player</th>\n",
       "    </tr>\n",
       "    <tr>\n",
       "      <th>Conference</th>\n",
       "      <th>Position</th>\n",
       "      <th></th>\n",
       "    </tr>\n",
       "  </thead>\n",
       "  <tbody>\n",
       "    <tr>\n",
       "      <td rowspan=\"6\" valign=\"top\">East</td>\n",
       "      <td>C</td>\n",
       "      <td>2</td>\n",
       "    </tr>\n",
       "    <tr>\n",
       "      <td>F</td>\n",
       "      <td>11</td>\n",
       "    </tr>\n",
       "    <tr>\n",
       "      <td>G</td>\n",
       "      <td>2</td>\n",
       "    </tr>\n",
       "    <tr>\n",
       "      <td>PF</td>\n",
       "      <td>2</td>\n",
       "    </tr>\n",
       "    <tr>\n",
       "      <td>PG</td>\n",
       "      <td>1</td>\n",
       "    </tr>\n",
       "    <tr>\n",
       "      <td>SG</td>\n",
       "      <td>3</td>\n",
       "    </tr>\n",
       "    <tr>\n",
       "      <td rowspan=\"8\" valign=\"top\">West</td>\n",
       "      <td>C</td>\n",
       "      <td>4</td>\n",
       "    </tr>\n",
       "    <tr>\n",
       "      <td>F</td>\n",
       "      <td>1</td>\n",
       "    </tr>\n",
       "    <tr>\n",
       "      <td>FC</td>\n",
       "      <td>1</td>\n",
       "    </tr>\n",
       "    <tr>\n",
       "      <td>G</td>\n",
       "      <td>4</td>\n",
       "    </tr>\n",
       "    <tr>\n",
       "      <td>GF</td>\n",
       "      <td>3</td>\n",
       "    </tr>\n",
       "    <tr>\n",
       "      <td>PF</td>\n",
       "      <td>1</td>\n",
       "    </tr>\n",
       "    <tr>\n",
       "      <td>PG</td>\n",
       "      <td>1</td>\n",
       "    </tr>\n",
       "    <tr>\n",
       "      <td>SG</td>\n",
       "      <td>6</td>\n",
       "    </tr>\n",
       "  </tbody>\n",
       "</table>\n",
       "</div>"
      ],
      "text/plain": [
       "                     Player\n",
       "Conference Position        \n",
       "East       C              2\n",
       "           F             11\n",
       "           G              2\n",
       "           PF             2\n",
       "           PG             1\n",
       "           SG             3\n",
       "West       C              4\n",
       "           F              1\n",
       "           FC             1\n",
       "           G              4\n",
       "           GF             3\n",
       "           PF             1\n",
       "           PG             1\n",
       "           SG             6"
      ]
     },
     "execution_count": 5,
     "metadata": {},
     "output_type": "execute_result"
    }
   ],
   "source": [
    "MVP_2019.groupby(['Conference','Position'])[['Player']].count()"
   ]
  },
  {
   "cell_type": "code",
   "execution_count": 6,
   "metadata": {},
   "outputs": [
    {
     "data": {
      "text/html": [
       "<div>\n",
       "<style scoped>\n",
       "    .dataframe tbody tr th:only-of-type {\n",
       "        vertical-align: middle;\n",
       "    }\n",
       "\n",
       "    .dataframe tbody tr th {\n",
       "        vertical-align: top;\n",
       "    }\n",
       "\n",
       "    .dataframe thead tr th {\n",
       "        text-align: left;\n",
       "    }\n",
       "\n",
       "    .dataframe thead tr:last-of-type th {\n",
       "        text-align: right;\n",
       "    }\n",
       "</style>\n",
       "<table border=\"1\" class=\"dataframe\">\n",
       "  <thead>\n",
       "    <tr>\n",
       "      <th></th>\n",
       "      <th colspan=\"8\" halign=\"left\">Player</th>\n",
       "    </tr>\n",
       "    <tr>\n",
       "      <th>Position</th>\n",
       "      <th>C</th>\n",
       "      <th>F</th>\n",
       "      <th>FC</th>\n",
       "      <th>G</th>\n",
       "      <th>GF</th>\n",
       "      <th>PF</th>\n",
       "      <th>PG</th>\n",
       "      <th>SG</th>\n",
       "    </tr>\n",
       "    <tr>\n",
       "      <th>Conference</th>\n",
       "      <th></th>\n",
       "      <th></th>\n",
       "      <th></th>\n",
       "      <th></th>\n",
       "      <th></th>\n",
       "      <th></th>\n",
       "      <th></th>\n",
       "      <th></th>\n",
       "    </tr>\n",
       "  </thead>\n",
       "  <tbody>\n",
       "    <tr>\n",
       "      <td>East</td>\n",
       "      <td>2.0</td>\n",
       "      <td>11.0</td>\n",
       "      <td>NaN</td>\n",
       "      <td>2.0</td>\n",
       "      <td>NaN</td>\n",
       "      <td>2.0</td>\n",
       "      <td>1.0</td>\n",
       "      <td>3.0</td>\n",
       "    </tr>\n",
       "    <tr>\n",
       "      <td>West</td>\n",
       "      <td>4.0</td>\n",
       "      <td>1.0</td>\n",
       "      <td>1.0</td>\n",
       "      <td>4.0</td>\n",
       "      <td>3.0</td>\n",
       "      <td>1.0</td>\n",
       "      <td>1.0</td>\n",
       "      <td>6.0</td>\n",
       "    </tr>\n",
       "  </tbody>\n",
       "</table>\n",
       "</div>"
      ],
      "text/plain": [
       "           Player                                    \n",
       "Position        C     F   FC    G   GF   PF   PG   SG\n",
       "Conference                                           \n",
       "East          2.0  11.0  NaN  2.0  NaN  2.0  1.0  3.0\n",
       "West          4.0   1.0  1.0  4.0  3.0  1.0  1.0  6.0"
      ]
     },
     "execution_count": 6,
     "metadata": {},
     "output_type": "execute_result"
    }
   ],
   "source": [
    "df_unstack=MVP_2019.groupby(['Conference','Position'])[['Player']].count().unstack(level=-1)\n",
    "df_unstack"
   ]
  },
  {
   "cell_type": "code",
   "execution_count": 7,
   "metadata": {},
   "outputs": [],
   "source": [
    "plt.style.use('seaborn-pastel')"
   ]
  },
  {
   "cell_type": "code",
   "execution_count": 46,
   "metadata": {},
   "outputs": [
    {
     "data": {
      "text/plain": [
       "<Figure size 720x360 with 0 Axes>"
      ]
     },
     "metadata": {},
     "output_type": "display_data"
    },
    {
     "data": {
      "image/png": "[encoded data removed]",
      "text/plain": [
       "<Figure size 432x288 with 1 Axes>"
      ]
     },
     "metadata": {
      "needs_background": "light"
     },
     "output_type": "display_data"
    }
   ],
   "source": [
    "# Dataframe con unstack\n",
    "# Crear gráfica\n",
    "plt.figure(figsize=(10,5))\n",
    "df_unstack.plot(kind='bar')\n",
    "plt.xlabel(\"Conferencia\", fontsize=12)\n",
    "plt.ylabel(\"MVP's\", fontsize=12)\n",
    "plt.title(\"Cantidad de MVP's en 2019\")\n",
    "# legend: Ayuda a colocar en el lugar adecuado la leyenda de la gráfica\n",
    "plt.legend(loc=\"upper right\", ncol=2, bbox_to_anchor=(0.98,0.98), fontsize= 8 )\n",
    "plt.show()"
   ]
  },
  {
   "cell_type": "markdown",
   "metadata": {},
   "source": [
    "2) Ahora haz la lectura de los datos sobre el carbono negro tambien includos dentro de la carpeta \"Datos\".\n",
    "\n",
    "* Crea una variable nueva de día de la semana que vaya de [lunes-domingo](https://pandas.pydata.org/pandas-docs/stable/reference/api/pandas.Series.dt.day_name.html).\n",
    "\n",
    "* Agrupa por día de la semana y obten los valores máximos de carbono negro que se registraron por día. \n",
    "\n",
    "* Crea una columna de hora (sólo hora, no minutos, no segundos). Agrupa por hora, ¿a qué hora hay en promedio mayor carbono negro en el ambiente? ¿Hay algún insight que quieras hacer referencia? No olvides graficar. Deberías obtener algo como lo siguiente:\n",
    "  \n",
    "<img src=\"Imágenes/Tarea4-2.png\" width=\"600\"/> \n",
    " \n",
    "  **HINT**: Utiliza el método split() para eliminar la parte correspondiente a los minutos y los segundos de la columna \"hora\"."
   ]
  },
  {
   "cell_type": "code",
   "execution_count": 202,
   "metadata": {},
   "outputs": [],
   "source": [
    "df_carbono=pd.read_excel('Datos\\\\carbono.xlsx')\n"
   ]
  },
  {
   "cell_type": "code",
   "execution_count": 203,
   "metadata": {},
   "outputs": [
    {
     "data": {
      "text/html": [
       "<div>\n",
       "<style scoped>\n",
       "    .dataframe tbody tr th:only-of-type {\n",
       "        vertical-align: middle;\n",
       "    }\n",
       "\n",
       "    .dataframe tbody tr th {\n",
       "        vertical-align: top;\n",
       "    }\n",
       "\n",
       "    .dataframe thead th {\n",
       "        text-align: right;\n",
       "    }\n",
       "</style>\n",
       "<table border=\"1\" class=\"dataframe\">\n",
       "  <thead>\n",
       "    <tr style=\"text-align: right;\">\n",
       "      <th></th>\n",
       "      <th>hora</th>\n",
       "      <th>fecha</th>\n",
       "      <th>coedisp</th>\n",
       "      <th>abso</th>\n",
       "      <th>albedo</th>\n",
       "      <th>extinc</th>\n",
       "      <th>cn</th>\n",
       "    </tr>\n",
       "  </thead>\n",
       "  <tbody>\n",
       "    <tr>\n",
       "      <td>0</td>\n",
       "      <td>00:02:00</td>\n",
       "      <td>2017-01-01</td>\n",
       "      <td>19.2</td>\n",
       "      <td>3.51</td>\n",
       "      <td>0.845443</td>\n",
       "      <td>22.71</td>\n",
       "      <td>0.746809</td>\n",
       "    </tr>\n",
       "    <tr>\n",
       "      <td>1</td>\n",
       "      <td>00:03:00</td>\n",
       "      <td>2017-01-01</td>\n",
       "      <td>18.8</td>\n",
       "      <td>3.59</td>\n",
       "      <td>0.839661</td>\n",
       "      <td>22.39</td>\n",
       "      <td>0.763830</td>\n",
       "    </tr>\n",
       "    <tr>\n",
       "      <td>2</td>\n",
       "      <td>00:04:00</td>\n",
       "      <td>2017-01-01</td>\n",
       "      <td>25.8</td>\n",
       "      <td>4.03</td>\n",
       "      <td>0.864901</td>\n",
       "      <td>29.83</td>\n",
       "      <td>0.857447</td>\n",
       "    </tr>\n",
       "    <tr>\n",
       "      <td>3</td>\n",
       "      <td>00:05:00</td>\n",
       "      <td>2017-01-01</td>\n",
       "      <td>20.3</td>\n",
       "      <td>3.82</td>\n",
       "      <td>0.841625</td>\n",
       "      <td>24.12</td>\n",
       "      <td>0.812766</td>\n",
       "    </tr>\n",
       "    <tr>\n",
       "      <td>4</td>\n",
       "      <td>00:06:00</td>\n",
       "      <td>2017-01-01</td>\n",
       "      <td>19.7</td>\n",
       "      <td>3.94</td>\n",
       "      <td>0.833333</td>\n",
       "      <td>23.64</td>\n",
       "      <td>0.838298</td>\n",
       "    </tr>\n",
       "  </tbody>\n",
       "</table>\n",
       "</div>"
      ],
      "text/plain": [
       "       hora      fecha  coedisp  abso    albedo  extinc        cn\n",
       "0  00:02:00 2017-01-01     19.2  3.51  0.845443   22.71  0.746809\n",
       "1  00:03:00 2017-01-01     18.8  3.59  0.839661   22.39  0.763830\n",
       "2  00:04:00 2017-01-01     25.8  4.03  0.864901   29.83  0.857447\n",
       "3  00:05:00 2017-01-01     20.3  3.82  0.841625   24.12  0.812766\n",
       "4  00:06:00 2017-01-01     19.7  3.94  0.833333   23.64  0.838298"
      ]
     },
     "execution_count": 203,
     "metadata": {},
     "output_type": "execute_result"
    }
   ],
   "source": [
    "df_carbono.head()"
   ]
  },
  {
   "cell_type": "code",
   "execution_count": 204,
   "metadata": {},
   "outputs": [],
   "source": [
    "df_carbono['fecha'] = pd.to_datetime(df_carbono.fecha)\n"
   ]
  },
  {
   "cell_type": "code",
   "execution_count": 205,
   "metadata": {},
   "outputs": [
    {
     "data": {
      "text/plain": [
       "hora               object\n",
       "fecha      datetime64[ns]\n",
       "coedisp           float64\n",
       "abso              float64\n",
       "albedo            float64\n",
       "extinc            float64\n",
       "cn                float64\n",
       "dtype: object"
      ]
     },
     "execution_count": 205,
     "metadata": {},
     "output_type": "execute_result"
    }
   ],
   "source": [
    "df_carbono.dtypes"
   ]
  },
  {
   "cell_type": "code",
   "execution_count": 206,
   "metadata": {},
   "outputs": [
    {
     "data": {
      "text/plain": [
       "0         Sunday\n",
       "1         Sunday\n",
       "2         Sunday\n",
       "3         Sunday\n",
       "4         Sunday\n",
       "           ...  \n",
       "241949    Friday\n",
       "241950    Friday\n",
       "241951    Friday\n",
       "241952    Friday\n",
       "241953    Friday\n",
       "Name: Dia semana, Length: 241954, dtype: object"
      ]
     },
     "execution_count": 206,
     "metadata": {},
     "output_type": "execute_result"
    }
   ],
   "source": [
    "df_carbono['Dia semana'] = df_carbono.fecha.dt.day_name()\n",
    "df_carbono['Dia semana']"
   ]
  },
  {
   "cell_type": "code",
   "execution_count": 207,
   "metadata": {},
   "outputs": [
    {
     "data": {
      "text/html": [
       "<div>\n",
       "<style scoped>\n",
       "    .dataframe tbody tr th:only-of-type {\n",
       "        vertical-align: middle;\n",
       "    }\n",
       "\n",
       "    .dataframe tbody tr th {\n",
       "        vertical-align: top;\n",
       "    }\n",
       "\n",
       "    .dataframe thead th {\n",
       "        text-align: right;\n",
       "    }\n",
       "</style>\n",
       "<table border=\"1\" class=\"dataframe\">\n",
       "  <thead>\n",
       "    <tr style=\"text-align: right;\">\n",
       "      <th></th>\n",
       "      <th>cn</th>\n",
       "    </tr>\n",
       "    <tr>\n",
       "      <th>Dia semana</th>\n",
       "      <th></th>\n",
       "    </tr>\n",
       "  </thead>\n",
       "  <tbody>\n",
       "    <tr>\n",
       "      <td>Friday</td>\n",
       "      <td>17.3830</td>\n",
       "    </tr>\n",
       "    <tr>\n",
       "      <td>Monday</td>\n",
       "      <td>10.3404</td>\n",
       "    </tr>\n",
       "    <tr>\n",
       "      <td>Saturday</td>\n",
       "      <td>11.9574</td>\n",
       "    </tr>\n",
       "    <tr>\n",
       "      <td>Sunday</td>\n",
       "      <td>12.8085</td>\n",
       "    </tr>\n",
       "    <tr>\n",
       "      <td>Thursday</td>\n",
       "      <td>12.2553</td>\n",
       "    </tr>\n",
       "    <tr>\n",
       "      <td>Tuesday</td>\n",
       "      <td>12.2340</td>\n",
       "    </tr>\n",
       "    <tr>\n",
       "      <td>Wednesday</td>\n",
       "      <td>11.9149</td>\n",
       "    </tr>\n",
       "  </tbody>\n",
       "</table>\n",
       "</div>"
      ],
      "text/plain": [
       "                 cn\n",
       "Dia semana         \n",
       "Friday      17.3830\n",
       "Monday      10.3404\n",
       "Saturday    11.9574\n",
       "Sunday      12.8085\n",
       "Thursday    12.2553\n",
       "Tuesday     12.2340\n",
       "Wednesday   11.9149"
      ]
     },
     "execution_count": 207,
     "metadata": {},
     "output_type": "execute_result"
    }
   ],
   "source": [
    "df_max=df_carbono.groupby('Dia semana').max()\n",
    "df_max[['cn']]"
   ]
  },
  {
   "cell_type": "code",
   "execution_count": 208,
   "metadata": {},
   "outputs": [],
   "source": [
    "df_carbono['solo hora']= ([x.hour for x in df_carbono['hora']]) "
   ]
  },
  {
   "cell_type": "code",
   "execution_count": 209,
   "metadata": {},
   "outputs": [
    {
     "data": {
      "text/html": [
       "<div>\n",
       "<style scoped>\n",
       "    .dataframe tbody tr th:only-of-type {\n",
       "        vertical-align: middle;\n",
       "    }\n",
       "\n",
       "    .dataframe tbody tr th {\n",
       "        vertical-align: top;\n",
       "    }\n",
       "\n",
       "    .dataframe thead th {\n",
       "        text-align: right;\n",
       "    }\n",
       "</style>\n",
       "<table border=\"1\" class=\"dataframe\">\n",
       "  <thead>\n",
       "    <tr style=\"text-align: right;\">\n",
       "      <th></th>\n",
       "      <th>hora</th>\n",
       "      <th>fecha</th>\n",
       "      <th>coedisp</th>\n",
       "      <th>abso</th>\n",
       "      <th>albedo</th>\n",
       "      <th>extinc</th>\n",
       "      <th>cn</th>\n",
       "      <th>Dia semana</th>\n",
       "      <th>solo hora</th>\n",
       "    </tr>\n",
       "  </thead>\n",
       "  <tbody>\n",
       "    <tr>\n",
       "      <td>241949</td>\n",
       "      <td>23:56:00</td>\n",
       "      <td>2017-06-30</td>\n",
       "      <td>1.430</td>\n",
       "      <td>2.08</td>\n",
       "      <td>0.407407</td>\n",
       "      <td>3.510</td>\n",
       "      <td>0.442553</td>\n",
       "      <td>Friday</td>\n",
       "      <td>23</td>\n",
       "    </tr>\n",
       "    <tr>\n",
       "      <td>241950</td>\n",
       "      <td>23:57:00</td>\n",
       "      <td>2017-06-30</td>\n",
       "      <td>0.681</td>\n",
       "      <td>1.80</td>\n",
       "      <td>0.274486</td>\n",
       "      <td>2.481</td>\n",
       "      <td>0.382979</td>\n",
       "      <td>Friday</td>\n",
       "      <td>23</td>\n",
       "    </tr>\n",
       "    <tr>\n",
       "      <td>241951</td>\n",
       "      <td>23:58:00</td>\n",
       "      <td>2017-06-30</td>\n",
       "      <td>1.560</td>\n",
       "      <td>2.08</td>\n",
       "      <td>0.428571</td>\n",
       "      <td>3.640</td>\n",
       "      <td>0.442553</td>\n",
       "      <td>Friday</td>\n",
       "      <td>23</td>\n",
       "    </tr>\n",
       "    <tr>\n",
       "      <td>241952</td>\n",
       "      <td>23:59:00</td>\n",
       "      <td>2017-06-30</td>\n",
       "      <td>2.060</td>\n",
       "      <td>1.96</td>\n",
       "      <td>0.512438</td>\n",
       "      <td>4.020</td>\n",
       "      <td>0.417021</td>\n",
       "      <td>Friday</td>\n",
       "      <td>23</td>\n",
       "    </tr>\n",
       "    <tr>\n",
       "      <td>241953</td>\n",
       "      <td>23:59:55</td>\n",
       "      <td>2017-06-30</td>\n",
       "      <td>1.990</td>\n",
       "      <td>1.83</td>\n",
       "      <td>0.520942</td>\n",
       "      <td>3.820</td>\n",
       "      <td>0.389362</td>\n",
       "      <td>Friday</td>\n",
       "      <td>23</td>\n",
       "    </tr>\n",
       "  </tbody>\n",
       "</table>\n",
       "</div>"
      ],
      "text/plain": [
       "            hora      fecha  coedisp  abso    albedo  extinc        cn  \\\n",
       "241949  23:56:00 2017-06-30    1.430  2.08  0.407407   3.510  0.442553   \n",
       "241950  23:57:00 2017-06-30    0.681  1.80  0.274486   2.481  0.382979   \n",
       "241951  23:58:00 2017-06-30    1.560  2.08  0.428571   3.640  0.442553   \n",
       "241952  23:59:00 2017-06-30    2.060  1.96  0.512438   4.020  0.417021   \n",
       "241953  23:59:55 2017-06-30    1.990  1.83  0.520942   3.820  0.389362   \n",
       "\n",
       "       Dia semana  solo hora  \n",
       "241949     Friday         23  \n",
       "241950     Friday         23  \n",
       "241951     Friday         23  \n",
       "241952     Friday         23  \n",
       "241953     Friday         23  "
      ]
     },
     "execution_count": 209,
     "metadata": {},
     "output_type": "execute_result"
    }
   ],
   "source": [
    "df_carbono.tail()"
   ]
  },
  {
   "cell_type": "code",
   "execution_count": 210,
   "metadata": {},
   "outputs": [
    {
     "data": {
      "text/plain": [
       "solo hora\n",
       "0     0.807054\n",
       "1     0.828311\n",
       "2     0.814618\n",
       "3     0.894431\n",
       "4     0.956819\n",
       "5     1.065396\n",
       "6     1.392024\n",
       "7     2.001228\n",
       "8     1.904435\n",
       "9     1.211463\n",
       "10    0.833092\n",
       "11    0.632945\n",
       "12    0.507051\n",
       "13    0.454253\n",
       "14    0.465079\n",
       "15    0.473843\n",
       "16    0.484128\n",
       "17    0.555467\n",
       "18    0.640672\n",
       "19    0.766936\n",
       "20    0.851710\n",
       "21    0.871365\n",
       "22    0.842908\n",
       "23    0.831315\n",
       "Name: cn, dtype: float64"
      ]
     },
     "execution_count": 210,
     "metadata": {},
     "output_type": "execute_result"
    }
   ],
   "source": [
    "df_hora=df_carbono.groupby('solo hora').mean()\n",
    "df_hora['cn']"
   ]
  },
  {
   "cell_type": "code",
   "execution_count": 211,
   "metadata": {},
   "outputs": [
    {
     "data": {
      "image/png": "[encoded data removed]",
      "text/plain": [
       "<Figure size 720x360 with 1 Axes>"
      ]
     },
     "metadata": {
      "needs_background": "light"
     },
     "output_type": "display_data"
    }
   ],
   "source": [
    "plt.figure(figsize=(10,5))\n",
    "df_hora['cn'].plot(kind='bar', color='yellow', rot=0)\n",
    "plt.xlabel(\"Hora\", fontsize=12)\n",
    "plt.title(\"Promedio de carbono negro por hora del día\", fontsize=15)\n",
    "plt.ylabel(\"Promedio de carbono\", fontsize=13)\n",
    "\n",
    "plt.show()"
   ]
  },
  {
   "cell_type": "markdown",
   "metadata": {},
   "source": [
    "3) Grafica lo siguiente:\n",
    "\n",
    "* Cantidad de valores nulos hay por columna.\n",
    "* Cantidad de valores nulos hay por columna pero ahora en terminos porcentaje.\n",
    "    \n",
    "### **NO muestres las columnas que NO tengan valores nulos.**"
   ]
  },
  {
   "cell_type": "code",
   "execution_count": 212,
   "metadata": {},
   "outputs": [],
   "source": [
    "df_nulos=df_carbono.isnull().sum()"
   ]
  },
  {
   "cell_type": "code",
   "execution_count": 226,
   "metadata": {},
   "outputs": [
    {
     "data": {
      "text/plain": [
       "coedisp      996\n",
       "abso       13691\n",
       "albedo     14337\n",
       "extinc     14337\n",
       "cn         13691\n",
       "dtype: int64"
      ]
     },
     "execution_count": 226,
     "metadata": {},
     "output_type": "execute_result"
    }
   ],
   "source": [
    "df_nulos = df_nulos[df_nulos>0]\n",
    "df_nulos"
   ]
  },
  {
   "cell_type": "code",
   "execution_count": 227,
   "metadata": {},
   "outputs": [
    {
     "data": {
      "image/png": "[encoded data removed]",
      "text/plain": [
       "<Figure size 720x360 with 1 Axes>"
      ]
     },
     "metadata": {
      "needs_background": "light"
     },
     "output_type": "display_data"
    }
   ],
   "source": [
    "plt.figure(figsize=(10,5))\n",
    "df_nulos.plot(kind='bar', rot=0, color='pink')\n",
    "plt.ylabel(\"Valores Nulos\", fontsize=12)\n",
    "plt.title(\"Columnas con valores nulos\", fontsize=14)\n",
    "\n",
    "plt.show()"
   ]
  },
  {
   "cell_type": "code",
   "execution_count": 223,
   "metadata": {},
   "outputs": [],
   "source": [
    "#Contamos el total de datos que tenemos en el dataframe\n",
    "datos_total=df_carbono.shape[0]"
   ]
  },
  {
   "cell_type": "code",
   "execution_count": 230,
   "metadata": {},
   "outputs": [
    {
     "data": {
      "text/plain": [
       "coedisp    0.411648\n",
       "abso       5.658514\n",
       "albedo     5.925507\n",
       "extinc     5.925507\n",
       "cn         5.658514\n",
       "dtype: float64"
      ]
     },
     "execution_count": 230,
     "metadata": {},
     "output_type": "execute_result"
    }
   ],
   "source": [
    "df_nulos_pct=(df_nulos/datos_total)*100\n",
    "df_nulos_pct"
   ]
  },
  {
   "cell_type": "code",
   "execution_count": 241,
   "metadata": {},
   "outputs": [
    {
     "data": {
      "image/png": "[encoded data removed]",
      "text/plain": [
       "<Figure size 720x360 with 1 Axes>"
      ]
     },
     "metadata": {
      "needs_background": "light"
     },
     "output_type": "display_data"
    }
   ],
   "source": [
    "plt.figure(figsize=(10,5))\n",
    "df_nulos_pct.plot(kind = 'bar', rot = 0, color ='forestgreen')\n",
    "plt.ylabel(\"%\", fontsize=12)\n",
    "plt.title(\"Porcentaje de valores nulos por columna\", fontsize=14)\n",
    "plt.show()"
   ]
  },
  {
   "cell_type": "markdown",
   "metadata": {},
   "source": [
    "4) Grafica el comportamiento del carbono negro por mes (tienes que crear la variable mes) y hora.\n",
    "\n",
    "* ¿En qué mes mejoró la calidad del promedio del aire? \n",
    "    \n",
    "* ¿Qué rango de horas es el ideal para hacer actividades al aire libre?\n",
    "\n",
    "* Haz una gráfica que nos permita visualizar las respuestas de los dos incisos anteriores. Tu gráfica debe verse algo así:\n",
    "\n",
    "<img src=\"Imágenes/Tarea4-3.png\" width=\"600\"/> "
   ]
  },
  {
   "cell_type": "code",
   "execution_count": null,
   "metadata": {},
   "outputs": [],
   "source": []
  },
  {
   "cell_type": "code",
   "execution_count": null,
   "metadata": {},
   "outputs": [],
   "source": []
  },
  {
   "cell_type": "code",
   "execution_count": null,
   "metadata": {},
   "outputs": [],
   "source": []
  },
  {
   "cell_type": "markdown",
   "metadata": {},
   "source": [
    "5) Filtra los valores donde se tiene un valor de carbono negro mayor al cuantil 69. \n",
    "* ¿Cuál es el número de datos que perdiste?\n",
    "* ¿Cuál es el porcentaje de datos que perdiste?\n",
    "* Obten los histogramas de los datos con el filtro y sin el filtro. ¿Qué puedes decir al respecto de ellos?"
   ]
  },
  {
   "cell_type": "code",
   "execution_count": null,
   "metadata": {},
   "outputs": [],
   "source": []
  },
  {
   "cell_type": "code",
   "execution_count": null,
   "metadata": {},
   "outputs": [],
   "source": []
  },
  {
   "cell_type": "code",
   "execution_count": null,
   "metadata": {},
   "outputs": [],
   "source": []
  }
 ],
 "metadata": {
  "kernelspec": {
   "display_name": "Python 3",
   "language": "python",
   "name": "python3"
  },
  "language_info": {
   "codemirror_mode": {
    "name": "ipython",
    "version": 3
   },
   "file_extension": ".py",
   "mimetype": "text/x-python",
   "name": "python",
   "nbconvert_exporter": "python",
   "pygments_lexer": "ipython3",
   "version": "3.7.4"
  }
 },
 "nbformat": 4,
 "nbformat_minor": 4
}
