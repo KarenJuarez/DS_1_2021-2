{
 "cells": [
  {
   "cell_type": "markdown",
   "metadata": {},
   "source": [
    "# Tarea 4. Pandas Intermedio (yo no escogí el nombre)\n",
    "\n",
    "🐼"
   ]
  },
  {
   "cell_type": "markdown",
   "metadata": {},
   "source": [
    "1) Lee los datos la NBA includos dentro de la carpeta \"Datos\" adjunta en esta tarea.\n",
    "* Crea un DataFrame donde filtres a todos los jugadores de la semana (MVP) del 2019 (usa la columna 'Season short' para no complicarte).\n",
    "\n",
    "* Usa el método groupby() en tus datos filtrados para agruparlos por **conferencia** y **posición**. Usa el método count() para hacer un conteo sobre el número de MVP's que hubo por cada una de las posiciones de juego.\n",
    "\n",
    "* Recicla tu código del inciso anterior y usa la función unstack para generar un DataFrame donde las columnas sean las posiciones de juego. Haz una gráfica de tus resultados. Tiene que verse más o menos como:\n",
    "\n",
    "<img src=\"Imágenes/Tarea4-1.png\" width=\"400\"/> "
   ]
  },
  {
   "cell_type": "code",
   "execution_count": 1,
   "metadata": {},
   "outputs": [],
   "source": [
    "import pandas as pd\n",
    "import numpy as np\n",
    "import matplotlib.pyplot as plt"
   ]
  },
  {
   "cell_type": "code",
   "execution_count": 2,
   "metadata": {},
   "outputs": [],
   "source": [
    "datos = pd.read_csv(\"Datos\\\\NBA_player_of_the_week.csv\")"
   ]
  },
  {
   "cell_type": "code",
   "execution_count": 3,
   "metadata": {},
   "outputs": [
    {
     "data": {
      "text/html": [
       "<div>\n",
       "<style scoped>\n",
       "    .dataframe tbody tr th:only-of-type {\n",
       "        vertical-align: middle;\n",
       "    }\n",
       "\n",
       "    .dataframe tbody tr th {\n",
       "        vertical-align: top;\n",
       "    }\n",
       "\n",
       "    .dataframe thead th {\n",
       "        text-align: right;\n",
       "    }\n",
       "</style>\n",
       "<table border=\"1\" class=\"dataframe\">\n",
       "  <thead>\n",
       "    <tr style=\"text-align: right;\">\n",
       "      <th></th>\n",
       "      <th>Active season</th>\n",
       "      <th>Player</th>\n",
       "      <th>Team</th>\n",
       "      <th>Conference</th>\n",
       "      <th>Date</th>\n",
       "      <th>Position</th>\n",
       "      <th>Height</th>\n",
       "      <th>Weight</th>\n",
       "      <th>Age</th>\n",
       "      <th>Draft Year</th>\n",
       "      <th>Seasons in league</th>\n",
       "      <th>Season</th>\n",
       "      <th>Season short</th>\n",
       "      <th>Real_value</th>\n",
       "    </tr>\n",
       "  </thead>\n",
       "  <tbody>\n",
       "    <tr>\n",
       "      <td>0</td>\n",
       "      <td>0</td>\n",
       "      <td>Micheal Ray Richardson</td>\n",
       "      <td>New Jersey Nets</td>\n",
       "      <td>NaN</td>\n",
       "      <td>Apr 14, 1985</td>\n",
       "      <td>PG</td>\n",
       "      <td>6-5</td>\n",
       "      <td>189</td>\n",
       "      <td>29</td>\n",
       "      <td>1978</td>\n",
       "      <td>6</td>\n",
       "      <td>1984-1985</td>\n",
       "      <td>1985</td>\n",
       "      <td>1.0</td>\n",
       "    </tr>\n",
       "    <tr>\n",
       "      <td>1</td>\n",
       "      <td>0</td>\n",
       "      <td>Derek Smith</td>\n",
       "      <td>Los Angeles Clippers</td>\n",
       "      <td>NaN</td>\n",
       "      <td>Apr 7, 1985</td>\n",
       "      <td>SG</td>\n",
       "      <td>6-6</td>\n",
       "      <td>205</td>\n",
       "      <td>23</td>\n",
       "      <td>1982</td>\n",
       "      <td>2</td>\n",
       "      <td>1984-1985</td>\n",
       "      <td>1985</td>\n",
       "      <td>1.0</td>\n",
       "    </tr>\n",
       "    <tr>\n",
       "      <td>2</td>\n",
       "      <td>0</td>\n",
       "      <td>Calvin Natt</td>\n",
       "      <td>Denver Nuggets</td>\n",
       "      <td>NaN</td>\n",
       "      <td>Apr 1, 1985</td>\n",
       "      <td>F</td>\n",
       "      <td>6-6</td>\n",
       "      <td>220</td>\n",
       "      <td>28</td>\n",
       "      <td>1979</td>\n",
       "      <td>5</td>\n",
       "      <td>1984-1985</td>\n",
       "      <td>1985</td>\n",
       "      <td>1.0</td>\n",
       "    </tr>\n",
       "    <tr>\n",
       "      <td>3</td>\n",
       "      <td>0</td>\n",
       "      <td>Kareem Abdul-Jabbar</td>\n",
       "      <td>Los Angeles Lakers</td>\n",
       "      <td>NaN</td>\n",
       "      <td>Mar 24, 1985</td>\n",
       "      <td>C</td>\n",
       "      <td>7-2</td>\n",
       "      <td>225</td>\n",
       "      <td>37</td>\n",
       "      <td>1969</td>\n",
       "      <td>15</td>\n",
       "      <td>1984-1985</td>\n",
       "      <td>1985</td>\n",
       "      <td>1.0</td>\n",
       "    </tr>\n",
       "    <tr>\n",
       "      <td>4</td>\n",
       "      <td>0</td>\n",
       "      <td>Larry Bird</td>\n",
       "      <td>Boston Celtics</td>\n",
       "      <td>NaN</td>\n",
       "      <td>Mar 17, 1985</td>\n",
       "      <td>SF</td>\n",
       "      <td>6-9</td>\n",
       "      <td>220</td>\n",
       "      <td>28</td>\n",
       "      <td>1978</td>\n",
       "      <td>5</td>\n",
       "      <td>1984-1985</td>\n",
       "      <td>1985</td>\n",
       "      <td>1.0</td>\n",
       "    </tr>\n",
       "  </tbody>\n",
       "</table>\n",
       "</div>"
      ],
      "text/plain": [
       "   Active season                  Player                  Team Conference  \\\n",
       "0              0  Micheal Ray Richardson       New Jersey Nets        NaN   \n",
       "1              0             Derek Smith  Los Angeles Clippers        NaN   \n",
       "2              0             Calvin Natt        Denver Nuggets        NaN   \n",
       "3              0     Kareem Abdul-Jabbar    Los Angeles Lakers        NaN   \n",
       "4              0              Larry Bird        Boston Celtics        NaN   \n",
       "\n",
       "           Date Position Height  Weight  Age  Draft Year  Seasons in league  \\\n",
       "0  Apr 14, 1985       PG    6-5     189   29        1978                  6   \n",
       "1   Apr 7, 1985       SG    6-6     205   23        1982                  2   \n",
       "2   Apr 1, 1985        F    6-6     220   28        1979                  5   \n",
       "3  Mar 24, 1985        C    7-2     225   37        1969                 15   \n",
       "4  Mar 17, 1985       SF    6-9     220   28        1978                  5   \n",
       "\n",
       "      Season  Season short  Real_value  \n",
       "0  1984-1985          1985         1.0  \n",
       "1  1984-1985          1985         1.0  \n",
       "2  1984-1985          1985         1.0  \n",
       "3  1984-1985          1985         1.0  \n",
       "4  1984-1985          1985         1.0  "
      ]
     },
     "execution_count": 3,
     "metadata": {},
     "output_type": "execute_result"
    }
   ],
   "source": [
    "datos.head()"
   ]
  },
  {
   "cell_type": "code",
   "execution_count": 4,
   "metadata": {},
   "outputs": [],
   "source": [
    "MVP_2019 = datos[datos['Season short'] == 2019]"
   ]
  },
  {
   "cell_type": "code",
   "execution_count": 5,
   "metadata": {},
   "outputs": [
    {
     "data": {
      "text/html": [
       "<div>\n",
       "<style scoped>\n",
       "    .dataframe tbody tr th:only-of-type {\n",
       "        vertical-align: middle;\n",
       "    }\n",
       "\n",
       "    .dataframe tbody tr th {\n",
       "        vertical-align: top;\n",
       "    }\n",
       "\n",
       "    .dataframe thead th {\n",
       "        text-align: right;\n",
       "    }\n",
       "</style>\n",
       "<table border=\"1\" class=\"dataframe\">\n",
       "  <thead>\n",
       "    <tr style=\"text-align: right;\">\n",
       "      <th></th>\n",
       "      <th></th>\n",
       "      <th>Player</th>\n",
       "    </tr>\n",
       "    <tr>\n",
       "      <th>Conference</th>\n",
       "      <th>Position</th>\n",
       "      <th></th>\n",
       "    </tr>\n",
       "  </thead>\n",
       "  <tbody>\n",
       "    <tr>\n",
       "      <td rowspan=\"6\" valign=\"top\">East</td>\n",
       "      <td>C</td>\n",
       "      <td>2</td>\n",
       "    </tr>\n",
       "    <tr>\n",
       "      <td>F</td>\n",
       "      <td>11</td>\n",
       "    </tr>\n",
       "    <tr>\n",
       "      <td>G</td>\n",
       "      <td>2</td>\n",
       "    </tr>\n",
       "    <tr>\n",
       "      <td>PF</td>\n",
       "      <td>2</td>\n",
       "    </tr>\n",
       "    <tr>\n",
       "      <td>PG</td>\n",
       "      <td>1</td>\n",
       "    </tr>\n",
       "    <tr>\n",
       "      <td>SG</td>\n",
       "      <td>3</td>\n",
       "    </tr>\n",
       "    <tr>\n",
       "      <td rowspan=\"8\" valign=\"top\">West</td>\n",
       "      <td>C</td>\n",
       "      <td>4</td>\n",
       "    </tr>\n",
       "    <tr>\n",
       "      <td>F</td>\n",
       "      <td>1</td>\n",
       "    </tr>\n",
       "    <tr>\n",
       "      <td>FC</td>\n",
       "      <td>1</td>\n",
       "    </tr>\n",
       "    <tr>\n",
       "      <td>G</td>\n",
       "      <td>4</td>\n",
       "    </tr>\n",
       "    <tr>\n",
       "      <td>GF</td>\n",
       "      <td>3</td>\n",
       "    </tr>\n",
       "    <tr>\n",
       "      <td>PF</td>\n",
       "      <td>1</td>\n",
       "    </tr>\n",
       "    <tr>\n",
       "      <td>PG</td>\n",
       "      <td>1</td>\n",
       "    </tr>\n",
       "    <tr>\n",
       "      <td>SG</td>\n",
       "      <td>6</td>\n",
       "    </tr>\n",
       "  </tbody>\n",
       "</table>\n",
       "</div>"
      ],
      "text/plain": [
       "                     Player\n",
       "Conference Position        \n",
       "East       C              2\n",
       "           F             11\n",
       "           G              2\n",
       "           PF             2\n",
       "           PG             1\n",
       "           SG             3\n",
       "West       C              4\n",
       "           F              1\n",
       "           FC             1\n",
       "           G              4\n",
       "           GF             3\n",
       "           PF             1\n",
       "           PG             1\n",
       "           SG             6"
      ]
     },
     "execution_count": 5,
     "metadata": {},
     "output_type": "execute_result"
    }
   ],
   "source": [
    "MVP_2019.groupby(['Conference','Position'])[['Player']].count()"
   ]
  },
  {
   "cell_type": "code",
   "execution_count": 6,
   "metadata": {},
   "outputs": [
    {
     "data": {
      "text/html": [
       "<div>\n",
       "<style scoped>\n",
       "    .dataframe tbody tr th:only-of-type {\n",
       "        vertical-align: middle;\n",
       "    }\n",
       "\n",
       "    .dataframe tbody tr th {\n",
       "        vertical-align: top;\n",
       "    }\n",
       "\n",
       "    .dataframe thead tr th {\n",
       "        text-align: left;\n",
       "    }\n",
       "\n",
       "    .dataframe thead tr:last-of-type th {\n",
       "        text-align: right;\n",
       "    }\n",
       "</style>\n",
       "<table border=\"1\" class=\"dataframe\">\n",
       "  <thead>\n",
       "    <tr>\n",
       "      <th></th>\n",
       "      <th colspan=\"8\" halign=\"left\">Player</th>\n",
       "    </tr>\n",
       "    <tr>\n",
       "      <th>Position</th>\n",
       "      <th>C</th>\n",
       "      <th>F</th>\n",
       "      <th>FC</th>\n",
       "      <th>G</th>\n",
       "      <th>GF</th>\n",
       "      <th>PF</th>\n",
       "      <th>PG</th>\n",
       "      <th>SG</th>\n",
       "    </tr>\n",
       "    <tr>\n",
       "      <th>Conference</th>\n",
       "      <th></th>\n",
       "      <th></th>\n",
       "      <th></th>\n",
       "      <th></th>\n",
       "      <th></th>\n",
       "      <th></th>\n",
       "      <th></th>\n",
       "      <th></th>\n",
       "    </tr>\n",
       "  </thead>\n",
       "  <tbody>\n",
       "    <tr>\n",
       "      <td>East</td>\n",
       "      <td>2.0</td>\n",
       "      <td>11.0</td>\n",
       "      <td>NaN</td>\n",
       "      <td>2.0</td>\n",
       "      <td>NaN</td>\n",
       "      <td>2.0</td>\n",
       "      <td>1.0</td>\n",
       "      <td>3.0</td>\n",
       "    </tr>\n",
       "    <tr>\n",
       "      <td>West</td>\n",
       "      <td>4.0</td>\n",
       "      <td>1.0</td>\n",
       "      <td>1.0</td>\n",
       "      <td>4.0</td>\n",
       "      <td>3.0</td>\n",
       "      <td>1.0</td>\n",
       "      <td>1.0</td>\n",
       "      <td>6.0</td>\n",
       "    </tr>\n",
       "  </tbody>\n",
       "</table>\n",
       "</div>"
      ],
      "text/plain": [
       "           Player                                    \n",
       "Position        C     F   FC    G   GF   PF   PG   SG\n",
       "Conference                                           \n",
       "East          2.0  11.0  NaN  2.0  NaN  2.0  1.0  3.0\n",
       "West          4.0   1.0  1.0  4.0  3.0  1.0  1.0  6.0"
      ]
     },
     "execution_count": 6,
     "metadata": {},
     "output_type": "execute_result"
    }
   ],
   "source": [
    "df_unstack=MVP_2019.groupby(['Conference','Position'])[['Player']].count().unstack(level=-1)\n",
    "df_unstack"
   ]
  },
  {
   "cell_type": "code",
   "execution_count": 7,
   "metadata": {},
   "outputs": [],
   "source": [
    "plt.style.use('seaborn-pastel')"
   ]
  },
  {
   "cell_type": "code",
   "execution_count": 8,
   "metadata": {},
   "outputs": [
    {
     "data": {
      "text/plain": [
       "<Figure size 720x360 with 0 Axes>"
      ]
     },
     "metadata": {},
     "output_type": "display_data"
    },
    {
     "data": {
      "image/png": "[encoded data removed]",
      "text/plain": [
       "<Figure size 432x288 with 1 Axes>"
      ]
     },
     "metadata": {
      "needs_background": "light"
     },
     "output_type": "display_data"
    }
   ],
   "source": [
    "# Dataframe con unstack\n",
    "# Crear gráfica\n",
    "plt.figure(figsize=(10,5))\n",
    "df_unstack.plot(kind='bar')\n",
    "plt.xlabel(\"Conferencia\", fontsize=12)\n",
    "plt.ylabel(\"MVP's\", fontsize=12)\n",
    "plt.title(\"Cantidad de MVP's en 2019\")\n",
    "# legend: Ayuda a colocar en el lugar adecuado la leyenda de la gráfica\n",
    "plt.legend(loc=\"upper right\", ncol=2, bbox_to_anchor=(0.98,0.98), fontsize= 8 )\n",
    "plt.show()"
   ]
  },
  {
   "cell_type": "markdown",
   "metadata": {},
   "source": [
    "2) Ahora haz la lectura de los datos sobre el carbono negro tambien includos dentro de la carpeta \"Datos\".\n",
    "\n",
    "* Crea una variable nueva de día de la semana que vaya de [lunes-domingo](https://pandas.pydata.org/pandas-docs/stable/reference/api/pandas.Series.dt.day_name.html).\n",
    "\n",
    "* Agrupa por día de la semana y obten los valores máximos de carbono negro que se registraron por día. \n",
    "\n",
    "* Crea una columna de hora (sólo hora, no minutos, no segundos). Agrupa por hora, ¿a qué hora hay en promedio mayor carbono negro en el ambiente? ¿Hay algún insight que quieras hacer referencia? No olvides graficar. Deberías obtener algo como lo siguiente:\n",
    "  \n",
    "<img src=\"Imágenes/Tarea4-2.png\" width=\"600\"/> \n",
    " \n",
    "  **HINT**: Utiliza el método split() para eliminar la parte correspondiente a los minutos y los segundos de la columna \"hora\"."
   ]
  },
  {
   "cell_type": "code",
   "execution_count": 9,
   "metadata": {},
   "outputs": [],
   "source": [
    "df_carbono=pd.read_excel('Datos\\\\carbono.xlsx')\n"
   ]
  },
  {
   "cell_type": "code",
   "execution_count": 10,
   "metadata": {},
   "outputs": [
    {
     "data": {
      "text/html": [
       "<div>\n",
       "<style scoped>\n",
       "    .dataframe tbody tr th:only-of-type {\n",
       "        vertical-align: middle;\n",
       "    }\n",
       "\n",
       "    .dataframe tbody tr th {\n",
       "        vertical-align: top;\n",
       "    }\n",
       "\n",
       "    .dataframe thead th {\n",
       "        text-align: right;\n",
       "    }\n",
       "</style>\n",
       "<table border=\"1\" class=\"dataframe\">\n",
       "  <thead>\n",
       "    <tr style=\"text-align: right;\">\n",
       "      <th></th>\n",
       "      <th>hora</th>\n",
       "      <th>fecha</th>\n",
       "      <th>coedisp</th>\n",
       "      <th>abso</th>\n",
       "      <th>albedo</th>\n",
       "      <th>extinc</th>\n",
       "      <th>cn</th>\n",
       "    </tr>\n",
       "  </thead>\n",
       "  <tbody>\n",
       "    <tr>\n",
       "      <td>0</td>\n",
       "      <td>00:02:00</td>\n",
       "      <td>2017-01-01</td>\n",
       "      <td>19.2</td>\n",
       "      <td>3.51</td>\n",
       "      <td>0.845443</td>\n",
       "      <td>22.71</td>\n",
       "      <td>0.746809</td>\n",
       "    </tr>\n",
       "    <tr>\n",
       "      <td>1</td>\n",
       "      <td>00:03:00</td>\n",
       "      <td>2017-01-01</td>\n",
       "      <td>18.8</td>\n",
       "      <td>3.59</td>\n",
       "      <td>0.839661</td>\n",
       "      <td>22.39</td>\n",
       "      <td>0.763830</td>\n",
       "    </tr>\n",
       "    <tr>\n",
       "      <td>2</td>\n",
       "      <td>00:04:00</td>\n",
       "      <td>2017-01-01</td>\n",
       "      <td>25.8</td>\n",
       "      <td>4.03</td>\n",
       "      <td>0.864901</td>\n",
       "      <td>29.83</td>\n",
       "      <td>0.857447</td>\n",
       "    </tr>\n",
       "    <tr>\n",
       "      <td>3</td>\n",
       "      <td>00:05:00</td>\n",
       "      <td>2017-01-01</td>\n",
       "      <td>20.3</td>\n",
       "      <td>3.82</td>\n",
       "      <td>0.841625</td>\n",
       "      <td>24.12</td>\n",
       "      <td>0.812766</td>\n",
       "    </tr>\n",
       "    <tr>\n",
       "      <td>4</td>\n",
       "      <td>00:06:00</td>\n",
       "      <td>2017-01-01</td>\n",
       "      <td>19.7</td>\n",
       "      <td>3.94</td>\n",
       "      <td>0.833333</td>\n",
       "      <td>23.64</td>\n",
       "      <td>0.838298</td>\n",
       "    </tr>\n",
       "  </tbody>\n",
       "</table>\n",
       "</div>"
      ],
      "text/plain": [
       "       hora      fecha  coedisp  abso    albedo  extinc        cn\n",
       "0  00:02:00 2017-01-01     19.2  3.51  0.845443   22.71  0.746809\n",
       "1  00:03:00 2017-01-01     18.8  3.59  0.839661   22.39  0.763830\n",
       "2  00:04:00 2017-01-01     25.8  4.03  0.864901   29.83  0.857447\n",
       "3  00:05:00 2017-01-01     20.3  3.82  0.841625   24.12  0.812766\n",
       "4  00:06:00 2017-01-01     19.7  3.94  0.833333   23.64  0.838298"
      ]
     },
     "execution_count": 10,
     "metadata": {},
     "output_type": "execute_result"
    }
   ],
   "source": [
    "df_carbono.head()"
   ]
  },
  {
   "cell_type": "code",
   "execution_count": 11,
   "metadata": {},
   "outputs": [],
   "source": [
    "df_carbono['fecha'] = pd.to_datetime(df_carbono.fecha)\n"
   ]
  },
  {
   "cell_type": "code",
   "execution_count": 12,
   "metadata": {},
   "outputs": [
    {
     "data": {
      "text/plain": [
       "hora               object\n",
       "fecha      datetime64[ns]\n",
       "coedisp           float64\n",
       "abso              float64\n",
       "albedo            float64\n",
       "extinc            float64\n",
       "cn                float64\n",
       "dtype: object"
      ]
     },
     "execution_count": 12,
     "metadata": {},
     "output_type": "execute_result"
    }
   ],
   "source": [
    "df_carbono.dtypes"
   ]
  },
  {
   "cell_type": "code",
   "execution_count": 13,
   "metadata": {},
   "outputs": [
    {
     "data": {
      "text/plain": [
       "0         Sunday\n",
       "1         Sunday\n",
       "2         Sunday\n",
       "3         Sunday\n",
       "4         Sunday\n",
       "           ...  \n",
       "241949    Friday\n",
       "241950    Friday\n",
       "241951    Friday\n",
       "241952    Friday\n",
       "241953    Friday\n",
       "Name: Dia semana, Length: 241954, dtype: object"
      ]
     },
     "execution_count": 13,
     "metadata": {},
     "output_type": "execute_result"
    }
   ],
   "source": [
    "df_carbono['Dia semana'] = df_carbono.fecha.dt.day_name()\n",
    "df_carbono['Dia semana']"
   ]
  },
  {
   "cell_type": "code",
   "execution_count": 14,
   "metadata": {},
   "outputs": [
    {
     "data": {
      "text/html": [
       "<div>\n",
       "<style scoped>\n",
       "    .dataframe tbody tr th:only-of-type {\n",
       "        vertical-align: middle;\n",
       "    }\n",
       "\n",
       "    .dataframe tbody tr th {\n",
       "        vertical-align: top;\n",
       "    }\n",
       "\n",
       "    .dataframe thead th {\n",
       "        text-align: right;\n",
       "    }\n",
       "</style>\n",
       "<table border=\"1\" class=\"dataframe\">\n",
       "  <thead>\n",
       "    <tr style=\"text-align: right;\">\n",
       "      <th></th>\n",
       "      <th>cn</th>\n",
       "    </tr>\n",
       "    <tr>\n",
       "      <th>Dia semana</th>\n",
       "      <th></th>\n",
       "    </tr>\n",
       "  </thead>\n",
       "  <tbody>\n",
       "    <tr>\n",
       "      <td>Friday</td>\n",
       "      <td>17.3830</td>\n",
       "    </tr>\n",
       "    <tr>\n",
       "      <td>Monday</td>\n",
       "      <td>10.3404</td>\n",
       "    </tr>\n",
       "    <tr>\n",
       "      <td>Saturday</td>\n",
       "      <td>11.9574</td>\n",
       "    </tr>\n",
       "    <tr>\n",
       "      <td>Sunday</td>\n",
       "      <td>12.8085</td>\n",
       "    </tr>\n",
       "    <tr>\n",
       "      <td>Thursday</td>\n",
       "      <td>12.2553</td>\n",
       "    </tr>\n",
       "    <tr>\n",
       "      <td>Tuesday</td>\n",
       "      <td>12.2340</td>\n",
       "    </tr>\n",
       "    <tr>\n",
       "      <td>Wednesday</td>\n",
       "      <td>11.9149</td>\n",
       "    </tr>\n",
       "  </tbody>\n",
       "</table>\n",
       "</div>"
      ],
      "text/plain": [
       "                 cn\n",
       "Dia semana         \n",
       "Friday      17.3830\n",
       "Monday      10.3404\n",
       "Saturday    11.9574\n",
       "Sunday      12.8085\n",
       "Thursday    12.2553\n",
       "Tuesday     12.2340\n",
       "Wednesday   11.9149"
      ]
     },
     "execution_count": 14,
     "metadata": {},
     "output_type": "execute_result"
    }
   ],
   "source": [
    "df_max=df_carbono.groupby('Dia semana').max()\n",
    "df_max[['cn']]"
   ]
  },
  {
   "cell_type": "code",
   "execution_count": 15,
   "metadata": {},
   "outputs": [],
   "source": [
    "df_carbono['solo hora']= ([x.hour for x in df_carbono['hora']]) "
   ]
  },
  {
   "cell_type": "code",
   "execution_count": 16,
   "metadata": {},
   "outputs": [
    {
     "data": {
      "text/html": [
       "<div>\n",
       "<style scoped>\n",
       "    .dataframe tbody tr th:only-of-type {\n",
       "        vertical-align: middle;\n",
       "    }\n",
       "\n",
       "    .dataframe tbody tr th {\n",
       "        vertical-align: top;\n",
       "    }\n",
       "\n",
       "    .dataframe thead th {\n",
       "        text-align: right;\n",
       "    }\n",
       "</style>\n",
       "<table border=\"1\" class=\"dataframe\">\n",
       "  <thead>\n",
       "    <tr style=\"text-align: right;\">\n",
       "      <th></th>\n",
       "      <th>hora</th>\n",
       "      <th>fecha</th>\n",
       "      <th>coedisp</th>\n",
       "      <th>abso</th>\n",
       "      <th>albedo</th>\n",
       "      <th>extinc</th>\n",
       "      <th>cn</th>\n",
       "      <th>Dia semana</th>\n",
       "      <th>solo hora</th>\n",
       "    </tr>\n",
       "  </thead>\n",
       "  <tbody>\n",
       "    <tr>\n",
       "      <td>241949</td>\n",
       "      <td>23:56:00</td>\n",
       "      <td>2017-06-30</td>\n",
       "      <td>1.430</td>\n",
       "      <td>2.08</td>\n",
       "      <td>0.407407</td>\n",
       "      <td>3.510</td>\n",
       "      <td>0.442553</td>\n",
       "      <td>Friday</td>\n",
       "      <td>23</td>\n",
       "    </tr>\n",
       "    <tr>\n",
       "      <td>241950</td>\n",
       "      <td>23:57:00</td>\n",
       "      <td>2017-06-30</td>\n",
       "      <td>0.681</td>\n",
       "      <td>1.80</td>\n",
       "      <td>0.274486</td>\n",
       "      <td>2.481</td>\n",
       "      <td>0.382979</td>\n",
       "      <td>Friday</td>\n",
       "      <td>23</td>\n",
       "    </tr>\n",
       "    <tr>\n",
       "      <td>241951</td>\n",
       "      <td>23:58:00</td>\n",
       "      <td>2017-06-30</td>\n",
       "      <td>1.560</td>\n",
       "      <td>2.08</td>\n",
       "      <td>0.428571</td>\n",
       "      <td>3.640</td>\n",
       "      <td>0.442553</td>\n",
       "      <td>Friday</td>\n",
       "      <td>23</td>\n",
       "    </tr>\n",
       "    <tr>\n",
       "      <td>241952</td>\n",
       "      <td>23:59:00</td>\n",
       "      <td>2017-06-30</td>\n",
       "      <td>2.060</td>\n",
       "      <td>1.96</td>\n",
       "      <td>0.512438</td>\n",
       "      <td>4.020</td>\n",
       "      <td>0.417021</td>\n",
       "      <td>Friday</td>\n",
       "      <td>23</td>\n",
       "    </tr>\n",
       "    <tr>\n",
       "      <td>241953</td>\n",
       "      <td>23:59:55</td>\n",
       "      <td>2017-06-30</td>\n",
       "      <td>1.990</td>\n",
       "      <td>1.83</td>\n",
       "      <td>0.520942</td>\n",
       "      <td>3.820</td>\n",
       "      <td>0.389362</td>\n",
       "      <td>Friday</td>\n",
       "      <td>23</td>\n",
       "    </tr>\n",
       "  </tbody>\n",
       "</table>\n",
       "</div>"
      ],
      "text/plain": [
       "            hora      fecha  coedisp  abso    albedo  extinc        cn  \\\n",
       "241949  23:56:00 2017-06-30    1.430  2.08  0.407407   3.510  0.442553   \n",
       "241950  23:57:00 2017-06-30    0.681  1.80  0.274486   2.481  0.382979   \n",
       "241951  23:58:00 2017-06-30    1.560  2.08  0.428571   3.640  0.442553   \n",
       "241952  23:59:00 2017-06-30    2.060  1.96  0.512438   4.020  0.417021   \n",
       "241953  23:59:55 2017-06-30    1.990  1.83  0.520942   3.820  0.389362   \n",
       "\n",
       "       Dia semana  solo hora  \n",
       "241949     Friday         23  \n",
       "241950     Friday         23  \n",
       "241951     Friday         23  \n",
       "241952     Friday         23  \n",
       "241953     Friday         23  "
      ]
     },
     "execution_count": 16,
     "metadata": {},
     "output_type": "execute_result"
    }
   ],
   "source": [
    "df_carbono.tail()"
   ]
  },
  {
   "cell_type": "code",
   "execution_count": 17,
   "metadata": {},
   "outputs": [
    {
     "data": {
      "text/plain": [
       "solo hora\n",
       "0     0.807054\n",
       "1     0.828311\n",
       "2     0.814618\n",
       "3     0.894431\n",
       "4     0.956819\n",
       "5     1.065396\n",
       "6     1.392024\n",
       "7     2.001228\n",
       "8     1.904435\n",
       "9     1.211463\n",
       "10    0.833092\n",
       "11    0.632945\n",
       "12    0.507051\n",
       "13    0.454253\n",
       "14    0.465079\n",
       "15    0.473843\n",
       "16    0.484128\n",
       "17    0.555467\n",
       "18    0.640672\n",
       "19    0.766936\n",
       "20    0.851710\n",
       "21    0.871365\n",
       "22    0.842908\n",
       "23    0.831315\n",
       "Name: cn, dtype: float64"
      ]
     },
     "execution_count": 17,
     "metadata": {},
     "output_type": "execute_result"
    }
   ],
   "source": [
    "df_hora=df_carbono.groupby('solo hora').mean()\n",
    "df_hora['cn']"
   ]
  },
  {
   "cell_type": "code",
   "execution_count": 18,
   "metadata": {},
   "outputs": [
    {
     "data": {
      "image/png": "[encoded data removed]",
      "text/plain": [
       "<Figure size 720x360 with 1 Axes>"
      ]
     },
     "metadata": {
      "needs_background": "light"
     },
     "output_type": "display_data"
    }
   ],
   "source": [
    "plt.figure(figsize=(10,5))\n",
    "df_hora['cn'].plot(kind='bar', color='yellow', rot=0)\n",
    "plt.xlabel(\"Hora\", fontsize=12)\n",
    "plt.title(\"Promedio de carbono negro por hora del día\", fontsize=15)\n",
    "plt.ylabel(\"Promedio de carbono\", fontsize=13)\n",
    "\n",
    "plt.show()"
   ]
  },
  {
   "cell_type": "markdown",
   "metadata": {},
   "source": [
    "3) Grafica lo siguiente:\n",
    "\n",
    "* Cantidad de valores nulos hay por columna.\n",
    "* Cantidad de valores nulos hay por columna pero ahora en terminos porcentaje.\n",
    "    \n",
    "### **NO muestres las columnas que NO tengan valores nulos.**"
   ]
  },
  {
   "cell_type": "code",
   "execution_count": 19,
   "metadata": {},
   "outputs": [],
   "source": [
    "df_nulos=df_carbono.isnull().sum()"
   ]
  },
  {
   "cell_type": "code",
   "execution_count": 20,
   "metadata": {},
   "outputs": [
    {
     "data": {
      "text/plain": [
       "coedisp      996\n",
       "abso       13691\n",
       "albedo     14337\n",
       "extinc     14337\n",
       "cn         13691\n",
       "dtype: int64"
      ]
     },
     "execution_count": 20,
     "metadata": {},
     "output_type": "execute_result"
    }
   ],
   "source": [
    "df_nulos = df_nulos[df_nulos>0]\n",
    "df_nulos"
   ]
  },
  {
   "cell_type": "code",
   "execution_count": 21,
   "metadata": {},
   "outputs": [
    {
     "data": {
      "image/png": "[encoded data removed]",
      "text/plain": [
       "<Figure size 720x360 with 1 Axes>"
      ]
     },
     "metadata": {
      "needs_background": "light"
     },
     "output_type": "display_data"
    }
   ],
   "source": [
    "plt.figure(figsize=(10,5))\n",
    "df_nulos.plot(kind='bar', rot=0, color='pink')\n",
    "plt.ylabel(\"Valores Nulos\", fontsize=12)\n",
    "plt.title(\"Columnas con valores nulos\", fontsize=14)\n",
    "\n",
    "plt.show()"
   ]
  },
  {
   "cell_type": "code",
   "execution_count": 22,
   "metadata": {},
   "outputs": [],
   "source": [
    "#Contamos el total de datos que tenemos en el dataframe\n",
    "datos_total=df_carbono.shape[0]"
   ]
  },
  {
   "cell_type": "code",
   "execution_count": 23,
   "metadata": {},
   "outputs": [
    {
     "data": {
      "text/plain": [
       "coedisp    0.411648\n",
       "abso       5.658514\n",
       "albedo     5.925507\n",
       "extinc     5.925507\n",
       "cn         5.658514\n",
       "dtype: float64"
      ]
     },
     "execution_count": 23,
     "metadata": {},
     "output_type": "execute_result"
    }
   ],
   "source": [
    "df_nulos_pct=(df_nulos/datos_total)*100\n",
    "df_nulos_pct"
   ]
  },
  {
   "cell_type": "code",
   "execution_count": 24,
   "metadata": {},
   "outputs": [
    {
     "data": {
      "image/png": "[encoded data removed]",
      "text/plain": [
       "<Figure size 720x360 with 1 Axes>"
      ]
     },
     "metadata": {
      "needs_background": "light"
     },
     "output_type": "display_data"
    }
   ],
   "source": [
    "plt.figure(figsize=(10,5))\n",
    "df_nulos_pct.plot(kind = 'bar', rot = 0, color ='forestgreen')\n",
    "plt.ylabel(\"%\", fontsize=12)\n",
    "plt.title(\"Porcentaje de valores nulos por columna\", fontsize=14)\n",
    "plt.show()"
   ]
  },
  {
   "cell_type": "markdown",
   "metadata": {},
   "source": [
    "4) Grafica el comportamiento del carbono negro por mes (tienes que crear la variable mes) y hora.\n",
    "\n",
    "* ¿En qué mes mejoró la calidad del promedio del aire? \n",
    "    \n",
    "* ¿Qué rango de horas es el ideal para hacer actividades al aire libre?\n",
    "\n",
    "* Haz una gráfica que nos permita visualizar las respuestas de los dos incisos anteriores. Tu gráfica debe verse algo así:\n",
    "\n",
    "<img src=\"Imágenes/Tarea4-3.png\" width=\"600\"/> "
   ]
  },
  {
   "cell_type": "code",
   "execution_count": 25,
   "metadata": {},
   "outputs": [],
   "source": [
    "df_carbono['mes']=df_carbono['fecha'].dt.month"
   ]
  },
  {
   "cell_type": "code",
   "execution_count": 26,
   "metadata": {},
   "outputs": [
    {
     "data": {
      "text/html": [
       "<div>\n",
       "<style scoped>\n",
       "    .dataframe tbody tr th:only-of-type {\n",
       "        vertical-align: middle;\n",
       "    }\n",
       "\n",
       "    .dataframe tbody tr th {\n",
       "        vertical-align: top;\n",
       "    }\n",
       "\n",
       "    .dataframe thead th {\n",
       "        text-align: right;\n",
       "    }\n",
       "</style>\n",
       "<table border=\"1\" class=\"dataframe\">\n",
       "  <thead>\n",
       "    <tr style=\"text-align: right;\">\n",
       "      <th></th>\n",
       "      <th>hora</th>\n",
       "      <th>fecha</th>\n",
       "      <th>coedisp</th>\n",
       "      <th>abso</th>\n",
       "      <th>albedo</th>\n",
       "      <th>extinc</th>\n",
       "      <th>cn</th>\n",
       "      <th>Dia semana</th>\n",
       "      <th>solo hora</th>\n",
       "      <th>mes</th>\n",
       "    </tr>\n",
       "  </thead>\n",
       "  <tbody>\n",
       "    <tr>\n",
       "      <td>241949</td>\n",
       "      <td>23:56:00</td>\n",
       "      <td>2017-06-30</td>\n",
       "      <td>1.430</td>\n",
       "      <td>2.08</td>\n",
       "      <td>0.407407</td>\n",
       "      <td>3.510</td>\n",
       "      <td>0.442553</td>\n",
       "      <td>Friday</td>\n",
       "      <td>23</td>\n",
       "      <td>6</td>\n",
       "    </tr>\n",
       "    <tr>\n",
       "      <td>241950</td>\n",
       "      <td>23:57:00</td>\n",
       "      <td>2017-06-30</td>\n",
       "      <td>0.681</td>\n",
       "      <td>1.80</td>\n",
       "      <td>0.274486</td>\n",
       "      <td>2.481</td>\n",
       "      <td>0.382979</td>\n",
       "      <td>Friday</td>\n",
       "      <td>23</td>\n",
       "      <td>6</td>\n",
       "    </tr>\n",
       "    <tr>\n",
       "      <td>241951</td>\n",
       "      <td>23:58:00</td>\n",
       "      <td>2017-06-30</td>\n",
       "      <td>1.560</td>\n",
       "      <td>2.08</td>\n",
       "      <td>0.428571</td>\n",
       "      <td>3.640</td>\n",
       "      <td>0.442553</td>\n",
       "      <td>Friday</td>\n",
       "      <td>23</td>\n",
       "      <td>6</td>\n",
       "    </tr>\n",
       "    <tr>\n",
       "      <td>241952</td>\n",
       "      <td>23:59:00</td>\n",
       "      <td>2017-06-30</td>\n",
       "      <td>2.060</td>\n",
       "      <td>1.96</td>\n",
       "      <td>0.512438</td>\n",
       "      <td>4.020</td>\n",
       "      <td>0.417021</td>\n",
       "      <td>Friday</td>\n",
       "      <td>23</td>\n",
       "      <td>6</td>\n",
       "    </tr>\n",
       "    <tr>\n",
       "      <td>241953</td>\n",
       "      <td>23:59:55</td>\n",
       "      <td>2017-06-30</td>\n",
       "      <td>1.990</td>\n",
       "      <td>1.83</td>\n",
       "      <td>0.520942</td>\n",
       "      <td>3.820</td>\n",
       "      <td>0.389362</td>\n",
       "      <td>Friday</td>\n",
       "      <td>23</td>\n",
       "      <td>6</td>\n",
       "    </tr>\n",
       "  </tbody>\n",
       "</table>\n",
       "</div>"
      ],
      "text/plain": [
       "            hora      fecha  coedisp  abso    albedo  extinc        cn  \\\n",
       "241949  23:56:00 2017-06-30    1.430  2.08  0.407407   3.510  0.442553   \n",
       "241950  23:57:00 2017-06-30    0.681  1.80  0.274486   2.481  0.382979   \n",
       "241951  23:58:00 2017-06-30    1.560  2.08  0.428571   3.640  0.442553   \n",
       "241952  23:59:00 2017-06-30    2.060  1.96  0.512438   4.020  0.417021   \n",
       "241953  23:59:55 2017-06-30    1.990  1.83  0.520942   3.820  0.389362   \n",
       "\n",
       "       Dia semana  solo hora  mes  \n",
       "241949     Friday         23    6  \n",
       "241950     Friday         23    6  \n",
       "241951     Friday         23    6  \n",
       "241952     Friday         23    6  \n",
       "241953     Friday         23    6  "
      ]
     },
     "execution_count": 26,
     "metadata": {},
     "output_type": "execute_result"
    }
   ],
   "source": [
    "df_carbono.tail()"
   ]
  },
  {
   "cell_type": "code",
   "execution_count": 27,
   "metadata": {},
   "outputs": [],
   "source": [
    "df_mes=df_carbono.groupby(['solo hora','mes']).cn.mean()\n"
   ]
  },
  {
   "cell_type": "code",
   "execution_count": 28,
   "metadata": {},
   "outputs": [
    {
     "data": {
      "text/html": [
       "<div>\n",
       "<style scoped>\n",
       "    .dataframe tbody tr th:only-of-type {\n",
       "        vertical-align: middle;\n",
       "    }\n",
       "\n",
       "    .dataframe tbody tr th {\n",
       "        vertical-align: top;\n",
       "    }\n",
       "\n",
       "    .dataframe thead th {\n",
       "        text-align: right;\n",
       "    }\n",
       "</style>\n",
       "<table border=\"1\" class=\"dataframe\">\n",
       "  <thead>\n",
       "    <tr style=\"text-align: right;\">\n",
       "      <th>mes</th>\n",
       "      <th>1</th>\n",
       "      <th>2</th>\n",
       "      <th>3</th>\n",
       "      <th>4</th>\n",
       "      <th>5</th>\n",
       "      <th>6</th>\n",
       "    </tr>\n",
       "    <tr>\n",
       "      <th>solo hora</th>\n",
       "      <th></th>\n",
       "      <th></th>\n",
       "      <th></th>\n",
       "      <th></th>\n",
       "      <th></th>\n",
       "      <th></th>\n",
       "    </tr>\n",
       "  </thead>\n",
       "  <tbody>\n",
       "    <tr>\n",
       "      <td>0</td>\n",
       "      <td>1.125531</td>\n",
       "      <td>0.812742</td>\n",
       "      <td>0.649402</td>\n",
       "      <td>0.722262</td>\n",
       "      <td>0.899162</td>\n",
       "      <td>0.621831</td>\n",
       "    </tr>\n",
       "    <tr>\n",
       "      <td>1</td>\n",
       "      <td>1.179669</td>\n",
       "      <td>0.852577</td>\n",
       "      <td>0.725484</td>\n",
       "      <td>0.729293</td>\n",
       "      <td>0.862001</td>\n",
       "      <td>0.612093</td>\n",
       "    </tr>\n",
       "    <tr>\n",
       "      <td>2</td>\n",
       "      <td>1.135652</td>\n",
       "      <td>0.858594</td>\n",
       "      <td>0.715826</td>\n",
       "      <td>0.711743</td>\n",
       "      <td>0.879965</td>\n",
       "      <td>0.580466</td>\n",
       "    </tr>\n",
       "    <tr>\n",
       "      <td>3</td>\n",
       "      <td>1.275506</td>\n",
       "      <td>0.968498</td>\n",
       "      <td>0.759264</td>\n",
       "      <td>0.697365</td>\n",
       "      <td>1.047415</td>\n",
       "      <td>0.608155</td>\n",
       "    </tr>\n",
       "    <tr>\n",
       "      <td>4</td>\n",
       "      <td>1.291031</td>\n",
       "      <td>1.152802</td>\n",
       "      <td>0.768762</td>\n",
       "      <td>0.763170</td>\n",
       "      <td>1.125680</td>\n",
       "      <td>0.638405</td>\n",
       "    </tr>\n",
       "    <tr>\n",
       "      <td>5</td>\n",
       "      <td>1.330201</td>\n",
       "      <td>1.219595</td>\n",
       "      <td>0.978325</td>\n",
       "      <td>0.929901</td>\n",
       "      <td>1.208809</td>\n",
       "      <td>0.727493</td>\n",
       "    </tr>\n",
       "    <tr>\n",
       "      <td>6</td>\n",
       "      <td>1.622421</td>\n",
       "      <td>1.550129</td>\n",
       "      <td>1.447087</td>\n",
       "      <td>1.240962</td>\n",
       "      <td>1.540137</td>\n",
       "      <td>0.959474</td>\n",
       "    </tr>\n",
       "    <tr>\n",
       "      <td>7</td>\n",
       "      <td>2.326762</td>\n",
       "      <td>2.360903</td>\n",
       "      <td>1.918537</td>\n",
       "      <td>1.813466</td>\n",
       "      <td>2.009974</td>\n",
       "      <td>1.609427</td>\n",
       "    </tr>\n",
       "    <tr>\n",
       "      <td>8</td>\n",
       "      <td>2.537151</td>\n",
       "      <td>2.151596</td>\n",
       "      <td>1.410078</td>\n",
       "      <td>1.935036</td>\n",
       "      <td>2.051545</td>\n",
       "      <td>1.346927</td>\n",
       "    </tr>\n",
       "    <tr>\n",
       "      <td>9</td>\n",
       "      <td>1.788558</td>\n",
       "      <td>1.240467</td>\n",
       "      <td>0.954422</td>\n",
       "      <td>1.074384</td>\n",
       "      <td>1.355590</td>\n",
       "      <td>0.788618</td>\n",
       "    </tr>\n",
       "    <tr>\n",
       "      <td>10</td>\n",
       "      <td>1.123030</td>\n",
       "      <td>0.851827</td>\n",
       "      <td>0.645841</td>\n",
       "      <td>0.756171</td>\n",
       "      <td>0.957328</td>\n",
       "      <td>0.603558</td>\n",
       "    </tr>\n",
       "    <tr>\n",
       "      <td>11</td>\n",
       "      <td>0.756011</td>\n",
       "      <td>0.589823</td>\n",
       "      <td>0.469335</td>\n",
       "      <td>0.661855</td>\n",
       "      <td>0.783371</td>\n",
       "      <td>0.479812</td>\n",
       "    </tr>\n",
       "    <tr>\n",
       "      <td>12</td>\n",
       "      <td>0.503077</td>\n",
       "      <td>0.480318</td>\n",
       "      <td>0.394714</td>\n",
       "      <td>0.525745</td>\n",
       "      <td>0.660988</td>\n",
       "      <td>0.460637</td>\n",
       "    </tr>\n",
       "    <tr>\n",
       "      <td>13</td>\n",
       "      <td>0.446890</td>\n",
       "      <td>0.407460</td>\n",
       "      <td>0.388887</td>\n",
       "      <td>0.423347</td>\n",
       "      <td>0.629332</td>\n",
       "      <td>0.392271</td>\n",
       "    </tr>\n",
       "    <tr>\n",
       "      <td>14</td>\n",
       "      <td>0.432985</td>\n",
       "      <td>0.501472</td>\n",
       "      <td>0.382786</td>\n",
       "      <td>0.403405</td>\n",
       "      <td>0.599338</td>\n",
       "      <td>0.471682</td>\n",
       "    </tr>\n",
       "    <tr>\n",
       "      <td>15</td>\n",
       "      <td>0.457300</td>\n",
       "      <td>0.535209</td>\n",
       "      <td>0.369284</td>\n",
       "      <td>0.391477</td>\n",
       "      <td>0.605366</td>\n",
       "      <td>0.487799</td>\n",
       "    </tr>\n",
       "    <tr>\n",
       "      <td>16</td>\n",
       "      <td>0.464585</td>\n",
       "      <td>0.489795</td>\n",
       "      <td>0.385741</td>\n",
       "      <td>0.458495</td>\n",
       "      <td>0.581629</td>\n",
       "      <td>0.529688</td>\n",
       "    </tr>\n",
       "    <tr>\n",
       "      <td>17</td>\n",
       "      <td>0.530837</td>\n",
       "      <td>0.649288</td>\n",
       "      <td>0.505408</td>\n",
       "      <td>0.475467</td>\n",
       "      <td>0.577167</td>\n",
       "      <td>0.606837</td>\n",
       "    </tr>\n",
       "    <tr>\n",
       "      <td>18</td>\n",
       "      <td>0.736243</td>\n",
       "      <td>0.687179</td>\n",
       "      <td>0.570250</td>\n",
       "      <td>0.530076</td>\n",
       "      <td>0.680632</td>\n",
       "      <td>0.639372</td>\n",
       "    </tr>\n",
       "    <tr>\n",
       "      <td>19</td>\n",
       "      <td>0.971462</td>\n",
       "      <td>0.885132</td>\n",
       "      <td>0.615652</td>\n",
       "      <td>0.631414</td>\n",
       "      <td>0.848825</td>\n",
       "      <td>0.644869</td>\n",
       "    </tr>\n",
       "    <tr>\n",
       "      <td>20</td>\n",
       "      <td>0.988999</td>\n",
       "      <td>0.909350</td>\n",
       "      <td>0.608947</td>\n",
       "      <td>0.780721</td>\n",
       "      <td>1.042672</td>\n",
       "      <td>0.776479</td>\n",
       "    </tr>\n",
       "    <tr>\n",
       "      <td>21</td>\n",
       "      <td>1.026218</td>\n",
       "      <td>0.843268</td>\n",
       "      <td>0.626226</td>\n",
       "      <td>0.814847</td>\n",
       "      <td>1.083358</td>\n",
       "      <td>0.829397</td>\n",
       "    </tr>\n",
       "    <tr>\n",
       "      <td>22</td>\n",
       "      <td>1.036020</td>\n",
       "      <td>0.739864</td>\n",
       "      <td>0.698532</td>\n",
       "      <td>0.735793</td>\n",
       "      <td>1.113518</td>\n",
       "      <td>0.710742</td>\n",
       "    </tr>\n",
       "    <tr>\n",
       "      <td>23</td>\n",
       "      <td>1.058020</td>\n",
       "      <td>0.832464</td>\n",
       "      <td>0.646217</td>\n",
       "      <td>0.753807</td>\n",
       "      <td>0.997686</td>\n",
       "      <td>0.686101</td>\n",
       "    </tr>\n",
       "  </tbody>\n",
       "</table>\n",
       "</div>"
      ],
      "text/plain": [
       "mes               1         2         3         4         5         6\n",
       "solo hora                                                            \n",
       "0          1.125531  0.812742  0.649402  0.722262  0.899162  0.621831\n",
       "1          1.179669  0.852577  0.725484  0.729293  0.862001  0.612093\n",
       "2          1.135652  0.858594  0.715826  0.711743  0.879965  0.580466\n",
       "3          1.275506  0.968498  0.759264  0.697365  1.047415  0.608155\n",
       "4          1.291031  1.152802  0.768762  0.763170  1.125680  0.638405\n",
       "5          1.330201  1.219595  0.978325  0.929901  1.208809  0.727493\n",
       "6          1.622421  1.550129  1.447087  1.240962  1.540137  0.959474\n",
       "7          2.326762  2.360903  1.918537  1.813466  2.009974  1.609427\n",
       "8          2.537151  2.151596  1.410078  1.935036  2.051545  1.346927\n",
       "9          1.788558  1.240467  0.954422  1.074384  1.355590  0.788618\n",
       "10         1.123030  0.851827  0.645841  0.756171  0.957328  0.603558\n",
       "11         0.756011  0.589823  0.469335  0.661855  0.783371  0.479812\n",
       "12         0.503077  0.480318  0.394714  0.525745  0.660988  0.460637\n",
       "13         0.446890  0.407460  0.388887  0.423347  0.629332  0.392271\n",
       "14         0.432985  0.501472  0.382786  0.403405  0.599338  0.471682\n",
       "15         0.457300  0.535209  0.369284  0.391477  0.605366  0.487799\n",
       "16         0.464585  0.489795  0.385741  0.458495  0.581629  0.529688\n",
       "17         0.530837  0.649288  0.505408  0.475467  0.577167  0.606837\n",
       "18         0.736243  0.687179  0.570250  0.530076  0.680632  0.639372\n",
       "19         0.971462  0.885132  0.615652  0.631414  0.848825  0.644869\n",
       "20         0.988999  0.909350  0.608947  0.780721  1.042672  0.776479\n",
       "21         1.026218  0.843268  0.626226  0.814847  1.083358  0.829397\n",
       "22         1.036020  0.739864  0.698532  0.735793  1.113518  0.710742\n",
       "23         1.058020  0.832464  0.646217  0.753807  0.997686  0.686101"
      ]
     },
     "execution_count": 28,
     "metadata": {},
     "output_type": "execute_result"
    }
   ],
   "source": [
    "df_mes=df_mes.unstack(1)\n",
    "df_mes"
   ]
  },
  {
   "cell_type": "code",
   "execution_count": 38,
   "metadata": {},
   "outputs": [
    {
     "data": {
      "image/png": "[encoded data removed]",
      "text/plain": [
       "<Figure size 936x576 with 1 Axes>"
      ]
     },
     "metadata": {
      "needs_background": "light"
     },
     "output_type": "display_data"
    }
   ],
   "source": [
    "df_mes.plot(figsize=(13,8))\n",
    "plt.xlabel(\"Hora\", fontsize=13)\n",
    "plt.ylabel(\"Carbono\", fontsize=13)\n",
    "plt.title(\"Promedio de Carbono por hora y mes\")\n",
    "plt.show()"
   ]
  },
  {
   "cell_type": "markdown",
   "metadata": {},
   "source": [
    "5) Filtra los valores donde se tiene un valor de carbono negro mayor al cuantil 69. \n",
    "* ¿Cuál es el número de datos que perdiste?\n",
    "* ¿Cuál es el porcentaje de datos que perdiste?\n",
    "* Obten los histogramas de los datos con el filtro y sin el filtro. ¿Qué puedes decir al respecto de ellos?"
   ]
  },
  {
   "cell_type": "code",
   "execution_count": 30,
   "metadata": {},
   "outputs": [],
   "source": [
    "df_carbono69= df_carbono[df_carbono['cn']>df_carbono.cn.quantile(0.69)]"
   ]
  },
  {
   "cell_type": "code",
   "execution_count": 43,
   "metadata": {},
   "outputs": [
    {
     "data": {
      "text/plain": [
       "241954"
      ]
     },
     "execution_count": 43,
     "metadata": {},
     "output_type": "execute_result"
    }
   ],
   "source": [
    "len(df_carbono.cn)"
   ]
  },
  {
   "cell_type": "code",
   "execution_count": 39,
   "metadata": {},
   "outputs": [
    {
     "name": "stdout",
     "output_type": "stream",
     "text": [
      "El total de datos perdidos es:  171246\n"
     ]
    }
   ],
   "source": [
    "print(\"El total de datos perdidos es: \",len(df_carbono.cn)-len(df_carbono69.cn))"
   ]
  },
  {
   "cell_type": "code",
   "execution_count": 42,
   "metadata": {},
   "outputs": [
    {
     "name": "stdout",
     "output_type": "stream",
     "text": [
      "El porcentaje de datos perdidos con respecto al total original es:  75.02 %\n"
     ]
    }
   ],
   "source": [
    "print(\"El porcentaje de datos perdidos con respecto al total original es: \",((len(df_carbono.cn)-len(df_carbono69.cn))/(df_carbono.cn.count())*100).round(2), \"%\")"
   ]
  },
  {
   "cell_type": "code",
   "execution_count": 33,
   "metadata": {},
   "outputs": [
    {
     "data": {
      "image/png": "[encoded data removed]",
      "text/plain": [
       "<Figure size 720x360 with 1 Axes>"
      ]
     },
     "metadata": {
      "needs_background": "light"
     },
     "output_type": "display_data"
    }
   ],
   "source": [
    " plt.figure(figsize=(10,5))\n",
    "df_carbono.cn.hist(bins=100, color='orange')\n",
    "plt.xlim(-0.2,7.2)\n",
    "plt.xlabel(\"Valor de carbono negro\", fontsize=12)\n",
    "plt.ylabel(\"Total de Registros\", fontsize=12)\n",
    "plt.title(\"Distribución de registros de carbono negro\", fontsize=14)\n",
    "plt.show()"
   ]
  },
  {
   "cell_type": "code",
   "execution_count": 34,
   "metadata": {},
   "outputs": [
    {
     "data": {
      "image/png": "[encoded data removed]",
      "text/plain": [
       "<Figure size 720x360 with 1 Axes>"
      ]
     },
     "metadata": {
      "needs_background": "light"
     },
     "output_type": "display_data"
    }
   ],
   "source": [
    "plt.figure(figsize=(10,5))\n",
    "df_carbono69.cn.hist(bins=100, color='mediumorchid')\n",
    "plt.xlim(0.8,7.8)\n",
    "plt.xlabel(\"Valor de Carbono negro\", fontsize=12)\n",
    "plt.ylabel(\"Total de Registros\", fontsize=12)\n",
    "plt.title(\"Distribución de carbono negro con valores mayores al percentil 69\")\n",
    "plt.show()"
   ]
  },
  {
   "cell_type": "raw",
   "metadata": {},
   "source": [
    "Puedo observar que los valores mínimos del histograma ya filtrado, comienzan muy cercanos a 1 \n",
    "y en el histograma en el que están todos los datos, el valor mínimo es cero.\n",
    "En el primer histograma, la mayor parte de los datos se concentran entre 0 y 1, \n",
    "y en el segundo alrededor de 1. En ambos histogramas, la mayor parte de los datos se encuentran \n",
    "en los valores mínimos de carbono negro y van disminuyendo exponencialmente."
   ]
  }
 ],
 "metadata": {
  "kernelspec": {
   "display_name": "Python 3",
   "language": "python",
   "name": "python3"
  },
  "language_info": {
   "codemirror_mode": {
    "name": "ipython",
    "version": 3
   },
   "file_extension": ".py",
   "mimetype": "text/x-python",
   "name": "python",
   "nbconvert_exporter": "python",
   "pygments_lexer": "ipython3",
   "version": "3.7.4"
  }
 },
 "nbformat": 4,
 "nbformat_minor": 4
}
