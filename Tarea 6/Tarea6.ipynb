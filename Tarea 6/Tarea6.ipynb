{
 "cells": [
  {
   "cell_type": "markdown",
   "metadata": {},
   "source": [
    "# Tarea 6\n",
    "\n",
    "# Regresiones y FIFA 🔙⚽️\n",
    "\n",
    "Para esta tarea trabajaremos con un dataset en el cual se incluyen los datos y atributos de habilidad de todos los jugadores que están disponibles en el _modo Carrera_ del videojuego FIFA 18. Podríamos usar el dataset incluso del FIFA 21 pero más adelante verás la razón de usar el del 18 👾☠️🐍.\n",
    "\n",
    "En el dataset podemos encontrar:\n",
    "\n",
    "* Datos personales del jugador (nacionalidad, club, fecha de nacimiento, salario, etc).\n",
    "* Estadísticas del jugador (ataque, habilidades, defensa, mentalidad, habilidades, etc).\n",
    "* Posición del jugador (tanto en su club con en su selección nacional).\n",
    "* Más de 100 atributos de todo tipo.\n",
    "\n",
    "\n",
    "**SPOILER ALERT**: En esta tarea lo _\"único\"_ que haremos es tratamiento de datos y una regresión que nos permita predecir el *value* (valor en el mercado) de un jugador en función de sus aptitudes.\n",
    "\n",
    "-------------------\n",
    "# Ejercicio 1"
   ]
  },
  {
   "cell_type": "markdown",
   "metadata": {},
   "source": [
    "Importa:\n",
    "\n",
    "* La trinidad de la Ciencia de Datos (pandas, numpy, matplotlib). \n",
    "\n",
    "* La [regresión lineal](https://scikit-learn.org/stable/modules/generated/sklearn.linear_model.LinearRegression.html) de **scikit-learn** y la librería de [train_test_split](https://scikit-learn.org/stable/modules/generated/sklearn.model_selection.train_test_split.html) para crear los conjuntos de _prueba_ y _entrenamiento_ de nuestro modelo.\n",
    "\n",
    "* Metricas de evaluación de **scikit-learn**.\n",
    "\n",
    "* Las librerías que desees para la visualización de los datos/resultados.\n",
    "\n",
    "**HINT**: Revisa el Notebook de la clase 6 (El que se llama *1_AI_ML_Metodologia_y_Regresion_lineal_multilineal*), ahí importamos todo esto."
   ]
  },
  {
   "cell_type": "code",
   "execution_count": null,
   "metadata": {},
   "outputs": [],
   "source": []
  },
  {
   "cell_type": "code",
   "execution_count": null,
   "metadata": {},
   "outputs": [],
   "source": []
  },
  {
   "cell_type": "code",
   "execution_count": null,
   "metadata": {},
   "outputs": [],
   "source": []
  },
  {
   "cell_type": "markdown",
   "metadata": {},
   "source": [
    "# Ejercicio 2 \n",
    "\n",
    "* Lee el archivo FIFA18.csv contenido en la carpeta de la tarea. \n",
    "\n",
    "* Indaga en tu DataFrame para darte una idea de las variables. ¿Tienes columnas con variables que consideres **NO** aporten nada a tu modelo predictivo? \n",
    "\n",
    "* Para predecir el _value_ de cada jugador, utilizaremos las variables correspondientes a sus atributos. Filtra tu DataFrame y quedate sólo con las siguientes columnas."
   ]
  },
  {
   "cell_type": "raw",
   "metadata": {},
   "source": [
    "columnas = ['Name', 'Age', 'Overall', 'Value', 'Acceleration', 'Aggression', 'Agility', 'Balance', 'Ball control',\n",
    "            'Composure', 'Crossing', 'Curve', 'Dribbling', 'Finishing', 'Free kick accuracy', 'GK diving', \n",
    "            'GK handling', 'GK kicking', 'GK positioning', 'GK reflexes', 'Heading accuracy', 'Interceptions',\n",
    "            'Jumping', 'Long passing', 'Long shots', 'Marking', 'Penalties', 'Positioning', 'Reactions',\n",
    "            'Short passing', 'Shot power', 'Sliding tackle', 'Sprint speed', 'Stamina', 'Standing tackle',\n",
    "            'Strength', 'Vision', 'Volleys']"
   ]
  },
  {
   "cell_type": "markdown",
   "metadata": {},
   "source": [
    "* Haz un .info() sobre DataFrame. ¿Ves algo raro? "
   ]
  },
  {
   "cell_type": "code",
   "execution_count": null,
   "metadata": {},
   "outputs": [],
   "source": []
  },
  {
   "cell_type": "code",
   "execution_count": null,
   "metadata": {},
   "outputs": [],
   "source": []
  },
  {
   "cell_type": "code",
   "execution_count": null,
   "metadata": {},
   "outputs": [],
   "source": []
  },
  {
   "cell_type": "markdown",
   "metadata": {},
   "source": [
    "# Ejercicio 3\n",
    "\n",
    "Si supuestamente estamos trabajando con variables numéricas ¿por qué motivo Python las esta leyendo como objetos? (**Este es el motivo por el cual elegimos el dataset del FIFA 18**).\n",
    "\n",
    "El dataset del FIFA 18, como vimos en clase, tiene datos de la forma \"74+6\", los cuales indican el momentum positivo o negativo que está teniendo el jugador en su respectiva liga. Los dataset de otros FIFA no vienen así y a nosotros nos gusta complicarnos 😬 ¡Mentira! Ese _\"+ algo\"_ además de ser información valiosa sobre las buenas o malas rachas del jugador es el pretexto perfecto para hablar de la función [eval()](https://www.programiz.com/python-programming/methods/built-in/eval).\n",
    "\n",
    "La función eval() lo que hace es tomar un string cualquiera y lo evalúa en la calculadora de Python, por ejemplo:"
   ]
  },
  {
   "cell_type": "code",
   "execution_count": 1,
   "metadata": {},
   "outputs": [
    {
     "data": {
      "text/plain": [
       "80"
      ]
     },
     "execution_count": 1,
     "metadata": {},
     "output_type": "execute_result"
    }
   ],
   "source": [
    "eval('74+6')"
   ]
  },
  {
   "cell_type": "markdown",
   "metadata": {},
   "source": [
    "Con esto en mente, modificaremos nuestros datos para convertir nuestras variables numerias a tipo int y no perder esa información extra que por otros métodos, estaríamos descartado (como en la clase, donde literal, _\"nos volamos\"_ ese _\"+ algo\"_).\n",
    "\n",
    "* **Paso 1**: Adapta las siguientes lineas a tu código. "
   ]
  },
  {
   "cell_type": "raw",
   "metadata": {},
   "source": [
    "for i in tu_dataframe.columns:\n",
    "    print('\\n', i)\n",
    "    print(tu_dataframe[i].unique())"
   ]
  },
  {
   "cell_type": "markdown",
   "metadata": {},
   "source": [
    "Ejecutalo y haz una lista llamada **_cols_** donde incluyas el nombre de todas las columnas que tengan el \"problema\" de datos estilo \"68+1\". "
   ]
  },
  {
   "cell_type": "code",
   "execution_count": null,
   "metadata": {},
   "outputs": [],
   "source": []
  },
  {
   "cell_type": "code",
   "execution_count": null,
   "metadata": {},
   "outputs": [],
   "source": []
  },
  {
   "cell_type": "markdown",
   "metadata": {},
   "source": [
    "* **Paso 2**: La siguiente función convierte un valor de entrada a string y luego le aplica la función eval()."
   ]
  },
  {
   "cell_type": "raw",
   "metadata": {},
   "source": [
    "# Función evaluation\n",
    "def evaluation(n):\n",
    "    '''Funcion que convierte un valor de entrada a string y luego le aplica la función eval() '''\n",
    "    valor = str(n)\n",
    "    evalua = eval(valor)\n",
    "    return evalua"
   ]
  },
  {
   "cell_type": "markdown",
   "metadata": {},
   "source": [
    "* Ejecuta el código anterior para definir la funcion _evaluation_.\n",
    "\n",
    "* Mapea tu función _evaluation_ sobre las columnas de tu DataFrame que esten listadas en _cols_. \n",
    "\n",
    " **HINT**: el siguiente ciclo for hace el mapeo que nos piden y guarda los resultados dentro de la columna que se haga el mapeo; en otras palabras, el ciclo for evalua cada columna y \"actualiza\" los datos."
   ]
  },
  {
   "cell_type": "raw",
   "metadata": {},
   "source": [
    "for i in cols:\n",
    "    tu_dataframe[i] = list(map(evaluation,tu_dataframe[i]))"
   ]
  },
  {
   "cell_type": "code",
   "execution_count": null,
   "metadata": {},
   "outputs": [],
   "source": []
  },
  {
   "cell_type": "code",
   "execution_count": null,
   "metadata": {},
   "outputs": [],
   "source": []
  },
  {
   "cell_type": "markdown",
   "metadata": {},
   "source": [
    "* **Paso 3**: Verifiquemos que todo funciona (aún).\n",
    "\n",
    "    * Adapta el siguiente código a tu DataFrame. Si hiciste los pasos anteriores de forma correcta, los datos de tus columnas ya deberían estar _\"evaluados\"_, es decir, ya no deberían de tener ese _\"+ algo\"_."
   ]
  },
  {
   "cell_type": "raw",
   "metadata": {},
   "source": [
    "for i in tu_dataframe.columns:\n",
    "    print('________'*10,'\\n', i)\n",
    "    print(tu_dataframe[i].unique())"
   ]
  },
  {
   "cell_type": "markdown",
   "metadata": {},
   "source": [
    "**NOTA**: Si cometiste algún error, los cambios se habrán guardados en tu dataset, por lo que deberás de volver a leer los datos de nuevo."
   ]
  },
  {
   "cell_type": "code",
   "execution_count": null,
   "metadata": {},
   "outputs": [],
   "source": []
  },
  {
   "cell_type": "code",
   "execution_count": null,
   "metadata": {},
   "outputs": [],
   "source": []
  },
  {
   "cell_type": "markdown",
   "metadata": {},
   "source": [
    "# Ejercicio 4\n",
    "\n",
    "Nuestra variable objetivo es _'value'_. Los valores de esa columna tienen un formato de la forma €95.5M o €40.3K, así que para homologar la columna:\n",
    "\n",
    "* Haz una lista de comprensión que mediante el método [replace()](https://datatofish.com/replace-values-pandas-dataframe/) elimine el caracter \"€\" de todos los datos de la columna _value_."
   ]
  },
  {
   "cell_type": "code",
   "execution_count": null,
   "metadata": {},
   "outputs": [],
   "source": []
  },
  {
   "cell_type": "code",
   "execution_count": null,
   "metadata": {},
   "outputs": [],
   "source": []
  },
  {
   "cell_type": "code",
   "execution_count": null,
   "metadata": {},
   "outputs": [],
   "source": []
  },
  {
   "cell_type": "markdown",
   "metadata": {},
   "source": [
    "# Ejercicio 5\n",
    "\n",
    "El método [find()](https://pandas.pydata.org/pandas-docs/stable/reference/api/pandas.Series.str.find.html) es capaz de encontrar una letra o una palabra en una cadena de caracteres. Por ejemplo, si yo quisiera encontrar la palabra \"Wafflees\" en la frase \"Me encantan los Waffles\", tendría que hacer algo como:"
   ]
  },
  {
   "cell_type": "code",
   "execution_count": 2,
   "metadata": {},
   "outputs": [
    {
     "data": {
      "text/plain": [
       "16"
      ]
     },
     "execution_count": 2,
     "metadata": {},
     "output_type": "execute_result"
    }
   ],
   "source": [
    "frase = \"Me encantan los Waffles\"\n",
    "frase.find('Waffles')"
   ]
  },
  {
   "cell_type": "markdown",
   "metadata": {},
   "source": [
    "El número que nos devuelve find() se refiere a la posición donde inicia la palabra ó caracter que buscamos. \n",
    "\n",
    "Si la palabra o el carácter buscado no se encuentra en el string, el método find() nos devolvera el valor **-1**. Para ejemplificar esto, busquemos la palabra \"Navidad\" nuevamente en la frase \"Me encantan los Waffles\":"
   ]
  },
  {
   "cell_type": "code",
   "execution_count": 3,
   "metadata": {},
   "outputs": [
    {
     "data": {
      "text/plain": [
       "-1"
      ]
     },
     "execution_count": 3,
     "metadata": {},
     "output_type": "execute_result"
    }
   ],
   "source": [
    "frase.find('Navidad')"
   ]
  },
  {
   "cell_type": "markdown",
   "metadata": {},
   "source": [
    "* Adecua el código para que funcione con tu dataset y explica que es lo que hace."
   ]
  },
  {
   "cell_type": "raw",
   "metadata": {},
   "source": [
    "for i in range(0,len(tu_dataframe)):\n",
    "    if tu_dataframe.Value[i].find('M') !=-1:\n",
    "        tu_dataframe.Value[i] = float(tu_dataframe.Value[i].replace('M','')) * 1000000\n",
    "    elif tu_dataframe.Value[i].find('K') !=-1:\n",
    "        tu_dataframe.Value[i] = float(tu_dataframe.Value[i].replace('K','')) * 1000"
   ]
  },
  {
   "cell_type": "markdown",
   "metadata": {},
   "source": [
    "* Hay algunos registros de jugadores que tienen un value de 0 (pobrecitos 😢). Quitalos de tu DataFrame.\n",
    "\n",
    "* Verifica que el tipo de todas tus variables sea correcto. Específicamente asegurate de que las variables númericas efectivamente sean de **tipo númerico**. De ser necesario, aplica los cambios pertinentes."
   ]
  },
  {
   "cell_type": "code",
   "execution_count": null,
   "metadata": {},
   "outputs": [],
   "source": []
  },
  {
   "cell_type": "code",
   "execution_count": null,
   "metadata": {},
   "outputs": [],
   "source": []
  },
  {
   "cell_type": "code",
   "execution_count": null,
   "metadata": {},
   "outputs": [],
   "source": []
  },
  {
   "cell_type": "markdown",
   "metadata": {},
   "source": [
    "# Ejercicio 6 (Ahora si viene el Machine Learning 🤖)\n",
    "\n",
    "* Separa las variables predictoras de la variable objetivo ejecutando lo siguiente:"
   ]
  },
  {
   "cell_type": "raw",
   "metadata": {},
   "source": [
    "X = ['Age','Overall', 'Acceleration', 'Aggression', 'Agility', 'Balance', 'Ball control', 'Composure',\n",
    "     'Crossing', 'Curve', 'Dribbling', 'Finishing', 'Free kick accuracy', 'GK diving', 'GK handling',\n",
    "     'GK kicking', 'GK positioning', 'GK reflexes', 'Heading accuracy', 'Interceptions', 'Jumping',\n",
    "     'Long passing', 'Long shots', 'Marking', 'Penalties', 'Positioning', 'Reactions', 'Short passing',\n",
    "     'Shot power', 'Sliding tackle', 'Sprint speed', 'Stamina', 'Standing tackle', 'Strength', 'Vision', 'Volleys']\n",
    "\n",
    "y = ['Value']"
   ]
  },
  {
   "cell_type": "markdown",
   "metadata": {},
   "source": [
    "* Usa el método _train_test_split_ para generar tus conjuntos de entrenamiento y de prueba tal y como hicimos en clase.\n",
    "\n",
    "* Usa el método LinearRegression para ajustar una recta multi-dimensional a tus datos de entrenamiento. \n",
    "\n",
    "* Toma tu objeto entrenado, úsalo para predecir la variable value de tu X_test. \n",
    "\n",
    "* Utiliza metricas de scikit-learn (mean_squared error o el error porcentual promedio por ejemplo) para calcular el performance de tu modelo. ¿Tu modelo es bueno o es malo?"
   ]
  },
  {
   "cell_type": "code",
   "execution_count": null,
   "metadata": {},
   "outputs": [],
   "source": []
  },
  {
   "cell_type": "code",
   "execution_count": null,
   "metadata": {},
   "outputs": [],
   "source": []
  },
  {
   "cell_type": "markdown",
   "metadata": {},
   "source": [
    "# Ejercicio 7\n",
    "\n",
    "Por último analizaremos los coeficientes. \n",
    "\n",
    "* Busca el código con el que hicimos la siguiente gráfica durante la clase 6.\n",
    "\n",
    "<center> \n",
    "<img src=\"coef.png\" width = 500>\n",
    "<center> \n",
    "\n",
    "\n",
    " Basate en el para graficar los coeficientes de tu modelo. \n",
    "    \n",
    " ¿A qué variables les está dando más peso la regresión para aumentar/disminuir el valor de mercado del jugador? ¿Te hace sentido? "
   ]
  },
  {
   "cell_type": "code",
   "execution_count": null,
   "metadata": {},
   "outputs": [],
   "source": []
  },
  {
   "cell_type": "code",
   "execution_count": null,
   "metadata": {},
   "outputs": [],
   "source": []
  },
  {
   "cell_type": "code",
   "execution_count": null,
   "metadata": {},
   "outputs": [],
   "source": []
  }
 ],
 "metadata": {
  "kernelspec": {
   "display_name": "Python 3",
   "language": "python",
   "name": "python3"
  },
  "language_info": {
   "codemirror_mode": {
    "name": "ipython",
    "version": 3
   },
   "file_extension": ".py",
   "mimetype": "text/x-python",
   "name": "python",
   "nbconvert_exporter": "python",
   "pygments_lexer": "ipython3",
   "version": "3.8.3"
  }
 },
 "nbformat": 4,
 "nbformat_minor": 4
}
