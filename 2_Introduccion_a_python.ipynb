{
 "cells": [
  {
   "cell_type": "markdown",
   "metadata": {},
   "source": [
    "# Introducción a Python\n",
    "\n",
    "🐍🐍🐍🐍🐍\n",
    "\n",
    "Python es un _lenguaje de programación orientado a objetos_ (POO) de sintaxis sencilla. El intérprete de Python puede extenderse fácilmente con nuevas funcionalidades y tipos de datos implementados en C o C++. Python también puede usarse como un lenguaje de extensiones para aplicaciones personalizables.\n",
    "\n",
    "Los dos motivos principales que han generado un creciente uso de Python en el campo del análisis de datos son:\n",
    "\n",
    "+ Las **numerosas bibliotecas** creadas para esta finalidad como: \n",
    "    + _Numpy_ y _Pandas_ que implementan funciones para cálculos matemáticos y estadísticos.\n",
    "    + _Scikit-learn_ con algoritmos de aprendizaje automatizado (ML).\n",
    "    + _Matplotlib_ que permite la visualización y representación gráfica de los datos.\n",
    "    \n",
    "    \n",
    "+ Su integración con aplicaciones como _MongoDB_ (base de datos no relacional), _Hadoop_ o _Pentaho_.\n",
    "\n",
    "Esto hace de Python un lenguaje de gran utilidad para los analistas de datos."
   ]
  },
  {
   "cell_type": "markdown",
   "metadata": {},
   "source": [
    "## Python \n",
    "\n",
    "Primero utilicemos Python como una calculadora:"
   ]
  },
  {
   "cell_type": "code",
   "execution_count": 1,
   "metadata": {},
   "outputs": [
    {
     "data": {
      "text/plain": [
       "5"
      ]
     },
     "execution_count": 1,
     "metadata": {},
     "output_type": "execute_result"
    }
   ],
   "source": [
    "# Como una calculadora\n",
    "1+4"
   ]
  },
  {
   "cell_type": "code",
   "execution_count": 2,
   "metadata": {},
   "outputs": [
    {
     "data": {
      "text/plain": [
       "1.6"
      ]
     },
     "execution_count": 2,
     "metadata": {},
     "output_type": "execute_result"
    }
   ],
   "source": [
    "# Capaz de resolver todo tipo de operaciones aritméticas\n",
    "8/5"
   ]
  },
  {
   "cell_type": "code",
   "execution_count": 3,
   "metadata": {},
   "outputs": [
    {
     "data": {
      "text/plain": [
       "8"
      ]
     },
     "execution_count": 3,
     "metadata": {},
     "output_type": "execute_result"
    }
   ],
   "source": [
    "# Incluso potencias\n",
    "2 ** 3"
   ]
  },
  {
   "cell_type": "code",
   "execution_count": 4,
   "metadata": {},
   "outputs": [
    {
     "data": {
      "text/plain": [
       "243"
      ]
     },
     "execution_count": 4,
     "metadata": {},
     "output_type": "execute_result"
    }
   ],
   "source": [
    "3 ** 5"
   ]
  },
  {
   "cell_type": "markdown",
   "metadata": {},
   "source": [
    "Hay diversos tipos de datos en Python:\n",
    "+ Enteros (int) Z\n",
    "+ Floats (float) \n",
    "+ Strings (Palabras. Se escriben entre comillas dobles \"string\" o entre comillas simples 'string')\n",
    "+ Booleanos (Verdaderos y Falsos)"
   ]
  },
  {
   "cell_type": "markdown",
   "metadata": {},
   "source": [
    "Python tiene algunas palabras reservadas o funciones prestablecidas que se despliegan en color verde, por ejemplo:"
   ]
  },
  {
   "cell_type": "code",
   "execution_count": 5,
   "metadata": {},
   "outputs": [
    {
     "name": "stdin",
     "output_type": "stream",
     "text": [
      "escribe algo aqui: Karen\n"
     ]
    },
    {
     "data": {
      "text/plain": [
       "'Karen'"
      ]
     },
     "execution_count": 5,
     "metadata": {},
     "output_type": "execute_result"
    }
   ],
   "source": [
    "# El valor de la variable sera lo que escriba el usario y lo guarda como string\n",
    "input('escribe algo aqui:')"
   ]
  },
  {
   "cell_type": "code",
   "execution_count": 7,
   "metadata": {},
   "outputs": [
    {
     "data": {
      "text/plain": [
       "9"
      ]
     },
     "execution_count": 7,
     "metadata": {},
     "output_type": "execute_result"
    }
   ],
   "source": [
    "# Cambiar la variable a tipo entero\n",
    "int(9.8)"
   ]
  },
  {
   "cell_type": "code",
   "execution_count": 8,
   "metadata": {},
   "outputs": [
    {
     "data": {
      "text/plain": [
       "float"
      ]
     },
     "execution_count": 8,
     "metadata": {},
     "output_type": "execute_result"
    }
   ],
   "source": [
    "# Nos dice que tipo de variable es nuestro argumento\n",
    "type(9.3)"
   ]
  },
  {
   "cell_type": "code",
   "execution_count": 9,
   "metadata": {},
   "outputs": [
    {
     "data": {
      "text/plain": [
       "int"
      ]
     },
     "execution_count": 9,
     "metadata": {},
     "output_type": "execute_result"
    }
   ],
   "source": [
    "type(1)"
   ]
  },
  {
   "cell_type": "code",
   "execution_count": 10,
   "metadata": {},
   "outputs": [
    {
     "data": {
      "text/plain": [
       "str"
      ]
     },
     "execution_count": 10,
     "metadata": {},
     "output_type": "execute_result"
    }
   ],
   "source": [
    "type('Where is the love?') "
   ]
  },
  {
   "cell_type": "raw",
   "metadata": {},
   "source": [
    "# Agregar celda en jupyter notebook\n",
    "# esc + A agregar fila arriba\n",
    "# esc + B agregar fila abajo\n",
    "# esc + DD borrar celda"
   ]
  },
  {
   "cell_type": "markdown",
   "metadata": {},
   "source": [
    "Como observamos es sencillo trabajar con operaciones básicas al igual que con strings.\n",
    "\n",
    "# Ejercicio\n",
    "\n",
    "Generar un mensaje de 3 líneas utilizado el carácter de salto de línea \\n"
   ]
  },
  {
   "cell_type": "code",
   "execution_count": 14,
   "metadata": {},
   "outputs": [
    {
     "name": "stdout",
     "output_type": "stream",
     "text": [
      "Hola \n",
      "Karencita\n"
     ]
    }
   ],
   "source": [
    "print(\"Hola \\nKarencita\")"
   ]
  },
  {
   "cell_type": "code",
   "execution_count": 16,
   "metadata": {},
   "outputs": [
    {
     "name": "stdout",
     "output_type": "stream",
     "text": [
      "Hola\n",
      "Karencita\n"
     ]
    }
   ],
   "source": [
    "print(\"\"\"Hola\n",
    "Karencita\"\"\")"
   ]
  },
  {
   "cell_type": "code",
   "execution_count": null,
   "metadata": {},
   "outputs": [],
   "source": []
  },
  {
   "cell_type": "code",
   "execution_count": null,
   "metadata": {},
   "outputs": [],
   "source": []
  },
  {
   "cell_type": "code",
   "execution_count": null,
   "metadata": {},
   "outputs": [],
   "source": []
  },
  {
   "cell_type": "markdown",
   "metadata": {},
   "source": [
    "----"
   ]
  },
  {
   "cell_type": "code",
   "execution_count": null,
   "metadata": {
    "jupyter": {
     "source_hidden": true
    }
   },
   "outputs": [],
   "source": [
    "print(\"hola \\nmundo \\nwe\")"
   ]
  },
  {
   "cell_type": "code",
   "execution_count": null,
   "metadata": {
    "hide_input": true,
    "jupyter": {
     "source_hidden": true
    }
   },
   "outputs": [],
   "source": [
    "print(\"\"\"hola\n",
    "mundo\n",
    "we\"\"\")"
   ]
  },
  {
   "cell_type": "code",
   "execution_count": 21,
   "metadata": {},
   "outputs": [
    {
     "data": {
      "text/plain": [
       "'hola amigos '"
      ]
     },
     "execution_count": 21,
     "metadata": {},
     "output_type": "execute_result"
    }
   ],
   "source": [
    "mensaje = 'hola amigos '\n",
    "mensaje"
   ]
  },
  {
   "cell_type": "code",
   "execution_count": 22,
   "metadata": {},
   "outputs": [
    {
     "data": {
      "text/plain": [
       "'hola amigos hola amigos hola amigos hola amigos hola amigos hola amigos '"
      ]
     },
     "execution_count": 22,
     "metadata": {},
     "output_type": "execute_result"
    }
   ],
   "source": [
    "# Multiplica el mensaje 6 veces.\n",
    "mensaje * 6"
   ]
  },
  {
   "cell_type": "code",
   "execution_count": 23,
   "metadata": {},
   "outputs": [
    {
     "data": {
      "text/plain": [
       "str"
      ]
     },
     "execution_count": 23,
     "metadata": {},
     "output_type": "execute_result"
    }
   ],
   "source": [
    "type(mensaje)"
   ]
  },
  {
   "cell_type": "code",
   "execution_count": 24,
   "metadata": {},
   "outputs": [
    {
     "name": "stdout",
     "output_type": "stream",
     "text": [
      "<class 'int'>\n",
      "2\n"
     ]
    }
   ],
   "source": [
    "# Más tipos de datos\n",
    "otra = int(56/28)   # Decimales (Fraciones)\n",
    "\n",
    "print(type(otra))   # Tipo de dato\n",
    "print(otra)   # Valor de variable"
   ]
  },
  {
   "cell_type": "code",
   "execution_count": 27,
   "metadata": {},
   "outputs": [
    {
     "name": "stdout",
     "output_type": "stream",
     "text": [
      "hola amigos \n",
      "2\n"
     ]
    }
   ],
   "source": [
    "print(mensaje)\n",
    "print(otra)"
   ]
  },
  {
   "cell_type": "code",
   "execution_count": 29,
   "metadata": {},
   "outputs": [
    {
     "data": {
      "text/plain": [
       "'a'"
      ]
     },
     "execution_count": 29,
     "metadata": {},
     "output_type": "execute_result"
    }
   ],
   "source": [
    "# ¡¡El índice empieza en 0!!\n",
    "mensaje[5]"
   ]
  },
  {
   "cell_type": "code",
   "execution_count": 28,
   "metadata": {},
   "outputs": [
    {
     "data": {
      "text/plain": [
       "'hola amigos '"
      ]
     },
     "execution_count": 28,
     "metadata": {},
     "output_type": "execute_result"
    }
   ],
   "source": [
    "mensaje"
   ]
  },
  {
   "cell_type": "code",
   "execution_count": 30,
   "metadata": {},
   "outputs": [
    {
     "name": "stdout",
     "output_type": "stream",
     "text": [
      "a\n",
      "amigos \n",
      "hola \n",
      "s\n"
     ]
    }
   ],
   "source": [
    "# Accede al mensaje\n",
    "print(mensaje[5])   # Elemento número 6\n",
    "print(mensaje[5:])   # Elementos del 6 en adelante\n",
    "print(mensaje[:5])   # Elementos del 0 al 5\n",
    "print(mensaje[-2])   # Carácteres desde la ante-última (incluída) hasta el final"
   ]
  },
  {
   "cell_type": "raw",
   "metadata": {},
   "source": [
    "Asi es el acceso a los elementos de un objeto\n",
    "+---+---+---+---+---+---+\n",
    " | P | y | t | h | o | n |\n",
    " +---+---+---+---+---+---+\n",
    "   0   1   2   3   4   5  \n",
    "  -6  -5  -4  -3  -2  -1"
   ]
  },
  {
   "cell_type": "code",
   "execution_count": 31,
   "metadata": {},
   "outputs": [
    {
     "data": {
      "text/plain": [
       "'hola amigos '"
      ]
     },
     "execution_count": 31,
     "metadata": {},
     "output_type": "execute_result"
    }
   ],
   "source": [
    "mensaje"
   ]
  },
  {
   "cell_type": "code",
   "execution_count": 32,
   "metadata": {},
   "outputs": [
    {
     "data": {
      "text/plain": [
       "12"
      ]
     },
     "execution_count": 32,
     "metadata": {},
     "output_type": "execute_result"
    }
   ],
   "source": [
    "# Longitud del mensaje\n",
    "len(mensaje)"
   ]
  },
  {
   "cell_type": "code",
   "execution_count": 33,
   "metadata": {},
   "outputs": [
    {
     "data": {
      "text/plain": [
       "True"
      ]
     },
     "execution_count": 33,
     "metadata": {},
     "output_type": "execute_result"
    }
   ],
   "source": [
    "# Booleanos 1 ó 0 (Verdadero o Falso)\n",
    "bool(1)"
   ]
  },
  {
   "cell_type": "code",
   "execution_count": 34,
   "metadata": {},
   "outputs": [
    {
     "data": {
      "text/plain": [
       "False"
      ]
     },
     "execution_count": 34,
     "metadata": {},
     "output_type": "execute_result"
    }
   ],
   "source": [
    "bool(0)"
   ]
  },
  {
   "cell_type": "markdown",
   "metadata": {},
   "source": [
    "Adicionalmente, Python también trabaja con conjuntos:\n",
    "\n",
    "+ Listas\n",
    "+ Diccionario\n",
    "+ Tuplas (lista unmutable)"
   ]
  },
  {
   "cell_type": "markdown",
   "metadata": {},
   "source": [
    "## Listas\n",
    "Son conjuntos de datos que tienen __un orden__ y empiezan su índice con el número 0"
   ]
  },
  {
   "cell_type": "code",
   "execution_count": 35,
   "metadata": {},
   "outputs": [
    {
     "data": {
      "text/plain": [
       "[1, 2, 3, 'gato']"
      ]
     },
     "execution_count": 35,
     "metadata": {},
     "output_type": "execute_result"
    }
   ],
   "source": [
    "mi_lista_cero = [1,2,3,'gato']\n",
    "mi_lista_cero"
   ]
  },
  {
   "cell_type": "code",
   "execution_count": 36,
   "metadata": {},
   "outputs": [
    {
     "data": {
      "text/plain": [
       "[3, 'OTRA LISTA']"
      ]
     },
     "execution_count": 36,
     "metadata": {},
     "output_type": "execute_result"
    }
   ],
   "source": [
    "# La lista en Python son variables que almacenan arrays, \n",
    "# internamente cada posicion puede ser un tipo de datos distinto.\n",
    "mi_primera_lista =  [1, 'ML', [3,'OTRA LISTA'] ]\n",
    "mi_primera_lista[2]"
   ]
  },
  {
   "cell_type": "code",
   "execution_count": 37,
   "metadata": {},
   "outputs": [
    {
     "data": {
      "text/plain": [
       "'OTRA LISTA'"
      ]
     },
     "execution_count": 37,
     "metadata": {},
     "output_type": "execute_result"
    }
   ],
   "source": [
    "mi_primera_lista[2][1]"
   ]
  },
  {
   "cell_type": "code",
   "execution_count": 38,
   "metadata": {},
   "outputs": [
    {
     "data": {
      "text/plain": [
       "'R'"
      ]
     },
     "execution_count": 38,
     "metadata": {},
     "output_type": "execute_result"
    }
   ],
   "source": [
    "mi_primera_lista[2][1][2]"
   ]
  },
  {
   "cell_type": "code",
   "execution_count": 39,
   "metadata": {},
   "outputs": [
    {
     "data": {
      "text/plain": [
       "[[1, 2, 3], [4, 5, 6]]"
      ]
     },
     "execution_count": 39,
     "metadata": {},
     "output_type": "execute_result"
    }
   ],
   "source": [
    "# Creando una matriz\n",
    "[[1,2,3],\n",
    " [4,5,6]]"
   ]
  },
  {
   "cell_type": "code",
   "execution_count": 40,
   "metadata": {},
   "outputs": [
    {
     "data": {
      "text/plain": [
       "[0, 15, [25, 357, 45]]"
      ]
     },
     "execution_count": 40,
     "metadata": {},
     "output_type": "execute_result"
    }
   ],
   "source": [
    "# Lista de listas\n",
    "lista = [25,357,45]\n",
    "lista1 = [0,15,lista]\n",
    "lista1"
   ]
  },
  {
   "cell_type": "code",
   "execution_count": 41,
   "metadata": {},
   "outputs": [
    {
     "data": {
      "text/plain": [
       "357"
      ]
     },
     "execution_count": 41,
     "metadata": {},
     "output_type": "execute_result"
    }
   ],
   "source": [
    "# Accediendo a la lista\n",
    "lista1[2][1]"
   ]
  },
  {
   "cell_type": "code",
   "execution_count": 45,
   "metadata": {},
   "outputs": [
    {
     "data": {
      "text/plain": [
       "[0, 15, [25, 357, 45]]"
      ]
     },
     "execution_count": 45,
     "metadata": {},
     "output_type": "execute_result"
    }
   ],
   "source": [
    "lista1"
   ]
  },
  {
   "cell_type": "markdown",
   "metadata": {},
   "source": [
    "Para acceder a métodos en Python, se escribe el nombre del objeto seguido de un punto. Con tabulador odemos revisar todos los métodos disponibles para el objeto. Por ejemplo:"
   ]
  },
  {
   "cell_type": "code",
   "execution_count": null,
   "metadata": {},
   "outputs": [],
   "source": [
    "lista1."
   ]
  },
  {
   "cell_type": "code",
   "execution_count": 51,
   "metadata": {},
   "outputs": [
    {
     "data": {
      "text/plain": [
       "1"
      ]
     },
     "execution_count": 51,
     "metadata": {},
     "output_type": "execute_result"
    }
   ],
   "source": [
    "### Método de listas contar valor\n",
    "    \n",
    "lista1.count(0)   # Método count es para contar el elemento adentro de count\n",
    "\n",
    "# Cuenta cuantas veces aparece el cero en la lista"
   ]
  },
  {
   "cell_type": "code",
   "execution_count": 52,
   "metadata": {},
   "outputs": [],
   "source": [
    "lista_nueva = [0,0,1,1,2,2,3,3,4,4,4,4,4,4,5,6,7]"
   ]
  },
  {
   "cell_type": "code",
   "execution_count": 53,
   "metadata": {},
   "outputs": [
    {
     "data": {
      "text/plain": [
       "17"
      ]
     },
     "execution_count": 53,
     "metadata": {},
     "output_type": "execute_result"
    }
   ],
   "source": [
    "len(lista_nueva)"
   ]
  },
  {
   "cell_type": "code",
   "execution_count": 54,
   "metadata": {},
   "outputs": [
    {
     "data": {
      "text/plain": [
       "7"
      ]
     },
     "execution_count": 54,
     "metadata": {},
     "output_type": "execute_result"
    }
   ],
   "source": [
    "# Remover valor siguiendo el índice\n",
    "lista_nueva.pop(-1)"
   ]
  },
  {
   "cell_type": "code",
   "execution_count": 55,
   "metadata": {},
   "outputs": [
    {
     "data": {
      "text/plain": [
       "[0, 0, 1, 1, 2, 2, 3, 3, 4, 4, 4, 4, 4, 4, 5, 6]"
      ]
     },
     "execution_count": 55,
     "metadata": {},
     "output_type": "execute_result"
    }
   ],
   "source": [
    "lista_nueva"
   ]
  },
  {
   "cell_type": "code",
   "execution_count": 56,
   "metadata": {},
   "outputs": [],
   "source": [
    "# Remover primer valor con el valor indicado\n",
    "lista_nueva.remove(1)"
   ]
  },
  {
   "cell_type": "code",
   "execution_count": 57,
   "metadata": {},
   "outputs": [
    {
     "data": {
      "text/plain": [
       "[0, 0, 1, 2, 2, 3, 3, 4, 4, 4, 4, 4, 4, 5, 6]"
      ]
     },
     "execution_count": 57,
     "metadata": {},
     "output_type": "execute_result"
    }
   ],
   "source": [
    "lista_nueva"
   ]
  },
  {
   "cell_type": "code",
   "execution_count": 58,
   "metadata": {},
   "outputs": [],
   "source": [
    "# Inserta elemento a la lista en la posición cero con el valor 10\n",
    "lista_nueva.insert(0, 10)"
   ]
  },
  {
   "cell_type": "code",
   "execution_count": 59,
   "metadata": {},
   "outputs": [
    {
     "data": {
      "text/plain": [
       "[10, 0, 0, 1, 2, 2, 3, 3, 4, 4, 4, 4, 4, 4, 5, 6]"
      ]
     },
     "execution_count": 59,
     "metadata": {},
     "output_type": "execute_result"
    }
   ],
   "source": [
    "# Imprimir nuevo valor de la lista\n",
    "lista_nueva"
   ]
  },
  {
   "cell_type": "code",
   "execution_count": 60,
   "metadata": {},
   "outputs": [],
   "source": [
    "# Apilar el valor en el último lugar\n",
    "lista_nueva.append(10)"
   ]
  },
  {
   "cell_type": "code",
   "execution_count": 61,
   "metadata": {},
   "outputs": [
    {
     "data": {
      "text/plain": [
       "[10, 0, 0, 1, 2, 2, 3, 3, 4, 4, 4, 4, 4, 4, 5, 6, 10]"
      ]
     },
     "execution_count": 61,
     "metadata": {},
     "output_type": "execute_result"
    }
   ],
   "source": [
    "lista_nueva"
   ]
  },
  {
   "cell_type": "code",
   "execution_count": 62,
   "metadata": {},
   "outputs": [],
   "source": [
    "# Agrego valores de lista a una lista ya hecha\n",
    "lista_nueva.extend([5,7,3])"
   ]
  },
  {
   "cell_type": "code",
   "execution_count": 63,
   "metadata": {},
   "outputs": [
    {
     "data": {
      "text/plain": [
       "[10, 0, 0, 1, 2, 2, 3, 3, 4, 4, 4, 4, 4, 4, 5, 6, 10, 5, 7, 3]"
      ]
     },
     "execution_count": 63,
     "metadata": {},
     "output_type": "execute_result"
    }
   ],
   "source": [
    "lista_nueva"
   ]
  },
  {
   "cell_type": "code",
   "execution_count": 64,
   "metadata": {},
   "outputs": [],
   "source": [
    "lista_nueva.append([5,7,3])"
   ]
  },
  {
   "cell_type": "code",
   "execution_count": 65,
   "metadata": {},
   "outputs": [
    {
     "data": {
      "text/plain": [
       "[10, 0, 0, 1, 2, 2, 3, 3, 4, 4, 4, 4, 4, 4, 5, 6, 10, 5, 7, 3, [5, 7, 3]]"
      ]
     },
     "execution_count": 65,
     "metadata": {},
     "output_type": "execute_result"
    }
   ],
   "source": [
    "lista_nueva"
   ]
  },
  {
   "cell_type": "markdown",
   "metadata": {
    "hide_input": true
   },
   "source": [
    "# Ejercicio\n",
    "\n",
    "+ Crear lista con tres elementos\n",
    "+ Agregar un elemento\n",
    "+ Quitar el primer elemento"
   ]
  },
  {
   "cell_type": "code",
   "execution_count": 66,
   "metadata": {},
   "outputs": [],
   "source": [
    "lista1=[3,5,7]"
   ]
  },
  {
   "cell_type": "code",
   "execution_count": 67,
   "metadata": {},
   "outputs": [],
   "source": [
    "lista1.append(11)"
   ]
  },
  {
   "cell_type": "code",
   "execution_count": 69,
   "metadata": {},
   "outputs": [
    {
     "data": {
      "text/plain": [
       "[3, 5, 7, 11]"
      ]
     },
     "execution_count": 69,
     "metadata": {},
     "output_type": "execute_result"
    }
   ],
   "source": [
    "lista1"
   ]
  },
  {
   "cell_type": "code",
   "execution_count": 70,
   "metadata": {},
   "outputs": [
    {
     "data": {
      "text/plain": [
       "3"
      ]
     },
     "execution_count": 70,
     "metadata": {},
     "output_type": "execute_result"
    }
   ],
   "source": [
    "lista1.pop(0)"
   ]
  },
  {
   "cell_type": "code",
   "execution_count": 71,
   "metadata": {},
   "outputs": [
    {
     "data": {
      "text/plain": [
       "[5, 7, 11]"
      ]
     },
     "execution_count": 71,
     "metadata": {},
     "output_type": "execute_result"
    }
   ],
   "source": [
    "lista1"
   ]
  },
  {
   "cell_type": "markdown",
   "metadata": {},
   "source": [
    "----"
   ]
  },
  {
   "cell_type": "code",
   "execution_count": null,
   "metadata": {
    "hide_input": true,
    "jupyter": {
     "source_hidden": true
    }
   },
   "outputs": [],
   "source": [
    "ejercicio = [1, 2, 'algo_chido']   # Creando la lista\n",
    "ejercicio.append('algo+chido')   # Agregando elemento al final \n",
    "del ejercicio[0]   # Borrando el primer elemento\n",
    "ejercicio   # Mostramos el resultado"
   ]
  },
  {
   "cell_type": "markdown",
   "metadata": {},
   "source": [
    "## Tuplas\n",
    "Lista __inmutable__"
   ]
  },
  {
   "cell_type": "code",
   "execution_count": 72,
   "metadata": {},
   "outputs": [],
   "source": [
    "# ¿A qué se refiere con inmutable?\n",
    "mi_primer_tupla = (1,2,3)"
   ]
  },
  {
   "cell_type": "code",
   "execution_count": 73,
   "metadata": {},
   "outputs": [
    {
     "data": {
      "text/plain": [
       "(1, 2, 3)"
      ]
     },
     "execution_count": 73,
     "metadata": {},
     "output_type": "execute_result"
    }
   ],
   "source": [
    "mi_primer_tupla"
   ]
  },
  {
   "cell_type": "code",
   "execution_count": 74,
   "metadata": {},
   "outputs": [
    {
     "data": {
      "text/plain": [
       "[1, 'ML', [3, 'OTRA LISTA']]"
      ]
     },
     "execution_count": 74,
     "metadata": {},
     "output_type": "execute_result"
    }
   ],
   "source": [
    "mi_primera_lista"
   ]
  },
  {
   "cell_type": "code",
   "execution_count": 75,
   "metadata": {},
   "outputs": [],
   "source": [
    "mi_primera_lista[0] = 1000"
   ]
  },
  {
   "cell_type": "code",
   "execution_count": 76,
   "metadata": {},
   "outputs": [
    {
     "data": {
      "text/plain": [
       "[1000, 'ML', [3, 'OTRA LISTA']]"
      ]
     },
     "execution_count": 76,
     "metadata": {},
     "output_type": "execute_result"
    }
   ],
   "source": [
    "mi_primera_lista"
   ]
  },
  {
   "cell_type": "code",
   "execution_count": 77,
   "metadata": {},
   "outputs": [
    {
     "data": {
      "text/plain": [
       "(1, 2, 3)"
      ]
     },
     "execution_count": 77,
     "metadata": {},
     "output_type": "execute_result"
    }
   ],
   "source": [
    "mi_primer_tupla"
   ]
  },
  {
   "cell_type": "code",
   "execution_count": 78,
   "metadata": {},
   "outputs": [
    {
     "data": {
      "text/plain": [
       "2"
      ]
     },
     "execution_count": 78,
     "metadata": {},
     "output_type": "execute_result"
    }
   ],
   "source": [
    "mi_primer_tupla[1]"
   ]
  },
  {
   "cell_type": "code",
   "execution_count": 79,
   "metadata": {},
   "outputs": [
    {
     "ename": "TypeError",
     "evalue": "'tuple' object does not support item assignment",
     "output_type": "error",
     "traceback": [
      "\u001b[1;31m---------------------------------------------------------------------------\u001b[0m",
      "\u001b[1;31mTypeError\u001b[0m                                 Traceback (most recent call last)",
      "\u001b[1;32m<ipython-input-79-10bfc630d916>\u001b[0m in \u001b[0;36m<module>\u001b[1;34m\u001b[0m\n\u001b[0;32m      1\u001b[0m \u001b[1;31m# Al querer acceder al elemento 1 y quererle asignar un nuevo valor no se puede\u001b[0m\u001b[1;33m\u001b[0m\u001b[1;33m\u001b[0m\u001b[1;33m\u001b[0m\u001b[0m\n\u001b[1;32m----> 2\u001b[1;33m \u001b[0mmi_primer_tupla\u001b[0m\u001b[1;33m[\u001b[0m\u001b[1;36m1\u001b[0m\u001b[1;33m]\u001b[0m \u001b[1;33m=\u001b[0m \u001b[1;36m30\u001b[0m\u001b[1;33m\u001b[0m\u001b[1;33m\u001b[0m\u001b[0m\n\u001b[0m",
      "\u001b[1;31mTypeError\u001b[0m: 'tuple' object does not support item assignment"
     ]
    }
   ],
   "source": [
    "# Al querer acceder al elemento 1 y quererle asignar un nuevo valor no se puede\n",
    "mi_primer_tupla[1] = 30"
   ]
  },
  {
   "cell_type": "code",
   "execution_count": 80,
   "metadata": {},
   "outputs": [
    {
     "data": {
      "text/plain": [
       "(1000, 'ML', [3, 'OTRA LISTA'])"
      ]
     },
     "execution_count": 80,
     "metadata": {},
     "output_type": "execute_result"
    }
   ],
   "source": [
    "tuple(mi_primera_lista)"
   ]
  },
  {
   "cell_type": "code",
   "execution_count": 81,
   "metadata": {},
   "outputs": [
    {
     "data": {
      "text/plain": [
       "[1, 2, 3]"
      ]
     },
     "execution_count": 81,
     "metadata": {},
     "output_type": "execute_result"
    }
   ],
   "source": [
    "list(mi_primer_tupla)"
   ]
  },
  {
   "cell_type": "code",
   "execution_count": 82,
   "metadata": {},
   "outputs": [
    {
     "name": "stdout",
     "output_type": "stream",
     "text": [
      "[1, 2, 3]\n"
     ]
    },
    {
     "data": {
      "text/plain": [
       "(1, 20, 3)"
      ]
     },
     "execution_count": 82,
     "metadata": {},
     "output_type": "execute_result"
    }
   ],
   "source": [
    "# Para esto mejor usamos una lista\n",
    "nueva_lista = list(mi_primer_tupla)\n",
    "print(nueva_lista)\n",
    "\n",
    "nueva_lista[1] = 20\n",
    "tuple(nueva_lista)"
   ]
  },
  {
   "cell_type": "markdown",
   "metadata": {},
   "source": [
    "## Diccionarios\n",
    "A diferencia de las listas, los diccionarios no tienen orden, sin embargo, utilizan llaves y valores a especie de catálogo para guardar los datos. No pueden existir dos llaves iguales."
   ]
  },
  {
   "cell_type": "code",
   "execution_count": 83,
   "metadata": {},
   "outputs": [
    {
     "data": {
      "text/plain": [
       "{'llave1': 1, 'llave2': 2, 'llave3': 3}"
      ]
     },
     "execution_count": 83,
     "metadata": {},
     "output_type": "execute_result"
    }
   ],
   "source": [
    "mi_primer_dic = {'llave1': 1,\n",
    "                 'llave2': 2,\n",
    "                 'llave3': 3}   # Se representa por key: values\n",
    "\n",
    "mi_primer_dic"
   ]
  },
  {
   "cell_type": "code",
   "execution_count": 84,
   "metadata": {},
   "outputs": [
    {
     "name": "stdout",
     "output_type": "stream",
     "text": [
      "2\n"
     ]
    },
    {
     "data": {
      "text/plain": [
       "dict_items([('llave1', 1), ('llave2', 2), ('llave3', 3)])"
      ]
     },
     "execution_count": 84,
     "metadata": {},
     "output_type": "execute_result"
    }
   ],
   "source": [
    "print(mi_primer_dic.get('llave2'))   # Forma para obtener el valor de una llave\n",
    "\n",
    "mi_primer_dic.items()    # Vista de elementos de la lista"
   ]
  },
  {
   "cell_type": "code",
   "execution_count": 85,
   "metadata": {},
   "outputs": [
    {
     "data": {
      "text/plain": [
       "dict_keys(['llave1', 'llave2', 'llave3'])"
      ]
     },
     "execution_count": 85,
     "metadata": {},
     "output_type": "execute_result"
    }
   ],
   "source": [
    "mi_primer_dic.keys()"
   ]
  },
  {
   "cell_type": "code",
   "execution_count": 86,
   "metadata": {},
   "outputs": [
    {
     "data": {
      "text/plain": [
       "dict_values([1, 2, 3])"
      ]
     },
     "execution_count": 86,
     "metadata": {},
     "output_type": "execute_result"
    }
   ],
   "source": [
    "mi_primer_dic.values()"
   ]
  },
  {
   "cell_type": "code",
   "execution_count": 87,
   "metadata": {},
   "outputs": [
    {
     "name": "stdout",
     "output_type": "stream",
     "text": [
      "{'a': 1, 'b': 2, 'c': 78786}\n"
     ]
    }
   ],
   "source": [
    "# Otra forma para generar diccionarios\n",
    "a = dict(a = 1, b = 2, c = 78786)\n",
    "print(a)"
   ]
  },
  {
   "cell_type": "markdown",
   "metadata": {},
   "source": [
    "# Ejercicio\n",
    "\n",
    "Crear un diccionario donde la llave sea el nombre de las últimas tres materias que cursaste y valor, la calificación que obtuviste en ella (no te juzgamos si mientes, la vida es dura en Ciencias)."
   ]
  },
  {
   "cell_type": "code",
   "execution_count": 88,
   "metadata": {},
   "outputs": [],
   "source": [
    "materias= {'Lab contemporánea I':9,\n",
    "          'Lab contemporánea II': 9,\n",
    "          'Mecánica cuántica': 6}"
   ]
  },
  {
   "cell_type": "code",
   "execution_count": 89,
   "metadata": {},
   "outputs": [
    {
     "data": {
      "text/plain": [
       "{'Lab contemporánea I': 9, 'Lab contemporánea II': 9, 'Mecánica cuántica': 6}"
      ]
     },
     "execution_count": 89,
     "metadata": {},
     "output_type": "execute_result"
    }
   ],
   "source": [
    "materias"
   ]
  },
  {
   "cell_type": "markdown",
   "metadata": {},
   "source": [
    "# Estructuras de Control\n",
    "\n",
    "Permiten modificar el flujo de ejecución de las instrucciones en un programa. \n",
    "\n",
    "## For (iterador)\n",
    "\n",
    "Se utiliza para repetir un bloque de código varias veces. La delcaración de un for itera sobre los valores de una secuencia en orden, ejecutando el bloque de código. "
   ]
  },
  {
   "cell_type": "raw",
   "metadata": {},
   "source": [
    "for variable in elemento iterable (lista, cadena, range, etc.):\n",
    "    cuerpo del bucle (operaciones)"
   ]
  },
  {
   "cell_type": "code",
   "execution_count": null,
   "metadata": {},
   "outputs": [],
   "source": [
    "range(10)"
   ]
  },
  {
   "cell_type": "code",
   "execution_count": null,
   "metadata": {},
   "outputs": [],
   "source": [
    "# Imprime los primeros 10 números a partir del 0.\n",
    "for loquesea in range(10):\n",
    "    print(loquesea)"
   ]
  },
  {
   "cell_type": "code",
   "execution_count": null,
   "metadata": {},
   "outputs": [],
   "source": [
    "suma = 0\n",
    "\n",
    "for bla in range(10):\n",
    "    print(bla, suma)\n",
    "    suma = suma + bla\n",
    "    print(bla, suma)\n",
    "    print('///'*20)\n",
    "\n",
    "print('suma total de los primero n numeros: \\n',suma)\n",
    "    \n",
    "# Lo cual es lo mismo a (n*(n+1))/2\n",
    "(9*10)/2"
   ]
  },
  {
   "cell_type": "markdown",
   "metadata": {},
   "source": [
    "# Ejercicio\n",
    "+ Crear lista vacía\n",
    "+ Rellenar la lista con los primeros 9 elementos de *lista_nueva*."
   ]
  },
  {
   "cell_type": "code",
   "execution_count": null,
   "metadata": {},
   "outputs": [],
   "source": [
    "lista_nueva"
   ]
  },
  {
   "cell_type": "code",
   "execution_count": null,
   "metadata": {},
   "outputs": [],
   "source": [
    "vacia = []"
   ]
  },
  {
   "cell_type": "code",
   "execution_count": null,
   "metadata": {},
   "outputs": [],
   "source": []
  },
  {
   "cell_type": "code",
   "execution_count": null,
   "metadata": {},
   "outputs": [],
   "source": []
  },
  {
   "cell_type": "code",
   "execution_count": null,
   "metadata": {},
   "outputs": [],
   "source": []
  },
  {
   "cell_type": "code",
   "execution_count": null,
   "metadata": {},
   "outputs": [],
   "source": []
  },
  {
   "cell_type": "markdown",
   "metadata": {},
   "source": [
    "---"
   ]
  },
  {
   "cell_type": "code",
   "execution_count": null,
   "metadata": {
    "jupyter": {
     "source_hidden": true
    }
   },
   "outputs": [],
   "source": [
    "lista_nueva"
   ]
  },
  {
   "cell_type": "code",
   "execution_count": null,
   "metadata": {
    "jupyter": {
     "source_hidden": true
    }
   },
   "outputs": [],
   "source": [
    "# Manera 1\n",
    "lista_vacia = []\n",
    "for i in range(10):\n",
    "    lista_vacia.append(lista_nueva[i])\n",
    "    print(i, lista_nueva[i], lista_vacia)\n",
    "    \n",
    "# lista_vacia"
   ]
  },
  {
   "cell_type": "code",
   "execution_count": null,
   "metadata": {
    "jupyter": {
     "source_hidden": true
    }
   },
   "outputs": [],
   "source": [
    "# Manera 2\n",
    "lista_vacia = []\n",
    "for i, val in enumerate(lista_nueva):\n",
    "     if i <= 10:\n",
    "        lista_vacia.append(val)\n",
    "        print(i,val)\n",
    "    \n",
    "# lista_vacia"
   ]
  },
  {
   "cell_type": "markdown",
   "metadata": {},
   "source": [
    "Hay diversas herramientas para control de flujo:\n",
    "+ [if](https://docs.python.org/3/tutorial/controlflow.html) (si cumple, ejecute)\n",
    "+ [for](https://docs.python.org/3/tutorial/controlflow.html) (itere)\n",
    "+ [while](https://wiki.python.org/moin/WhileLoop) (si se cumple, itere)\n",
    "+ [try](http://docs.python.org.ar/tutorial/3/errors.html) (si funciona, itere) "
   ]
  },
  {
   "cell_type": "markdown",
   "metadata": {},
   "source": [
    "### Condicionales"
   ]
  },
  {
   "cell_type": "code",
   "execution_count": null,
   "metadata": {},
   "outputs": [],
   "source": [
    "x = int(\n",
    "    input(\"Ingresa un entero, por favor: \")\n",
    "    )\n",
    "\n",
    "if x < 0:\n",
    "    print('Negativo ')\n",
    "elif x == 0:\n",
    "      print('Cero')\n",
    "elif x == 1:\n",
    "     print('Uno')\n",
    "else:\n",
    "     print('Positivo y mayor que 1')"
   ]
  },
  {
   "cell_type": "markdown",
   "metadata": {},
   "source": [
    "## Iteraciones y condicionales"
   ]
  },
  {
   "cell_type": "code",
   "execution_count": null,
   "metadata": {},
   "outputs": [],
   "source": [
    "primo = True\n",
    "for n in range(1, 10):   # Para n en un vector de 2 a 10 [2,3,4,5,6,7,8,9]\n",
    "    for x in range(2, n):   # Para x en un vector de 2 a n [2,...,n-2,n-1]\n",
    "        primo = False   # Condición para cada iteración\n",
    "        if n % x == 0:   # Si el módulo de n en x es 0, entonces\n",
    "            print(n, 'es igual a', x, '*', n/x)   # Imprime esto\n",
    "            break    # Y deja de iterar\n",
    "        else:   # Si no se cumple lo de arriba\n",
    "            primo = True   # Volvemos a definir\n",
    "    if primo:   # Al final del loop pregunta si es primo\n",
    "        print(n, 'es un numero primo')   # Imprime el PRIMOOOOOOO!"
   ]
  },
  {
   "cell_type": "markdown",
   "metadata": {},
   "source": [
    "Procedemos a generar una pequeña aplicación que te calcule la propina de manera sencilla.\n",
    "\n",
    "# Ejercicio\n",
    "Comenta que hace cada linea del siguiente código:"
   ]
  },
  {
   "cell_type": "code",
   "execution_count": null,
   "metadata": {},
   "outputs": [],
   "source": [
    "# COMENTA EL CODIGO!\n",
    "cuenta =  float(\n",
    "    input('¿Cuánto es de cuenta?')\n",
    ") \n",
    "servicio = int(\n",
    "    input('¿Cómo estuvo el servicio? \\nElige un número 2 = bueno, 1 = regular, 0 = malo \\n')\n",
    ")\n",
    "perc_prop = 0 \n",
    "\n",
    "\n",
    "if servicio == 0:\n",
    "    perc_prop = 0.1\n",
    "elif servicio == 1:\n",
    "    perc_prop = 0.15\n",
    "elif servicio == 2:\n",
    "    perc_prop = 0.2\n",
    "else:\n",
    "    print('revisa que la opcion sea la correcta')\n",
    "    \n",
    "    \n",
    "propina = cuenta * perc_prop\n",
    "print('Esto es de propina %1.2f' % propina)\n",
    "cuenta =  cuenta + propina\n",
    "print('Esto pagaras: %1.2f' % cuenta)"
   ]
  },
  {
   "cell_type": "markdown",
   "metadata": {},
   "source": [
    "----"
   ]
  },
  {
   "cell_type": "code",
   "execution_count": null,
   "metadata": {
    "jupyter": {
     "source_hidden": true
    }
   },
   "outputs": [],
   "source": [
    "# Con esas sencillas operaciones podemos generar un calculador de propina\n",
    "cuenta =  float(input('Cuanto es de cuenta?'))    # Pregunta al usuario cuanto es de cuenta\n",
    "servicio = input('Como estuvo el servicio? \\nElige un numero 2 = bueno, 1 = regular, 0 = malo \\n') # Espera un numero para elegir la opcion\n",
    "perc_prop = 0   # Se define el porcentaje de propina\n",
    "\n",
    "# Árbol de decisión, estructura if,elif,else\n",
    "if servicio == 0:\n",
    "    perc_prop = 0.1\n",
    "elif servicio == 1:\n",
    "    perc_prop = 0.15\n",
    "elif servicio == 2:\n",
    "    perc_prop = 0.2\n",
    "else:\n",
    "    print('revisa que la opcion sea la correcta')\n",
    "    \n",
    "# Guarda ls transformación de la variable en otra nueva\n",
    "propina = cuenta * perc_prop   # Cálculo propina\n",
    "print('Esto es de propina %1.2f' % propina)   # Imprime propina con formato\n",
    "cuenta =  cuenta + propina   # Cálculo a la cuenta total\n",
    "print('Esto pagarás: %1.2f' % cuenta)   # Imprime cuenta con formato"
   ]
  },
  {
   "cell_type": "markdown",
   "metadata": {},
   "source": [
    "## Funciones\n",
    "\n",
    "La palabra reservada __def__ se usa para definir funciones. Debe seguirle el nombre de la función en minúsculas y la lista de parámetros formales entre paréntesis. Las sentencias que forman el cuerpo de la función empiezan en la línea siguiente, y deben estar con sangría.\n",
    "\n",
    "La primer sentencia del cuerpo de la función puede ser opcionalmente una cadena de texto literal; esta es la cadena de texto de documentación de la función, o *docstring*. (Puedes encontrar más acerca de *docstrings* en la sección Cadenas de texto de documentación.)\n",
    "\n",
    "Si se desarrolla algo que va a usarse constantemente, en lugar de rescribir el código, es preferible generar una función que lo replique para ahorrar espacio en el documento."
   ]
  },
  {
   "cell_type": "code",
   "execution_count": null,
   "metadata": {},
   "outputs": [],
   "source": [
    "def cuadrado(x):\n",
    "    \"\"\"Cuadrado eleva al cuadrado un número\"\"\"\n",
    "    y = x ** 2\n",
    "    \n",
    "    return y"
   ]
  },
  {
   "cell_type": "code",
   "execution_count": null,
   "metadata": {},
   "outputs": [],
   "source": [
    "cuadrado(2)"
   ]
  },
  {
   "cell_type": "markdown",
   "metadata": {},
   "source": [
    "¿Recuerdan la calculadora de propina? Vamos a generar la función de la siguiente manera:"
   ]
  },
  {
   "cell_type": "code",
   "execution_count": null,
   "metadata": {},
   "outputs": [],
   "source": [
    "def calcula_propina(extra = 0):   # Argumentos\n",
    "    \"\"\"Función que calcula la propina. Pregunta cuanto fue el valor de la cuenta y que tal\n",
    "    estuvo el consumo. El parámetro extra: int indica el dinero extra que le quisieras dar\n",
    "    al mesero que se suma en la cuenta final.\n",
    "    \"\"\"\n",
    "    cuenta =  float(input('¿Cuánto es de cuenta?:'))  \n",
    "    servicio = int(input('¿Cómo estuvo el servicio? \\nElige un número 2 = bueno, 1 = regular, 0 = malo \\n'))\n",
    "    perc_prop = 'nada'\n",
    "    if servicio == 0:\n",
    "        perc_prop = 0.1\n",
    "    elif servicio == 1:\n",
    "        perc_prop = 0.15\n",
    "    elif servicio == 2:\n",
    "        perc_prop = 0.2\n",
    "    else:\n",
    "        print('Revisa que la opción sea la correcta')\n",
    "\n",
    "    propina =  round(cuenta * perc_prop,3)\n",
    "    print('Esto es de propina',propina) \n",
    "    cuenta =  cuenta + propina + extra\n",
    "    print('Esto pagaras:',cuenta)"
   ]
  },
  {
   "cell_type": "code",
   "execution_count": null,
   "metadata": {},
   "outputs": [],
   "source": [
    "calcula_propina()"
   ]
  },
  {
   "cell_type": "markdown",
   "metadata": {},
   "source": [
    "## __Orientado a objetos__"
   ]
  },
  {
   "cell_type": "code",
   "execution_count": null,
   "metadata": {},
   "outputs": [],
   "source": [
    "class Restaurante():\n",
    "    \n",
    "    # primera funcion\n",
    "    def calcula_propina(extra=0):\n",
    "        cuenta =  float(input('¿Cuánto es de cuenta?:'))  \n",
    "        servicio = input('¿Cómo estuvo el servicio? \\nElige un número 2 = bueno, 1 = regular, 0 = malo \\n')\n",
    "        perc_prop = 'nada'\n",
    "        if int(servicio) == 0:\n",
    "            perc_prop = 0.1\n",
    "        elif int(servicio) == 1:\n",
    "            perc_prop = 0.15\n",
    "        elif int(servicio) == 2:\n",
    "            perc_prop = 0.2\n",
    "        else:\n",
    "            print('Revisa que la opción sea la correcta')\n",
    "\n",
    "        propina =  round(cuenta * perc_prop,3)\n",
    "        print('Esto es de propina',propina) \n",
    "        cuenta =  cuenta + propina + extra\n",
    "        return print('Esto pagaras:',cuenta)\n",
    "    \n",
    "    # segunda funcion\n",
    "    def potencia(x,n=2):\n",
    "        return x**n\n"
   ]
  },
  {
   "cell_type": "code",
   "execution_count": null,
   "metadata": {},
   "outputs": [],
   "source": [
    "Restaurante.potencia(2,3)"
   ]
  },
  {
   "cell_type": "code",
   "execution_count": null,
   "metadata": {},
   "outputs": [],
   "source": [
    "Restaurante.calcula_propina()"
   ]
  },
  {
   "cell_type": "markdown",
   "metadata": {},
   "source": [
    "## Expresiones Lambda\n",
    "\n",
    "Pequeñas funciones anónimas que pueden ser creadas con la palabra reservada *lambda*. \n",
    "\n",
    "Pueden ser usadas en cualquier lugar donde sea requerido un objeto de tipo función.\n",
    "\n",
    "Están sintácticamente restringidas a una sola expresión.\n",
    "\n",
    "Al igual que las funciones anidadas, las funciones lambda pueden hacer referencia a variables desde el ámbito que la contiene:"
   ]
  },
  {
   "cell_type": "code",
   "execution_count": null,
   "metadata": {},
   "outputs": [],
   "source": [
    "a = lambda x: x**2\n",
    "a(3)"
   ]
  },
  {
   "cell_type": "code",
   "execution_count": null,
   "metadata": {},
   "outputs": [],
   "source": [
    "def hacer_incrementador(n):\n",
    "    return lambda x: x + n if x >10 else x"
   ]
  },
  {
   "cell_type": "code",
   "execution_count": null,
   "metadata": {},
   "outputs": [],
   "source": [
    "f = hacer_incrementador(100)"
   ]
  },
  {
   "cell_type": "code",
   "execution_count": null,
   "metadata": {},
   "outputs": [],
   "source": [
    "f(12)"
   ]
  },
  {
   "cell_type": "code",
   "execution_count": null,
   "metadata": {},
   "outputs": [],
   "source": [
    "f(20)"
   ]
  },
  {
   "cell_type": "code",
   "execution_count": null,
   "metadata": {},
   "outputs": [],
   "source": [
    "f(2)"
   ]
  },
  {
   "cell_type": "markdown",
   "metadata": {},
   "source": [
    "# MAP\n",
    "Devuelve las iteraciones generadas como un generador *yield*, al aplicar la función a un cierto conjunto de valores.\n",
    "\n",
    "__map(función, iterable)__\n",
    "\n",
    "*Recuerda que un iterable puede ser un conjunto de valores*\n",
    "\n",
    "Es una manera más eficiente de aplicar una función u operaciones sobre un conjunto de datos que un for.\n",
    "\n",
    "Más información [aqui](https://www.geeksforgeeks.org/python-map-function/)."
   ]
  },
  {
   "cell_type": "markdown",
   "metadata": {},
   "source": [
    "<img src=\"Imagenes/map.png\">"
   ]
  },
  {
   "cell_type": "code",
   "execution_count": null,
   "metadata": {},
   "outputs": [],
   "source": [
    "a(3)"
   ]
  },
  {
   "cell_type": "code",
   "execution_count": null,
   "metadata": {},
   "outputs": [],
   "source": [
    "map(a,range(10))"
   ]
  },
  {
   "cell_type": "code",
   "execution_count": null,
   "metadata": {},
   "outputs": [],
   "source": [
    "list(map(a,range(10)))"
   ]
  },
  {
   "cell_type": "code",
   "execution_count": null,
   "metadata": {},
   "outputs": [],
   "source": [
    "map(lambda x: x.upper(), \"Ya mero acaba el curso\")"
   ]
  },
  {
   "cell_type": "code",
   "execution_count": null,
   "metadata": {},
   "outputs": [],
   "source": [
    "list(map(lambda x: x.upper(), \"Ya mero acaba el curso\"))"
   ]
  },
  {
   "cell_type": "code",
   "execution_count": null,
   "metadata": {},
   "outputs": [],
   "source": [
    "\"\".join(list(map(lambda x: x.upper(), \"Ya mero acaba el curso\")))"
   ]
  },
  {
   "cell_type": "markdown",
   "metadata": {},
   "source": [
    "# Listas de Comprensión\n",
    "\n",
    "Se utilizan para generar una lista o diccionarios que se construye a partir de iteraciones.\n",
    "\n",
    "Mayor info [aqui](https://docs.python.org/3/tutorial/datastructures.html)."
   ]
  },
  {
   "cell_type": "code",
   "execution_count": null,
   "metadata": {},
   "outputs": [],
   "source": [
    "[x**2 for x in range(10) if x > 3] "
   ]
  },
  {
   "cell_type": "code",
   "execution_count": null,
   "metadata": {},
   "outputs": [],
   "source": [
    "datos = range(1000000)"
   ]
  },
  {
   "cell_type": "code",
   "execution_count": null,
   "metadata": {},
   "outputs": [],
   "source": [
    "%%time\n",
    "\n",
    "datos_filtrados = []\n",
    "for val in datos:\n",
    "    if val % 2 == 0:\n",
    "        datos_filtrados.append(val)\n",
    "        \n",
    "# datos_filtrados"
   ]
  },
  {
   "cell_type": "code",
   "execution_count": null,
   "metadata": {},
   "outputs": [],
   "source": [
    "%%time\n",
    "\n",
    "datos_filtrados = [x for x in datos if x % 2 == 0]"
   ]
  },
  {
   "cell_type": "code",
   "execution_count": null,
   "metadata": {},
   "outputs": [],
   "source": []
  }
 ],
 "metadata": {
  "kernelspec": {
   "display_name": "Python 3",
   "language": "python",
   "name": "python3"
  },
  "language_info": {
   "codemirror_mode": {
    "name": "ipython",
    "version": 3
   },
   "file_extension": ".py",
   "mimetype": "text/x-python",
   "name": "python",
   "nbconvert_exporter": "python",
   "pygments_lexer": "ipython3",
   "version": "3.7.4"
  },
  "toc": {
   "base_numbering": 1,
   "nav_menu": {},
   "number_sections": true,
   "sideBar": true,
   "skip_h1_title": false,
   "title_cell": "Table of Contents",
   "title_sidebar": "Contents",
   "toc_cell": false,
   "toc_position": {},
   "toc_section_display": true,
   "toc_window_display": false
  },
  "varInspector": {
   "cols": {
    "lenName": 16,
    "lenType": 16,
    "lenVar": 40
   },
   "kernels_config": {
    "python": {
     "delete_cmd_postfix": "",
     "delete_cmd_prefix": "del ",
     "library": "var_list.py",
     "varRefreshCmd": "print(var_dic_list())"
    },
    "r": {
     "delete_cmd_postfix": ") ",
     "delete_cmd_prefix": "rm(",
     "library": "var_list.r",
     "varRefreshCmd": "cat(var_dic_list()) "
    }
   },
   "types_to_exclude": [
    "module",
    "function",
    "builtin_function_or_method",
    "instance",
    "_Feature"
   ],
   "window_display": false
  }
 },
 "nbformat": 4,
 "nbformat_minor": 4
}
