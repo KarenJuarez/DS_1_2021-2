{
 "cells": [
  {
   "cell_type": "markdown",
   "metadata": {},
   "source": [
    "# Tarea 2. Más sobre Python 🐍 "
   ]
  },
  {
   "cell_type": "markdown",
   "metadata": {},
   "source": [
    "1) Describe que es lo que hace la siguiente instrucción:  "
   ]
  },
  {
   "cell_type": "raw",
   "metadata": {},
   "source": [
    "l = ['data'+str(s)+'.txt' for s in range(0,5)] "
   ]
  },
  {
   "cell_type": "markdown",
   "metadata": {},
   "source": [
    "#### Respuesta ####\n",
    "Es una **lista de compresión**, le asigna  a *s* los valores entre el 0 y el 4, convierte cada valor de *s* en un string y los une a una cadena de texto, imprime: \n",
    "\n",
    "**['data0.txt', 'data1.txt', 'data4.txt', 'data3.txt', 'data4.txt']**"
   ]
  },
  {
   "cell_type": "markdown",
   "metadata": {},
   "source": [
    "**HINT**: Cuando no sepamos que hace una línea de código, una buena práctica es ejecutarlo por partes y ver que ocurre.\n",
    "Para darte una mejor idea de qué es lo que hace el código prueba ejecutando lo siguiente:"
   ]
  },
  {
   "cell_type": "raw",
   "metadata": {},
   "source": [
    "for s in range(0,5):\n",
    "    print(s)"
   ]
  },
  {
   "cell_type": "markdown",
   "metadata": {},
   "source": [
    "Luego ejecuta:"
   ]
  },
  {
   "cell_type": "raw",
   "metadata": {},
   "source": [
    "'data' + str(3) + '.csv'"
   ]
  },
  {
   "cell_type": "markdown",
   "metadata": {},
   "source": [
    "¿Ya tienes una idea de que es lo que hace el código? Hora de explicarlo:"
   ]
  },
  {
   "cell_type": "markdown",
   "metadata": {},
   "source": []
  },
  {
   "cell_type": "markdown",
   "metadata": {},
   "source": []
  },
  {
   "cell_type": "markdown",
   "metadata": {},
   "source": []
  },
  {
   "cell_type": "markdown",
   "metadata": {},
   "source": [
    "2) Sean las listas:"
   ]
  },
  {
   "cell_type": "code",
   "execution_count": 27,
   "metadata": {},
   "outputs": [],
   "source": [
    "lista1 = [0, 1, 3, 4, 5]\n",
    "lista2 = [1, 7, 0,5]"
   ]
  },
  {
   "cell_type": "markdown",
   "metadata": {},
   "source": [
    "¿Qué es lo que hace el siguiente código?"
   ]
  },
  {
   "cell_type": "raw",
   "metadata": {},
   "source": [
    "sorted([i for i in lista1 if i in lista2])"
   ]
  },
  {
   "cell_type": "markdown",
   "metadata": {},
   "source": [
    "Explicalo:"
   ]
  },
  {
   "cell_type": "markdown",
   "metadata": {},
   "source": [
    "Recorre los elementos de la lista1"
   ]
  },
  {
   "cell_type": "raw",
   "metadata": {},
   "source": [
    "Si estos elementos de la lista1 están en la lista2\n"
   ]
  },
  {
   "cell_type": "raw",
   "metadata": {},
   "source": [
    "Entonces crea una lista de comprensión con los elementos que estén en lista1 y en lista2:\n",
    "[1,0,5]\n",
    "Y luego la ordena\n",
    "[0,1,5]"
   ]
  },
  {
   "cell_type": "code",
   "execution_count": 9,
   "metadata": {},
   "outputs": [
    {
     "data": {
      "text/plain": [
       "[0, 1, 5]"
      ]
     },
     "execution_count": 9,
     "metadata": {},
     "output_type": "execute_result"
    }
   ],
   "source": [
    "sorted([i for i in lista1 if i in lista2])"
   ]
  },
  {
   "cell_type": "markdown",
   "metadata": {},
   "source": [
    "3) Dada la lista1 del ejercicio anterior, escribe una línea de código que randomize los elementos de dicha lista.\n",
    "\n",
    "**HINT**: Busca en la documentación de la librería Random de Python el método shuffle."
   ]
  },
  {
   "cell_type": "code",
   "execution_count": 28,
   "metadata": {},
   "outputs": [
    {
     "data": {
      "text/plain": [
       "[0, 1, 3, 4, 5]"
      ]
     },
     "execution_count": 28,
     "metadata": {},
     "output_type": "execute_result"
    }
   ],
   "source": [
    "lista1"
   ]
  },
  {
   "cell_type": "code",
   "execution_count": 29,
   "metadata": {},
   "outputs": [],
   "source": [
    "import random\n"
   ]
  },
  {
   "cell_type": "code",
   "execution_count": 31,
   "metadata": {},
   "outputs": [
    {
     "name": "stdout",
     "output_type": "stream",
     "text": [
      "[5, 4, 1, 3, 0]\n"
     ]
    }
   ],
   "source": [
    "random.shuffle(lista1)\n",
    "print(lista1)"
   ]
  },
  {
   "cell_type": "markdown",
   "metadata": {},
   "source": [
    "4) Lee [esto](https://www.interactivechaos.com/manual/tutorial-de-python/la-libreria-random) sobre la librería _Random_ de Python y el método **shuffle**.\n",
    "Crea una lista de 5 elementos, los que tú quieras y escribe una línea de código que randomize los elementos de dicha lista."
   ]
  },
  {
   "cell_type": "code",
   "execution_count": 35,
   "metadata": {},
   "outputs": [],
   "source": [
    "import random"
   ]
  },
  {
   "cell_type": "code",
   "execution_count": 36,
   "metadata": {},
   "outputs": [],
   "source": [
    "MiLista=['Luis','Eric','Diego','Octavio','Sergio']"
   ]
  },
  {
   "cell_type": "code",
   "execution_count": 45,
   "metadata": {},
   "outputs": [
    {
     "name": "stdout",
     "output_type": "stream",
     "text": [
      "['Eric', 'Luis', 'Sergio', 'Octavio', 'Diego']\n"
     ]
    }
   ],
   "source": [
    "random.shuffle(MiLista)\n",
    "print(MiLista)"
   ]
  },
  {
   "cell_type": "markdown",
   "metadata": {},
   "source": [
    "5) ¿Qué hace la función **map()** de Python?"
   ]
  },
  {
   "cell_type": "markdown",
   "metadata": {},
   "source": [
    "#### **Respuesta** ####\n",
    "\n",
    "Esta función necesita dos argumentos, una función y un iterable como una lista. \n",
    "Lo que hace es aplicar esta función a cada uno de los elementos (item) de nuestro iterable"
   ]
  },
  {
   "cell_type": "markdown",
   "metadata": {},
   "source": [
    "6)\n",
    "* Usa la función map para generar la lista del cuadrado de todos los números enteros desde cero hasta un millón. Hazlo tanto con una función anónima lambda como con una función definida previamente con el nombre de *square*.\n",
    "\n",
    "    P.D. Para no imprimir un millón de números en tu notebook guarda tu objeto map(función, lista) en una variable, luego transfórmalo a lista y también guárdalo (NO LO DESPLIEGUES EN LA PANTALLA (te lo aconsejo por tu bien 😩)). Una vez hecho esto, consulta únicamente los primeros 10 elementos de tu lista (algo así como):"
   ]
  },
  {
   "cell_type": "raw",
   "metadata": {},
   "source": [
    "nombre_de_lista[0:10]"
   ]
  },
  {
   "cell_type": "code",
   "execution_count": 113,
   "metadata": {},
   "outputs": [],
   "source": [
    "lista=[i for i in range(0,1000001)]"
   ]
  },
  {
   "cell_type": "code",
   "execution_count": 117,
   "metadata": {},
   "outputs": [],
   "source": [
    "#Usando función anónima lambda\n",
    "square_lambda=(lambda x: x**2)"
   ]
  },
  {
   "cell_type": "code",
   "execution_count": 118,
   "metadata": {},
   "outputs": [
    {
     "data": {
      "text/plain": [
       "[0, 1, 4, 9, 16, 25, 36, 49, 64, 81]"
      ]
     },
     "execution_count": 118,
     "metadata": {},
     "output_type": "execute_result"
    }
   ],
   "source": [
    "squares1=list(map(square_lambda,lista))\n",
    "print(squares1[0:10])"
   ]
  },
  {
   "cell_type": "code",
   "execution_count": 120,
   "metadata": {},
   "outputs": [],
   "source": [
    "#Usando una función definida como square\n",
    "\n",
    "def square(x):\n",
    "    return x**2        \n",
    "    "
   ]
  },
  {
   "cell_type": "code",
   "execution_count": 125,
   "metadata": {},
   "outputs": [
    {
     "data": {
      "text/plain": [
       "[0, 1, 4, 9, 16, 25, 36, 49, 64, 81]"
      ]
     },
     "execution_count": 125,
     "metadata": {},
     "output_type": "execute_result"
    }
   ],
   "source": [
    "squares2=list(map(square,lista))\n",
    "print(squares2[0:10])"
   ]
  },
  {
   "cell_type": "markdown",
   "metadata": {},
   "source": [
    "* Ahora haz exactamente lo mismo pero con listas de comprensión."
   ]
  },
  {
   "cell_type": "code",
   "execution_count": 127,
   "metadata": {},
   "outputs": [
    {
     "name": "stdout",
     "output_type": "stream",
     "text": [
      "[0, 1, 4, 9, 16, 25, 36, 49, 64, 81]\n"
     ]
    }
   ],
   "source": [
    "squares3=[i**2 for i in range(0,1000001) ]\n",
    "print(squares3[0:10])"
   ]
  },
  {
   "cell_type": "markdown",
   "metadata": {},
   "source": [
    "* Agrega a tu lista de comprensión una condicional para que sólo seleccione los cuadrados que sean pares (divisibles entre 2). Si no sabes cómo hacerlo revisa el final del Notebook 2 o, mejor aún, pregúntale a Google."
   ]
  },
  {
   "cell_type": "code",
   "execution_count": 130,
   "metadata": {},
   "outputs": [
    {
     "data": {
      "text/plain": [
       "[0, 4, 16, 36, 64, 100, 144, 196, 256, 324]"
      ]
     },
     "execution_count": 130,
     "metadata": {},
     "output_type": "execute_result"
    }
   ],
   "source": [
    "squares3=[i**2 for i in range(0,1000001) if (i**2) % 2 == 0]\n",
    "squares3[0:10]"
   ]
  },
  {
   "cell_type": "markdown",
   "metadata": {},
   "source": [
    "* Usa el comando mágico %%time para medir el tiempo de ejecución de cuando usas la función map para elevar al cuadrado el primer millón de números, haz lo mismo para tu lista de comprensión que hace exactamente lo mismo y, por último, también mide el tiempo de ejecución para tu lista de comprensión que eleva al cuadrado y termina quedándose sólo con los cuadrados pares. ¿Cuál de ellos toma menos tiempo en ejecutarse? ¿Es mucha la diferencia?"
   ]
  },
  {
   "cell_type": "code",
   "execution_count": 132,
   "metadata": {},
   "outputs": [
    {
     "name": "stdout",
     "output_type": "stream",
     "text": [
      "Wall time: 492 ms\n"
     ]
    }
   ],
   "source": [
    "%%time\n",
    "squares1=list(map(square_lambda,lista))\n"
   ]
  },
  {
   "cell_type": "code",
   "execution_count": 134,
   "metadata": {},
   "outputs": [
    {
     "name": "stdout",
     "output_type": "stream",
     "text": [
      "Wall time: 481 ms\n"
     ]
    }
   ],
   "source": [
    "%%time\n",
    "squares3=[i**2 for i in range(0,1000001) ]\n"
   ]
  },
  {
   "cell_type": "code",
   "execution_count": 135,
   "metadata": {},
   "outputs": [
    {
     "name": "stdout",
     "output_type": "stream",
     "text": [
      "Wall time: 758 ms\n"
     ]
    }
   ],
   "source": [
    "%%time\n",
    "squares3=[i**2 for i in range(0,1000001) if (i**2) % 2 == 0]\n"
   ]
  },
  {
   "cell_type": "raw",
   "metadata": {},
   "source": [
    "La que tarda menos es que usa la lista de comprensión, entre la que usa la función lambda y esta no hay tanta diferencia,\n",
    "pero con la última que se queda con los números pares, sí hay una diferencia más grande, casi 300 ms más"
   ]
  },
  {
   "cell_type": "markdown",
   "metadata": {},
   "source": [
    "**EJERCICIO OPCIONAL**. Con n = 5 escribe un código que despliegue lo siguiente en la pantalla:"
   ]
  },
  {
   "cell_type": "raw",
   "metadata": {},
   "source": [
    "X___X\n",
    "_X_X_\n",
    "__X__\n",
    "_X_X_\n",
    "X___X"
   ]
  },
  {
   "cell_type": "markdown",
   "metadata": {},
   "source": [
    "Tu código también debe funcionar para n = 6 y, en ese caso, debe desplegar lo siguiente en la pantalla:"
   ]
  },
  {
   "cell_type": "raw",
   "metadata": {},
   "source": [
    "X____X\n",
    "_X__X_\n",
    "__XX__\n",
    "__XX__\n",
    "_X__X_\n",
    "X____X"
   ]
  },
  {
   "cell_type": "markdown",
   "metadata": {},
   "source": [
    "**HINT**: La clave esta en jugar con _for_, _if_ y _else_."
   ]
  },
  {
   "cell_type": "code",
   "execution_count": 15,
   "metadata": {},
   "outputs": [
    {
     "name": "stdout",
     "output_type": "stream",
     "text": [
      "X___X\n",
      "_-\n",
      "_-\n",
      "_-\n",
      "X___X\n"
     ]
    }
   ],
   "source": [
    "for n in range(0,5):\n",
    "    if n==0 or n==4:\n",
    "        print(\"X___X\")\n",
    "    if n    \n",
    "    else:\n",
    "        print(\"\")"
   ]
  },
  {
   "cell_type": "code",
   "execution_count": null,
   "metadata": {},
   "outputs": [],
   "source": []
  }
 ],
 "metadata": {
  "kernelspec": {
   "display_name": "Python 3",
   "language": "python",
   "name": "python3"
  },
  "language_info": {
   "codemirror_mode": {
    "name": "ipython",
    "version": 3
   },
   "file_extension": ".py",
   "mimetype": "text/x-python",
   "name": "python",
   "nbconvert_exporter": "python",
   "pygments_lexer": "ipython3",
   "version": "3.7.4"
  }
 },
 "nbformat": 4,
 "nbformat_minor": 4
}
