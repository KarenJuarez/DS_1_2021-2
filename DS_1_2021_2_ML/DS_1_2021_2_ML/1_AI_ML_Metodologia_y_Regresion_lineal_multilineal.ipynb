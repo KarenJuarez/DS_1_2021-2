{
 "cells": [
  {
   "cell_type": "code",
   "execution_count": 1,
   "metadata": {},
   "outputs": [],
   "source": [
    "import pandas as pd #lectura de datos\n",
    "import numpy as np # biblioteca con operaciones matemáticas y algebra lineal\n",
    "\n",
    "#viz y plots bonitos\n",
    "import matplotlib.pyplot as plt\n",
    "import seaborn as sb\n",
    "plt.style.use('ggplot')\n",
    "font = {'family' : 'sans',\n",
    "        'weight' : 'bold',\n",
    "        'size'   : 20}\n",
    "plt.rc('font', **font)\n",
    "plt.rcParams['xtick.labelsize'] = 16\n",
    "plt.rcParams['ytick.labelsize'] = 16\n",
    "plt.rcParams[u'figure.figsize'] = (16,12)\n",
    "params = {'legend.fontsize': 'x-large',\n",
    "         'axes.labelsize': 'x-large',\n",
    "         'axes.titlesize':'x-large'}\n",
    "plt.rcParams.update(params)\n",
    "\n",
    "# ML\n",
    "from sklearn.linear_model import LinearRegression # Modelo de regresión lineal\n",
    "from sklearn.metrics import mean_squared_error, r2_score # Métricas de evaluación de modelos estadísticos"
   ]
  },
  {
   "cell_type": "markdown",
   "metadata": {},
   "source": [
    "## Inteligencia Artificial\n",
    "\n",
    "La inteligencia artificial es el estudio de cómo generar agentes inteligentes, es decir, cómo programar una computadora para que se comporte o realice una tarea como la haría una persona inteligente.\n",
    "\n",
    "### Data Mining o minería de datos (BI)\n",
    "La minería de datos es la extracción de *insights* en los datos.\n",
    "\n",
    "<img src = \"Imagenes\\ML2.jpg\" width = 450>\n",
    "\n",
    "## *Machine learning*\n",
    "\n",
    "O aprendizaje automático, es el estudio de algoritmos que tienen la capacidad de aprender de datos sin ser específicamente programados para ello.\n",
    "\n",
    "<img src= \"Imagenes\\ML.png\" width = 450>"
   ]
  },
  {
   "cell_type": "markdown",
   "metadata": {},
   "source": [
    "# Tipos de Problemas en ML\n",
    "\n",
    "Problemas supervisados en *Machine Learning*:\n",
    "    \n",
    "* Clasificación (Binaria o Multiclase)\n",
    "* Regresión (variable continua)\n",
    "\n",
    "Existen diversos tipos de aprendizajes:\n",
    "\n",
    "+ Supervisado (sabemos el resultado o las etiquetas)\n",
    "   \n",
    "   Los algoritmos mas comunes son:\n",
    "    * Regresión Logística\n",
    "    * *K-neighbors nears*\n",
    "    * Máquina de Soporte Vectorial (SVM)\n",
    "    * *Random Forest*\n",
    "    * *Gradient Boosting Machine*\n",
    "    * Redes Neuronales\n",
    "    * *Deep Learning*\n",
    "    \n",
    "    \n",
    "+ No Supervisado (desconocemos el resultado o las etiquetas)\n",
    "    * *Clustering: K-Means*\n",
    "    * Clustering:Clustering Jerarquico\n",
    "\n",
    "<img src = \"Imagenes\\ML3.jpg\">\n",
    "\n",
    "+ Aprendizaje por Refuerzo\n",
    "    * *Q-Learning*\n",
    "    * *Temporal Difference (TD)*"
   ]
  },
  {
   "cell_type": "markdown",
   "metadata": {},
   "source": [
    "-----------------------"
   ]
  },
  {
   "cell_type": "markdown",
   "metadata": {},
   "source": [
    "# Metodología de un proyecto de *Data Science* de Inicio a Final\n",
    "\n",
    "1. Observación a gran escala \n",
    "    + Analizar el problema de negocio\n",
    "    + Preguntarse:\n",
    "        + ¿Cúal es el objetivo de negocio?\n",
    "        + ¿Qué espera la compañía obtener al generar un modelo predictivo?\n",
    "    \n",
    "2. Recolectar los datos \n",
    "    + SQL\n",
    "    + NOSQL\n",
    "       + MongoDB\n",
    "    + *BigData* \n",
    "       + *Hive*\n",
    "       + *Spark-SQL*\n",
    "    \n",
    "3. Analizar, visualizar y hacer minería de datos para obtener *insights* (clave para el negocio)\n",
    "    + AED (Análisis Exploratorio Descriptivo) *se recomienda que se haga en el conjunto de entrenamiento*\n",
    "        + Correlaciones\n",
    "        + Datos nulos\n",
    "        + Intuición de los datos (qué esperas obtener del modelo)\n",
    "4. Preparar los datos para el/los algoritmos de ML\n",
    "    + Tratamiento de variables:\n",
    "        + Categóricas\n",
    "        + Numéricas\n",
    "        + Fechas\n",
    "        + Limpieza de datos (despues del AED)\n",
    "        + Generación de variables (¡siempre y cuando tenga sentido agregarlas! Que tengan una razón de entrar al modelo (historia))\n",
    "            + Transformaciones de ellas\n",
    "            + Tratamiento de fechas\n",
    "            + Cocientes\n",
    "            + Métricas de negocio\n",
    "5. Seleccionar el modelo y entrenarlo\n",
    "    + Seleccionar una métrica de evaluación adecuada\n",
    "    \n",
    "6. Presentar la solución\n",
    "    + Problema de negocio\n",
    "    + Descrpición del modelo predictivo (con manzanitas)\n",
    "    + Presentación de resultados\n",
    "        + Gráfico de *lift*\n",
    "        + Métrica de evaluación (si es intuitiva)\n",
    "    + *Insights*\n",
    "        + Valor de Coeficientes\n",
    "        + Importancia de variables\n",
    "        + Gráfica de Efectos Marginales\n",
    "7. Automatizar el modelo (Producto de Datos): por medio del desarrollo, monitoreo y mantenimiento de tu sistema.\n",
    "    + Los mismos pasos anteriores pero automáticos. :v"
   ]
  },
  {
   "cell_type": "markdown",
   "metadata": {},
   "source": [
    "-----------"
   ]
  },
  {
   "cell_type": "markdown",
   "metadata": {},
   "source": [
    "# Regresión Lineal\n",
    "\n",
    "Un modelo lineal genera predicciones por medio de la suma ponderada de variables de entrada, sumándole un intercepto y un término de error (*bias term*).\n",
    "\n",
    "$f(X) = \\beta_0 + \\sum X_j\\beta_j + \\epsilon$\n",
    "\n",
    "Una regresión estudia la relación entre variables. \n",
    "\n",
    "Ejemplos clásicos son:\n",
    "\n",
    "+ Física (2a Ley de Newton simplificada):\n",
    "\n",
    "    $ F = ma $\n",
    "\n",
    "+ Economía (función de oferta):\n",
    "\n",
    "    $P = 4c - 200$ \n",
    "      \n",
    "Donde P es el precio y c la cantidad de objetos que se venden.\n",
    "      \n",
    "+ Matematicas (ecuación de la recta):  \n",
    "\n",
    "    $f(x) = ax +b$\n",
    "    \n",
    "_____"
   ]
  },
  {
   "cell_type": "markdown",
   "metadata": {},
   "source": [
    "La idea de la regresión es tener un conjunto de datos de entrada y explicar o describir los datos de salida como una combinación lineal de los datos de entrada.\n",
    "\n",
    "De manera que si nuestro vector de características lo transponemos:\n",
    "\n",
    "$X^T=(X_1,X_2,...,X_n)$\n",
    "\n",
    "Para modelar nuestra predicción $\\hat{y}$, sin intercepto:\n",
    "\n",
    "$\\hat{y} = X^T \\beta + \\epsilon$\n",
    "\n",
    "El modelo que se busca describir es de la forma:\n",
    "\n",
    "$f(X) = \\beta_0 + \\sum X_j\\beta_j + \\epsilon$"
   ]
  },
  {
   "cell_type": "markdown",
   "metadata": {},
   "source": [
    "El método para estimar las $\\beta$'s más comun es el ajuste por mínimos cuadrados.\n",
    "\n",
    "Este método utiliza los residuos, donde los residuos se definen como: $e_i = y_i - \\hat{y_i}$, siendo una especie de distancia que indica que tan alejado o cercano estás del punto a estimar.\n",
    "\n",
    "En este caso se busca minimizar el error cuadrático o también conocido como la suma de los residuos al cuadrado:\n",
    "\n",
    "$ RSS(\\beta) = \\sum [y_i - f(x_i)]^2$                                        (1)\n",
    "\n",
    "Lo que se hace es sustituir la expresión que de $f(x)$ que depende de las $\\beta 's$ para minimizar la ecuación y tratar de encontrar las mejores $\\beta 's$ para describir $\\hat{y}$.\n",
    "\n",
    "Minimizando la suma de los residuos cuadráticos y sustituyendo los coeficientes obtenemos:\n",
    " \n",
    " $\\hat{\\beta}_1 = \\frac{\\sum{(x_i-\\bar{x})(y_i-\\bar{y})}}{\\sum{(x_i-\\bar{x})^2}}$\n",
    " \n",
    " $\\hat{\\beta}_0 = \\bar{y} - \\hat{\\beta}_1\\bar{x}$\n",
    " \n",
    "Donde $\\bar{x}$ y $\\bar{y}$ son los valores promedios."
   ]
  },
  {
   "cell_type": "markdown",
   "metadata": {},
   "source": [
    "Aquí se estima el número de ventas por número de minutos de comerciales por TV\n",
    "\n",
    "<img src='Imagenes/rl_2.png'/>\n",
    "\n",
    "En este otro ejemplo, tenemos las calorías por grado de alcohol.\n",
    "\n",
    "Los residuos serían las líneas grises entre cada punto y la línea de tendencia.\n",
    "\n",
    "<img src='Imagenes/rl.png'/>"
   ]
  },
  {
   "cell_type": "markdown",
   "metadata": {},
   "source": [
    "# Práctica\n",
    "\n",
    "Primero que nada vamos a aprender a ajustar nuestros datos a modelos matemáticos, a interpretar los modelos y, al final del Notebook, veremos los conceptos de conjunto de entrenamiento y de prueba y cómo usar el modelo generado para predecir sobre nuevos datos para evaluar qué tan bueno es nuestro modelo.\n",
    "\n",
    "# ¿Se Consume Más Cerveza Cuando Hace Más Calor?"
   ]
  },
  {
   "cell_type": "code",
   "execution_count": 2,
   "metadata": {},
   "outputs": [],
   "source": [
    "# Lectura de Datos\n",
    "df = pd.read_csv(\"Datos/Consumo_cerveja.csv\").dropna()\n",
    "df.columns = ['Fecha', 'Temperatura_Media_(C)', 'Temperatura_Minima_(C)',\n",
    "       'Temperatura_Maxima_(C)', 'Precipitacion_(mm)', 'Fin_de_Semana',\n",
    "       'Consumo_de_cerveza_(litros)']"
   ]
  },
  {
   "cell_type": "code",
   "execution_count": 3,
   "metadata": {},
   "outputs": [
    {
     "data": {
      "text/html": [
       "<div>\n",
       "<style scoped>\n",
       "    .dataframe tbody tr th:only-of-type {\n",
       "        vertical-align: middle;\n",
       "    }\n",
       "\n",
       "    .dataframe tbody tr th {\n",
       "        vertical-align: top;\n",
       "    }\n",
       "\n",
       "    .dataframe thead th {\n",
       "        text-align: right;\n",
       "    }\n",
       "</style>\n",
       "<table border=\"1\" class=\"dataframe\">\n",
       "  <thead>\n",
       "    <tr style=\"text-align: right;\">\n",
       "      <th></th>\n",
       "      <th>Fecha</th>\n",
       "      <th>Temperatura_Media_(C)</th>\n",
       "      <th>Temperatura_Minima_(C)</th>\n",
       "      <th>Temperatura_Maxima_(C)</th>\n",
       "      <th>Precipitacion_(mm)</th>\n",
       "      <th>Fin_de_Semana</th>\n",
       "      <th>Consumo_de_cerveza_(litros)</th>\n",
       "    </tr>\n",
       "  </thead>\n",
       "  <tbody>\n",
       "    <tr>\n",
       "      <th>0</th>\n",
       "      <td>2015-01-01</td>\n",
       "      <td>27,3</td>\n",
       "      <td>23,9</td>\n",
       "      <td>32,5</td>\n",
       "      <td>0</td>\n",
       "      <td>0.0</td>\n",
       "      <td>25.461</td>\n",
       "    </tr>\n",
       "    <tr>\n",
       "      <th>1</th>\n",
       "      <td>2015-01-02</td>\n",
       "      <td>27,02</td>\n",
       "      <td>24,5</td>\n",
       "      <td>33,5</td>\n",
       "      <td>0</td>\n",
       "      <td>0.0</td>\n",
       "      <td>28.972</td>\n",
       "    </tr>\n",
       "    <tr>\n",
       "      <th>2</th>\n",
       "      <td>2015-01-03</td>\n",
       "      <td>24,82</td>\n",
       "      <td>22,4</td>\n",
       "      <td>29,9</td>\n",
       "      <td>0</td>\n",
       "      <td>1.0</td>\n",
       "      <td>30.814</td>\n",
       "    </tr>\n",
       "    <tr>\n",
       "      <th>3</th>\n",
       "      <td>2015-01-04</td>\n",
       "      <td>23,98</td>\n",
       "      <td>21,5</td>\n",
       "      <td>28,6</td>\n",
       "      <td>1,2</td>\n",
       "      <td>1.0</td>\n",
       "      <td>29.799</td>\n",
       "    </tr>\n",
       "    <tr>\n",
       "      <th>4</th>\n",
       "      <td>2015-01-05</td>\n",
       "      <td>23,82</td>\n",
       "      <td>21</td>\n",
       "      <td>28,3</td>\n",
       "      <td>0</td>\n",
       "      <td>0.0</td>\n",
       "      <td>28.900</td>\n",
       "    </tr>\n",
       "  </tbody>\n",
       "</table>\n",
       "</div>"
      ],
      "text/plain": [
       "        Fecha Temperatura_Media_(C) Temperatura_Minima_(C)  \\\n",
       "0  2015-01-01                  27,3                   23,9   \n",
       "1  2015-01-02                 27,02                   24,5   \n",
       "2  2015-01-03                 24,82                   22,4   \n",
       "3  2015-01-04                 23,98                   21,5   \n",
       "4  2015-01-05                 23,82                     21   \n",
       "\n",
       "  Temperatura_Maxima_(C) Precipitacion_(mm)  Fin_de_Semana  \\\n",
       "0                   32,5                  0            0.0   \n",
       "1                   33,5                  0            0.0   \n",
       "2                   29,9                  0            1.0   \n",
       "3                   28,6                1,2            1.0   \n",
       "4                   28,3                  0            0.0   \n",
       "\n",
       "   Consumo_de_cerveza_(litros)  \n",
       "0                       25.461  \n",
       "1                       28.972  \n",
       "2                       30.814  \n",
       "3                       29.799  \n",
       "4                       28.900  "
      ]
     },
     "execution_count": 3,
     "metadata": {},
     "output_type": "execute_result"
    }
   ],
   "source": [
    "df.head()"
   ]
  },
  {
   "cell_type": "code",
   "execution_count": 4,
   "metadata": {},
   "outputs": [
    {
     "name": "stdout",
     "output_type": "stream",
     "text": [
      "<class 'pandas.core.frame.DataFrame'>\n",
      "Int64Index: 365 entries, 0 to 364\n",
      "Data columns (total 7 columns):\n",
      " #   Column                       Non-Null Count  Dtype  \n",
      "---  ------                       --------------  -----  \n",
      " 0   Fecha                        365 non-null    object \n",
      " 1   Temperatura_Media_(C)        365 non-null    object \n",
      " 2   Temperatura_Minima_(C)       365 non-null    object \n",
      " 3   Temperatura_Maxima_(C)       365 non-null    object \n",
      " 4   Precipitacion_(mm)           365 non-null    object \n",
      " 5   Fin_de_Semana                365 non-null    float64\n",
      " 6   Consumo_de_cerveza_(litros)  365 non-null    float64\n",
      "dtypes: float64(2), object(5)\n",
      "memory usage: 22.8+ KB\n"
     ]
    }
   ],
   "source": [
    "df.info()"
   ]
  },
  {
   "cell_type": "markdown",
   "metadata": {},
   "source": [
    "Las variables de temperatura son string cuando no deberían serlo."
   ]
  },
  {
   "cell_type": "code",
   "execution_count": 5,
   "metadata": {},
   "outputs": [
    {
     "data": {
      "text/plain": [
       "array(['27,3', '27,02', '24,82', '23,98', '23,82', '23,78', '24', '24,9',\n",
       "       '28,2', '26,76'], dtype=object)"
      ]
     },
     "execution_count": 5,
     "metadata": {},
     "output_type": "execute_result"
    }
   ],
   "source": [
    "df['Temperatura_Media_(C)'].unique()[0:10]"
   ]
  },
  {
   "cell_type": "code",
   "execution_count": 6,
   "metadata": {},
   "outputs": [],
   "source": [
    "df[\"Temperatura_Media_(C)\"] = df[\"Temperatura_Media_(C)\"].str.replace(\",\",\".\").astype(float)\n",
    "df[\"Temperatura_Minima_(C)\"] = df[\"Temperatura_Minima_(C)\"].str.replace(\",\",\".\").astype(float)\n",
    "df[\"Temperatura_Maxima_(C)\"] = df[\"Temperatura_Maxima_(C)\"].str.replace(\",\",\".\").astype(float)\n",
    "df[\"Precipitacion_(mm)\"] = df[\"Precipitacion_(mm)\"].str.replace(\",\",\".\").astype(float)"
   ]
  },
  {
   "cell_type": "code",
   "execution_count": 7,
   "metadata": {},
   "outputs": [
    {
     "data": {
      "image/png": "[encoded data removed]",
      "text/plain": [
       "<Figure size 720x432 with 1 Axes>"
      ]
     },
     "metadata": {},
     "output_type": "display_data"
    }
   ],
   "source": [
    "# cómo se ven los datos\n",
    "df[['Temperatura_Media_(C)','Consumo_de_cerveza_(litros)']].plot.scatter(x='Temperatura_Media_(C)',\n",
    "                                                                         y='Consumo_de_cerveza_(litros)', \n",
    "                                                                         alpha=0.6, figsize=(10,6))\n",
    "plt.title(\"¿Hay una relación lineal entre la temperatura y la venta de cerveza?\", fontsize = 16)\n",
    "plt.xlabel(\"Temperatura media\", fontsize = 16)\n",
    "plt.ylabel(\"Consumo de cerveza (litros)\", fontsize = 16);"
   ]
  },
  {
   "cell_type": "markdown",
   "metadata": {},
   "source": [
    "Correlación entre las variables:"
   ]
  },
  {
   "cell_type": "code",
   "execution_count": 8,
   "metadata": {},
   "outputs": [
    {
     "data": {
      "text/html": [
       "<div>\n",
       "<style scoped>\n",
       "    .dataframe tbody tr th:only-of-type {\n",
       "        vertical-align: middle;\n",
       "    }\n",
       "\n",
       "    .dataframe tbody tr th {\n",
       "        vertical-align: top;\n",
       "    }\n",
       "\n",
       "    .dataframe thead th {\n",
       "        text-align: right;\n",
       "    }\n",
       "</style>\n",
       "<table border=\"1\" class=\"dataframe\">\n",
       "  <thead>\n",
       "    <tr style=\"text-align: right;\">\n",
       "      <th></th>\n",
       "      <th>Temperatura_Media_(C)</th>\n",
       "      <th>Consumo_de_cerveza_(litros)</th>\n",
       "    </tr>\n",
       "  </thead>\n",
       "  <tbody>\n",
       "    <tr>\n",
       "      <th>Temperatura_Media_(C)</th>\n",
       "      <td>1.000000</td>\n",
       "      <td>0.574615</td>\n",
       "    </tr>\n",
       "    <tr>\n",
       "      <th>Consumo_de_cerveza_(litros)</th>\n",
       "      <td>0.574615</td>\n",
       "      <td>1.000000</td>\n",
       "    </tr>\n",
       "  </tbody>\n",
       "</table>\n",
       "</div>"
      ],
      "text/plain": [
       "                             Temperatura_Media_(C)  \\\n",
       "Temperatura_Media_(C)                     1.000000   \n",
       "Consumo_de_cerveza_(litros)               0.574615   \n",
       "\n",
       "                             Consumo_de_cerveza_(litros)  \n",
       "Temperatura_Media_(C)                           0.574615  \n",
       "Consumo_de_cerveza_(litros)                     1.000000  "
      ]
     },
     "execution_count": 8,
     "metadata": {},
     "output_type": "execute_result"
    }
   ],
   "source": [
    "df[['Temperatura_Media_(C)','Consumo_de_cerveza_(litros)']].corr()"
   ]
  },
  {
   "cell_type": "markdown",
   "metadata": {},
   "source": [
    "Estadisticos generales:"
   ]
  },
  {
   "cell_type": "code",
   "execution_count": 9,
   "metadata": {},
   "outputs": [
    {
     "data": {
      "text/html": [
       "<div>\n",
       "<style scoped>\n",
       "    .dataframe tbody tr th:only-of-type {\n",
       "        vertical-align: middle;\n",
       "    }\n",
       "\n",
       "    .dataframe tbody tr th {\n",
       "        vertical-align: top;\n",
       "    }\n",
       "\n",
       "    .dataframe thead th {\n",
       "        text-align: right;\n",
       "    }\n",
       "</style>\n",
       "<table border=\"1\" class=\"dataframe\">\n",
       "  <thead>\n",
       "    <tr style=\"text-align: right;\">\n",
       "      <th></th>\n",
       "      <th>Temperatura_Media_(C)</th>\n",
       "      <th>Consumo_de_cerveza_(litros)</th>\n",
       "    </tr>\n",
       "  </thead>\n",
       "  <tbody>\n",
       "    <tr>\n",
       "      <th>count</th>\n",
       "      <td>365.000000</td>\n",
       "      <td>365.000000</td>\n",
       "    </tr>\n",
       "    <tr>\n",
       "      <th>mean</th>\n",
       "      <td>21.226356</td>\n",
       "      <td>25.401367</td>\n",
       "    </tr>\n",
       "    <tr>\n",
       "      <th>std</th>\n",
       "      <td>3.180108</td>\n",
       "      <td>4.399143</td>\n",
       "    </tr>\n",
       "    <tr>\n",
       "      <th>min</th>\n",
       "      <td>12.900000</td>\n",
       "      <td>14.343000</td>\n",
       "    </tr>\n",
       "    <tr>\n",
       "      <th>25%</th>\n",
       "      <td>19.020000</td>\n",
       "      <td>22.008000</td>\n",
       "    </tr>\n",
       "    <tr>\n",
       "      <th>50%</th>\n",
       "      <td>21.380000</td>\n",
       "      <td>24.867000</td>\n",
       "    </tr>\n",
       "    <tr>\n",
       "      <th>75%</th>\n",
       "      <td>23.280000</td>\n",
       "      <td>28.631000</td>\n",
       "    </tr>\n",
       "    <tr>\n",
       "      <th>max</th>\n",
       "      <td>28.860000</td>\n",
       "      <td>37.937000</td>\n",
       "    </tr>\n",
       "  </tbody>\n",
       "</table>\n",
       "</div>"
      ],
      "text/plain": [
       "       Temperatura_Media_(C)  Consumo_de_cerveza_(litros)\n",
       "count             365.000000                   365.000000\n",
       "mean               21.226356                    25.401367\n",
       "std                 3.180108                     4.399143\n",
       "min                12.900000                    14.343000\n",
       "25%                19.020000                    22.008000\n",
       "50%                21.380000                    24.867000\n",
       "75%                23.280000                    28.631000\n",
       "max                28.860000                    37.937000"
      ]
     },
     "execution_count": 9,
     "metadata": {},
     "output_type": "execute_result"
    }
   ],
   "source": [
    "df[['Temperatura_Media_(C)','Consumo_de_cerveza_(litros)']].describe()"
   ]
  },
  {
   "cell_type": "markdown",
   "metadata": {},
   "source": [
    "# Machine Learning Hiper Pro!\n",
    "# Ajustar una regresión lineal a los datos"
   ]
  },
  {
   "cell_type": "code",
   "execution_count": 10,
   "metadata": {},
   "outputs": [],
   "source": [
    "X = df['Temperatura_Media_(C)'].values.reshape(-1,1) # Se debe hacer el reshape cuando le pasas una sola variable al modelo (con más de una no es necesario)\n",
    "y = df['Consumo_de_cerveza_(litros)']"
   ]
  },
  {
   "cell_type": "code",
   "execution_count": 11,
   "metadata": {},
   "outputs": [],
   "source": [
    "ls = LinearRegression() # se guarda el modelo en la variable ls\n",
    "\n",
    "ls.fit(X, y) # se entrena el modelo (se calculan los coeficientes de la regresión lineal)\n",
    "\n",
    "y_hat = ls.predict(X) # Se usa el modelo previamente entrenado para predecir el consumo de cerveza de los datos X"
   ]
  },
  {
   "cell_type": "markdown",
   "metadata": {},
   "source": [
    "### Listo ya acabaste :v"
   ]
  },
  {
   "cell_type": "markdown",
   "metadata": {},
   "source": [
    "# Interpretación del modelo"
   ]
  },
  {
   "cell_type": "markdown",
   "metadata": {},
   "source": [
    "El modelo se interpreta a partir de los coeficientes asociados a las variables y de la ordenada la origen o intercepto:"
   ]
  },
  {
   "cell_type": "markdown",
   "metadata": {},
   "source": [
    "Podemos acceder a los coeficientes del modelo con el atributo *coef_*:"
   ]
  },
  {
   "cell_type": "code",
   "execution_count": 16,
   "metadata": {},
   "outputs": [
    {
     "name": "stdout",
     "output_type": "stream",
     "text": [
      "Coeficiente asociado a Temperatura_Media_(C): 0.79\n"
     ]
    }
   ],
   "source": [
    "print(\"Coeficiente asociado a Temperatura_Media_(C):\", round(ls.coef_[0],2))"
   ]
  },
  {
   "cell_type": "markdown",
   "metadata": {},
   "source": [
    "Podemos acceder al intercepto del modelo con el atributo *intercept_*:"
   ]
  },
  {
   "cell_type": "code",
   "execution_count": 17,
   "metadata": {},
   "outputs": [
    {
     "name": "stdout",
     "output_type": "stream",
     "text": [
      "Intercepto: 8.53\n"
     ]
    }
   ],
   "source": [
    "print(\"Intercepto:\", round(ls.intercept_,2))"
   ]
  },
  {
   "cell_type": "markdown",
   "metadata": {},
   "source": [
    "Una vez ajustado el modelo podemos evaluar nuevos puntos en la regresión lineal, por ejemplo los puntos 0 y 28 Celcius:"
   ]
  },
  {
   "cell_type": "code",
   "execution_count": 18,
   "metadata": {},
   "outputs": [
    {
     "data": {
      "text/plain": [
       "0     0\n",
       "1    28\n",
       "dtype: int64"
      ]
     },
     "execution_count": 18,
     "metadata": {},
     "output_type": "execute_result"
    }
   ],
   "source": [
    "X_new = pd.Series([0,28])\n",
    "X_new"
   ]
  },
  {
   "cell_type": "markdown",
   "metadata": {},
   "source": [
    "Con el método .predict del regresro se pueden evaluar los nuevos puntos *X_new*:"
   ]
  },
  {
   "cell_type": "code",
   "execution_count": 19,
   "metadata": {},
   "outputs": [
    {
     "data": {
      "text/plain": [
       "array([8.52890728])"
      ]
     },
     "execution_count": 19,
     "metadata": {},
     "output_type": "execute_result"
    }
   ],
   "source": [
    "ls.predict(X_new[0].reshape(-1, 1))"
   ]
  },
  {
   "cell_type": "code",
   "execution_count": 20,
   "metadata": {},
   "outputs": [
    {
     "data": {
      "text/plain": [
       "0     [8.528907283985504]\n",
       "1    [30.785618320106032]\n",
       "dtype: object"
      ]
     },
     "execution_count": 20,
     "metadata": {},
     "output_type": "execute_result"
    }
   ],
   "source": [
    "y_pred = pd.Series([ls.predict(X_new[0].reshape(-1, 1)), ls.predict(X_new[1].reshape(-1, 1))])\n",
    "y_pred"
   ]
  },
  {
   "cell_type": "code",
   "execution_count": 21,
   "metadata": {},
   "outputs": [
    {
     "data": {
      "image/png": "[encoded data removed]",
      "text/plain": [
       "<Figure size 720x360 with 1 Axes>"
      ]
     },
     "metadata": {},
     "output_type": "display_data"
    }
   ],
   "source": [
    "plt.figure(figsize = (10,5))\n",
    "plt.plot(X_new,y_pred,'ro')\n",
    "plt.plot(X_new, y_pred,'r-')\n",
    "plt.plot(X,y,'bx')\n",
    "plt.legend(['Predicciones', 'Modelo', 'Training Set'], fontsize=12)\n",
    "plt.title('¿Qué nos dice el modelo de los datos?', fontsize = 16)\n",
    "plt.xlabel('Temperatura [Celcius]', fontsize = 16)\n",
    "plt.ylabel('Litros de cerveza consumidos', fontsize = 16);"
   ]
  },
  {
   "cell_type": "markdown",
   "metadata": {},
   "source": [
    "# Regresion multilineal\n",
    "\n",
    "La regresión multilineal es una regresión lineal pero con muchas variables.\n",
    "\n",
    "🤪🤪🤪🤪\n",
    "\n",
    "*Dataset melbourne-housing-market:*"
   ]
  },
  {
   "cell_type": "markdown",
   "metadata": {},
   "source": [
    "* Suburb: Suburb\n",
    "\n",
    "* Address: Address\n",
    "\n",
    "* Rooms: Number of rooms\n",
    "\n",
    "* Price: Price in Australian dollars\n",
    "\n",
    "* Method: S - property sold; SP - property sold prior; PI - property passed in; PN - sold prior not disclosed; SN - sold not disclosed; NB - no bid; VB - vendor bid; W - withdrawn prior to auction; SA - sold after auction; SS - sold after auction price not disclosed. N/A - price or highest bid not available.\n",
    "\n",
    "* Type: br - bedroom(s); h - house,cottage,villa, semi,terrace; u - unit, duplex; t - townhouse; dev site - development site; o res - other residential.\n",
    "\n",
    "* SellerG: Real Estate Agent\n",
    "\n",
    "* Date: Date sold\n",
    "\n",
    "* Distance: Distance from CBD in Kilometres\n",
    "\n",
    "* Regionname: General Region (West, North West, North, North east ...etc)\n",
    "\n",
    "* Propertycount: Number of properties that exist in the suburb.\n",
    "\n",
    "* Bedroom2 : Scraped # of Bedrooms (from different source)\n",
    "\n",
    "* Bathroom: Number of Bathrooms\n",
    "\n",
    "* Car: Number of carspots\n",
    "\n",
    "* Landsize: Land Size in Metres\n",
    "\n",
    "* BuildingArea: Building Size in Metres\n",
    "\n",
    "* YearBuilt: Year the house was built\n",
    "\n",
    "* CouncilArea: Governing council for the area\n",
    "\n",
    "* Lattitude: Self explanitory\n",
    "\n",
    "* Longtitude: Self explanitory"
   ]
  },
  {
   "cell_type": "markdown",
   "metadata": {},
   "source": [
    "El objetivo es estimar el precio de una casa."
   ]
  },
  {
   "cell_type": "markdown",
   "metadata": {},
   "source": [
    "Se leen los datos:"
   ]
  },
  {
   "cell_type": "code",
   "execution_count": 22,
   "metadata": {},
   "outputs": [
    {
     "data": {
      "text/html": [
       "<div>\n",
       "<style scoped>\n",
       "    .dataframe tbody tr th:only-of-type {\n",
       "        vertical-align: middle;\n",
       "    }\n",
       "\n",
       "    .dataframe tbody tr th {\n",
       "        vertical-align: top;\n",
       "    }\n",
       "\n",
       "    .dataframe thead th {\n",
       "        text-align: right;\n",
       "    }\n",
       "</style>\n",
       "<table border=\"1\" class=\"dataframe\">\n",
       "  <thead>\n",
       "    <tr style=\"text-align: right;\">\n",
       "      <th></th>\n",
       "      <th>Suburb</th>\n",
       "      <th>Address</th>\n",
       "      <th>Rooms</th>\n",
       "      <th>Type</th>\n",
       "      <th>Price</th>\n",
       "      <th>Method</th>\n",
       "      <th>SellerG</th>\n",
       "      <th>Date</th>\n",
       "      <th>Distance</th>\n",
       "      <th>Postcode</th>\n",
       "      <th>...</th>\n",
       "      <th>Bathroom</th>\n",
       "      <th>Car</th>\n",
       "      <th>Landsize</th>\n",
       "      <th>BuildingArea</th>\n",
       "      <th>YearBuilt</th>\n",
       "      <th>CouncilArea</th>\n",
       "      <th>Lattitude</th>\n",
       "      <th>Longtitude</th>\n",
       "      <th>Regionname</th>\n",
       "      <th>Propertycount</th>\n",
       "    </tr>\n",
       "  </thead>\n",
       "  <tbody>\n",
       "    <tr>\n",
       "      <th>0</th>\n",
       "      <td>Abbotsford</td>\n",
       "      <td>68 Studley St</td>\n",
       "      <td>2</td>\n",
       "      <td>h</td>\n",
       "      <td>NaN</td>\n",
       "      <td>SS</td>\n",
       "      <td>Jellis</td>\n",
       "      <td>3/09/2016</td>\n",
       "      <td>2.5</td>\n",
       "      <td>3067.0</td>\n",
       "      <td>...</td>\n",
       "      <td>1.0</td>\n",
       "      <td>1.0</td>\n",
       "      <td>126.0</td>\n",
       "      <td>NaN</td>\n",
       "      <td>NaN</td>\n",
       "      <td>Yarra City Council</td>\n",
       "      <td>-37.8014</td>\n",
       "      <td>144.9958</td>\n",
       "      <td>Northern Metropolitan</td>\n",
       "      <td>4019.0</td>\n",
       "    </tr>\n",
       "    <tr>\n",
       "      <th>1</th>\n",
       "      <td>Abbotsford</td>\n",
       "      <td>85 Turner St</td>\n",
       "      <td>2</td>\n",
       "      <td>h</td>\n",
       "      <td>1480000.0</td>\n",
       "      <td>S</td>\n",
       "      <td>Biggin</td>\n",
       "      <td>3/12/2016</td>\n",
       "      <td>2.5</td>\n",
       "      <td>3067.0</td>\n",
       "      <td>...</td>\n",
       "      <td>1.0</td>\n",
       "      <td>1.0</td>\n",
       "      <td>202.0</td>\n",
       "      <td>NaN</td>\n",
       "      <td>NaN</td>\n",
       "      <td>Yarra City Council</td>\n",
       "      <td>-37.7996</td>\n",
       "      <td>144.9984</td>\n",
       "      <td>Northern Metropolitan</td>\n",
       "      <td>4019.0</td>\n",
       "    </tr>\n",
       "    <tr>\n",
       "      <th>2</th>\n",
       "      <td>Abbotsford</td>\n",
       "      <td>25 Bloomburg St</td>\n",
       "      <td>2</td>\n",
       "      <td>h</td>\n",
       "      <td>1035000.0</td>\n",
       "      <td>S</td>\n",
       "      <td>Biggin</td>\n",
       "      <td>4/02/2016</td>\n",
       "      <td>2.5</td>\n",
       "      <td>3067.0</td>\n",
       "      <td>...</td>\n",
       "      <td>1.0</td>\n",
       "      <td>0.0</td>\n",
       "      <td>156.0</td>\n",
       "      <td>79.0</td>\n",
       "      <td>1900.0</td>\n",
       "      <td>Yarra City Council</td>\n",
       "      <td>-37.8079</td>\n",
       "      <td>144.9934</td>\n",
       "      <td>Northern Metropolitan</td>\n",
       "      <td>4019.0</td>\n",
       "    </tr>\n",
       "    <tr>\n",
       "      <th>3</th>\n",
       "      <td>Abbotsford</td>\n",
       "      <td>18/659 Victoria St</td>\n",
       "      <td>3</td>\n",
       "      <td>u</td>\n",
       "      <td>NaN</td>\n",
       "      <td>VB</td>\n",
       "      <td>Rounds</td>\n",
       "      <td>4/02/2016</td>\n",
       "      <td>2.5</td>\n",
       "      <td>3067.0</td>\n",
       "      <td>...</td>\n",
       "      <td>2.0</td>\n",
       "      <td>1.0</td>\n",
       "      <td>0.0</td>\n",
       "      <td>NaN</td>\n",
       "      <td>NaN</td>\n",
       "      <td>Yarra City Council</td>\n",
       "      <td>-37.8114</td>\n",
       "      <td>145.0116</td>\n",
       "      <td>Northern Metropolitan</td>\n",
       "      <td>4019.0</td>\n",
       "    </tr>\n",
       "    <tr>\n",
       "      <th>4</th>\n",
       "      <td>Abbotsford</td>\n",
       "      <td>5 Charles St</td>\n",
       "      <td>3</td>\n",
       "      <td>h</td>\n",
       "      <td>1465000.0</td>\n",
       "      <td>SP</td>\n",
       "      <td>Biggin</td>\n",
       "      <td>4/03/2017</td>\n",
       "      <td>2.5</td>\n",
       "      <td>3067.0</td>\n",
       "      <td>...</td>\n",
       "      <td>2.0</td>\n",
       "      <td>0.0</td>\n",
       "      <td>134.0</td>\n",
       "      <td>150.0</td>\n",
       "      <td>1900.0</td>\n",
       "      <td>Yarra City Council</td>\n",
       "      <td>-37.8093</td>\n",
       "      <td>144.9944</td>\n",
       "      <td>Northern Metropolitan</td>\n",
       "      <td>4019.0</td>\n",
       "    </tr>\n",
       "  </tbody>\n",
       "</table>\n",
       "<p>5 rows × 21 columns</p>\n",
       "</div>"
      ],
      "text/plain": [
       "       Suburb             Address  Rooms Type      Price Method SellerG  \\\n",
       "0  Abbotsford       68 Studley St      2    h        NaN     SS  Jellis   \n",
       "1  Abbotsford        85 Turner St      2    h  1480000.0      S  Biggin   \n",
       "2  Abbotsford     25 Bloomburg St      2    h  1035000.0      S  Biggin   \n",
       "3  Abbotsford  18/659 Victoria St      3    u        NaN     VB  Rounds   \n",
       "4  Abbotsford        5 Charles St      3    h  1465000.0     SP  Biggin   \n",
       "\n",
       "        Date  Distance  Postcode  ...  Bathroom  Car  Landsize  BuildingArea  \\\n",
       "0  3/09/2016       2.5    3067.0  ...       1.0  1.0     126.0           NaN   \n",
       "1  3/12/2016       2.5    3067.0  ...       1.0  1.0     202.0           NaN   \n",
       "2  4/02/2016       2.5    3067.0  ...       1.0  0.0     156.0          79.0   \n",
       "3  4/02/2016       2.5    3067.0  ...       2.0  1.0       0.0           NaN   \n",
       "4  4/03/2017       2.5    3067.0  ...       2.0  0.0     134.0         150.0   \n",
       "\n",
       "   YearBuilt         CouncilArea Lattitude  Longtitude             Regionname  \\\n",
       "0        NaN  Yarra City Council  -37.8014    144.9958  Northern Metropolitan   \n",
       "1        NaN  Yarra City Council  -37.7996    144.9984  Northern Metropolitan   \n",
       "2     1900.0  Yarra City Council  -37.8079    144.9934  Northern Metropolitan   \n",
       "3        NaN  Yarra City Council  -37.8114    145.0116  Northern Metropolitan   \n",
       "4     1900.0  Yarra City Council  -37.8093    144.9944  Northern Metropolitan   \n",
       "\n",
       "  Propertycount  \n",
       "0        4019.0  \n",
       "1        4019.0  \n",
       "2        4019.0  \n",
       "3        4019.0  \n",
       "4        4019.0  \n",
       "\n",
       "[5 rows x 21 columns]"
      ]
     },
     "execution_count": 22,
     "metadata": {},
     "output_type": "execute_result"
    }
   ],
   "source": [
    "df = pd.read_csv('Datos/Melbourne_housing_FULL.csv')\n",
    "df.head()"
   ]
  },
  {
   "cell_type": "markdown",
   "metadata": {},
   "source": [
    "Notemos que los nombres de las columnas tienen mayúsculas. Por convención todos los nombres de columnas deben ser escritos en **minúsculas**, esto para homologar los datos, para acceder más rápido a ellos y porque somos muy flojos y no queremos escribir mayúsculas.\n",
    "\n",
    "😬😬😬😬"
   ]
  },
  {
   "cell_type": "markdown",
   "metadata": {},
   "source": [
    "Cambiamos las columnas a minúsculas con el método *str.lower*:"
   ]
  },
  {
   "cell_type": "code",
   "execution_count": 23,
   "metadata": {},
   "outputs": [
    {
     "data": {
      "text/html": [
       "<div>\n",
       "<style scoped>\n",
       "    .dataframe tbody tr th:only-of-type {\n",
       "        vertical-align: middle;\n",
       "    }\n",
       "\n",
       "    .dataframe tbody tr th {\n",
       "        vertical-align: top;\n",
       "    }\n",
       "\n",
       "    .dataframe thead th {\n",
       "        text-align: right;\n",
       "    }\n",
       "</style>\n",
       "<table border=\"1\" class=\"dataframe\">\n",
       "  <thead>\n",
       "    <tr style=\"text-align: right;\">\n",
       "      <th></th>\n",
       "      <th>suburb</th>\n",
       "      <th>address</th>\n",
       "      <th>rooms</th>\n",
       "      <th>type</th>\n",
       "      <th>price</th>\n",
       "      <th>method</th>\n",
       "      <th>sellerg</th>\n",
       "      <th>date</th>\n",
       "      <th>distance</th>\n",
       "      <th>postcode</th>\n",
       "      <th>...</th>\n",
       "      <th>bathroom</th>\n",
       "      <th>car</th>\n",
       "      <th>landsize</th>\n",
       "      <th>buildingarea</th>\n",
       "      <th>yearbuilt</th>\n",
       "      <th>councilarea</th>\n",
       "      <th>lattitude</th>\n",
       "      <th>longtitude</th>\n",
       "      <th>regionname</th>\n",
       "      <th>propertycount</th>\n",
       "    </tr>\n",
       "  </thead>\n",
       "  <tbody>\n",
       "    <tr>\n",
       "      <th>0</th>\n",
       "      <td>Abbotsford</td>\n",
       "      <td>68 Studley St</td>\n",
       "      <td>2</td>\n",
       "      <td>h</td>\n",
       "      <td>NaN</td>\n",
       "      <td>SS</td>\n",
       "      <td>Jellis</td>\n",
       "      <td>3/09/2016</td>\n",
       "      <td>2.5</td>\n",
       "      <td>3067.0</td>\n",
       "      <td>...</td>\n",
       "      <td>1.0</td>\n",
       "      <td>1.0</td>\n",
       "      <td>126.0</td>\n",
       "      <td>NaN</td>\n",
       "      <td>NaN</td>\n",
       "      <td>Yarra City Council</td>\n",
       "      <td>-37.8014</td>\n",
       "      <td>144.9958</td>\n",
       "      <td>Northern Metropolitan</td>\n",
       "      <td>4019.0</td>\n",
       "    </tr>\n",
       "    <tr>\n",
       "      <th>1</th>\n",
       "      <td>Abbotsford</td>\n",
       "      <td>85 Turner St</td>\n",
       "      <td>2</td>\n",
       "      <td>h</td>\n",
       "      <td>1480000.0</td>\n",
       "      <td>S</td>\n",
       "      <td>Biggin</td>\n",
       "      <td>3/12/2016</td>\n",
       "      <td>2.5</td>\n",
       "      <td>3067.0</td>\n",
       "      <td>...</td>\n",
       "      <td>1.0</td>\n",
       "      <td>1.0</td>\n",
       "      <td>202.0</td>\n",
       "      <td>NaN</td>\n",
       "      <td>NaN</td>\n",
       "      <td>Yarra City Council</td>\n",
       "      <td>-37.7996</td>\n",
       "      <td>144.9984</td>\n",
       "      <td>Northern Metropolitan</td>\n",
       "      <td>4019.0</td>\n",
       "    </tr>\n",
       "    <tr>\n",
       "      <th>2</th>\n",
       "      <td>Abbotsford</td>\n",
       "      <td>25 Bloomburg St</td>\n",
       "      <td>2</td>\n",
       "      <td>h</td>\n",
       "      <td>1035000.0</td>\n",
       "      <td>S</td>\n",
       "      <td>Biggin</td>\n",
       "      <td>4/02/2016</td>\n",
       "      <td>2.5</td>\n",
       "      <td>3067.0</td>\n",
       "      <td>...</td>\n",
       "      <td>1.0</td>\n",
       "      <td>0.0</td>\n",
       "      <td>156.0</td>\n",
       "      <td>79.0</td>\n",
       "      <td>1900.0</td>\n",
       "      <td>Yarra City Council</td>\n",
       "      <td>-37.8079</td>\n",
       "      <td>144.9934</td>\n",
       "      <td>Northern Metropolitan</td>\n",
       "      <td>4019.0</td>\n",
       "    </tr>\n",
       "    <tr>\n",
       "      <th>3</th>\n",
       "      <td>Abbotsford</td>\n",
       "      <td>18/659 Victoria St</td>\n",
       "      <td>3</td>\n",
       "      <td>u</td>\n",
       "      <td>NaN</td>\n",
       "      <td>VB</td>\n",
       "      <td>Rounds</td>\n",
       "      <td>4/02/2016</td>\n",
       "      <td>2.5</td>\n",
       "      <td>3067.0</td>\n",
       "      <td>...</td>\n",
       "      <td>2.0</td>\n",
       "      <td>1.0</td>\n",
       "      <td>0.0</td>\n",
       "      <td>NaN</td>\n",
       "      <td>NaN</td>\n",
       "      <td>Yarra City Council</td>\n",
       "      <td>-37.8114</td>\n",
       "      <td>145.0116</td>\n",
       "      <td>Northern Metropolitan</td>\n",
       "      <td>4019.0</td>\n",
       "    </tr>\n",
       "    <tr>\n",
       "      <th>4</th>\n",
       "      <td>Abbotsford</td>\n",
       "      <td>5 Charles St</td>\n",
       "      <td>3</td>\n",
       "      <td>h</td>\n",
       "      <td>1465000.0</td>\n",
       "      <td>SP</td>\n",
       "      <td>Biggin</td>\n",
       "      <td>4/03/2017</td>\n",
       "      <td>2.5</td>\n",
       "      <td>3067.0</td>\n",
       "      <td>...</td>\n",
       "      <td>2.0</td>\n",
       "      <td>0.0</td>\n",
       "      <td>134.0</td>\n",
       "      <td>150.0</td>\n",
       "      <td>1900.0</td>\n",
       "      <td>Yarra City Council</td>\n",
       "      <td>-37.8093</td>\n",
       "      <td>144.9944</td>\n",
       "      <td>Northern Metropolitan</td>\n",
       "      <td>4019.0</td>\n",
       "    </tr>\n",
       "  </tbody>\n",
       "</table>\n",
       "<p>5 rows × 21 columns</p>\n",
       "</div>"
      ],
      "text/plain": [
       "       suburb             address  rooms type      price method sellerg  \\\n",
       "0  Abbotsford       68 Studley St      2    h        NaN     SS  Jellis   \n",
       "1  Abbotsford        85 Turner St      2    h  1480000.0      S  Biggin   \n",
       "2  Abbotsford     25 Bloomburg St      2    h  1035000.0      S  Biggin   \n",
       "3  Abbotsford  18/659 Victoria St      3    u        NaN     VB  Rounds   \n",
       "4  Abbotsford        5 Charles St      3    h  1465000.0     SP  Biggin   \n",
       "\n",
       "        date  distance  postcode  ...  bathroom  car  landsize  buildingarea  \\\n",
       "0  3/09/2016       2.5    3067.0  ...       1.0  1.0     126.0           NaN   \n",
       "1  3/12/2016       2.5    3067.0  ...       1.0  1.0     202.0           NaN   \n",
       "2  4/02/2016       2.5    3067.0  ...       1.0  0.0     156.0          79.0   \n",
       "3  4/02/2016       2.5    3067.0  ...       2.0  1.0       0.0           NaN   \n",
       "4  4/03/2017       2.5    3067.0  ...       2.0  0.0     134.0         150.0   \n",
       "\n",
       "   yearbuilt         councilarea lattitude  longtitude             regionname  \\\n",
       "0        NaN  Yarra City Council  -37.8014    144.9958  Northern Metropolitan   \n",
       "1        NaN  Yarra City Council  -37.7996    144.9984  Northern Metropolitan   \n",
       "2     1900.0  Yarra City Council  -37.8079    144.9934  Northern Metropolitan   \n",
       "3        NaN  Yarra City Council  -37.8114    145.0116  Northern Metropolitan   \n",
       "4     1900.0  Yarra City Council  -37.8093    144.9944  Northern Metropolitan   \n",
       "\n",
       "  propertycount  \n",
       "0        4019.0  \n",
       "1        4019.0  \n",
       "2        4019.0  \n",
       "3        4019.0  \n",
       "4        4019.0  \n",
       "\n",
       "[5 rows x 21 columns]"
      ]
     },
     "execution_count": 23,
     "metadata": {},
     "output_type": "execute_result"
    }
   ],
   "source": [
    "df.columns = df.columns.str.lower()\n",
    "df.head()"
   ]
  },
  {
   "cell_type": "markdown",
   "metadata": {},
   "source": [
    "Fixed!\n",
    "\n",
    "😬😬😬"
   ]
  },
  {
   "cell_type": "markdown",
   "metadata": {},
   "source": [
    "Los datos también tienen valores nulos, pero hoy queremos irnos temprano así que simplemente vamos a tirarlos todos:"
   ]
  },
  {
   "cell_type": "code",
   "execution_count": 24,
   "metadata": {},
   "outputs": [],
   "source": [
    "df.dropna(inplace = True)"
   ]
  },
  {
   "cell_type": "code",
   "execution_count": 25,
   "metadata": {},
   "outputs": [
    {
     "name": "stdout",
     "output_type": "stream",
     "text": [
      "<class 'pandas.core.frame.DataFrame'>\n",
      "Int64Index: 8887 entries, 2 to 34856\n",
      "Data columns (total 21 columns):\n",
      " #   Column         Non-Null Count  Dtype  \n",
      "---  ------         --------------  -----  \n",
      " 0   suburb         8887 non-null   object \n",
      " 1   address        8887 non-null   object \n",
      " 2   rooms          8887 non-null   int64  \n",
      " 3   type           8887 non-null   object \n",
      " 4   price          8887 non-null   float64\n",
      " 5   method         8887 non-null   object \n",
      " 6   sellerg        8887 non-null   object \n",
      " 7   date           8887 non-null   object \n",
      " 8   distance       8887 non-null   float64\n",
      " 9   postcode       8887 non-null   float64\n",
      " 10  bedroom2       8887 non-null   float64\n",
      " 11  bathroom       8887 non-null   float64\n",
      " 12  car            8887 non-null   float64\n",
      " 13  landsize       8887 non-null   float64\n",
      " 14  buildingarea   8887 non-null   float64\n",
      " 15  yearbuilt      8887 non-null   float64\n",
      " 16  councilarea    8887 non-null   object \n",
      " 17  lattitude      8887 non-null   float64\n",
      " 18  longtitude     8887 non-null   float64\n",
      " 19  regionname     8887 non-null   object \n",
      " 20  propertycount  8887 non-null   float64\n",
      "dtypes: float64(12), int64(1), object(8)\n",
      "memory usage: 1.5+ MB\n"
     ]
    }
   ],
   "source": [
    "df.info()"
   ]
  },
  {
   "cell_type": "code",
   "execution_count": 26,
   "metadata": {},
   "outputs": [
    {
     "data": {
      "text/plain": [
       "suburb           0\n",
       "address          0\n",
       "rooms            0\n",
       "type             0\n",
       "price            0\n",
       "method           0\n",
       "sellerg          0\n",
       "date             0\n",
       "distance         0\n",
       "postcode         0\n",
       "bedroom2         0\n",
       "bathroom         0\n",
       "car              0\n",
       "landsize         0\n",
       "buildingarea     0\n",
       "yearbuilt        0\n",
       "councilarea      0\n",
       "lattitude        0\n",
       "longtitude       0\n",
       "regionname       0\n",
       "propertycount    0\n",
       "dtype: int64"
      ]
     },
     "execution_count": 26,
     "metadata": {},
     "output_type": "execute_result"
    }
   ],
   "source": [
    "df.isnull().sum()"
   ]
  },
  {
   "cell_type": "markdown",
   "metadata": {},
   "source": [
    "Definimos nuestra variable objetivo y nuestras variables predictoras:"
   ]
  },
  {
   "cell_type": "code",
   "execution_count": 27,
   "metadata": {},
   "outputs": [],
   "source": [
    "X = df[['distance', 'car', 'rooms',\n",
    "       'landsize', 'buildingarea', 'yearbuilt',\n",
    "       'propertycount']] # predictoras\n",
    "\n",
    "y = df.price # Variable objetivo"
   ]
  },
  {
   "cell_type": "code",
   "execution_count": 28,
   "metadata": {},
   "outputs": [
    {
     "data": {
      "text/plain": [
       "distance           11.199887\n",
       "car                 1.692247\n",
       "rooms               3.098909\n",
       "landsize          523.480365\n",
       "buildingarea      149.309477\n",
       "yearbuilt        1965.753348\n",
       "propertycount    7475.940137\n",
       "dtype: float64"
      ]
     },
     "execution_count": 28,
     "metadata": {},
     "output_type": "execute_result"
    }
   ],
   "source": [
    "X.mean()"
   ]
  },
  {
   "cell_type": "code",
   "execution_count": 29,
   "metadata": {},
   "outputs": [
    {
     "data": {
      "text/plain": [
       "distance            6.813402\n",
       "car                 0.975464\n",
       "rooms               0.963786\n",
       "landsize         1061.324228\n",
       "buildingarea       87.925580\n",
       "yearbuilt          37.040876\n",
       "propertycount    4375.024364\n",
       "dtype: float64"
      ]
     },
     "execution_count": 29,
     "metadata": {},
     "output_type": "execute_result"
    }
   ],
   "source": [
    "X.std()"
   ]
  },
  {
   "cell_type": "markdown",
   "metadata": {},
   "source": [
    "Los valores de las variables difieren muchísimo entre ellas, tenemos que escalarlas.\n",
    "\n",
    "😱😱😱😱😱😱\n",
    "\n",
    "---------------------------------------------"
   ]
  },
  {
   "cell_type": "markdown",
   "metadata": {},
   "source": [
    "# Feature Scaling"
   ]
  },
  {
   "cell_type": "markdown",
   "metadata": {},
   "source": [
    "*Feature Scaling* es un método para normalizar el rango de valores que toman las variables independientes (__X__) de un conjunto de datos. \n",
    "\n",
    "Dado que el rango de valores de los datos crudos varía ampliamente, en algunos algoritmos de *machine learning*, los modelos predictivos no funcionarán apropiadamente sin normalización. Por ejemplo, muchos clasificadores calculan distancia entre dos puntos y si alguna de las variables es ampliamente mayor que las demás, la distancia será gobernada por esta variable en particular. En consecuencia, el rango de todas las variables debe ser normalizado de manera que cada variable contribuya más o menos lo mismo a la suma de la distancia final.\n",
    "\n",
    "Otra razón por la que se aplica *feature scaling* es que el método gradiente en descenso, que se revisará más adelante, converge mucho más rápido con las variables escaladas. \n",
    "\n",
    "¿De qué forma se pueden escalar nuestras variables? De muchas, pero dos de las más usadas son:\n",
    "\n",
    "## Rescaling (min-max normalization)\n",
    "\n",
    "$$x^{'} = \\frac{x-min(x)}{max(x)-min(x)} $$\n",
    "\n",
    "## Estandarización (Z-score Normalization)\n",
    "\n",
    "$$x^{'} = \\frac{x-\\bar x}{\\sigma} $$\n",
    "\n",
    "Donde x barra es el valor promedio y sigma es la desviación estándar."
   ]
  },
  {
   "cell_type": "markdown",
   "metadata": {},
   "source": [
    "# The Big Question – ¿Normalizar o Estandarizar?\n",
    "\n",
    "\n",
    "* Normalización: bueno de usar cuando sabes que la distribución de tus datos no sigue una tendencia gaussiana. Esto puede ser bueno para algoritmos que no asumen ninguna distribución de los datos como KNN y las redes neuronales.\n",
    "\n",
    "* Estandarización: útil cuando los datos siguen una distribución gaussiana. \n",
    "\n",
    "No obstante al final del día, la elección de uno o de otro dependerá de tu problema y del algoritmo de *machine learning* que uses. No hay una regla de dedo que te diga cuando normalizar y cuando estandarizar tus datos. Siempre puedes empezar ajustando tu modelo con datos crudos, nomarmalizados y estandarizados para luego comparar el *performance* para determinar cuál da los mejores resultados.\n",
    "\n",
    "El escalamiento de la variable objetivo generalmente no es necesario.\n",
    "\n",
    "Dado que uno de los supuestos de la regresión lineal es que las variables independientes sigan una distribución gaussiana, en este caso, lo usual es estandarizar las variables.\n",
    "\n",
    "------------------------"
   ]
  },
  {
   "cell_type": "markdown",
   "metadata": {},
   "source": [
    "Volviendo al problema de arriba, tenemos que estandarizar las variables:"
   ]
  },
  {
   "cell_type": "code",
   "execution_count": 30,
   "metadata": {},
   "outputs": [],
   "source": [
    "X_std = (X - X.mean())/X.std()"
   ]
  },
  {
   "cell_type": "markdown",
   "metadata": {},
   "source": [
    "# Puro Machine Learining vato!"
   ]
  },
  {
   "cell_type": "code",
   "execution_count": 31,
   "metadata": {},
   "outputs": [
    {
     "data": {
      "text/plain": [
       "LinearRegression()"
      ]
     },
     "execution_count": 31,
     "metadata": {},
     "output_type": "execute_result"
    }
   ],
   "source": [
    "ls_std = LinearRegression() # modelo a usar\n",
    "ls_std.fit(X_std,y) #ajuste del modelo a los datos"
   ]
  },
  {
   "cell_type": "markdown",
   "metadata": {},
   "source": [
    "### Listo ya lo entrenaste :v"
   ]
  },
  {
   "cell_type": "markdown",
   "metadata": {},
   "source": [
    "Podemos acceder a los coeficientes del modelo con el atributo *coef_*:"
   ]
  },
  {
   "cell_type": "code",
   "execution_count": 32,
   "metadata": {},
   "outputs": [
    {
     "data": {
      "text/plain": [
       "array([-213551.50663731,   57550.35635983,  216109.47810834,\n",
       "         27286.12851797,  231889.74202213, -170545.74448859,\n",
       "         -4059.94102794])"
      ]
     },
     "execution_count": 32,
     "metadata": {},
     "output_type": "execute_result"
    }
   ],
   "source": [
    "ls_std.coef_"
   ]
  },
  {
   "cell_type": "markdown",
   "metadata": {},
   "source": [
    "Podemos acceder al intercepto del modelo con el atributo *intercept_*:"
   ]
  },
  {
   "cell_type": "code",
   "execution_count": 33,
   "metadata": {},
   "outputs": [
    {
     "name": "stdout",
     "output_type": "stream",
     "text": [
      "Intercepto  1092901.63\n"
     ]
    },
    {
     "data": {
      "text/html": [
       "<div>\n",
       "<style scoped>\n",
       "    .dataframe tbody tr th:only-of-type {\n",
       "        vertical-align: middle;\n",
       "    }\n",
       "\n",
       "    .dataframe tbody tr th {\n",
       "        vertical-align: top;\n",
       "    }\n",
       "\n",
       "    .dataframe thead th {\n",
       "        text-align: right;\n",
       "    }\n",
       "</style>\n",
       "<table border=\"1\" class=\"dataframe\">\n",
       "  <thead>\n",
       "    <tr style=\"text-align: right;\">\n",
       "      <th></th>\n",
       "      <th>coeficientes</th>\n",
       "    </tr>\n",
       "  </thead>\n",
       "  <tbody>\n",
       "    <tr>\n",
       "      <th>distance</th>\n",
       "      <td>-213551.506637</td>\n",
       "    </tr>\n",
       "    <tr>\n",
       "      <th>car</th>\n",
       "      <td>57550.356360</td>\n",
       "    </tr>\n",
       "    <tr>\n",
       "      <th>rooms</th>\n",
       "      <td>216109.478108</td>\n",
       "    </tr>\n",
       "    <tr>\n",
       "      <th>landsize</th>\n",
       "      <td>27286.128518</td>\n",
       "    </tr>\n",
       "    <tr>\n",
       "      <th>buildingarea</th>\n",
       "      <td>231889.742022</td>\n",
       "    </tr>\n",
       "    <tr>\n",
       "      <th>yearbuilt</th>\n",
       "      <td>-170545.744489</td>\n",
       "    </tr>\n",
       "    <tr>\n",
       "      <th>propertycount</th>\n",
       "      <td>-4059.941028</td>\n",
       "    </tr>\n",
       "  </tbody>\n",
       "</table>\n",
       "</div>"
      ],
      "text/plain": [
       "                coeficientes\n",
       "distance      -213551.506637\n",
       "car             57550.356360\n",
       "rooms          216109.478108\n",
       "landsize        27286.128518\n",
       "buildingarea   231889.742022\n",
       "yearbuilt     -170545.744489\n",
       "propertycount   -4059.941028"
      ]
     },
     "execution_count": 33,
     "metadata": {},
     "output_type": "execute_result"
    }
   ],
   "source": [
    "print('Intercepto % 1.2f' % ls_std.intercept_)\n",
    "coefs = pd.DataFrame(index = X.columns, data = ls_std.coef_,columns=['coeficientes'])\n",
    "coefs"
   ]
  },
  {
   "cell_type": "markdown",
   "metadata": {},
   "source": [
    "Nota: en caso de no haber escalado las variables, estos coeficientes NO serían comparables entre ellos.\n",
    "\n",
    "Grafiquemos estos coeficientes para visualizar qué variables repercuten más en el precio de la casa:"
   ]
  },
  {
   "cell_type": "code",
   "execution_count": 34,
   "metadata": {},
   "outputs": [
    {
     "data": {
      "image/png": "[encoded data removed]",
      "text/plain": [
       "<Figure size 720x360 with 1 Axes>"
      ]
     },
     "metadata": {},
     "output_type": "display_data"
    }
   ],
   "source": [
    "coefs.sort_values('coeficientes').plot.barh(legend=False,\n",
    "                                            title='Valor de los coeficientes', figsize=(10,5));"
   ]
  },
  {
   "cell_type": "markdown",
   "metadata": {},
   "source": [
    "¿Qué variables impactan más positivamente al precio de la casa?\n",
    "\n",
    "¿Qué variables impactan más negativamente al precio de la casa?\n",
    "\n",
    "¿Qué variables no impactan en absoluto al precio de la casa?"
   ]
  },
  {
   "cell_type": "markdown",
   "metadata": {},
   "source": [
    "# Regresion polinomial"
   ]
  },
  {
   "cell_type": "code",
   "execution_count": 35,
   "metadata": {},
   "outputs": [],
   "source": [
    "from sklearn.preprocessing import PolynomialFeatures"
   ]
  },
  {
   "cell_type": "code",
   "execution_count": 36,
   "metadata": {},
   "outputs": [],
   "source": [
    "pf = PolynomialFeatures(2) # revisar ayuda !!!\n",
    "X_poli = pf.fit_transform(X) # Transforma los datos para ajustar a un polinomio de grado dos"
   ]
  },
  {
   "cell_type": "code",
   "execution_count": 37,
   "metadata": {},
   "outputs": [],
   "source": [
    "X_poli = pd.DataFrame(X_poli,columns = pf.get_feature_names(X.columns))"
   ]
  },
  {
   "cell_type": "code",
   "execution_count": 38,
   "metadata": {},
   "outputs": [
    {
     "data": {
      "text/plain": [
       "(8887, 36)"
      ]
     },
     "execution_count": 38,
     "metadata": {},
     "output_type": "execute_result"
    }
   ],
   "source": [
    "X_poli.shape"
   ]
  },
  {
   "cell_type": "code",
   "execution_count": 39,
   "metadata": {},
   "outputs": [
    {
     "data": {
      "text/html": [
       "<div>\n",
       "<style scoped>\n",
       "    .dataframe tbody tr th:only-of-type {\n",
       "        vertical-align: middle;\n",
       "    }\n",
       "\n",
       "    .dataframe tbody tr th {\n",
       "        vertical-align: top;\n",
       "    }\n",
       "\n",
       "    .dataframe thead th {\n",
       "        text-align: right;\n",
       "    }\n",
       "</style>\n",
       "<table border=\"1\" class=\"dataframe\">\n",
       "  <thead>\n",
       "    <tr style=\"text-align: right;\">\n",
       "      <th></th>\n",
       "      <th>1</th>\n",
       "      <th>distance</th>\n",
       "      <th>car</th>\n",
       "      <th>rooms</th>\n",
       "      <th>landsize</th>\n",
       "      <th>buildingarea</th>\n",
       "      <th>yearbuilt</th>\n",
       "      <th>propertycount</th>\n",
       "      <th>distance^2</th>\n",
       "      <th>distance car</th>\n",
       "      <th>...</th>\n",
       "      <th>landsize^2</th>\n",
       "      <th>landsize buildingarea</th>\n",
       "      <th>landsize yearbuilt</th>\n",
       "      <th>landsize propertycount</th>\n",
       "      <th>buildingarea^2</th>\n",
       "      <th>buildingarea yearbuilt</th>\n",
       "      <th>buildingarea propertycount</th>\n",
       "      <th>yearbuilt^2</th>\n",
       "      <th>yearbuilt propertycount</th>\n",
       "      <th>propertycount^2</th>\n",
       "    </tr>\n",
       "  </thead>\n",
       "  <tbody>\n",
       "    <tr>\n",
       "      <th>0</th>\n",
       "      <td>1.0</td>\n",
       "      <td>2.5</td>\n",
       "      <td>0.0</td>\n",
       "      <td>2.0</td>\n",
       "      <td>156.0</td>\n",
       "      <td>79.0</td>\n",
       "      <td>1900.0</td>\n",
       "      <td>4019.0</td>\n",
       "      <td>6.25</td>\n",
       "      <td>0.0</td>\n",
       "      <td>...</td>\n",
       "      <td>24336.0</td>\n",
       "      <td>12324.0</td>\n",
       "      <td>296400.0</td>\n",
       "      <td>626964.0</td>\n",
       "      <td>6241.0</td>\n",
       "      <td>150100.0</td>\n",
       "      <td>317501.0</td>\n",
       "      <td>3610000.0</td>\n",
       "      <td>7636100.0</td>\n",
       "      <td>16152361.0</td>\n",
       "    </tr>\n",
       "    <tr>\n",
       "      <th>1</th>\n",
       "      <td>1.0</td>\n",
       "      <td>2.5</td>\n",
       "      <td>0.0</td>\n",
       "      <td>3.0</td>\n",
       "      <td>134.0</td>\n",
       "      <td>150.0</td>\n",
       "      <td>1900.0</td>\n",
       "      <td>4019.0</td>\n",
       "      <td>6.25</td>\n",
       "      <td>0.0</td>\n",
       "      <td>...</td>\n",
       "      <td>17956.0</td>\n",
       "      <td>20100.0</td>\n",
       "      <td>254600.0</td>\n",
       "      <td>538546.0</td>\n",
       "      <td>22500.0</td>\n",
       "      <td>285000.0</td>\n",
       "      <td>602850.0</td>\n",
       "      <td>3610000.0</td>\n",
       "      <td>7636100.0</td>\n",
       "      <td>16152361.0</td>\n",
       "    </tr>\n",
       "    <tr>\n",
       "      <th>2</th>\n",
       "      <td>1.0</td>\n",
       "      <td>2.5</td>\n",
       "      <td>2.0</td>\n",
       "      <td>4.0</td>\n",
       "      <td>120.0</td>\n",
       "      <td>142.0</td>\n",
       "      <td>2014.0</td>\n",
       "      <td>4019.0</td>\n",
       "      <td>6.25</td>\n",
       "      <td>5.0</td>\n",
       "      <td>...</td>\n",
       "      <td>14400.0</td>\n",
       "      <td>17040.0</td>\n",
       "      <td>241680.0</td>\n",
       "      <td>482280.0</td>\n",
       "      <td>20164.0</td>\n",
       "      <td>285988.0</td>\n",
       "      <td>570698.0</td>\n",
       "      <td>4056196.0</td>\n",
       "      <td>8094266.0</td>\n",
       "      <td>16152361.0</td>\n",
       "    </tr>\n",
       "    <tr>\n",
       "      <th>3</th>\n",
       "      <td>1.0</td>\n",
       "      <td>2.5</td>\n",
       "      <td>0.0</td>\n",
       "      <td>3.0</td>\n",
       "      <td>245.0</td>\n",
       "      <td>210.0</td>\n",
       "      <td>1910.0</td>\n",
       "      <td>4019.0</td>\n",
       "      <td>6.25</td>\n",
       "      <td>0.0</td>\n",
       "      <td>...</td>\n",
       "      <td>60025.0</td>\n",
       "      <td>51450.0</td>\n",
       "      <td>467950.0</td>\n",
       "      <td>984655.0</td>\n",
       "      <td>44100.0</td>\n",
       "      <td>401100.0</td>\n",
       "      <td>843990.0</td>\n",
       "      <td>3648100.0</td>\n",
       "      <td>7676290.0</td>\n",
       "      <td>16152361.0</td>\n",
       "    </tr>\n",
       "    <tr>\n",
       "      <th>4</th>\n",
       "      <td>1.0</td>\n",
       "      <td>2.5</td>\n",
       "      <td>2.0</td>\n",
       "      <td>2.0</td>\n",
       "      <td>256.0</td>\n",
       "      <td>107.0</td>\n",
       "      <td>1890.0</td>\n",
       "      <td>4019.0</td>\n",
       "      <td>6.25</td>\n",
       "      <td>5.0</td>\n",
       "      <td>...</td>\n",
       "      <td>65536.0</td>\n",
       "      <td>27392.0</td>\n",
       "      <td>483840.0</td>\n",
       "      <td>1028864.0</td>\n",
       "      <td>11449.0</td>\n",
       "      <td>202230.0</td>\n",
       "      <td>430033.0</td>\n",
       "      <td>3572100.0</td>\n",
       "      <td>7595910.0</td>\n",
       "      <td>16152361.0</td>\n",
       "    </tr>\n",
       "    <tr>\n",
       "      <th>...</th>\n",
       "      <td>...</td>\n",
       "      <td>...</td>\n",
       "      <td>...</td>\n",
       "      <td>...</td>\n",
       "      <td>...</td>\n",
       "      <td>...</td>\n",
       "      <td>...</td>\n",
       "      <td>...</td>\n",
       "      <td>...</td>\n",
       "      <td>...</td>\n",
       "      <td>...</td>\n",
       "      <td>...</td>\n",
       "      <td>...</td>\n",
       "      <td>...</td>\n",
       "      <td>...</td>\n",
       "      <td>...</td>\n",
       "      <td>...</td>\n",
       "      <td>...</td>\n",
       "      <td>...</td>\n",
       "      <td>...</td>\n",
       "      <td>...</td>\n",
       "    </tr>\n",
       "    <tr>\n",
       "      <th>8882</th>\n",
       "      <td>1.0</td>\n",
       "      <td>25.5</td>\n",
       "      <td>2.0</td>\n",
       "      <td>3.0</td>\n",
       "      <td>383.0</td>\n",
       "      <td>118.0</td>\n",
       "      <td>2016.0</td>\n",
       "      <td>2940.0</td>\n",
       "      <td>650.25</td>\n",
       "      <td>51.0</td>\n",
       "      <td>...</td>\n",
       "      <td>146689.0</td>\n",
       "      <td>45194.0</td>\n",
       "      <td>772128.0</td>\n",
       "      <td>1126020.0</td>\n",
       "      <td>13924.0</td>\n",
       "      <td>237888.0</td>\n",
       "      <td>346920.0</td>\n",
       "      <td>4064256.0</td>\n",
       "      <td>5927040.0</td>\n",
       "      <td>8643600.0</td>\n",
       "    </tr>\n",
       "    <tr>\n",
       "      <th>8883</th>\n",
       "      <td>1.0</td>\n",
       "      <td>25.5</td>\n",
       "      <td>2.0</td>\n",
       "      <td>3.0</td>\n",
       "      <td>404.0</td>\n",
       "      <td>158.0</td>\n",
       "      <td>2012.0</td>\n",
       "      <td>2940.0</td>\n",
       "      <td>650.25</td>\n",
       "      <td>51.0</td>\n",
       "      <td>...</td>\n",
       "      <td>163216.0</td>\n",
       "      <td>63832.0</td>\n",
       "      <td>812848.0</td>\n",
       "      <td>1187760.0</td>\n",
       "      <td>24964.0</td>\n",
       "      <td>317896.0</td>\n",
       "      <td>464520.0</td>\n",
       "      <td>4048144.0</td>\n",
       "      <td>5915280.0</td>\n",
       "      <td>8643600.0</td>\n",
       "    </tr>\n",
       "    <tr>\n",
       "      <th>8884</th>\n",
       "      <td>1.0</td>\n",
       "      <td>6.3</td>\n",
       "      <td>1.0</td>\n",
       "      <td>2.0</td>\n",
       "      <td>98.0</td>\n",
       "      <td>104.0</td>\n",
       "      <td>2018.0</td>\n",
       "      <td>6543.0</td>\n",
       "      <td>39.69</td>\n",
       "      <td>6.3</td>\n",
       "      <td>...</td>\n",
       "      <td>9604.0</td>\n",
       "      <td>10192.0</td>\n",
       "      <td>197764.0</td>\n",
       "      <td>641214.0</td>\n",
       "      <td>10816.0</td>\n",
       "      <td>209872.0</td>\n",
       "      <td>680472.0</td>\n",
       "      <td>4072324.0</td>\n",
       "      <td>13203774.0</td>\n",
       "      <td>42810849.0</td>\n",
       "    </tr>\n",
       "    <tr>\n",
       "      <th>8885</th>\n",
       "      <td>1.0</td>\n",
       "      <td>6.3</td>\n",
       "      <td>2.0</td>\n",
       "      <td>2.0</td>\n",
       "      <td>220.0</td>\n",
       "      <td>120.0</td>\n",
       "      <td>2000.0</td>\n",
       "      <td>6543.0</td>\n",
       "      <td>39.69</td>\n",
       "      <td>12.6</td>\n",
       "      <td>...</td>\n",
       "      <td>48400.0</td>\n",
       "      <td>26400.0</td>\n",
       "      <td>440000.0</td>\n",
       "      <td>1439460.0</td>\n",
       "      <td>14400.0</td>\n",
       "      <td>240000.0</td>\n",
       "      <td>785160.0</td>\n",
       "      <td>4000000.0</td>\n",
       "      <td>13086000.0</td>\n",
       "      <td>42810849.0</td>\n",
       "    </tr>\n",
       "    <tr>\n",
       "      <th>8886</th>\n",
       "      <td>1.0</td>\n",
       "      <td>6.3</td>\n",
       "      <td>0.0</td>\n",
       "      <td>2.0</td>\n",
       "      <td>250.0</td>\n",
       "      <td>103.0</td>\n",
       "      <td>1930.0</td>\n",
       "      <td>6543.0</td>\n",
       "      <td>39.69</td>\n",
       "      <td>0.0</td>\n",
       "      <td>...</td>\n",
       "      <td>62500.0</td>\n",
       "      <td>25750.0</td>\n",
       "      <td>482500.0</td>\n",
       "      <td>1635750.0</td>\n",
       "      <td>10609.0</td>\n",
       "      <td>198790.0</td>\n",
       "      <td>673929.0</td>\n",
       "      <td>3724900.0</td>\n",
       "      <td>12627990.0</td>\n",
       "      <td>42810849.0</td>\n",
       "    </tr>\n",
       "  </tbody>\n",
       "</table>\n",
       "<p>8887 rows × 36 columns</p>\n",
       "</div>"
      ],
      "text/plain": [
       "        1  distance  car  rooms  landsize  buildingarea  yearbuilt  \\\n",
       "0     1.0       2.5  0.0    2.0     156.0          79.0     1900.0   \n",
       "1     1.0       2.5  0.0    3.0     134.0         150.0     1900.0   \n",
       "2     1.0       2.5  2.0    4.0     120.0         142.0     2014.0   \n",
       "3     1.0       2.5  0.0    3.0     245.0         210.0     1910.0   \n",
       "4     1.0       2.5  2.0    2.0     256.0         107.0     1890.0   \n",
       "...   ...       ...  ...    ...       ...           ...        ...   \n",
       "8882  1.0      25.5  2.0    3.0     383.0         118.0     2016.0   \n",
       "8883  1.0      25.5  2.0    3.0     404.0         158.0     2012.0   \n",
       "8884  1.0       6.3  1.0    2.0      98.0         104.0     2018.0   \n",
       "8885  1.0       6.3  2.0    2.0     220.0         120.0     2000.0   \n",
       "8886  1.0       6.3  0.0    2.0     250.0         103.0     1930.0   \n",
       "\n",
       "      propertycount  distance^2  distance car  ...  landsize^2  \\\n",
       "0            4019.0        6.25           0.0  ...     24336.0   \n",
       "1            4019.0        6.25           0.0  ...     17956.0   \n",
       "2            4019.0        6.25           5.0  ...     14400.0   \n",
       "3            4019.0        6.25           0.0  ...     60025.0   \n",
       "4            4019.0        6.25           5.0  ...     65536.0   \n",
       "...             ...         ...           ...  ...         ...   \n",
       "8882         2940.0      650.25          51.0  ...    146689.0   \n",
       "8883         2940.0      650.25          51.0  ...    163216.0   \n",
       "8884         6543.0       39.69           6.3  ...      9604.0   \n",
       "8885         6543.0       39.69          12.6  ...     48400.0   \n",
       "8886         6543.0       39.69           0.0  ...     62500.0   \n",
       "\n",
       "      landsize buildingarea  landsize yearbuilt  landsize propertycount  \\\n",
       "0                   12324.0            296400.0                626964.0   \n",
       "1                   20100.0            254600.0                538546.0   \n",
       "2                   17040.0            241680.0                482280.0   \n",
       "3                   51450.0            467950.0                984655.0   \n",
       "4                   27392.0            483840.0               1028864.0   \n",
       "...                     ...                 ...                     ...   \n",
       "8882                45194.0            772128.0               1126020.0   \n",
       "8883                63832.0            812848.0               1187760.0   \n",
       "8884                10192.0            197764.0                641214.0   \n",
       "8885                26400.0            440000.0               1439460.0   \n",
       "8886                25750.0            482500.0               1635750.0   \n",
       "\n",
       "      buildingarea^2  buildingarea yearbuilt  buildingarea propertycount  \\\n",
       "0             6241.0                150100.0                    317501.0   \n",
       "1            22500.0                285000.0                    602850.0   \n",
       "2            20164.0                285988.0                    570698.0   \n",
       "3            44100.0                401100.0                    843990.0   \n",
       "4            11449.0                202230.0                    430033.0   \n",
       "...              ...                     ...                         ...   \n",
       "8882         13924.0                237888.0                    346920.0   \n",
       "8883         24964.0                317896.0                    464520.0   \n",
       "8884         10816.0                209872.0                    680472.0   \n",
       "8885         14400.0                240000.0                    785160.0   \n",
       "8886         10609.0                198790.0                    673929.0   \n",
       "\n",
       "      yearbuilt^2  yearbuilt propertycount  propertycount^2  \n",
       "0       3610000.0                7636100.0       16152361.0  \n",
       "1       3610000.0                7636100.0       16152361.0  \n",
       "2       4056196.0                8094266.0       16152361.0  \n",
       "3       3648100.0                7676290.0       16152361.0  \n",
       "4       3572100.0                7595910.0       16152361.0  \n",
       "...           ...                      ...              ...  \n",
       "8882    4064256.0                5927040.0        8643600.0  \n",
       "8883    4048144.0                5915280.0        8643600.0  \n",
       "8884    4072324.0               13203774.0       42810849.0  \n",
       "8885    4000000.0               13086000.0       42810849.0  \n",
       "8886    3724900.0               12627990.0       42810849.0  \n",
       "\n",
       "[8887 rows x 36 columns]"
      ]
     },
     "execution_count": 39,
     "metadata": {},
     "output_type": "execute_result"
    }
   ],
   "source": [
    "X_poli"
   ]
  },
  {
   "cell_type": "markdown",
   "metadata": {},
   "source": [
    "Se generaron columnas de variables al cuadrado ($distancia^2$) y de variables interactuando entre ellas (distancia x carros).\n",
    "\n",
    "Notemos que se está generando una columna extra de unos. Algunos algoritmos de regresión lineal requieren de esta columna extra pues por default NO calculan un intercepto, pero nuestro algoritmo de sklearn sí lo incluye, así que hay que tirar esta columna:"
   ]
  },
  {
   "cell_type": "code",
   "execution_count": 46,
   "metadata": {},
   "outputs": [],
   "source": [
    "X_poli.drop('1', axis = 1, inplace = True)"
   ]
  },
  {
   "cell_type": "markdown",
   "metadata": {},
   "source": [
    "A este DataFrame le ajustamos una regresión lineal estándar y así obtenemos la regresión polinomial."
   ]
  },
  {
   "cell_type": "code",
   "execution_count": 47,
   "metadata": {},
   "outputs": [
    {
     "data": {
      "text/plain": [
       "LinearRegression()"
      ]
     },
     "execution_count": 47,
     "metadata": {},
     "output_type": "execute_result"
    }
   ],
   "source": [
    "ls_poli = LinearRegression()\n",
    "ls_poli.fit(X_poli,y)"
   ]
  },
  {
   "cell_type": "code",
   "execution_count": 50,
   "metadata": {},
   "outputs": [
    {
     "data": {
      "text/plain": [
       "Index(['distance', 'car', 'rooms', 'landsize', 'buildingarea', 'yearbuilt',\n",
       "       'propertycount', 'distance^2', 'distance car', 'distance rooms',\n",
       "       'distance landsize', 'distance buildingarea', 'distance yearbuilt',\n",
       "       'distance propertycount', 'car^2', 'car rooms', 'car landsize',\n",
       "       'car buildingarea', 'car yearbuilt', 'car propertycount', 'rooms^2',\n",
       "       'rooms landsize', 'rooms buildingarea', 'rooms yearbuilt',\n",
       "       'rooms propertycount', 'landsize^2', 'landsize buildingarea',\n",
       "       'landsize yearbuilt', 'landsize propertycount', 'buildingarea^2',\n",
       "       'buildingarea yearbuilt', 'buildingarea propertycount', 'yearbuilt^2',\n",
       "       'yearbuilt propertycount', 'propertycount^2'],\n",
       "      dtype='object')"
      ]
     },
     "execution_count": 50,
     "metadata": {},
     "output_type": "execute_result"
    }
   ],
   "source": [
    "X_poli.columns"
   ]
  },
  {
   "cell_type": "code",
   "execution_count": 52,
   "metadata": {},
   "outputs": [
    {
     "name": "stdout",
     "output_type": "stream",
     "text": [
      "Intercepto -9451078.97\n"
     ]
    },
    {
     "data": {
      "text/html": [
       "<div>\n",
       "<style scoped>\n",
       "    .dataframe tbody tr th:only-of-type {\n",
       "        vertical-align: middle;\n",
       "    }\n",
       "\n",
       "    .dataframe tbody tr th {\n",
       "        vertical-align: top;\n",
       "    }\n",
       "\n",
       "    .dataframe thead th {\n",
       "        text-align: right;\n",
       "    }\n",
       "</style>\n",
       "<table border=\"1\" class=\"dataframe\">\n",
       "  <thead>\n",
       "    <tr style=\"text-align: right;\">\n",
       "      <th></th>\n",
       "      <th>coeficientes</th>\n",
       "    </tr>\n",
       "  </thead>\n",
       "  <tbody>\n",
       "    <tr>\n",
       "      <th>distance</th>\n",
       "      <td>-1.650558e+05</td>\n",
       "    </tr>\n",
       "    <tr>\n",
       "      <th>car</th>\n",
       "      <td>8.798762e+05</td>\n",
       "    </tr>\n",
       "    <tr>\n",
       "      <th>rooms</th>\n",
       "      <td>2.371337e+06</td>\n",
       "    </tr>\n",
       "    <tr>\n",
       "      <th>landsize</th>\n",
       "      <td>9.613887e+02</td>\n",
       "    </tr>\n",
       "    <tr>\n",
       "      <th>buildingarea</th>\n",
       "      <td>-8.965440e+03</td>\n",
       "    </tr>\n",
       "    <tr>\n",
       "      <th>yearbuilt</th>\n",
       "      <td>1.228526e+04</td>\n",
       "    </tr>\n",
       "    <tr>\n",
       "      <th>propertycount</th>\n",
       "      <td>-2.128083e+02</td>\n",
       "    </tr>\n",
       "    <tr>\n",
       "      <th>distance^2</th>\n",
       "      <td>1.106176e+03</td>\n",
       "    </tr>\n",
       "    <tr>\n",
       "      <th>distance car</th>\n",
       "      <td>-1.805761e+03</td>\n",
       "    </tr>\n",
       "    <tr>\n",
       "      <th>distance rooms</th>\n",
       "      <td>-5.696765e+03</td>\n",
       "    </tr>\n",
       "    <tr>\n",
       "      <th>distance landsize</th>\n",
       "      <td>-3.297389e+00</td>\n",
       "    </tr>\n",
       "    <tr>\n",
       "      <th>distance buildingarea</th>\n",
       "      <td>-2.324538e+02</td>\n",
       "    </tr>\n",
       "    <tr>\n",
       "      <th>distance yearbuilt</th>\n",
       "      <td>7.960775e+01</td>\n",
       "    </tr>\n",
       "    <tr>\n",
       "      <th>distance propertycount</th>\n",
       "      <td>-2.097360e-01</td>\n",
       "    </tr>\n",
       "    <tr>\n",
       "      <th>car^2</th>\n",
       "      <td>-1.483269e+04</td>\n",
       "    </tr>\n",
       "    <tr>\n",
       "      <th>car rooms</th>\n",
       "      <td>-1.513898e+04</td>\n",
       "    </tr>\n",
       "    <tr>\n",
       "      <th>car landsize</th>\n",
       "      <td>-8.895498e+00</td>\n",
       "    </tr>\n",
       "    <tr>\n",
       "      <th>car buildingarea</th>\n",
       "      <td>6.147836e+02</td>\n",
       "    </tr>\n",
       "    <tr>\n",
       "      <th>car yearbuilt</th>\n",
       "      <td>-4.078161e+02</td>\n",
       "    </tr>\n",
       "    <tr>\n",
       "      <th>car propertycount</th>\n",
       "      <td>1.750569e+00</td>\n",
       "    </tr>\n",
       "    <tr>\n",
       "      <th>rooms^2</th>\n",
       "      <td>-2.747993e+04</td>\n",
       "    </tr>\n",
       "    <tr>\n",
       "      <th>rooms landsize</th>\n",
       "      <td>1.658812e+01</td>\n",
       "    </tr>\n",
       "    <tr>\n",
       "      <th>rooms buildingarea</th>\n",
       "      <td>4.732061e+02</td>\n",
       "    </tr>\n",
       "    <tr>\n",
       "      <th>rooms yearbuilt</th>\n",
       "      <td>-1.033167e+03</td>\n",
       "    </tr>\n",
       "    <tr>\n",
       "      <th>rooms propertycount</th>\n",
       "      <td>-1.912282e-01</td>\n",
       "    </tr>\n",
       "    <tr>\n",
       "      <th>landsize^2</th>\n",
       "      <td>-1.368071e-03</td>\n",
       "    </tr>\n",
       "    <tr>\n",
       "      <th>landsize buildingarea</th>\n",
       "      <td>1.324188e+00</td>\n",
       "    </tr>\n",
       "    <tr>\n",
       "      <th>landsize yearbuilt</th>\n",
       "      <td>-5.248754e-01</td>\n",
       "    </tr>\n",
       "    <tr>\n",
       "      <th>landsize propertycount</th>\n",
       "      <td>1.588443e-04</td>\n",
       "    </tr>\n",
       "    <tr>\n",
       "      <th>buildingarea^2</th>\n",
       "      <td>-2.233873e+00</td>\n",
       "    </tr>\n",
       "    <tr>\n",
       "      <th>buildingarea yearbuilt</th>\n",
       "      <td>6.417108e+00</td>\n",
       "    </tr>\n",
       "    <tr>\n",
       "      <th>buildingarea propertycount</th>\n",
       "      <td>-7.963594e-03</td>\n",
       "    </tr>\n",
       "    <tr>\n",
       "      <th>yearbuilt^2</th>\n",
       "      <td>-3.857208e+00</td>\n",
       "    </tr>\n",
       "    <tr>\n",
       "      <th>yearbuilt propertycount</th>\n",
       "      <td>1.290756e-01</td>\n",
       "    </tr>\n",
       "    <tr>\n",
       "      <th>propertycount^2</th>\n",
       "      <td>-2.139887e-03</td>\n",
       "    </tr>\n",
       "  </tbody>\n",
       "</table>\n",
       "</div>"
      ],
      "text/plain": [
       "                            coeficientes\n",
       "distance                   -1.650558e+05\n",
       "car                         8.798762e+05\n",
       "rooms                       2.371337e+06\n",
       "landsize                    9.613887e+02\n",
       "buildingarea               -8.965440e+03\n",
       "yearbuilt                   1.228526e+04\n",
       "propertycount              -2.128083e+02\n",
       "distance^2                  1.106176e+03\n",
       "distance car               -1.805761e+03\n",
       "distance rooms             -5.696765e+03\n",
       "distance landsize          -3.297389e+00\n",
       "distance buildingarea      -2.324538e+02\n",
       "distance yearbuilt          7.960775e+01\n",
       "distance propertycount     -2.097360e-01\n",
       "car^2                      -1.483269e+04\n",
       "car rooms                  -1.513898e+04\n",
       "car landsize               -8.895498e+00\n",
       "car buildingarea            6.147836e+02\n",
       "car yearbuilt              -4.078161e+02\n",
       "car propertycount           1.750569e+00\n",
       "rooms^2                    -2.747993e+04\n",
       "rooms landsize              1.658812e+01\n",
       "rooms buildingarea          4.732061e+02\n",
       "rooms yearbuilt            -1.033167e+03\n",
       "rooms propertycount        -1.912282e-01\n",
       "landsize^2                 -1.368071e-03\n",
       "landsize buildingarea       1.324188e+00\n",
       "landsize yearbuilt         -5.248754e-01\n",
       "landsize propertycount      1.588443e-04\n",
       "buildingarea^2             -2.233873e+00\n",
       "buildingarea yearbuilt      6.417108e+00\n",
       "buildingarea propertycount -7.963594e-03\n",
       "yearbuilt^2                -3.857208e+00\n",
       "yearbuilt propertycount     1.290756e-01\n",
       "propertycount^2            -2.139887e-03"
      ]
     },
     "execution_count": 52,
     "metadata": {},
     "output_type": "execute_result"
    }
   ],
   "source": [
    "print('Intercepto % 1.2f' % ls_poli.intercept_)\n",
    "\n",
    "coefs = pd.DataFrame(index = X_poli.columns, \n",
    "                     data = ls_poli.coef_,columns=['coeficientes'])\n",
    "\n",
    "\n",
    "coefs"
   ]
  },
  {
   "cell_type": "code",
   "execution_count": 53,
   "metadata": {},
   "outputs": [
    {
     "data": {
      "image/png": "[encoded data removed]",
      "text/plain": [
       "<Figure size 1080x720 with 1 Axes>"
      ]
     },
     "metadata": {},
     "output_type": "display_data"
    }
   ],
   "source": [
    "coefs.plot.barh(figsize=(15,10));\n",
    "#coefs.sort_values(\"coeficientes\").plot.barh(figsize=(15,10))\n",
    "#pd.concat([coefs.sort_values(\"coeficientes\").head(5),\n",
    "#coefs.sort_values(\"coeficientes\").tail(5)]).plot.barh(figsize=(15,10))"
   ]
  },
  {
   "cell_type": "code",
   "execution_count": 54,
   "metadata": {},
   "outputs": [
    {
     "data": {
      "image/png": "[encoded data removed]",
      "text/plain": [
       "<Figure size 576x288 with 1 Axes>"
      ]
     },
     "metadata": {},
     "output_type": "display_data"
    }
   ],
   "source": [
    "coefs.sort_values('coeficientes',inplace=True)\n",
    "imp_coef = pd.concat([coefs.head(5), coefs.tail(5)])\n",
    "imp_coef.plot(kind = \"barh\", color='r',alpha=0.8,figsize = (8,4))\n",
    "plt.title(\"Coeficientes del modelo\");"
   ]
  },
  {
   "cell_type": "markdown",
   "metadata": {},
   "source": [
    "Ninguna de las variables agregadas le ayudó al modelo (las variables importantes son las mismas de cuando hicimos la regresión multilineal), incluso *buildingarea* dejó de ser importante."
   ]
  },
  {
   "cell_type": "markdown",
   "metadata": {},
   "source": [
    "# Entrenamiento adecuado (FIFA 18)\n",
    "# Machine Learning BIEN\n",
    "\n",
    "## Lectura y preprocesamiento de datos\n",
    "\n",
    "Para la siguiente regresión múltiple se usarán las estadísticas de los jugadores del FIFA 18 para predecir el *overall* (puntaje total asignado al jugador) en función de sus demás aptitudes en el terreno de juego (agilidad, potencia, dribble, aceleración...)"
   ]
  },
  {
   "cell_type": "code",
   "execution_count": 56,
   "metadata": {},
   "outputs": [
    {
     "name": "stderr",
     "output_type": "stream",
     "text": [
      "C:\\Users\\TychoBrahe\\anaconda3\\lib\\site-packages\\IPython\\core\\interactiveshell.py:3071: DtypeWarning: Columns (23,35) have mixed types.Specify dtype option on import or set low_memory=False.\n",
      "  has_raised = await self.run_ast_nodes(code_ast.body, cell_name,\n"
     ]
    },
    {
     "data": {
      "text/html": [
       "<div>\n",
       "<style scoped>\n",
       "    .dataframe tbody tr th:only-of-type {\n",
       "        vertical-align: middle;\n",
       "    }\n",
       "\n",
       "    .dataframe tbody tr th {\n",
       "        vertical-align: top;\n",
       "    }\n",
       "\n",
       "    .dataframe thead th {\n",
       "        text-align: right;\n",
       "    }\n",
       "</style>\n",
       "<table border=\"1\" class=\"dataframe\">\n",
       "  <thead>\n",
       "    <tr style=\"text-align: right;\">\n",
       "      <th></th>\n",
       "      <th>Unnamed: 0</th>\n",
       "      <th>Name</th>\n",
       "      <th>Age</th>\n",
       "      <th>Photo</th>\n",
       "      <th>Nationality</th>\n",
       "      <th>Flag</th>\n",
       "      <th>Overall</th>\n",
       "      <th>Potential</th>\n",
       "      <th>Club</th>\n",
       "      <th>Club Logo</th>\n",
       "      <th>...</th>\n",
       "      <th>RB</th>\n",
       "      <th>RCB</th>\n",
       "      <th>RCM</th>\n",
       "      <th>RDM</th>\n",
       "      <th>RF</th>\n",
       "      <th>RM</th>\n",
       "      <th>RS</th>\n",
       "      <th>RW</th>\n",
       "      <th>RWB</th>\n",
       "      <th>ST</th>\n",
       "    </tr>\n",
       "  </thead>\n",
       "  <tbody>\n",
       "    <tr>\n",
       "      <th>0</th>\n",
       "      <td>0</td>\n",
       "      <td>Cristiano Ronaldo</td>\n",
       "      <td>32</td>\n",
       "      <td>https://cdn.sofifa.org/48/18/players/20801.png</td>\n",
       "      <td>Portugal</td>\n",
       "      <td>https://cdn.sofifa.org/flags/38.png</td>\n",
       "      <td>94</td>\n",
       "      <td>94</td>\n",
       "      <td>Real Madrid CF</td>\n",
       "      <td>https://cdn.sofifa.org/24/18/teams/243.png</td>\n",
       "      <td>...</td>\n",
       "      <td>61.0</td>\n",
       "      <td>53.0</td>\n",
       "      <td>82.0</td>\n",
       "      <td>62.0</td>\n",
       "      <td>91.0</td>\n",
       "      <td>89.0</td>\n",
       "      <td>92.0</td>\n",
       "      <td>91.0</td>\n",
       "      <td>66.0</td>\n",
       "      <td>92.0</td>\n",
       "    </tr>\n",
       "    <tr>\n",
       "      <th>1</th>\n",
       "      <td>1</td>\n",
       "      <td>L. Messi</td>\n",
       "      <td>30</td>\n",
       "      <td>https://cdn.sofifa.org/48/18/players/158023.png</td>\n",
       "      <td>Argentina</td>\n",
       "      <td>https://cdn.sofifa.org/flags/52.png</td>\n",
       "      <td>93</td>\n",
       "      <td>93</td>\n",
       "      <td>FC Barcelona</td>\n",
       "      <td>https://cdn.sofifa.org/24/18/teams/241.png</td>\n",
       "      <td>...</td>\n",
       "      <td>57.0</td>\n",
       "      <td>45.0</td>\n",
       "      <td>84.0</td>\n",
       "      <td>59.0</td>\n",
       "      <td>92.0</td>\n",
       "      <td>90.0</td>\n",
       "      <td>88.0</td>\n",
       "      <td>91.0</td>\n",
       "      <td>62.0</td>\n",
       "      <td>88.0</td>\n",
       "    </tr>\n",
       "    <tr>\n",
       "      <th>2</th>\n",
       "      <td>2</td>\n",
       "      <td>Neymar</td>\n",
       "      <td>25</td>\n",
       "      <td>https://cdn.sofifa.org/48/18/players/190871.png</td>\n",
       "      <td>Brazil</td>\n",
       "      <td>https://cdn.sofifa.org/flags/54.png</td>\n",
       "      <td>92</td>\n",
       "      <td>94</td>\n",
       "      <td>Paris Saint-Germain</td>\n",
       "      <td>https://cdn.sofifa.org/24/18/teams/73.png</td>\n",
       "      <td>...</td>\n",
       "      <td>59.0</td>\n",
       "      <td>46.0</td>\n",
       "      <td>79.0</td>\n",
       "      <td>59.0</td>\n",
       "      <td>88.0</td>\n",
       "      <td>87.0</td>\n",
       "      <td>84.0</td>\n",
       "      <td>89.0</td>\n",
       "      <td>64.0</td>\n",
       "      <td>84.0</td>\n",
       "    </tr>\n",
       "    <tr>\n",
       "      <th>3</th>\n",
       "      <td>3</td>\n",
       "      <td>L. Suárez</td>\n",
       "      <td>30</td>\n",
       "      <td>https://cdn.sofifa.org/48/18/players/176580.png</td>\n",
       "      <td>Uruguay</td>\n",
       "      <td>https://cdn.sofifa.org/flags/60.png</td>\n",
       "      <td>92</td>\n",
       "      <td>92</td>\n",
       "      <td>FC Barcelona</td>\n",
       "      <td>https://cdn.sofifa.org/24/18/teams/241.png</td>\n",
       "      <td>...</td>\n",
       "      <td>64.0</td>\n",
       "      <td>58.0</td>\n",
       "      <td>80.0</td>\n",
       "      <td>65.0</td>\n",
       "      <td>88.0</td>\n",
       "      <td>85.0</td>\n",
       "      <td>88.0</td>\n",
       "      <td>87.0</td>\n",
       "      <td>68.0</td>\n",
       "      <td>88.0</td>\n",
       "    </tr>\n",
       "    <tr>\n",
       "      <th>4</th>\n",
       "      <td>4</td>\n",
       "      <td>M. Neuer</td>\n",
       "      <td>31</td>\n",
       "      <td>https://cdn.sofifa.org/48/18/players/167495.png</td>\n",
       "      <td>Germany</td>\n",
       "      <td>https://cdn.sofifa.org/flags/21.png</td>\n",
       "      <td>92</td>\n",
       "      <td>92</td>\n",
       "      <td>FC Bayern Munich</td>\n",
       "      <td>https://cdn.sofifa.org/24/18/teams/21.png</td>\n",
       "      <td>...</td>\n",
       "      <td>NaN</td>\n",
       "      <td>NaN</td>\n",
       "      <td>NaN</td>\n",
       "      <td>NaN</td>\n",
       "      <td>NaN</td>\n",
       "      <td>NaN</td>\n",
       "      <td>NaN</td>\n",
       "      <td>NaN</td>\n",
       "      <td>NaN</td>\n",
       "      <td>NaN</td>\n",
       "    </tr>\n",
       "  </tbody>\n",
       "</table>\n",
       "<p>5 rows × 75 columns</p>\n",
       "</div>"
      ],
      "text/plain": [
       "   Unnamed: 0               Name  Age  \\\n",
       "0           0  Cristiano Ronaldo   32   \n",
       "1           1           L. Messi   30   \n",
       "2           2             Neymar   25   \n",
       "3           3          L. Suárez   30   \n",
       "4           4           M. Neuer   31   \n",
       "\n",
       "                                             Photo Nationality  \\\n",
       "0   https://cdn.sofifa.org/48/18/players/20801.png    Portugal   \n",
       "1  https://cdn.sofifa.org/48/18/players/158023.png   Argentina   \n",
       "2  https://cdn.sofifa.org/48/18/players/190871.png      Brazil   \n",
       "3  https://cdn.sofifa.org/48/18/players/176580.png     Uruguay   \n",
       "4  https://cdn.sofifa.org/48/18/players/167495.png     Germany   \n",
       "\n",
       "                                  Flag  Overall  Potential  \\\n",
       "0  https://cdn.sofifa.org/flags/38.png       94         94   \n",
       "1  https://cdn.sofifa.org/flags/52.png       93         93   \n",
       "2  https://cdn.sofifa.org/flags/54.png       92         94   \n",
       "3  https://cdn.sofifa.org/flags/60.png       92         92   \n",
       "4  https://cdn.sofifa.org/flags/21.png       92         92   \n",
       "\n",
       "                  Club                                   Club Logo  ...    RB  \\\n",
       "0       Real Madrid CF  https://cdn.sofifa.org/24/18/teams/243.png  ...  61.0   \n",
       "1         FC Barcelona  https://cdn.sofifa.org/24/18/teams/241.png  ...  57.0   \n",
       "2  Paris Saint-Germain   https://cdn.sofifa.org/24/18/teams/73.png  ...  59.0   \n",
       "3         FC Barcelona  https://cdn.sofifa.org/24/18/teams/241.png  ...  64.0   \n",
       "4     FC Bayern Munich   https://cdn.sofifa.org/24/18/teams/21.png  ...   NaN   \n",
       "\n",
       "    RCB   RCM   RDM    RF    RM    RS    RW   RWB    ST  \n",
       "0  53.0  82.0  62.0  91.0  89.0  92.0  91.0  66.0  92.0  \n",
       "1  45.0  84.0  59.0  92.0  90.0  88.0  91.0  62.0  88.0  \n",
       "2  46.0  79.0  59.0  88.0  87.0  84.0  89.0  64.0  84.0  \n",
       "3  58.0  80.0  65.0  88.0  85.0  88.0  87.0  68.0  88.0  \n",
       "4   NaN   NaN   NaN   NaN   NaN   NaN   NaN   NaN   NaN  \n",
       "\n",
       "[5 rows x 75 columns]"
      ]
     },
     "execution_count": 56,
     "metadata": {},
     "output_type": "execute_result"
    }
   ],
   "source": [
    "df =  pd.read_csv('Datos/CompleteDataset.csv.zip', compression='zip')\n",
    "df.head()"
   ]
  },
  {
   "cell_type": "markdown",
   "metadata": {},
   "source": [
    "Content\n",
    "\n",
    "    Every player featuring in FIFA 18\n",
    "    70+ attributes\n",
    "    Player and Flag Images\n",
    "    Playing Position Data\n",
    "    Attributes based on actual data of the latest EA's FIFA 18 game\n",
    "    Attributes include on all player style statistics like Dribbling, Aggression, GK Skills etc.\n",
    "    Player personal data like Nationality, Photo, Club, Age, Wage, Salary etc.\n"
   ]
  },
  {
   "cell_type": "markdown",
   "metadata": {},
   "source": [
    "Buena práctica: pasar columas a minúsculas."
   ]
  },
  {
   "cell_type": "code",
   "execution_count": 57,
   "metadata": {},
   "outputs": [
    {
     "data": {
      "text/plain": [
       "Index(['unnamed: 0', 'name', 'age', 'photo', 'nationality', 'flag', 'overall',\n",
       "       'potential', 'club', 'club logo', 'value', 'wage', 'special',\n",
       "       'acceleration', 'aggression', 'agility', 'balance', 'ball control',\n",
       "       'composure', 'crossing', 'curve', 'dribbling', 'finishing',\n",
       "       'free kick accuracy', 'gk diving', 'gk handling', 'gk kicking',\n",
       "       'gk positioning', 'gk reflexes', 'heading accuracy', 'interceptions',\n",
       "       'jumping', 'long passing', 'long shots', 'marking', 'penalties',\n",
       "       'positioning', 'reactions', 'short passing', 'shot power',\n",
       "       'sliding tackle', 'sprint speed', 'stamina', 'standing tackle',\n",
       "       'strength', 'vision', 'volleys', 'cam', 'cb', 'cdm', 'cf', 'cm', 'id',\n",
       "       'lam', 'lb', 'lcb', 'lcm', 'ldm', 'lf', 'lm', 'ls', 'lw', 'lwb',\n",
       "       'preferred positions', 'ram', 'rb', 'rcb', 'rcm', 'rdm', 'rf', 'rm',\n",
       "       'rs', 'rw', 'rwb', 'st'],\n",
       "      dtype='object')"
      ]
     },
     "execution_count": 57,
     "metadata": {},
     "output_type": "execute_result"
    }
   ],
   "source": [
    "df.columns = df.columns.str.lower()\n",
    "df.columns"
   ]
  },
  {
   "cell_type": "markdown",
   "metadata": {},
   "source": [
    "Para el modelo vamos a restringirnos a las siguientes variables:"
   ]
  },
  {
   "cell_type": "code",
   "execution_count": 58,
   "metadata": {},
   "outputs": [],
   "source": [
    "#nos quedamos con lo que queremos\n",
    "cols_new = ['name', 'age', 'overall',\n",
    "       'value', \n",
    "       'acceleration', 'aggression', 'agility', 'balance', 'ball control',\n",
    "       'composure', 'crossing', 'curve', 'dribbling', 'finishing',\n",
    "       'heading accuracy', 'interceptions',\n",
    "       'jumping', 'long passing', 'long shots', 'marking', 'penalties',\n",
    "       'positioning', 'reactions', 'short passing', 'shot power',\n",
    "       'sliding tackle', 'sprint speed', 'stamina', 'standing tackle',\n",
    "       'strength', 'vision', 'volleys']\n",
    "df = df [cols_new]"
   ]
  },
  {
   "cell_type": "code",
   "execution_count": 59,
   "metadata": {},
   "outputs": [
    {
     "data": {
      "text/plain": [
       "name                object\n",
       "age                  int64\n",
       "overall              int64\n",
       "value               object\n",
       "acceleration        object\n",
       "aggression          object\n",
       "agility             object\n",
       "balance             object\n",
       "ball control        object\n",
       "composure           object\n",
       "crossing            object\n",
       "curve               object\n",
       "dribbling           object\n",
       "finishing           object\n",
       "heading accuracy    object\n",
       "interceptions       object\n",
       "jumping             object\n",
       "long passing        object\n",
       "long shots          object\n",
       "marking             object\n",
       "penalties           object\n",
       "positioning         object\n",
       "reactions           object\n",
       "short passing       object\n",
       "shot power          object\n",
       "sliding tackle      object\n",
       "sprint speed        object\n",
       "stamina             object\n",
       "standing tackle     object\n",
       "strength            object\n",
       "vision              object\n",
       "volleys             object\n",
       "dtype: object"
      ]
     },
     "execution_count": 59,
     "metadata": {},
     "output_type": "execute_result"
    }
   ],
   "source": [
    "df.dtypes"
   ]
  },
  {
   "cell_type": "markdown",
   "metadata": {},
   "source": [
    "Todas las variables que deberían ser numéricas son strings. Vamos a cambiarlas:"
   ]
  },
  {
   "cell_type": "code",
   "execution_count": 60,
   "metadata": {},
   "outputs": [
    {
     "ename": "ValueError",
     "evalue": "could not convert string to float: '70+9'",
     "output_type": "error",
     "traceback": [
      "\u001b[1;31m---------------------------------------------------------------------------\u001b[0m",
      "\u001b[1;31mValueError\u001b[0m                                Traceback (most recent call last)",
      "\u001b[1;32m<ipython-input-60-86baa2839d90>\u001b[0m in \u001b[0;36m<module>\u001b[1;34m\u001b[0m\n\u001b[0;32m      3\u001b[0m \u001b[0mnum_cols\u001b[0m \u001b[1;33m=\u001b[0m \u001b[1;33m[\u001b[0m\u001b[1;34m'acceleration'\u001b[0m\u001b[1;33m,\u001b[0m \u001b[1;34m'aggression'\u001b[0m\u001b[1;33m,\u001b[0m \u001b[1;34m'agility'\u001b[0m\u001b[1;33m,\u001b[0m \u001b[1;34m'balance'\u001b[0m\u001b[1;33m,\u001b[0m \u001b[1;34m'ball control'\u001b[0m\u001b[1;33m,\u001b[0m \u001b[1;34m'composure'\u001b[0m\u001b[1;33m,\u001b[0m \u001b[1;34m'crossing'\u001b[0m\u001b[1;33m,\u001b[0m \u001b[1;34m'curve'\u001b[0m\u001b[1;33m,\u001b[0m \u001b[1;34m'dribbling'\u001b[0m\u001b[1;33m,\u001b[0m \u001b[1;34m'finishing'\u001b[0m\u001b[1;33m,\u001b[0m \u001b[1;34m'heading accuracy'\u001b[0m\u001b[1;33m,\u001b[0m \u001b[1;34m'interceptions'\u001b[0m\u001b[1;33m,\u001b[0m \u001b[1;34m'jumping'\u001b[0m\u001b[1;33m,\u001b[0m \u001b[1;34m'long passing'\u001b[0m\u001b[1;33m,\u001b[0m \u001b[1;34m'long shots'\u001b[0m\u001b[1;33m,\u001b[0m \u001b[1;34m'marking'\u001b[0m\u001b[1;33m,\u001b[0m \u001b[1;34m'penalties'\u001b[0m\u001b[1;33m,\u001b[0m \u001b[1;34m'positioning'\u001b[0m\u001b[1;33m,\u001b[0m \u001b[1;34m'reactions'\u001b[0m\u001b[1;33m,\u001b[0m \u001b[1;34m'short passing'\u001b[0m\u001b[1;33m,\u001b[0m \u001b[1;34m'shot power'\u001b[0m\u001b[1;33m,\u001b[0m \u001b[1;34m'sliding tackle'\u001b[0m\u001b[1;33m,\u001b[0m \u001b[1;34m'sprint speed'\u001b[0m\u001b[1;33m,\u001b[0m \u001b[1;34m'stamina'\u001b[0m\u001b[1;33m,\u001b[0m \u001b[1;34m'standing tackle'\u001b[0m\u001b[1;33m,\u001b[0m \u001b[1;34m'strength'\u001b[0m\u001b[1;33m,\u001b[0m \u001b[1;34m'vision'\u001b[0m\u001b[1;33m,\u001b[0m \u001b[1;34m'volleys'\u001b[0m\u001b[1;33m]\u001b[0m\u001b[1;33m\u001b[0m\u001b[1;33m\u001b[0m\u001b[0m\n\u001b[0;32m      4\u001b[0m \u001b[1;32mfor\u001b[0m \u001b[0mi\u001b[0m \u001b[1;32min\u001b[0m \u001b[0mnum_cols\u001b[0m\u001b[1;33m:\u001b[0m\u001b[1;33m\u001b[0m\u001b[1;33m\u001b[0m\u001b[0m\n\u001b[1;32m----> 5\u001b[1;33m     \u001b[0mdf\u001b[0m\u001b[1;33m[\u001b[0m\u001b[0mi\u001b[0m\u001b[1;33m]\u001b[0m \u001b[1;33m=\u001b[0m \u001b[0mdf\u001b[0m\u001b[1;33m[\u001b[0m\u001b[0mi\u001b[0m\u001b[1;33m]\u001b[0m\u001b[1;33m.\u001b[0m\u001b[0mastype\u001b[0m\u001b[1;33m(\u001b[0m\u001b[0mfloat\u001b[0m\u001b[1;33m)\u001b[0m\u001b[1;33m\u001b[0m\u001b[1;33m\u001b[0m\u001b[0m\n\u001b[0m",
      "\u001b[1;32m~\\anaconda3\\lib\\site-packages\\pandas\\core\\generic.py\u001b[0m in \u001b[0;36mastype\u001b[1;34m(self, dtype, copy, errors)\u001b[0m\n\u001b[0;32m   5696\u001b[0m         \u001b[1;32melse\u001b[0m\u001b[1;33m:\u001b[0m\u001b[1;33m\u001b[0m\u001b[1;33m\u001b[0m\u001b[0m\n\u001b[0;32m   5697\u001b[0m             \u001b[1;31m# else, only a single dtype is given\u001b[0m\u001b[1;33m\u001b[0m\u001b[1;33m\u001b[0m\u001b[1;33m\u001b[0m\u001b[0m\n\u001b[1;32m-> 5698\u001b[1;33m             \u001b[0mnew_data\u001b[0m \u001b[1;33m=\u001b[0m \u001b[0mself\u001b[0m\u001b[1;33m.\u001b[0m\u001b[0m_data\u001b[0m\u001b[1;33m.\u001b[0m\u001b[0mastype\u001b[0m\u001b[1;33m(\u001b[0m\u001b[0mdtype\u001b[0m\u001b[1;33m=\u001b[0m\u001b[0mdtype\u001b[0m\u001b[1;33m,\u001b[0m \u001b[0mcopy\u001b[0m\u001b[1;33m=\u001b[0m\u001b[0mcopy\u001b[0m\u001b[1;33m,\u001b[0m \u001b[0merrors\u001b[0m\u001b[1;33m=\u001b[0m\u001b[0merrors\u001b[0m\u001b[1;33m)\u001b[0m\u001b[1;33m\u001b[0m\u001b[1;33m\u001b[0m\u001b[0m\n\u001b[0m\u001b[0;32m   5699\u001b[0m             \u001b[1;32mreturn\u001b[0m \u001b[0mself\u001b[0m\u001b[1;33m.\u001b[0m\u001b[0m_constructor\u001b[0m\u001b[1;33m(\u001b[0m\u001b[0mnew_data\u001b[0m\u001b[1;33m)\u001b[0m\u001b[1;33m.\u001b[0m\u001b[0m__finalize__\u001b[0m\u001b[1;33m(\u001b[0m\u001b[0mself\u001b[0m\u001b[1;33m)\u001b[0m\u001b[1;33m\u001b[0m\u001b[1;33m\u001b[0m\u001b[0m\n\u001b[0;32m   5700\u001b[0m \u001b[1;33m\u001b[0m\u001b[0m\n",
      "\u001b[1;32m~\\anaconda3\\lib\\site-packages\\pandas\\core\\internals\\managers.py\u001b[0m in \u001b[0;36mastype\u001b[1;34m(self, dtype, copy, errors)\u001b[0m\n\u001b[0;32m    580\u001b[0m \u001b[1;33m\u001b[0m\u001b[0m\n\u001b[0;32m    581\u001b[0m     \u001b[1;32mdef\u001b[0m \u001b[0mastype\u001b[0m\u001b[1;33m(\u001b[0m\u001b[0mself\u001b[0m\u001b[1;33m,\u001b[0m \u001b[0mdtype\u001b[0m\u001b[1;33m,\u001b[0m \u001b[0mcopy\u001b[0m\u001b[1;33m:\u001b[0m \u001b[0mbool\u001b[0m \u001b[1;33m=\u001b[0m \u001b[1;32mFalse\u001b[0m\u001b[1;33m,\u001b[0m \u001b[0merrors\u001b[0m\u001b[1;33m:\u001b[0m \u001b[0mstr\u001b[0m \u001b[1;33m=\u001b[0m \u001b[1;34m\"raise\"\u001b[0m\u001b[1;33m)\u001b[0m\u001b[1;33m:\u001b[0m\u001b[1;33m\u001b[0m\u001b[1;33m\u001b[0m\u001b[0m\n\u001b[1;32m--> 582\u001b[1;33m         \u001b[1;32mreturn\u001b[0m \u001b[0mself\u001b[0m\u001b[1;33m.\u001b[0m\u001b[0mapply\u001b[0m\u001b[1;33m(\u001b[0m\u001b[1;34m\"astype\"\u001b[0m\u001b[1;33m,\u001b[0m \u001b[0mdtype\u001b[0m\u001b[1;33m=\u001b[0m\u001b[0mdtype\u001b[0m\u001b[1;33m,\u001b[0m \u001b[0mcopy\u001b[0m\u001b[1;33m=\u001b[0m\u001b[0mcopy\u001b[0m\u001b[1;33m,\u001b[0m \u001b[0merrors\u001b[0m\u001b[1;33m=\u001b[0m\u001b[0merrors\u001b[0m\u001b[1;33m)\u001b[0m\u001b[1;33m\u001b[0m\u001b[1;33m\u001b[0m\u001b[0m\n\u001b[0m\u001b[0;32m    583\u001b[0m \u001b[1;33m\u001b[0m\u001b[0m\n\u001b[0;32m    584\u001b[0m     \u001b[1;32mdef\u001b[0m \u001b[0mconvert\u001b[0m\u001b[1;33m(\u001b[0m\u001b[0mself\u001b[0m\u001b[1;33m,\u001b[0m \u001b[1;33m**\u001b[0m\u001b[0mkwargs\u001b[0m\u001b[1;33m)\u001b[0m\u001b[1;33m:\u001b[0m\u001b[1;33m\u001b[0m\u001b[1;33m\u001b[0m\u001b[0m\n",
      "\u001b[1;32m~\\anaconda3\\lib\\site-packages\\pandas\\core\\internals\\managers.py\u001b[0m in \u001b[0;36mapply\u001b[1;34m(self, f, filter, **kwargs)\u001b[0m\n\u001b[0;32m    440\u001b[0m                 \u001b[0mapplied\u001b[0m \u001b[1;33m=\u001b[0m \u001b[0mb\u001b[0m\u001b[1;33m.\u001b[0m\u001b[0mapply\u001b[0m\u001b[1;33m(\u001b[0m\u001b[0mf\u001b[0m\u001b[1;33m,\u001b[0m \u001b[1;33m**\u001b[0m\u001b[0mkwargs\u001b[0m\u001b[1;33m)\u001b[0m\u001b[1;33m\u001b[0m\u001b[1;33m\u001b[0m\u001b[0m\n\u001b[0;32m    441\u001b[0m             \u001b[1;32melse\u001b[0m\u001b[1;33m:\u001b[0m\u001b[1;33m\u001b[0m\u001b[1;33m\u001b[0m\u001b[0m\n\u001b[1;32m--> 442\u001b[1;33m                 \u001b[0mapplied\u001b[0m \u001b[1;33m=\u001b[0m \u001b[0mgetattr\u001b[0m\u001b[1;33m(\u001b[0m\u001b[0mb\u001b[0m\u001b[1;33m,\u001b[0m \u001b[0mf\u001b[0m\u001b[1;33m)\u001b[0m\u001b[1;33m(\u001b[0m\u001b[1;33m**\u001b[0m\u001b[0mkwargs\u001b[0m\u001b[1;33m)\u001b[0m\u001b[1;33m\u001b[0m\u001b[1;33m\u001b[0m\u001b[0m\n\u001b[0m\u001b[0;32m    443\u001b[0m             \u001b[0mresult_blocks\u001b[0m \u001b[1;33m=\u001b[0m \u001b[0m_extend_blocks\u001b[0m\u001b[1;33m(\u001b[0m\u001b[0mapplied\u001b[0m\u001b[1;33m,\u001b[0m \u001b[0mresult_blocks\u001b[0m\u001b[1;33m)\u001b[0m\u001b[1;33m\u001b[0m\u001b[1;33m\u001b[0m\u001b[0m\n\u001b[0;32m    444\u001b[0m \u001b[1;33m\u001b[0m\u001b[0m\n",
      "\u001b[1;32m~\\anaconda3\\lib\\site-packages\\pandas\\core\\internals\\blocks.py\u001b[0m in \u001b[0;36mastype\u001b[1;34m(self, dtype, copy, errors)\u001b[0m\n\u001b[0;32m    623\u001b[0m             \u001b[0mvals1d\u001b[0m \u001b[1;33m=\u001b[0m \u001b[0mvalues\u001b[0m\u001b[1;33m.\u001b[0m\u001b[0mravel\u001b[0m\u001b[1;33m(\u001b[0m\u001b[1;33m)\u001b[0m\u001b[1;33m\u001b[0m\u001b[1;33m\u001b[0m\u001b[0m\n\u001b[0;32m    624\u001b[0m             \u001b[1;32mtry\u001b[0m\u001b[1;33m:\u001b[0m\u001b[1;33m\u001b[0m\u001b[1;33m\u001b[0m\u001b[0m\n\u001b[1;32m--> 625\u001b[1;33m                 \u001b[0mvalues\u001b[0m \u001b[1;33m=\u001b[0m \u001b[0mastype_nansafe\u001b[0m\u001b[1;33m(\u001b[0m\u001b[0mvals1d\u001b[0m\u001b[1;33m,\u001b[0m \u001b[0mdtype\u001b[0m\u001b[1;33m,\u001b[0m \u001b[0mcopy\u001b[0m\u001b[1;33m=\u001b[0m\u001b[1;32mTrue\u001b[0m\u001b[1;33m)\u001b[0m\u001b[1;33m\u001b[0m\u001b[1;33m\u001b[0m\u001b[0m\n\u001b[0m\u001b[0;32m    626\u001b[0m             \u001b[1;32mexcept\u001b[0m \u001b[1;33m(\u001b[0m\u001b[0mValueError\u001b[0m\u001b[1;33m,\u001b[0m \u001b[0mTypeError\u001b[0m\u001b[1;33m)\u001b[0m\u001b[1;33m:\u001b[0m\u001b[1;33m\u001b[0m\u001b[1;33m\u001b[0m\u001b[0m\n\u001b[0;32m    627\u001b[0m                 \u001b[1;31m# e.g. astype_nansafe can fail on object-dtype of strings\u001b[0m\u001b[1;33m\u001b[0m\u001b[1;33m\u001b[0m\u001b[1;33m\u001b[0m\u001b[0m\n",
      "\u001b[1;32m~\\anaconda3\\lib\\site-packages\\pandas\\core\\dtypes\\cast.py\u001b[0m in \u001b[0;36mastype_nansafe\u001b[1;34m(arr, dtype, copy, skipna)\u001b[0m\n\u001b[0;32m    895\u001b[0m     \u001b[1;32mif\u001b[0m \u001b[0mcopy\u001b[0m \u001b[1;32mor\u001b[0m \u001b[0mis_object_dtype\u001b[0m\u001b[1;33m(\u001b[0m\u001b[0marr\u001b[0m\u001b[1;33m)\u001b[0m \u001b[1;32mor\u001b[0m \u001b[0mis_object_dtype\u001b[0m\u001b[1;33m(\u001b[0m\u001b[0mdtype\u001b[0m\u001b[1;33m)\u001b[0m\u001b[1;33m:\u001b[0m\u001b[1;33m\u001b[0m\u001b[1;33m\u001b[0m\u001b[0m\n\u001b[0;32m    896\u001b[0m         \u001b[1;31m# Explicit copy, or required since NumPy can't view from / to object.\u001b[0m\u001b[1;33m\u001b[0m\u001b[1;33m\u001b[0m\u001b[1;33m\u001b[0m\u001b[0m\n\u001b[1;32m--> 897\u001b[1;33m         \u001b[1;32mreturn\u001b[0m \u001b[0marr\u001b[0m\u001b[1;33m.\u001b[0m\u001b[0mastype\u001b[0m\u001b[1;33m(\u001b[0m\u001b[0mdtype\u001b[0m\u001b[1;33m,\u001b[0m \u001b[0mcopy\u001b[0m\u001b[1;33m=\u001b[0m\u001b[1;32mTrue\u001b[0m\u001b[1;33m)\u001b[0m\u001b[1;33m\u001b[0m\u001b[1;33m\u001b[0m\u001b[0m\n\u001b[0m\u001b[0;32m    898\u001b[0m \u001b[1;33m\u001b[0m\u001b[0m\n\u001b[0;32m    899\u001b[0m     \u001b[1;32mreturn\u001b[0m \u001b[0marr\u001b[0m\u001b[1;33m.\u001b[0m\u001b[0mview\u001b[0m\u001b[1;33m(\u001b[0m\u001b[0mdtype\u001b[0m\u001b[1;33m)\u001b[0m\u001b[1;33m\u001b[0m\u001b[1;33m\u001b[0m\u001b[0m\n",
      "\u001b[1;31mValueError\u001b[0m: could not convert string to float: '70+9'"
     ]
    }
   ],
   "source": [
    "#como no se pudo\n",
    "# print(cols_new)\n",
    "num_cols = ['acceleration', 'aggression', 'agility', 'balance', 'ball control', 'composure', 'crossing', 'curve', 'dribbling', 'finishing', 'heading accuracy', 'interceptions', 'jumping', 'long passing', 'long shots', 'marking', 'penalties', 'positioning', 'reactions', 'short passing', 'shot power', 'sliding tackle', 'sprint speed', 'stamina', 'standing tackle', 'strength', 'vision', 'volleys'] \n",
    "for i in num_cols:\n",
    "    df[i] = df[i].astype(float)"
   ]
  },
  {
   "cell_type": "markdown",
   "metadata": {},
   "source": [
    "Could not convert string to float: '70+9'\n",
    "\n",
    "😨😨😨😨"
   ]
  },
  {
   "cell_type": "markdown",
   "metadata": {},
   "source": [
    "Identifiquemos las variables numéricas:"
   ]
  },
  {
   "cell_type": "code",
   "execution_count": 61,
   "metadata": {},
   "outputs": [],
   "source": [
    "num_cols = ['age', 'overall',\n",
    "       'acceleration', 'aggression', 'agility', 'balance', 'ball control',\n",
    "       'composure', 'crossing', 'curve', 'dribbling', 'finishing',\n",
    "       'heading accuracy', 'interceptions',\n",
    "       'jumping', 'long passing', 'long shots', 'marking', 'penalties',\n",
    "       'positioning', 'reactions', 'short passing', 'shot power',\n",
    "       'sliding tackle', 'sprint speed', 'stamina', 'standing tackle',\n",
    "       'strength', 'vision', 'volleys']"
   ]
  },
  {
   "cell_type": "markdown",
   "metadata": {},
   "source": [
    "El método *.unique()* nos devuelve todos los valores únicos de una cierta columna. Esto es útil cuando queremos explorar los datos más a fondo, por ejemplo:"
   ]
  },
  {
   "cell_type": "code",
   "execution_count": 62,
   "metadata": {},
   "outputs": [
    {
     "data": {
      "text/plain": [
       "array([32, 30, 25, 31, 28, 26, 27, 29, 39, 23, 24, 35, 33, 34, 36, 21, 22,\n",
       "       18, 20, 19, 37, 38, 40, 17, 44, 41, 16, 43, 47], dtype=int64)"
      ]
     },
     "execution_count": 62,
     "metadata": {},
     "output_type": "execute_result"
    }
   ],
   "source": [
    "df['age'].unique()"
   ]
  },
  {
   "cell_type": "markdown",
   "metadata": {},
   "source": [
    "Esos son todos los valores únicos de age. \n",
    "\n",
    "Como curiosidad el método *.nunique()* devuelve el número de valores únicos:"
   ]
  },
  {
   "cell_type": "code",
   "execution_count": 63,
   "metadata": {},
   "outputs": [
    {
     "name": "stdout",
     "output_type": "stream",
     "text": [
      "Número de edades únicas 29\n"
     ]
    }
   ],
   "source": [
    "print(\"Número de edades únicas\", df['age'].nunique())"
   ]
  },
  {
   "cell_type": "markdown",
   "metadata": {},
   "source": [
    "Hacemos un ciclo for sobre todas las variables numéricas para identificar el problema:"
   ]
  },
  {
   "cell_type": "code",
   "execution_count": 64,
   "metadata": {
    "collapsed": true,
    "jupyter": {
     "outputs_hidden": true
    }
   },
   "outputs": [
    {
     "name": "stdout",
     "output_type": "stream",
     "text": [
      "age\n",
      "[32 30 25 31 28 26 27 29 39 23 24 35 33 34 36 21 22 18 20 19 37 38 40 17\n",
      " 44 41 16 43 47]\n",
      "overall\n",
      "[94 93 92 91 90 89 88 87 86 85 84 83 82 81 80 79 78 77 76 75 74 73 72 71\n",
      " 70 69 68 67 66 65 64 63 62 61 60 59 58 57 56 55 54 53 52 51 50 49 48 47\n",
      " 46]\n",
      "acceleration\n",
      "['89' '92' '94' '88' '58' '79' '57' '93' '60' '78' '75' '76' '46' '90'\n",
      " '68' '49' '43' '87' '77' '95' '62' '72' '65' '70' '63' '82' '69' '67'\n",
      " '54' '55' '74' '86' '84' '48' '80' '71' '85' '40' '51' '38' '53' '73'\n",
      " '45' '61' '64' '44' '42' '81' '91' '59' '52' '66' '39' '34' '50' '83'\n",
      " '47' '96' '31' '30' '70+9' '56' '26' '80+1' '35' '36' '32' '49-1' '41'\n",
      " '67+2' '37' '28' '33' '20' '79-2' '65-2' '29' '91-2' '74-3' '75+1' '41-6'\n",
      " '74+1' '70+3' '17' '75+5' '74+2' '71+2' '68+1' '71+4' '89-2' '25' '27'\n",
      " '24' '58-10' '78+1' '86+1' '66-1' '22' '66+1' '15' '74+4' '71-3' '80+2'\n",
      " '21' '23' '64-2' '18' '57-4' '78+3' '19' '73+9' '82-3' '68+3' '68+2'\n",
      " '55-8' '55-1' '43-2' '77+3' '82+10' '16' '49-10' '72+1' '61+1' '79+8'\n",
      " '70-2' '13' '14' '60-2' '86+7' '81+4' '69+3' '65-10' '64-3' '73+4' '75-6'\n",
      " '64+5' '33+10' '92+2' '12' '76-1' '62+2' '65+7' '58+8' '44-2' '77+1'\n",
      " '82+3' '68-1' '61+3' '73+3' '59+1' '64+12' '85-1' '78+14' '11' '59-1'\n",
      " '75+4' '73+10' '71+6' '77+13' '62+1' '64-5']\n",
      "aggression\n",
      "['63' '48' '56' '78' '29' '80' '38' '54' '60' '50' '84' '68' '23' '62'\n",
      " '65' '92' '34' '69' '57' '43' '82' '86' '66' '31' '77' '47' '90' '89'\n",
      " '75' '44' '93' '67' '51' '25' '72' '58' '74' '85' '55' '49' '81' '88'\n",
      " '91' '59' '83' '45' '52' '94' '17' '61' '87' '70' '32' '28' '73' '41'\n",
      " '71' '79' '35' '36' '20' '26' '40' '58-10' '30' '39' '33' '64' '27' '76'\n",
      " '46' '18' '42' '37' '11' '22' '53' '15' '65+10' '57+5' '24' '19' '66+7'\n",
      " '96' '77+5' '68+1' '21' '68+3' '87+1' '82+1' '76+3' '12' '72+3' '80+3'\n",
      " '65-2' '72+5' '42+7' '16' '78-3' '74+7' '13' '82+2' '81+2' '70-1' '14'\n",
      " '75+1' '76+7' '67+4' '66+3' '78+3' '60+12' '71+1' '65-1' '69+10' '74-6'\n",
      " '23+3' '57+1' '67+6' '67+39' '67-2' '53+14' '33+2' '51+2' '56+1' '65+2'\n",
      " '72-2' '66-2' '82+10' '78+17' '72+14' '59+1' '64+3' '58-1' '53+4' '49+4'\n",
      " '67-3' '65+4' '59-7' '61+1' '68-3' '85-2' '53+5' '51+1' '58+7' '48+2'\n",
      " '57+9' '40+2' '30-1' '61+2' '60+8' '46+1']\n",
      "agility\n",
      "['89' '90' '96' '86' '52' '78' '60' '93' '71' '75' '79' '80' '61' '77'\n",
      " '59' '55' '91' '67' '58' '63' '64' '83' '74' '81' '87' '76' '72' '92'\n",
      " '42' '73' '82' '62' '54' '94' '65' '88' '49' '66' '37' '34' '51' '50'\n",
      " '68' '84' '53' '57' '39' '85' '33' '45' '70' '69' '56' '38' '43' '48'\n",
      " '29' '35' '60+6' '27' '30' '41' '78+1' '47' '46' '58-2' '40' '36' '71+1'\n",
      " '70+1' '44' '32' '26' '28' '25' '69+1' '31' '68+2' '74+4' '64-1' '75-1'\n",
      " '64-2' '43-3' '24' '84+1' '58+4' '68-2' '77-8' '76-3' '23' '50-8' '20'\n",
      " '58-4' '70+14' '19' '70-2' '21' '95' '14' '70+3' '22' '81-2' '63-2'\n",
      " '65+4' '17' '18' '55-4' '65+1' '66+3' '48-3' '46+13' '67+8' '83+6' '68+1'\n",
      " '62-3' '83+3' '85+2' '82-8' '82+3' '61-3' '72-1' '83+1' '66-3' '62+1'\n",
      " '67+2' '79+2' '55+1' '71-4' '72+1' '59+4' '67-2' '60+7' '36+2' '62+3'\n",
      " '48+3' '35-2' '68+10' '53+2' '49+1' '63+3' '75+1' '16' '50-1' '77+2'\n",
      " '46+1' '15']\n",
      "balance\n",
      "['63' '95' '82' '60' '35' '80' '43' '91' '69' '75' '45' '87' '94' '65'\n",
      " '64' '49' '85' '86' '70' '52' '53' '58' '54' '68' '41' '90' '61' '77'\n",
      " '59' '66' '89' '36' '42' '84' '62' '47' '79' '72' '55' '92' '81' '50'\n",
      " '56' '57' '34' '71' '93' '37' '44' '73' '76' '40' '31' '78' '67' '51'\n",
      " '32' '83' '30' '88' '38' '74' '46' '39' '48' '28' '96' '29' '90+2' '24'\n",
      " '25' '22' '33' '71+2' '23' '17' '85+2' '89+2' '65+7' '27' '85+1' '47-3'\n",
      " '70+3' '72+6' '80+6' '64+1' '64+4' '21' '52-2' '16' '20' '26' '61-1'\n",
      " '73+4' '19' '70+7' '66+6' '33+4' '53+1' '66+2' '63+2' '82+2' '66+4'\n",
      " '69+3' '80-6' '56-7' '67-2' '49+2' '64+2' '86-3' '62+1' '73-1' '72-2'\n",
      " '63+5' '81-1' '53-13' '50-5' '70+1' '55-3' '70+2' '73+5' '15' '81+1'\n",
      " '65+1' '79-1' '18' '75+1' '77+2' '63-2' '60+3' '68-4' '73-3' '11' '58-1'\n",
      " '71+1']\n",
      "ball control\n",
      "['93' '95' '91' '48' '89' '42' '92' '85' '84' '87' '23' '57' '28' '16'\n",
      " '86' '82' '75' '71' '76' '77' '90' '34' '80' '88' '79' '83' '24' '78'\n",
      " '94' '81' '70' '58' '72' '62' '22' '19' '18' '59' '74' '15' '68' '65'\n",
      " '14' '67' '63' '56' '30' '73' '21' '64' '25' '40' '12' '66' '17' '41'\n",
      " '20' '83+2' '26' '32' '61' '69' '77+1' '60' '55' '79+1' '27' '52' '31'\n",
      " '35' '54' '49' '38' '85+1' '13' '29' '39' '10' '51' '47' '33' '80+1' '53'\n",
      " '70+1' '44' '50' '46' '76+1' '36' '82+6' '68+6' '74+1' '66+1' '74+5'\n",
      " '63-3' '75-2' '11' '9' '71-2' '43' '74+3' '72-2' '74+2' '59-3' '45' '37'\n",
      " '70-1' '71-1' '68+1' '75+1' '38+3' '67+2' '48+3' '56-2' '70-3' '72+3'\n",
      " '62+2' '8' '61-2' '67+1' '64+1' '72-1' '72-3' '56+2' '55-2' '72+2' '66-1'\n",
      " '63-1' '71+2' '63+1' '58-2' '65-1' '65+5' '59-2' '62-1' '66+3' '67-1'\n",
      " '68+4' '55-4' '71+1' '63+3' '61-3' '63-2' '65+2' '60-1' '61+2' '66+2'\n",
      " '68-1' '67+3' '72+1' '60+2' '69+1' '65+1' '67+6' '61-1' '56+14' '48+5'\n",
      " '50+4' '60-4' '61+4' '60-2' '58+1' '61+1' '57+1' '43+6' '51+2' '64+3'\n",
      " '55+2' '50+2' '58+4' '39-1' '60+5' '64+4' '64-1' '43+7' '48+1' '56+5'\n",
      " '47+6' '30+19' '41+11' '40+1' '48+4' '14-2' '38+1']\n",
      "composure\n",
      "['95' '96' '92' '83' '70' '87' '64' '85' '86' '80' '84' '52' '90' '82'\n",
      " '55' '91' '78' '61' '81' '62' '89' '79' '88' '77' '75' '49' '65' '57'\n",
      " '74' '20' '58' '39' '73' '30' '72' '76' '53' '60' '68' '79+1' '29' '48'\n",
      " '22' '63' '50' '71' '74+2' '59' '56' '70-1' '66' '69' '26' '75+1' '34'\n",
      " '67' '51' '24' '37' '46' '75+2' '36' '35' '42' '41' '54' '66+4' '33'\n",
      " '74+1' '38' '45' '27' '28' '25' '32' '43' '65-8' '23' '15' '21' '44'\n",
      " '68-3' '31' '82+18' '72+6' '19' '67-1' '70+3' '47' '78+10' '72-2' '18'\n",
      " '40' '17' '16' '66+2' '64+4' '74-5' '65+2' '72-1' '68+2' '67+1' '68+3'\n",
      " '12' '65+5' '64-3' '60-3' '14' '69+2' '13' '61+2' '69+1' '58-1' '61+3'\n",
      " '57-3' '59+2' '55-3' '61-1' '68-2' '68-1' '28+4' '63-1' '50+4' '60-1'\n",
      " '62+3' '59-2' '64+24' '62+1' '63+2' '63+3' '58+5' '62-2' '56+2' '52-3'\n",
      " '5' '62-1' '70+5' '55+4' '52+1' '65-1' '64-1' '58-2' '54-4' '58+2' '11'\n",
      " '55+3' '65-2' '56-1' '51+5' '51+3' '51-4' '56+7' '44+1' '56+1' '52-2'\n",
      " '43+1' '42+1' '40+1' '45+2' '44+5' '35+2']\n",
      "crossing\n",
      "['85' '77' '75' '15' '62' '17' '80' '68' '66' '90' '14' '78' '87' '70'\n",
      " '58' '13' '82' '72' '44' '69' '55' '64' '60' '76' '67' '86' '81' '83'\n",
      " '12' '57' '88' '65' '73' '47' '48' '46' '19' '36' '52' '11' '79' '9' '29'\n",
      " '74' '84' '61' '40' '51' '30' '27' '50' '63' '24' '45' '28' '54' '20'\n",
      " '42' '53' '49' '38' '59' '18' '35' '25' '32' '10' '71' '79+2' '34' '39'\n",
      " '56' '85+1' '63+2' '43' '79+4' '70+2' '21' '33' '23' '37' '74-5' '89'\n",
      " '26' '91' '16' '22' '31' '41' '8' '80+2' '68-8' '72+1' '74+2' '61+1'\n",
      " '71+2' '70-3' '65-3' '72+4' '66-3' '72-8' '79+3' '73+3' '7' '56-3' '61-4'\n",
      " '67+1' '66-2' '60+2' '61-3' '6' '67-2' '41+5' '62+1' '65-1' '66+2' '65+2'\n",
      " '64+2' '37-6' '66+1' '57-10' '66+7' '68+4' '36+10' '63+5' '67-1' '50+1'\n",
      " '62-3' '69-1' '60-1' '46+1' '71+1' '64-1' '58+2' '67+9' '53+1' '68+2'\n",
      " '59+2' '65+3' '54+10' '73-1' '64-5' '53+2' '54+2' '50+8' '58+1' '51+8'\n",
      " '60+8' '50+3' '65+6' '51-3' '54+7' '55+3' '61+29' '60+5' '48-7' '5'\n",
      " '59+9' '55-2' '42+3' '58+11' '56-1' '38-9' '52-6' '56+3' '32-1' '45+9'\n",
      " '55+1' '65+1' '63-1' '36+6' '64+37' '48+7' '45+1' '33+3' '32+2']\n",
      "curve\n",
      "['81' '89' '86' '14' '77' '21' '82' '85' '74' '73' '83' '19' '78' '79'\n",
      " '60' '20' '88' '13' '84' '56' '49' '65' '11' '61' '87' '76' '75' '80'\n",
      " '12' '58' '71' '72' '66' '90' '63' '70' '62' '54' '36' '32' '44' '46'\n",
      " '59' '24' '9' '18' '35' '17' '50' '28' '30' '55' '68' '23' '34' '22' '48'\n",
      " '64' '15' '45' '33' '53' '38' '10' '69' '92' '25' '81+2' '67' '52' '16'\n",
      " '43' '77+2' '47' '26' '42' '51' '39' '78+1' '60+7' '75-2' '57' '31'\n",
      " '74+2' '29' '37' '40' '71+1' '76+1' '41' '68+4' '39+7' '27' '67+3' '8'\n",
      " '79+1' '7' '73-2' '75+10' '6' '61+2' '67+4' '59+24' '70+1' '58+10' '72-3'\n",
      " '69+7' '65+3' '64+1' '61+5' '52-6' '66+3' '73+2' '73+1' '52+4' '39+8'\n",
      " '53+1' '64+2' '59+1' '68+2' '72+2' '58+3' '62+4' '66+5' '63+11' '71+3'\n",
      " '62+1' '63-2' '69+15' '55+22' '57+4' '58+21' '69+8' '68-3' '50-3' '63+19'\n",
      " '43+3' '45+5' '57-1' '64+9' '34+3' '37-1' '42-3' '28+5' '36+6' '56+2'\n",
      " '53+10' '46+12' '31-1' '56+1' '45-1' '41+5' '27+2']\n",
      "dribbling\n",
      "['91' '97' '96' '86' '30' '85' '18' '93' '79' '84' '61' '13' '90' '89'\n",
      " '58' '26' '92' '12' '87' '82' '69' '67' '53' '68' '10' '77' '76' '80'\n",
      " '59' '78' '83' '75' '74' '88' '62' '66' '65' '57' '16' '11' '17' '51'\n",
      " '73' '63' '64' '55' '54' '20' '81' '15' '47' '42' '21' '70' '19' '41'\n",
      " '72' '78+3' '43' '60' '87+1' '25' '24' '14' '48' '22' '23' '84+1' '68+3'\n",
      " '50' '56' '46' '71' '39' '77+1' '35' '28' '52' '49' '27' '80+1' '76+1'\n",
      " '40' '45' '44' '37' '76-2' '38' '9' '34' '29' '8' '74+2' '36' '31' '71-3'\n",
      " '73+2' '71+2' '33' '77+3' '74+4' '76-1' '75-2' '32' '75+1' '72+4' '73-2'\n",
      " '69-5' '72-1' '72+3' '72+2' '74+1' '70+1' '7' '74-1' '78-1' '67-1' '72+1'\n",
      " '38+2' '66-2' '59-2' '64-1' '71+4' '67+2' '56+1' '73+1' '60-1' '66-1'\n",
      " '68+1' '79+1' '66+2' '67+1' '48+15' '69-1' '71+1' '58+4' '42+2' '72-2'\n",
      " '4' '64+3' '63-2' '65+1' '68+2' '36+2' '66+1' '64+1' '66+4' '65-2'\n",
      " '59+10' '6' '63-1' '60-2' '54+8' '5' '62-2' '66+3' '65-1' '57-1' '54-4'\n",
      " '54+10' '62-1' '65+2' '55-2' '59+5' '60+5' '34+3' '58-10' '64+4' '54+1'\n",
      " '49+1' '64-2' '47-2' '65+3' '63+2' '35+7' '49+3' '52+4' '37-1' '2' '58-1'\n",
      " '59-1' '37+7' '31+2' '47+4' '62+5' '50+6' '53+2' '11+6' '36+4' '55-1'\n",
      " '59+1' '41+1' '53+1' '43-1']\n",
      "finishing\n",
      "['94' '95' '89' '13' '91' '83' '76' '60' '14' '85' '71' '87' '90' '33'\n",
      " '15' '11' '88' '69' '39' '34' '42' '55' '74' '10' '38' '65' '58' '77'\n",
      " '67' '78' '64' '70' '82' '63' '86' '45' '53' '44' '43' '46' '12' '79'\n",
      " '40' '59' '73' '9' '27' '72' '61' '56' '21' '84' '41' '19' '68' '81' '8'\n",
      " '66' '32' '37' '20' '51' '52' '18' '25' '36' '50' '75' '48' '28' '54'\n",
      " '80' '62' '49' '31' '16' '47' '57' '17' '23' '35' '52+2' '81+1' '22' '30'\n",
      " '29' '26' '79+1' '60+2' '24' '79+3' '70+1' '6' '7' '69+4' '74+1' '72-1'\n",
      " '78+1' '69+1' '74+2' '64-3' '45+1' '73+1' '71+1' '80-3' '74+3' '75+1'\n",
      " '65-1' '71-1' '73-1' '77+1' '77-1' '67+3' '70-1' '73+2' '58-2' '58-1'\n",
      " '65+2' '57-3' '5' '71-2' '47+10' '4' '59+2' '65+3' '69+2' '68+2' '62+6'\n",
      " '52+1' '53+4' '69+5' '65-2' '70+2' '44+4' '66+3' '2' '63-1' '58+3' '59+1'\n",
      " '66+1' '50+2' '36-12' '64-2' '68+4' '45+2' '52-3' '58+7' '53-2' '63-3'\n",
      " '33+3' '65+1' '58-4' '58+6' '55+3' '42+3' '64+2' '62-1' '61+1' '61+2'\n",
      " '40-1' '67+2' '38-1' '69-2' '61+3' '62+2' '57-5' '64+5' '51-1' '37+4'\n",
      " '68-3' '63-2' '32-8' '35+3' '49+2' '38+10' '46+1' '3' '26-1' '53-4'\n",
      " '69+3' '54-1' '57-2' '49+1' '48+3' '13+7' '29+13' '56-1']\n",
      "heading accuracy\n",
      "['88' '71' '62' '77' '25' '85' '21' '57' '54' '86' '91' '53' '13' '70'\n",
      " '55' '68' '84' '15' '80' '58' '79' '92' '89' '10' '82' '51' '73' '52'\n",
      " '81' '74' '83' '75' '87' '76' '47' '49' '59' '90' '35' '78' '41' '19'\n",
      " '56' '72' '11' '63' '60' '12' '50' '65' '14' '61' '17' '29' '36' '94'\n",
      " '43' '42' '45' '16' '69' '93' '34' '67' '64' '32' '46' '48' '38' '40'\n",
      " '37' '66' '24' '85-1' '18' '44' '23' '73+1' '39' '76+2' '74+1' '22' '20'\n",
      " '72+3' '33' '28' '9' '30' '27' '7' '8' '78+1' '78-1' '75+2' '75-1' '65+2'\n",
      " '68-7' '42-7' '31' '69+2' '70+2' '56+2' '46+8' '6' '74+2' '64+4' '72-2'\n",
      " '72+2' '26' '60+2' '64-1' '55+7' '59+2' '68-4' '43+3' '69-1' '74-2'\n",
      " '61+1' '61+2' '5' '63+4' '57+5' '71-1' '59-5' '65-1' '59-1' '62-1' '72+1'\n",
      " '62+3' '64-3' '63-3' '56-6' '53+6' '64+1' '60+4' '62+4' '65+1' '60-5'\n",
      " '50-10' '54+3' '48-2' '69-3' '63+1' '64+2' '52+5' '57+2' '37+2' '57-1'\n",
      " '60-1' '70+4' '48+1' '43-1' '4' '60+6' '52-11' '47+7' '43+2' '41+2']\n",
      "interceptions\n",
      "['29' '22' '36' '41' '30' '39' '85' '20' '88' '56' '15' '42' '76' '59'\n",
      " '24' '28' '19' '35' '78' '48' '90' '83' '89' '27' '91' '86' '68' '55'\n",
      " '72' '69' '43' '66' '70' '82' '58' '50' '84' '87' '40' '80' '23' '18'\n",
      " '26' '64' '79' '38' '74' '25' '92' '45' '49' '67' '31' '37' '81' '21'\n",
      " '34' '16' '65' '60' '32' '54' '44' '77' '62' '51' '53' '10' '61' '11'\n",
      " '57' '52' '71' '37+1' '63' '13' '46' '33' '47' '17' '75' '43+4' '81+2'\n",
      " '76+2' '73' '12' '14' '64+13' '76+1' '69+1' '71+3' '73+1' '75-1' '74+1'\n",
      " '64+1' '72+1' '9' '49+13' '49+17' '7' '48-11' '36-10' '75-2' '57-2'\n",
      " '21-11' '66+1' '69-4' '6' '67-2' '68-3' '67+1' '68+2' '66+2' '68+1'\n",
      " '68-1' '8' '68-4' '67+3' '66-2' '61+1' '74+7' '17+1' '67-4' '62-1' '68+4'\n",
      " '64-1' '60+10' '67-1' '10-11' '45+6' '65+1' '64+12' '69+5' '59+4' '64+2'\n",
      " '36+24' '63+29' '39+10' '49+15' '59+2' '54+2' '64+4' '4' '48+2' '56+4'\n",
      " '62+5' '23+10' '58+4' '58-6' '55+2' '63+2' '55+5' '57+3' '58-3' '18-6'\n",
      " '60+2' '58-4' '5' '63-2' '48+1' '59+1' '57+1' '44+3' '56+1' '48+24'\n",
      " '24-1' '57-1' '50+5' '15-11' '34+5' '27+20' '49+2' '52+2' '31+1']\n",
      "jumping\n",
      "['95' '68' '61' '69' '78' '84' '67' '59' '32' '79' '93' '65' '85' '80'\n",
      " '89' '75' '76' '87' '77' '52' '74' '64' '57' '82' '88' '71' '44' '66'\n",
      " '70' '54' '81' '72' '83' '60' '34' '51' '53' '73' '62' '63' '92' '86'\n",
      " '46' '48' '94' '56' '90' '38' '58' '49' '55' '30' '39' '50' '40' '41'\n",
      " '42' '43' '74+1' '33' '45' '36' '91' '35' '76-4' '37' '47' '67+2' '65+2'\n",
      " '73-8' '31' '59+1' '77-4' '78+1' '86+1' '59+2' '80-2' '68+1' '76+4' '26'\n",
      " '68-1' '81+2' '76-5' '72+4' '63+2' '67-2' '75-6' '29' '73-3' '70+14' '27'\n",
      " '70-3' '66-1' '64+4' '25' '28' '82+6' '75-4' '74+4' '73-4' '78-2' '72-1'\n",
      " '68+7' '60+1' '77-2' '79+2' '64+2' '67+8' '74+7' '65+1' '68+6' '64-4'\n",
      " '59-1' '76-3' '66-3' '69+7' '63+1' '77+2' '57+4' '62+1' '70-2' '71+2'\n",
      " '67+16' '71+9' '87+2' '66+2' '76-2' '13' '46+2' '70+1' '68+2' '15' '39-2'\n",
      " '60+3' '73+5' '66+5' '16' '63+7' '52-2' '60-2']\n",
      "long passing\n",
      "['77' '87' '75' '64' '59' '65' '51' '81' '93' '72' '84' '31' '73' '83'\n",
      " '80' '63' '35' '71' '26' '90' '85' '70' '50' '76' '79' '89' '88' '86'\n",
      " '82' '92' '34' '67' '68' '78' '52' '74' '69' '47' '61' '33' '37' '38'\n",
      " '66' '56' '54' '48' '32' '24' '39' '58' '23' '30' '42' '46' '80+1' '22'\n",
      " '55' '62' '25' '49' '12' '36' '28' '27' '70+3' '53' '72+2' '40' '45' '20'\n",
      " '43' '60' '81+1' '70+1' '57' '29' '21' '44' '76+1' '82-1' '19' '41' '16'\n",
      " '65+10' '18' '55+24' '13' '17' '77+1' '73-1' '74+2' '61+1' '75-2' '76-1'\n",
      " '74+6' '62+13' '62+4' '72+4' '55-2' '15' '66+6' '10' '11' '71+3' '14'\n",
      " '52+10' '60-2' '62+2' '56-10' '70-2' '53-3' '65+6' '9' '66+2' '70-1'\n",
      " '66+1' '53+3' '61+2' '59-1' '56-2' '74+4' '65+4' '67+5' '71+1' '74-5'\n",
      " '65-2' '61-1' '67+1' '65+1' '44+5' '54+5' '65+3' '59+8' '47+3' '67-1'\n",
      " '53-2' '57+6' '64-3' '75+1' '57+1' '52+3' '60-1' '69+2' '47+4' '43+3'\n",
      " '67+4' '62+1' '65+2' '55-3' '58+4' '57+2' '65+8' '57+21' '54+10' '44+4'\n",
      " '47-4' '48+8' '64+2' '57-1' '56+2' '46-6' '63-3' '45-10' '55+11' '51-3'\n",
      " '51+2' '38+3' '60-3' '40+12' '48+2' '61+4' '50+6' '38+1' '26+16' '26+4'\n",
      " '58+2' '34-1' '62+20' '49-5' '49-1' '38+6' '36+1' '48+10' '59+6' '34+10'\n",
      " '30+6' '25+4' '7']\n",
      "long shots\n",
      "['92' '88' '77' '86' '16' '83' '12' '82' '90' '55' '17' '49' '13' '79'\n",
      " '65' '58' '43' '51' '76' '14' '71' '85' '66' '84' '78' '73' '19' '91'\n",
      " '87' '75' '72' '54' '63' '81' '48' '41' '56' '11' '53' '80' '10' '20'\n",
      " '74' '60' '68' '39' '64' '47' '69' '36' '70' '15' '52' '9' '23' '24' '62'\n",
      " '18' '67' '35' '31' '25' '40' '59' '38' '26' '80+3' '44' '46' '28' '30'\n",
      " '34' '61' '22' '29' '57' '50' '42' '37' '73+2' '72+2' '32' '45' '27'\n",
      " '79+3' '62+2' '33' '74+1' '7' '8' '73+1' '78+2' '21' '64+2' '73-1' '66+2'\n",
      " '60+6' '70+5' '77-2' '68-2' '65+1' '69+1' '70-4' '6' '67-1' '68-4' '55+5'\n",
      " '64+3' '55+25' '75+1' '52-3' '63+3' '5' '68+1' '75+6' '66+4' '43+1'\n",
      " '53-14' '52+1' '72+5' '63+1' '59+2' '59-1' '69+4' '66+1' '53+9' '64-1'\n",
      " '59+1' '61+3' '54+8' '71+2' '62-1' '62+1' '60+7' '61+1' '41-4' '58+3'\n",
      " '66-2' '3' '43-1' '60+4' '38+10' '59+20' '60-2' '63+10' '27+3' '42+20'\n",
      " '4' '56+5' '57+1' '23-1' '50+1' '39-1' '35+5' '47+3' '17+10']\n",
      "marking\n",
      "['22' '13' '21' '30' '10' '25' '63' '12' '86' '11' '66' '51' '92' '14'\n",
      " '23' '49' '28' '84' '88' '87' '85' '90' '15' '29' '75' '76' '38' '24'\n",
      " '80' '60' '52' '17' '57' '41' '81' '27' '78' '31' '89' '19' '83' '16' '8'\n",
      " '37' '62' '72' '82' '46' '33' '70' '26' '43' '73' '55' '67' '9' '79' '77'\n",
      " '20' '59' '56' '58' '32' '68' '34' '65' '35' '69' '18' '53' '48' '39'\n",
      " '71' '40' '45' '84-1' '54' '64' '74' '44' '47' '36' '61' '50' '42' '65+1'\n",
      " '77-2' '78-2' '73+2' '68+2' '5' '78+1' '64+22' '7' '63+1' '62+4' '25+4'\n",
      " '70-1' '4' '74+1' '6' '70+1' '42+21' '73-1' '72+1' '57+1' '79+4' '72+3'\n",
      " '41+7' '75-3' '70+2' '24-7' '67-4' '57+2' '68-1' '59+2' '71-2' '69-2'\n",
      " '74-4' '70-2' '65+2' '62-1' '69+1' '66+2' '59-3' '65+4' '66-2' '61+2'\n",
      " '68-3' '20+3' '70+4' '24+4' '64-3' '66+1' '34-3' '67-6' '55+16' '65-1'\n",
      " '72-1' '43+3' '60-2' '66+9' '60+1' '63+2' '62+6' '64+1' '68+4' '61+1'\n",
      " '56-5' '52+3' '63+4' '64+6' '31-1' '50-4' '62-3' '54+4' '60+2' '60-1'\n",
      " '57+5' '63-1' '64-4' '59+4' '58-2' '57-6' '61+3' '62-4' '22-2' '14-19'\n",
      " '55-1' '54+3' '59-2' '57+3' '40+6' '56-1' '23-1' '25-1' '56+1' '54+6'\n",
      " '15+10' '46+2' '50+1' '45+1' '47+3']\n",
      "penalties\n",
      "['85' '74' '81' '47' '40' '86' '73' '70' '68' '77' '27' '80' '76' '83'\n",
      " '50' '22' '11' '71' '75' '79' '46' '67' '91' '54' '64' '84' '59' '78'\n",
      " '23' '69' '82' '60' '87' '63' '52' '33' '49' '57' '43' '66' '61' '25'\n",
      " '72' '39' '56' '65' '62' '35' '45' '21' '26' '20' '15' '41' '51' '53'\n",
      " '58' '38' '24' '32' '17' '31' '16' '42' '44' '48' '55' '89' '81+7' '37'\n",
      " '92' '18' '90' '88' '13' '36' '65+2' '19' '34' '70-5' '64+6' '14' '70+4'\n",
      " '12' '10' '67+11' '30' '29' '28' '55+1' '9' '70+2' '70+3' '36-10' '53+2'\n",
      " '67+15' '69+2' '61+5' '51+1' '58+13' '51+5' '56+7' '66+2' '58-4' '69-1'\n",
      " '40-1' '7' '49-1' '61-6' '52-2' '60-7' '60-3' '58+5' '46-1' '61-1' '5' 33\n",
      " 39 44 51 42 18 37 55 15 17 60 11 48 34 62 59 65 41 49 63 46 30 40 64 50\n",
      " 54 66 58 53 52 31 35 56 57 36 23 19 43 45 24 22 12 67 69 20 16 38 21 25\n",
      " 32 13 68 14 10 47 61 27 28 70 29 9 8 72 7 26]\n",
      "positioning\n",
      "['95' '93' '90' '92' '12' '91' '85' '79' '52' '84' '13' '86' '28' '11'\n",
      " '83' '89' '38' '47' '48' '56' '10' '59' '71' '81' '80' '75' '88' '58'\n",
      " '77' '87' '70' '54' '57' '50' '43' '78' '40' '82' '44' '66' '16' '15' '7'\n",
      " '24' '62' '60' '68' '41' '72' '61' '25' '69' '39' '45' '74' '76' '26'\n",
      " '46' '9' '32' '51' '67' '49' '35' '65' '73' '14' '55' '27' '80+1' '34'\n",
      " '33' '29' '53' '20' '30' '37' '21' '64' '31' '80+3' '63' '76-2' '8' '18'\n",
      " '42' '76+1' '36' '23' '17' '80+2' '19' '4' '3' '22' '72+2' '72+4' '5'\n",
      " '73-2' '75+1' '68+2' '6' '58-1' '74+1' '74+3' '56+4' '71-3' '57+2' '70+3'\n",
      " '68-1' '77+1' '72+8' '66+2' '66-2' '62-3' '69+2' '65+2' '63-3' '65+1'\n",
      " '74+2' '70+1' '58+10' '66+1' '68+6' '70-2' '63+4' '66-8' '61+2' '62-2'\n",
      " '64+1' '70+2' '70+9' '69-1' '68+4' '66+5' '67+4' '10-3' '62-1' '67+3'\n",
      " '67+1' '51+2' '55+3' '2' '60+2' '67+2' '56+29' '69+3' '54+1' '51-4'\n",
      " '61+1' '46+4' '52-7' '40+14' '58+2' '56+3' '39+2' '60-2' '50+2' '30-1'\n",
      " '56-4' '53+1' '52+1' '50+7' '51-1' '47+6' '47+1' '56+7' '17+10' '27+3'\n",
      " '42+1' '52-1']\n",
      "reactions\n",
      "['96' '95' '88' '93' '85' '91' '86' '81' '87' '89' '82' '80' '84' '90'\n",
      " '83' '79' '92' '78' '76' '77' '74' '75' '68' '73' '79+2' '72' '78+2'\n",
      " '73+1' '66' '71' '70' '74-2' '67' '69' '63' '76-1' '74+6' '61' '65' '64'\n",
      " '74+4' '77+2' '62' '76+3' '60' '71-2' '72+1' '59' '79+4' '77+1' '75-2'\n",
      " '71+1' '73+3' '58' '71-1' '57' '55' '56' '54' '53' '69-1' '70-1' '72+4'\n",
      " '73+7' '63-2' '66-1' '52' '76+1' '68+1' '66-3' '67+1' '59+4' '61+2' '51'\n",
      " '68+3' '50' '62-3' '75+1' '66+2' '64+3' '76+2' '56+4' '49' '48' '62-2'\n",
      " '69-2' '61-2' '60-2' '65+1' '69+6' '62+1' '55-1' '66+13' '62+2' '58-2'\n",
      " '47' '61+1' '63+4' '45' '53-1' '65-1' '35' '43' '39' '59-3' '64+5' '59+2'\n",
      " '65-2' '67+2' '58-1' '60-5' '46' '62+6' '44' '68+2' '57-2' '36' '63-9'\n",
      " '62+9' '63-1' '41' '59+1' '52-1' '57-1' '59-1' '59+10' '55+2' '56+1' '42'\n",
      " '61-1' '32' '56-1' '54+6' '56-2' '40' '56+3' '57+3' '51+1' '52+7' '31'\n",
      " '33' '49+1' '51+2' '34' '38' '57+5' '55-3' '30' '37' '43-7' '54-2' '48+1'\n",
      " '45+1' '49+5' '52+1' '39-6' '54+3' '28']\n",
      "short passing\n",
      "['83' '88' '81' '55' '50' '86' '90' '75' '78' '32' '92' '79' '59' '37'\n",
      " '29' '91' '77' '80' '89' '84' '82' '87' '36' '71' '85' '67' '64' '70'\n",
      " '35' '30' '24' '63' '33' '72' '65' '73' '60' '25' '39' '76' '74' '68'\n",
      " '15' '31' '40' '69' '44' '28' '19' '21' '34' '23' '22' '56' '26' '79+2'\n",
      " '66' '47' '27' '61' '62' '20' '52' '73+3' '84+1' '82+1' '54' '41' '57'\n",
      " '78+2' '80+1' '43' '38' '17' '49' '18' '53' '58' '16' '81+3' '11' '12'\n",
      " '67-5' '76+3' '45' '67+1' '78+1' '51' '48' '75+1' '72-2' '77-2' '77-1'\n",
      " '42' '68-2' '65+2' '59-6' '74-2' '71+1' '66+1' '46' '69-3' '79-1' '14'\n",
      " '68+1' '13' '67+6' '58+1' '64-2' '70+1' '74+3' '74+2' '55-10' '70-2'\n",
      " '67+7' '67-1' '72+2' '56-1' '64+4' '73+1' '72+3' '69+4' '65+5' '64-1'\n",
      " '73+2' '63-1' '69+1' '66+4' '67+2' '61+4' '62+1' '70-3' '73+4' '67-2'\n",
      " '66+2' '68-1' '64+3' '65+6' '57+1' '60-3' '67+3' '63+2' '54+5' '75+4'\n",
      " '66-1' '65-1' '59-2' '54-1' '65+1' '59+4' '69-1' '61+6' '62-2' '70+3'\n",
      " '62-5' '64+1' '63+4' '74+5' '67+13' '69+3' '62+4' '62+2' '63-2' '63+3'\n",
      " '60+13' '68+15' '60+6' '66-3' '65+9' '60+4' '68+2' '54+1' '61+3' '45+4'\n",
      " '64+2' '58-2' '54+6' '65-3' '50-10' '59+8' '62+7' '54-2' '60+1' '49+1'\n",
      " '46+10' '54+2' '53+6' '49+4' '18+11' '42+1' '37-1' '58+12' '61+2' '52-6'\n",
      " '62-1' '45+5' '60+3' '58+8' '58+4' '10' '40+10' '44+3' '38+8' '46+1'\n",
      " '33+3' '38+1' '56+1' '31+3' '42-2']\n",
      "shot power\n",
      "['94' '85' '80' '87' '25' '88' '31' '79' '36' '84' '73' '91' '78' '39'\n",
      " '82' '22' '81' '75' '74' '67' '71' '70' '23' '72' '56' '90' '86' '83'\n",
      " '62' '65' '77' '61' '76' '63' '21' '52' '24' '57' '64' '68' '54' '55'\n",
      " '43' '66' '59' '42' '53' '20' '69' '38' '28' '44' '46' '19' '15' '92'\n",
      " '81+1' '50' '58' '29' '35' '14' '51' '45' '60' '27' '73+3' '37' '40' '47'\n",
      " '85+6' '30' '48' '83+3' '77+3' '49' '18' '12' '26' '89' '17' '16' '34'\n",
      " '78-1' '75+4' '32' '13' '74-1' '70+28' '33' '11' '73+2' '70+13' '41' '10'\n",
      " '75+3' '73+1' '68-1' '58+9' '66+1' '80+6' '63+2' '73-5' '56+2' '63-3'\n",
      " '64+29' '79-3' '67+2' '76+1' '74-2' '70+1' '54+1' '71-6' '71+4' '68+2'\n",
      " '62-1' '71+1' '3' '64+10' '63+1' '67+1' '69+2' '58+5' '75+1' '60+5'\n",
      " '65+2' '69+4' '57+3' '81-4' '74+2' '65+3' '55+1' '64-1' '55-4' '43-4'\n",
      " '66-2' '56-1' '61+3' '57-1' '60-2' '58-3' '52+3' '8' '6' '67+10' '50+4'\n",
      " '54+2' '43+10' '45-1' '9' '36+13' '56-2' '21+1']\n",
      "sliding tackle\n",
      "['23' '26' '33' '38' '11' '19' '13' '22' '69' '18' '91' '40' '16' '35'\n",
      " '73' '52' '12' '90' '20' '62' '36' '88' '89' '27' '85' '79' '66' '87'\n",
      " '53' '29' '86' '56' '30' '51' '83' '84' '44' '80' '46' '34' '14' '55'\n",
      " '10' '64' '81' '39' '57' '21' '76' '75' '31' '45' '78' '49' '61' '17'\n",
      " '63' '82' '8' '41' '32' '71' '42' '68' '47' '28' '43' '25' '77' '71+4'\n",
      " '37' '24' '74' '58' '54' '48' '67' '82-1' '65' '70' '72' '60' '77-1' '15'\n",
      " '50' '59' '31+8' '73+1' '79-2' '70+3' '78-1' '77+1' '58+37' '77+3' '78+1'\n",
      " '66+2' '9' '72+1' '73+2' '70+1' '34+14' '65-1' '74+2' '73+3' '42+9' '7'\n",
      " '32-4' '70+2' '80+5' '58+2' '66-3' '67-2' '65-2' '16+4' '68-1' '68+1'\n",
      " '69-1' '67-1' '68+3' '70-1' '6' '69+2' '71-3' '18+3' '20+2' '29-9' '66-1'\n",
      " '52+12' '67-3' '48+6' '55+1' '65+1' '62+3' '44+26' '62-2' '63+5' '61+2'\n",
      " '64+1' '53-3' '59+2' '60+1' '61+5' '63+14' '62-4' '64+4' '60-2' '60-4'\n",
      " '65-3' '21+10' '67+2' '63+1' '31+10' '61-2' '23-2' '59+3' '51+3' '5' '4'\n",
      " '68-5' '34-1' '52+2' '66+1' '54+1' '52+1' '57+4' '56+2' '41+1' '54+3'\n",
      " '50-1']\n",
      "sprint speed\n",
      "['91' '87' '90' '77' '61' '83' '58' '52' '80' '75' '84' '71' '95' '78'\n",
      " '43' '60' '86' '68' '96' '72' '67' '65' '63' '74' '62' '76' '79' '64'\n",
      " '57' '73' '69' '89' '88' '34' '50' '70' '44' '81' '53' '54' '93' '66'\n",
      " '82' '92' '51' '41' '47' '48' '56' '46' '94' '85' '30' '55' '33' '40'\n",
      " '73+7' '59' '45' '39' '42' '28' '32' '35' '83+1' '49' '53-1' '69+1'\n",
      " '84+1' '69+2' '38' '36' '37' '89+1' '58+3' '31' '24' '80-3' '77-4' '73+1'\n",
      " '90+1' '67+3' '89+3' '70-9' '74+1' '38-3' '70+1' '49+8' '82-3' '18'\n",
      " '71+1' '25' '76+5' '78+2' '64+1' '29' '26' '69+3' '75-3' '85-4' '77+2'\n",
      " '63+4' '27' '68+2' '88-2' '64+3' '55-9' '21' '68-1' '77+4' '71-2' '23'\n",
      " '85+1' '17' '16' '68+1' '72-2' '66+4' '80+2' '80-2' '19' '22' '20' '65-3'\n",
      " '67-2' '80+3' '69+6' '79-2' '78+5' '47-2' '83-2' '57+1' '52-14' '73+6'\n",
      " '37-10' '86-1' '58+4' '54+11' '84+5' '77+3' '66+5' '76+1' '55-10' '69-1'\n",
      " '15' '83+11' '68-4' '77+7' '68+6' '71+5' '70-2' '80-5' '68+7' '85+5'\n",
      " '74+4' '73+2' '71-5' '66-10' '90-2' '60-2' '70-10' '67+12' '55+17' '32-1'\n",
      " '87-2' '72-1' '66+6' '64+2' '81+2' '70+5' '66+8' '46-3' '75+3' '70+15'\n",
      " '12' '71+3' '65+3' '71+39' '70+3' '74+2' '61+1' '68+4' '95+2' '65+2'\n",
      " '75+8' '14' '58-2' '73-3' '72+12' '13' '79+17' '11' '60+1' '63-11']\n",
      "stamina\n",
      "['92' '73' '78' '89' '44' '79' '40' '77' '72' '84' '87' '38' '85' '82'\n",
      " '76' '74' '68' '39' '83' '41' '75' '67' '66' '69' '71' '94' '91' '90'\n",
      " '81' '58' '80' '93' '88' '64' '65' '62' '32' '86' '43' '35' '37' '46'\n",
      " '70' '31' '36' '42' '33' '30' '45' '34' '60' '29' '28' '68+2' '63' '59'\n",
      " '55' '61' '57' '82+1' '25' '18' '85+2' '49' '50' '53' '27' '22' '73+3'\n",
      " '26' '54' '56' '75+1' '47' '48' '77+2' '24' '84+7' '95' '23' '52' '75+19'\n",
      " '58-2' '70+2' '74+2' '66+4' '20' '79+2' '41+20' '15' '72-3' '72+2' '72+1'\n",
      " '51' '78-2' '84-3' '56+3' '86-3' '16' '17' '78-1' '80+2' '60+2' '21'\n",
      " '69-1' '85+1' '62-4' '14' '70-1' '63+2' '64+7' '76+3' '68-2' '19' '66-8'\n",
      " '87+3' '13' '85+3' '62-1' '60-4' '81-4' '78+3' '74+9' '74+1' '65-4'\n",
      " '72-1' '76+6' '67+2' '43-2' '73-2' '67-1' '65-1' '72-10' '65+4' '29-11'\n",
      " '59+3' '79-3' '72-2' '69+3' '65+1' '74+4' '64-3' '79+8' '68-1' '64-2'\n",
      " '64+2' '69+1' '73+10' '58-10' '67-2' '66+9' '80-2' '52+7' '61-22' '66+2'\n",
      " '75+20' '70-3' '51-8' '67+1' '74-1' '90+7' '61+30' '54+12' '60+4' '62+1'\n",
      " '73+22' '44-3' '12' '48-1' '63+4' '40+1' '70+6' '69-7' '78+38' '29-9'\n",
      " '62+3' '58+2' '61+6' '53+2' '60-2']\n",
      "standing tackle\n",
      "['31' '28' '24' '45' '10' '42' '21' '27' '82' '22' '89' '51' '18' '39'\n",
      " '80' '55' '20' '92' '11' '12' '64' '25' '88' '91' '86' '16' '41' '26'\n",
      " '84' '68' '56' '85' '73' '65' '44' '87' '57' '36' '83' '30' '90' '40'\n",
      " '15' '63' '13' '14' '53' '67' '59' '70' '78' '35' '66' '32' '58' '79'\n",
      " '75' '43' '23' '61' '72' '48' '50' '29' '69' '19' '33' '17' '77' '49'\n",
      " '81' '74' '60' '38' '37' '82-1' '76' '46' '72-5' '52' '54' '83-1' '71'\n",
      " '34' '62' '47' '34+8' '76-2' '80-2' '9' '69+3' '80+2' '64+35' '7' '76+2'\n",
      " '46+10' '72+1' '71+2' '39+5' '77+3' '75-2' '75+1' '8' '73+2' '35+6'\n",
      " '71-1' '74+1' '66-3' '72-1' '76+3' '41+10' '70+3' '73+1' '34-5' '68-1'\n",
      " '67-1' '59+2' '69-2' '40+10' '70-1' '65+3' '71-2' '72-4' '67+2' '66-2'\n",
      " '71+1' '60-3' '66+3' '44+10' '64-1' '72-2' '63+4' '73-2' '60+5' '17+2'\n",
      " '27+4' '65-2' '37-3' '67+1' '67-2' '58+10' '69-3' '70+1' '49+4' '69-1'\n",
      " '64+1' '69+4' '67+4' '66+4' '63+1' '51-9' '65+1' '68+1' '68+2' '62+1'\n",
      " '60+2' '62+2' '48+4' '45+2' '68+15' '65-3' '63-2' '63+2' '57-4' '63-1'\n",
      " '13-2' '61-1' '60-2' '37+10' '20-1' '30-2' '64+2' '59+7' '60+1' '55+2'\n",
      " '33+2' '73+5' '26-1' '52+4' '57+1' '4' '54+7' '60+4' '6' '54+4' '58+2'\n",
      " '47+1']\n",
      "strength\n",
      "['80' '59' '53' '83' '84' '64' '65' '74' '85' '81' '73' '70' '72' '58'\n",
      " '91' '69' '78' '61' '77' '57' '43' '88' '67' '56' '63' '71' '86' '93'\n",
      " '82' '76' '42' '60' '44' '79' '75' '68' '90' '87' '54' '62' '89' '55'\n",
      " '48' '47' '94' '51' '92' '52' '39' '36' '46' '66' '50' '49' '70+1' '45'\n",
      " '34' '41' '79+1' '66+1' '37' '31' '38' '34+3' '65-2' '76+2' '71+3' '33'\n",
      " '40' '35' '68+1' '47+3' '52-5' '80+1' '32' '27' '68+6' '30' '85-1' '75+5'\n",
      " '28' '87-4' '75+2' '83+5' '95' '77-1' '56-5' '96' '85+1' '68+4' '76+1'\n",
      " '78+2' '65-1' '83-1' '54+5' '29' '84+6' '60+2' '74+1' '81-3' '51-7' '26'\n",
      " '68+2' '75+1' '57-3' '78-6' '25' '69-3' '69+1' '65+3' '85-5' '78-2'\n",
      " '73-1' '24' '70-1' '67-5' '74+2' '78+1' '72-2' '83+4' '74-1' '57-10'\n",
      " '84-4' '73+3' '48-2' '80-1' '66+5' '57+1' '40+10' '68-1' '55-6' '69+11'\n",
      " '79-1' '71-1' '54-7' '54+2' '98' '82-5' '50+3' '73-2' '59-19' '57+4'\n",
      " '68+3' '74+4' '33+2' '87-3' '21' '58+10' '70+3' '37+5' '71-4' '12' '32+2'\n",
      " '55-1' '69+8' '74+8' '66+6' '65+2' '70+6' '45-10' '67+7' '47+9' '22' '23'\n",
      " '48+12' '20' '72+3' '70+15']\n",
      "vision\n",
      "['85' '90' '80' '84' '70' '78' '68' '86' '88' '63' '44' '83' '79' '50'\n",
      " '55' '76' '77' '74' '52' '92' '30' '75' '87' '41' '62' '94' '73' '81'\n",
      " '67' '69' '82' '58' '91' '48' '53' '56' '54' '57' '23' '49' '59' '64'\n",
      " '34' '89' '22' '42' '46' '47' '27' '60' '72' '61' '51' '38' '45' '71'\n",
      " '65' '72+2' '66' '31' '37' '35' '40' '28' '79+1' '77+1' '77-4' '32'\n",
      " '73-2' '18' '43' '57-1' '39' '73+1' '15' '78+3' '78+1' '16' '33' '26'\n",
      " '78+2' '66+6' '25' '74+2' '12' '67-3' '74+1' '71-2' '29' '13' '14' '62+8'\n",
      " '67-1' '36' '70+2' '17' '11' '21' '24' '66-2' '20' '38-10' '70-4' '73-3'\n",
      " '68+3' '66+1' '68-3' '19' '62+1' '63-4' '69+10' '36-10' '74-2' '69+1'\n",
      " '72+1' '52+5' '68+1' '61+2' '48+2' '58+5' '67+3' '57-4' '69+2' '54-4'\n",
      " '70-2' '66+10' '10' '72+4' '60-5' '70-1' '52-1' '67+1' '65+2' '42-5'\n",
      " '65+1' '65+5' '63+2' '71+4' '53+1' '64+1' '29+15' '71+1' '71-1' '66+2'\n",
      " '57+8' '62+11' '60-3' '52+4' '60+8' '61+11' '55-2' '56+3' '54+1' '63+7'\n",
      " '66-5' '45+24' '52+1' '49+14' '60+4' '59+5' '52+3' '49+1' '61-1' '44+1'\n",
      " '31+3' '37+1' '58+3' '55+8' '51-2' '44+3' '30+1' '47+1' '50+1']\n",
      "volleys\n",
      "['88' '85' '83' '11' '87' '13' '79' '82' '66' '12' '74' '76' '45' '17'\n",
      " '90' '86' '58' '53' '47' '60' '77' '63' '56' '64' '78' '84' '54' '80'\n",
      " '57' '73' '91' '68' '44' '75' '38' '81' '61' '70' '46' '51' '23' '42'\n",
      " '10' '14' '72' '52' '35' '40' '34' '16' '69' '48' '59' '22' '71' '31'\n",
      " '30' '29' '18' '67' '50' '55' '27' '19' '32' '36' '65' '8' '49' '70+1'\n",
      " '15' '62' '24' '37' '39' '69+3' '28' '25' '41' '43' '9' '20' '72+1' '89'\n",
      " '33' '21' '26' '71+1' '69+4' '7' '66+1' '68+2' '64+1' '69+1' '61+5'\n",
      " '62-4' '49+2' '4' '39+4' '6' '5' '59+1' '60+2' '71+8' '51+1' '49+6'\n",
      " '63+5' '32-1' '52+8' '65-2' '53-1' '62+4' '59+2' '40-12' '57+1' '55-4'\n",
      " '57+2' '29-1' '54+10' '51-1' '56+6' '51+7' '33-1' '52-1' '15+8']\n"
     ]
    }
   ],
   "source": [
    "for i in num_cols:\n",
    "    print(i)\n",
    "    print(df[i].unique())"
   ]
  },
  {
   "cell_type": "markdown",
   "metadata": {},
   "source": [
    "Vamos a quedarnos sólo con los primeros dos dígitos:"
   ]
  },
  {
   "cell_type": "code",
   "execution_count": 65,
   "metadata": {},
   "outputs": [],
   "source": [
    "for i in num_cols:\n",
    "    df[i] = df[i].astype(str).str[:2]"
   ]
  },
  {
   "cell_type": "code",
   "execution_count": 66,
   "metadata": {
    "collapsed": true,
    "jupyter": {
     "outputs_hidden": true
    }
   },
   "outputs": [
    {
     "name": "stdout",
     "output_type": "stream",
     "text": [
      "age\n",
      "['32' '30' '25' '31' '28' '26' '27' '29' '39' '23' '24' '35' '33' '34'\n",
      " '36' '21' '22' '18' '20' '19' '37' '38' '40' '17' '44' '41' '16' '43'\n",
      " '47']\n",
      "overall\n",
      "['94' '93' '92' '91' '90' '89' '88' '87' '86' '85' '84' '83' '82' '81'\n",
      " '80' '79' '78' '77' '76' '75' '74' '73' '72' '71' '70' '69' '68' '67'\n",
      " '66' '65' '64' '63' '62' '61' '60' '59' '58' '57' '56' '55' '54' '53'\n",
      " '52' '51' '50' '49' '48' '47' '46']\n",
      "acceleration\n",
      "['89' '92' '94' '88' '58' '79' '57' '93' '60' '78' '75' '76' '46' '90'\n",
      " '68' '49' '43' '87' '77' '95' '62' '72' '65' '70' '63' '82' '69' '67'\n",
      " '54' '55' '74' '86' '84' '48' '80' '71' '85' '40' '51' '38' '53' '73'\n",
      " '45' '61' '64' '44' '42' '81' '91' '59' '52' '66' '39' '34' '50' '83'\n",
      " '47' '96' '31' '30' '56' '26' '35' '36' '32' '41' '37' '28' '33' '20'\n",
      " '29' '17' '25' '27' '24' '22' '15' '21' '23' '18' '19' '16' '13' '14'\n",
      " '12' '11']\n",
      "aggression\n",
      "['63' '48' '56' '78' '29' '80' '38' '54' '60' '50' '84' '68' '23' '62'\n",
      " '65' '92' '34' '69' '57' '43' '82' '86' '66' '31' '77' '47' '90' '89'\n",
      " '75' '44' '93' '67' '51' '25' '72' '58' '74' '85' '55' '49' '81' '88'\n",
      " '91' '59' '83' '45' '52' '94' '17' '61' '87' '70' '32' '28' '73' '41'\n",
      " '71' '79' '35' '36' '20' '26' '40' '30' '39' '33' '64' '27' '76' '46'\n",
      " '18' '42' '37' '11' '22' '53' '15' '24' '19' '96' '21' '12' '16' '13'\n",
      " '14']\n",
      "agility\n",
      "['89' '90' '96' '86' '52' '78' '60' '93' '71' '75' '79' '80' '61' '77'\n",
      " '59' '55' '91' '67' '58' '63' '64' '83' '74' '81' '87' '76' '72' '92'\n",
      " '42' '73' '82' '62' '54' '94' '65' '88' '49' '66' '37' '34' '51' '50'\n",
      " '68' '84' '53' '57' '39' '85' '33' '45' '70' '69' '56' '38' '43' '48'\n",
      " '29' '35' '27' '30' '41' '47' '46' '40' '36' '44' '32' '26' '28' '25'\n",
      " '31' '24' '23' '20' '19' '21' '95' '14' '22' '17' '18' '16' '15']\n",
      "balance\n",
      "['63' '95' '82' '60' '35' '80' '43' '91' '69' '75' '45' '87' '94' '65'\n",
      " '64' '49' '85' '86' '70' '52' '53' '58' '54' '68' '41' '90' '61' '77'\n",
      " '59' '66' '89' '36' '42' '84' '62' '47' '79' '72' '55' '92' '81' '50'\n",
      " '56' '57' '34' '71' '93' '37' '44' '73' '76' '40' '31' '78' '67' '51'\n",
      " '32' '83' '30' '88' '38' '74' '46' '39' '48' '28' '96' '29' '24' '25'\n",
      " '22' '33' '23' '17' '27' '21' '16' '20' '26' '19' '15' '18' '11']\n",
      "ball control\n",
      "['93' '95' '91' '48' '89' '42' '92' '85' '84' '87' '23' '57' '28' '16'\n",
      " '86' '82' '75' '71' '76' '77' '90' '34' '80' '88' '79' '83' '24' '78'\n",
      " '94' '81' '70' '58' '72' '62' '22' '19' '18' '59' '74' '15' '68' '65'\n",
      " '14' '67' '63' '56' '30' '73' '21' '64' '25' '40' '12' '66' '17' '41'\n",
      " '20' '26' '32' '61' '69' '60' '55' '27' '52' '31' '35' '54' '49' '38'\n",
      " '13' '29' '39' '10' '51' '47' '33' '53' '44' '50' '46' '36' '11' '9' '43'\n",
      " '45' '37' '8']\n",
      "composure\n",
      "['95' '96' '92' '83' '70' '87' '64' '85' '86' '80' '84' '52' '90' '82'\n",
      " '55' '91' '78' '61' '81' '62' '89' '79' '88' '77' '75' '49' '65' '57'\n",
      " '74' '20' '58' '39' '73' '30' '72' '76' '53' '60' '68' '29' '48' '22'\n",
      " '63' '50' '71' '59' '56' '66' '69' '26' '34' '67' '51' '24' '37' '46'\n",
      " '36' '35' '42' '41' '54' '33' '38' '45' '27' '28' '25' '32' '43' '23'\n",
      " '15' '21' '44' '31' '19' '47' '18' '40' '17' '16' '12' '14' '13' '5' '11']\n",
      "crossing\n",
      "['85' '77' '75' '15' '62' '17' '80' '68' '66' '90' '14' '78' '87' '70'\n",
      " '58' '13' '82' '72' '44' '69' '55' '64' '60' '76' '67' '86' '81' '83'\n",
      " '12' '57' '88' '65' '73' '47' '48' '46' '19' '36' '52' '11' '79' '9' '29'\n",
      " '74' '84' '61' '40' '51' '30' '27' '50' '63' '24' '45' '28' '54' '20'\n",
      " '42' '53' '49' '38' '59' '18' '35' '25' '32' '10' '71' '34' '39' '56'\n",
      " '43' '21' '33' '23' '37' '89' '26' '91' '16' '22' '31' '41' '8' '7' '6'\n",
      " '5']\n",
      "curve\n",
      "['81' '89' '86' '14' '77' '21' '82' '85' '74' '73' '83' '19' '78' '79'\n",
      " '60' '20' '88' '13' '84' '56' '49' '65' '11' '61' '87' '76' '75' '80'\n",
      " '12' '58' '71' '72' '66' '90' '63' '70' '62' '54' '36' '32' '44' '46'\n",
      " '59' '24' '9' '18' '35' '17' '50' '28' '30' '55' '68' '23' '34' '22' '48'\n",
      " '64' '15' '45' '33' '53' '38' '10' '69' '92' '25' '67' '52' '16' '43'\n",
      " '47' '26' '42' '51' '39' '57' '31' '29' '37' '40' '41' '27' '8' '7' '6']\n",
      "dribbling\n",
      "['91' '97' '96' '86' '30' '85' '18' '93' '79' '84' '61' '13' '90' '89'\n",
      " '58' '26' '92' '12' '87' '82' '69' '67' '53' '68' '10' '77' '76' '80'\n",
      " '59' '78' '83' '75' '74' '88' '62' '66' '65' '57' '16' '11' '17' '51'\n",
      " '73' '63' '64' '55' '54' '20' '81' '15' '47' '42' '21' '70' '19' '41'\n",
      " '72' '43' '60' '25' '24' '14' '48' '22' '23' '50' '56' '46' '71' '39'\n",
      " '35' '28' '52' '49' '27' '40' '45' '44' '37' '38' '9' '34' '29' '8' '36'\n",
      " '31' '33' '32' '7' '4' '6' '5' '2']\n",
      "finishing\n",
      "['94' '95' '89' '13' '91' '83' '76' '60' '14' '85' '71' '87' '90' '33'\n",
      " '15' '11' '88' '69' '39' '34' '42' '55' '74' '10' '38' '65' '58' '77'\n",
      " '67' '78' '64' '70' '82' '63' '86' '45' '53' '44' '43' '46' '12' '79'\n",
      " '40' '59' '73' '9' '27' '72' '61' '56' '21' '84' '41' '19' '68' '81' '8'\n",
      " '66' '32' '37' '20' '51' '52' '18' '25' '36' '50' '75' '48' '28' '54'\n",
      " '80' '62' '49' '31' '16' '47' '57' '17' '23' '35' '22' '30' '29' '26'\n",
      " '24' '6' '7' '5' '4' '2' '3']\n",
      "heading accuracy\n",
      "['88' '71' '62' '77' '25' '85' '21' '57' '54' '86' '91' '53' '13' '70'\n",
      " '55' '68' '84' '15' '80' '58' '79' '92' '89' '10' '82' '51' '73' '52'\n",
      " '81' '74' '83' '75' '87' '76' '47' '49' '59' '90' '35' '78' '41' '19'\n",
      " '56' '72' '11' '63' '60' '12' '50' '65' '14' '61' '17' '29' '36' '94'\n",
      " '43' '42' '45' '16' '69' '93' '34' '67' '64' '32' '46' '48' '38' '40'\n",
      " '37' '66' '24' '18' '44' '23' '39' '22' '20' '33' '28' '9' '30' '27' '7'\n",
      " '8' '31' '6' '26' '5' '4']\n",
      "interceptions\n",
      "['29' '22' '36' '41' '30' '39' '85' '20' '88' '56' '15' '42' '76' '59'\n",
      " '24' '28' '19' '35' '78' '48' '90' '83' '89' '27' '91' '86' '68' '55'\n",
      " '72' '69' '43' '66' '70' '82' '58' '50' '84' '87' '40' '80' '23' '18'\n",
      " '26' '64' '79' '38' '74' '25' '92' '45' '49' '67' '31' '37' '81' '21'\n",
      " '34' '16' '65' '60' '32' '54' '44' '77' '62' '51' '53' '10' '61' '11'\n",
      " '57' '52' '71' '63' '13' '46' '33' '47' '17' '75' '73' '12' '14' '9' '7'\n",
      " '6' '8' '4' '5']\n",
      "jumping\n",
      "['95' '68' '61' '69' '78' '84' '67' '59' '32' '79' '93' '65' '85' '80'\n",
      " '89' '75' '76' '87' '77' '52' '74' '64' '57' '82' '88' '71' '44' '66'\n",
      " '70' '54' '81' '72' '83' '60' '34' '51' '53' '73' '62' '63' '92' '86'\n",
      " '46' '48' '94' '56' '90' '38' '58' '49' '55' '30' '39' '50' '40' '41'\n",
      " '42' '43' '33' '45' '36' '91' '35' '37' '47' '31' '26' '29' '27' '25'\n",
      " '28' '13' '15' '16']\n",
      "long passing\n",
      "['77' '87' '75' '64' '59' '65' '51' '81' '93' '72' '84' '31' '73' '83'\n",
      " '80' '63' '35' '71' '26' '90' '85' '70' '50' '76' '79' '89' '88' '86'\n",
      " '82' '92' '34' '67' '68' '78' '52' '74' '69' '47' '61' '33' '37' '38'\n",
      " '66' '56' '54' '48' '32' '24' '39' '58' '23' '30' '42' '46' '22' '55'\n",
      " '62' '25' '49' '12' '36' '28' '27' '53' '40' '45' '20' '43' '60' '57'\n",
      " '29' '21' '44' '19' '41' '16' '18' '13' '17' '15' '10' '11' '14' '9' '7']\n",
      "long shots\n",
      "['92' '88' '77' '86' '16' '83' '12' '82' '90' '55' '17' '49' '13' '79'\n",
      " '65' '58' '43' '51' '76' '14' '71' '85' '66' '84' '78' '73' '19' '91'\n",
      " '87' '75' '72' '54' '63' '81' '48' '41' '56' '11' '53' '80' '10' '20'\n",
      " '74' '60' '68' '39' '64' '47' '69' '36' '70' '15' '52' '9' '23' '24' '62'\n",
      " '18' '67' '35' '31' '25' '40' '59' '38' '26' '44' '46' '28' '30' '34'\n",
      " '61' '22' '29' '57' '50' '42' '37' '32' '45' '27' '33' '7' '8' '21' '6'\n",
      " '5' '3' '4']\n",
      "marking\n",
      "['22' '13' '21' '30' '10' '25' '63' '12' '86' '11' '66' '51' '92' '14'\n",
      " '23' '49' '28' '84' '88' '87' '85' '90' '15' '29' '75' '76' '38' '24'\n",
      " '80' '60' '52' '17' '57' '41' '81' '27' '78' '31' '89' '19' '83' '16' '8'\n",
      " '37' '62' '72' '82' '46' '33' '70' '26' '43' '73' '55' '67' '9' '79' '77'\n",
      " '20' '59' '56' '58' '32' '68' '34' '65' '35' '69' '18' '53' '48' '39'\n",
      " '71' '40' '45' '54' '64' '74' '44' '47' '36' '61' '50' '42' '5' '7' '4'\n",
      " '6']\n",
      "penalties\n",
      "['85' '74' '81' '47' '40' '86' '73' '70' '68' '77' '27' '80' '76' '83'\n",
      " '50' '22' '11' '71' '75' '79' '46' '67' '91' '54' '64' '84' '59' '78'\n",
      " '23' '69' '82' '60' '87' '63' '52' '33' '49' '57' '43' '66' '61' '25'\n",
      " '72' '39' '56' '65' '62' '35' '45' '21' '26' '20' '15' '41' '51' '53'\n",
      " '58' '38' '24' '32' '17' '31' '16' '42' '44' '48' '55' '89' '37' '92'\n",
      " '18' '90' '88' '13' '36' '19' '34' '14' '12' '10' '30' '29' '28' '9' '7'\n",
      " '5' '8']\n",
      "positioning\n",
      "['95' '93' '90' '92' '12' '91' '85' '79' '52' '84' '13' '86' '28' '11'\n",
      " '83' '89' '38' '47' '48' '56' '10' '59' '71' '81' '80' '75' '88' '58'\n",
      " '77' '87' '70' '54' '57' '50' '43' '78' '40' '82' '44' '66' '16' '15' '7'\n",
      " '24' '62' '60' '68' '41' '72' '61' '25' '69' '39' '45' '74' '76' '26'\n",
      " '46' '9' '32' '51' '67' '49' '35' '65' '73' '14' '55' '27' '34' '33' '29'\n",
      " '53' '20' '30' '37' '21' '64' '31' '63' '8' '18' '42' '36' '23' '17' '19'\n",
      " '4' '3' '22' '5' '6' '2']\n",
      "reactions\n",
      "['96' '95' '88' '93' '85' '91' '86' '81' '87' '89' '82' '80' '84' '90'\n",
      " '83' '79' '92' '78' '76' '77' '74' '75' '68' '73' '72' '66' '71' '70'\n",
      " '67' '69' '63' '61' '65' '64' '62' '60' '59' '58' '57' '55' '56' '54'\n",
      " '53' '52' '51' '50' '49' '48' '47' '45' '35' '43' '39' '46' '44' '36'\n",
      " '41' '42' '32' '40' '31' '33' '34' '38' '30' '37' '28']\n",
      "short passing\n",
      "['83' '88' '81' '55' '50' '86' '90' '75' '78' '32' '92' '79' '59' '37'\n",
      " '29' '91' '77' '80' '89' '84' '82' '87' '36' '71' '85' '67' '64' '70'\n",
      " '35' '30' '24' '63' '33' '72' '65' '73' '60' '25' '39' '76' '74' '68'\n",
      " '15' '31' '40' '69' '44' '28' '19' '21' '34' '23' '22' '56' '26' '66'\n",
      " '47' '27' '61' '62' '20' '52' '54' '41' '57' '43' '38' '17' '49' '18'\n",
      " '53' '58' '16' '11' '12' '45' '51' '48' '42' '46' '14' '13' '10']\n",
      "shot power\n",
      "['94' '85' '80' '87' '25' '88' '31' '79' '36' '84' '73' '91' '78' '39'\n",
      " '82' '22' '81' '75' '74' '67' '71' '70' '23' '72' '56' '90' '86' '83'\n",
      " '62' '65' '77' '61' '76' '63' '21' '52' '24' '57' '64' '68' '54' '55'\n",
      " '43' '66' '59' '42' '53' '20' '69' '38' '28' '44' '46' '19' '15' '92'\n",
      " '50' '58' '29' '35' '14' '51' '45' '60' '27' '37' '40' '47' '30' '48'\n",
      " '49' '18' '12' '26' '89' '17' '16' '34' '32' '13' '33' '11' '41' '10' '3'\n",
      " '8' '6' '9']\n",
      "sliding tackle\n",
      "['23' '26' '33' '38' '11' '19' '13' '22' '69' '18' '91' '40' '16' '35'\n",
      " '73' '52' '12' '90' '20' '62' '36' '88' '89' '27' '85' '79' '66' '87'\n",
      " '53' '29' '86' '56' '30' '51' '83' '84' '44' '80' '46' '34' '14' '55'\n",
      " '10' '64' '81' '39' '57' '21' '76' '75' '31' '45' '78' '49' '61' '17'\n",
      " '63' '82' '8' '41' '32' '71' '42' '68' '47' '28' '43' '25' '77' '37' '24'\n",
      " '74' '58' '54' '48' '67' '65' '70' '72' '60' '15' '50' '59' '9' '7' '6'\n",
      " '5' '4']\n",
      "sprint speed\n",
      "['91' '87' '90' '77' '61' '83' '58' '52' '80' '75' '84' '71' '95' '78'\n",
      " '43' '60' '86' '68' '96' '72' '67' '65' '63' '74' '62' '76' '79' '64'\n",
      " '57' '73' '69' '89' '88' '34' '50' '70' '44' '81' '53' '54' '93' '66'\n",
      " '82' '92' '51' '41' '47' '48' '56' '46' '94' '85' '30' '55' '33' '40'\n",
      " '59' '45' '39' '42' '28' '32' '35' '49' '38' '36' '37' '31' '24' '18'\n",
      " '25' '29' '26' '27' '21' '23' '17' '16' '19' '22' '20' '15' '12' '14'\n",
      " '13' '11']\n",
      "stamina\n",
      "['92' '73' '78' '89' '44' '79' '40' '77' '72' '84' '87' '38' '85' '82'\n",
      " '76' '74' '68' '39' '83' '41' '75' '67' '66' '69' '71' '94' '91' '90'\n",
      " '81' '58' '80' '93' '88' '64' '65' '62' '32' '86' '43' '35' '37' '46'\n",
      " '70' '31' '36' '42' '33' '30' '45' '34' '60' '29' '28' '63' '59' '55'\n",
      " '61' '57' '25' '18' '49' '50' '53' '27' '22' '26' '54' '56' '47' '48'\n",
      " '24' '95' '23' '52' '20' '15' '51' '16' '17' '21' '14' '19' '13' '12']\n",
      "standing tackle\n",
      "['31' '28' '24' '45' '10' '42' '21' '27' '82' '22' '89' '51' '18' '39'\n",
      " '80' '55' '20' '92' '11' '12' '64' '25' '88' '91' '86' '16' '41' '26'\n",
      " '84' '68' '56' '85' '73' '65' '44' '87' '57' '36' '83' '30' '90' '40'\n",
      " '15' '63' '13' '14' '53' '67' '59' '70' '78' '35' '66' '32' '58' '79'\n",
      " '75' '43' '23' '61' '72' '48' '50' '29' '69' '19' '33' '17' '77' '49'\n",
      " '81' '74' '60' '38' '37' '76' '46' '52' '54' '71' '34' '62' '47' '9' '7'\n",
      " '8' '4' '6']\n",
      "strength\n",
      "['80' '59' '53' '83' '84' '64' '65' '74' '85' '81' '73' '70' '72' '58'\n",
      " '91' '69' '78' '61' '77' '57' '43' '88' '67' '56' '63' '71' '86' '93'\n",
      " '82' '76' '42' '60' '44' '79' '75' '68' '90' '87' '54' '62' '89' '55'\n",
      " '48' '47' '94' '51' '92' '52' '39' '36' '46' '66' '50' '49' '45' '34'\n",
      " '41' '37' '31' '38' '33' '40' '35' '32' '27' '30' '28' '95' '96' '29'\n",
      " '26' '25' '24' '98' '21' '12' '22' '23' '20']\n",
      "vision\n",
      "['85' '90' '80' '84' '70' '78' '68' '86' '88' '63' '44' '83' '79' '50'\n",
      " '55' '76' '77' '74' '52' '92' '30' '75' '87' '41' '62' '94' '73' '81'\n",
      " '67' '69' '82' '58' '91' '48' '53' '56' '54' '57' '23' '49' '59' '64'\n",
      " '34' '89' '22' '42' '46' '47' '27' '60' '72' '61' '51' '38' '45' '71'\n",
      " '65' '66' '31' '37' '35' '40' '28' '32' '18' '43' '39' '15' '16' '33'\n",
      " '26' '25' '12' '29' '13' '14' '36' '17' '11' '21' '24' '20' '19' '10']\n",
      "volleys\n",
      "['88' '85' '83' '11' '87' '13' '79' '82' '66' '12' '74' '76' '45' '17'\n",
      " '90' '86' '58' '53' '47' '60' '77' '63' '56' '64' '78' '84' '54' '80'\n",
      " '57' '73' '91' '68' '44' '75' '38' '81' '61' '70' '46' '51' '23' '42'\n",
      " '10' '14' '72' '52' '35' '40' '34' '16' '69' '48' '59' '22' '71' '31'\n",
      " '30' '29' '18' '67' '50' '55' '27' '19' '32' '36' '65' '8' '49' '15' '62'\n",
      " '24' '37' '39' '28' '25' '41' '43' '9' '20' '89' '33' '21' '26' '7' '4'\n",
      " '6' '5']\n"
     ]
    }
   ],
   "source": [
    "for i in num_cols:\n",
    "    print(i)\n",
    "    print(df[i].unique())"
   ]
  },
  {
   "cell_type": "code",
   "execution_count": 67,
   "metadata": {},
   "outputs": [
    {
     "data": {
      "text/html": [
       "<div>\n",
       "<style scoped>\n",
       "    .dataframe tbody tr th:only-of-type {\n",
       "        vertical-align: middle;\n",
       "    }\n",
       "\n",
       "    .dataframe tbody tr th {\n",
       "        vertical-align: top;\n",
       "    }\n",
       "\n",
       "    .dataframe thead th {\n",
       "        text-align: right;\n",
       "    }\n",
       "</style>\n",
       "<table border=\"1\" class=\"dataframe\">\n",
       "  <thead>\n",
       "    <tr style=\"text-align: right;\">\n",
       "      <th></th>\n",
       "      <th>name</th>\n",
       "      <th>age</th>\n",
       "      <th>overall</th>\n",
       "      <th>value</th>\n",
       "      <th>acceleration</th>\n",
       "      <th>aggression</th>\n",
       "      <th>agility</th>\n",
       "      <th>balance</th>\n",
       "      <th>ball control</th>\n",
       "      <th>composure</th>\n",
       "      <th>...</th>\n",
       "      <th>reactions</th>\n",
       "      <th>short passing</th>\n",
       "      <th>shot power</th>\n",
       "      <th>sliding tackle</th>\n",
       "      <th>sprint speed</th>\n",
       "      <th>stamina</th>\n",
       "      <th>standing tackle</th>\n",
       "      <th>strength</th>\n",
       "      <th>vision</th>\n",
       "      <th>volleys</th>\n",
       "    </tr>\n",
       "  </thead>\n",
       "  <tbody>\n",
       "    <tr>\n",
       "      <th>0</th>\n",
       "      <td>Cristiano Ronaldo</td>\n",
       "      <td>32</td>\n",
       "      <td>94</td>\n",
       "      <td>€95.5M</td>\n",
       "      <td>89</td>\n",
       "      <td>63</td>\n",
       "      <td>89</td>\n",
       "      <td>63</td>\n",
       "      <td>93</td>\n",
       "      <td>95</td>\n",
       "      <td>...</td>\n",
       "      <td>96</td>\n",
       "      <td>83</td>\n",
       "      <td>94</td>\n",
       "      <td>23</td>\n",
       "      <td>91</td>\n",
       "      <td>92</td>\n",
       "      <td>31</td>\n",
       "      <td>80</td>\n",
       "      <td>85</td>\n",
       "      <td>88</td>\n",
       "    </tr>\n",
       "    <tr>\n",
       "      <th>1</th>\n",
       "      <td>L. Messi</td>\n",
       "      <td>30</td>\n",
       "      <td>93</td>\n",
       "      <td>€105M</td>\n",
       "      <td>92</td>\n",
       "      <td>48</td>\n",
       "      <td>90</td>\n",
       "      <td>95</td>\n",
       "      <td>95</td>\n",
       "      <td>96</td>\n",
       "      <td>...</td>\n",
       "      <td>95</td>\n",
       "      <td>88</td>\n",
       "      <td>85</td>\n",
       "      <td>26</td>\n",
       "      <td>87</td>\n",
       "      <td>73</td>\n",
       "      <td>28</td>\n",
       "      <td>59</td>\n",
       "      <td>90</td>\n",
       "      <td>85</td>\n",
       "    </tr>\n",
       "    <tr>\n",
       "      <th>2</th>\n",
       "      <td>Neymar</td>\n",
       "      <td>25</td>\n",
       "      <td>92</td>\n",
       "      <td>€123M</td>\n",
       "      <td>94</td>\n",
       "      <td>56</td>\n",
       "      <td>96</td>\n",
       "      <td>82</td>\n",
       "      <td>95</td>\n",
       "      <td>92</td>\n",
       "      <td>...</td>\n",
       "      <td>88</td>\n",
       "      <td>81</td>\n",
       "      <td>80</td>\n",
       "      <td>33</td>\n",
       "      <td>90</td>\n",
       "      <td>78</td>\n",
       "      <td>24</td>\n",
       "      <td>53</td>\n",
       "      <td>80</td>\n",
       "      <td>83</td>\n",
       "    </tr>\n",
       "    <tr>\n",
       "      <th>3</th>\n",
       "      <td>L. Suárez</td>\n",
       "      <td>30</td>\n",
       "      <td>92</td>\n",
       "      <td>€97M</td>\n",
       "      <td>88</td>\n",
       "      <td>78</td>\n",
       "      <td>86</td>\n",
       "      <td>60</td>\n",
       "      <td>91</td>\n",
       "      <td>83</td>\n",
       "      <td>...</td>\n",
       "      <td>93</td>\n",
       "      <td>83</td>\n",
       "      <td>87</td>\n",
       "      <td>38</td>\n",
       "      <td>77</td>\n",
       "      <td>89</td>\n",
       "      <td>45</td>\n",
       "      <td>80</td>\n",
       "      <td>84</td>\n",
       "      <td>88</td>\n",
       "    </tr>\n",
       "    <tr>\n",
       "      <th>4</th>\n",
       "      <td>M. Neuer</td>\n",
       "      <td>31</td>\n",
       "      <td>92</td>\n",
       "      <td>€61M</td>\n",
       "      <td>58</td>\n",
       "      <td>29</td>\n",
       "      <td>52</td>\n",
       "      <td>35</td>\n",
       "      <td>48</td>\n",
       "      <td>70</td>\n",
       "      <td>...</td>\n",
       "      <td>85</td>\n",
       "      <td>55</td>\n",
       "      <td>25</td>\n",
       "      <td>11</td>\n",
       "      <td>61</td>\n",
       "      <td>44</td>\n",
       "      <td>10</td>\n",
       "      <td>83</td>\n",
       "      <td>70</td>\n",
       "      <td>11</td>\n",
       "    </tr>\n",
       "  </tbody>\n",
       "</table>\n",
       "<p>5 rows × 32 columns</p>\n",
       "</div>"
      ],
      "text/plain": [
       "                name age overall   value acceleration aggression agility  \\\n",
       "0  Cristiano Ronaldo  32      94  €95.5M           89         63      89   \n",
       "1           L. Messi  30      93   €105M           92         48      90   \n",
       "2             Neymar  25      92   €123M           94         56      96   \n",
       "3          L. Suárez  30      92    €97M           88         78      86   \n",
       "4           M. Neuer  31      92    €61M           58         29      52   \n",
       "\n",
       "  balance ball control composure  ... reactions short passing shot power  \\\n",
       "0      63           93        95  ...        96            83         94   \n",
       "1      95           95        96  ...        95            88         85   \n",
       "2      82           95        92  ...        88            81         80   \n",
       "3      60           91        83  ...        93            83         87   \n",
       "4      35           48        70  ...        85            55         25   \n",
       "\n",
       "  sliding tackle sprint speed stamina standing tackle strength vision volleys  \n",
       "0             23           91      92              31       80     85      88  \n",
       "1             26           87      73              28       59     90      85  \n",
       "2             33           90      78              24       53     80      83  \n",
       "3             38           77      89              45       80     84      88  \n",
       "4             11           61      44              10       83     70      11  \n",
       "\n",
       "[5 rows x 32 columns]"
      ]
     },
     "execution_count": 67,
     "metadata": {},
     "output_type": "execute_result"
    }
   ],
   "source": [
    "df.head()"
   ]
  },
  {
   "cell_type": "markdown",
   "metadata": {},
   "source": [
    "Convirtiendo las variables a enteros ahora sí:"
   ]
  },
  {
   "cell_type": "code",
   "execution_count": 68,
   "metadata": {},
   "outputs": [],
   "source": [
    "for i in num_cols:\n",
    "    df[i] = df[i].astype(int)"
   ]
  },
  {
   "cell_type": "code",
   "execution_count": 69,
   "metadata": {},
   "outputs": [
    {
     "data": {
      "text/plain": [
       "name                object\n",
       "age                  int32\n",
       "overall              int32\n",
       "value               object\n",
       "acceleration         int32\n",
       "aggression           int32\n",
       "agility              int32\n",
       "balance              int32\n",
       "ball control         int32\n",
       "composure            int32\n",
       "crossing             int32\n",
       "curve                int32\n",
       "dribbling            int32\n",
       "finishing            int32\n",
       "heading accuracy     int32\n",
       "interceptions        int32\n",
       "jumping              int32\n",
       "long passing         int32\n",
       "long shots           int32\n",
       "marking              int32\n",
       "penalties            int32\n",
       "positioning          int32\n",
       "reactions            int32\n",
       "short passing        int32\n",
       "shot power           int32\n",
       "sliding tackle       int32\n",
       "sprint speed         int32\n",
       "stamina              int32\n",
       "standing tackle      int32\n",
       "strength             int32\n",
       "vision               int32\n",
       "volleys              int32\n",
       "dtype: object"
      ]
     },
     "execution_count": 69,
     "metadata": {},
     "output_type": "execute_result"
    }
   ],
   "source": [
    "df.dtypes"
   ]
  },
  {
   "cell_type": "markdown",
   "metadata": {},
   "source": [
    "Arreglado. Estamos listos para hacer *machine learning* bien, pero primero, un poco más de teoría:"
   ]
  },
  {
   "cell_type": "markdown",
   "metadata": {},
   "source": [
    "# Conjunto de Entrenamiento y Conjunto de Prueba\n",
    "\n",
    "Para entrenar un modelo es necesario partir nuestro dataset en dos, un conjunto de entrenamiento y un conjunto de prueba, en algunos casos cuando se quiere optimizar metaparámetros es necesario un tercer conjunto de validación."
   ]
  },
  {
   "cell_type": "markdown",
   "metadata": {},
   "source": [
    "<img src=\"Imagenes/ML5.png\">"
   ]
  },
  {
   "cell_type": "markdown",
   "metadata": {},
   "source": [
    "El proceso del modelo de *machine learning* es como sigue:\n",
    "\n",
    "* Partir el *data set* original en entrenamiento y prueba.\n",
    "* Usar el conjunto de entrenamiento para ajustar el modelo a los datos (el modelo más el método *.fit*)\n",
    "* En caso de que vayan a optimizarse metaparámetros, el conjunto de entrenamiento se parte en entrenamiento y validación llevar acabo ese proceso.\n",
    "* Una vez entrenado el modelo, se usan las variables predictoras del conjunto de prueba y se hacen las predicciones.\n",
    "* Las predicciones del modelo se comparan con los valores reales del conjunto de prueba por medio de una métrica de evaluación del modelo.\n",
    "* Si el performance del modelo es el esperado, puede entrar a producción, si no se busca la manera de mejorarlo hasta que cumpla con los requerimientos mínimos en cuanto a performance."
   ]
  },
  {
   "cell_type": "markdown",
   "metadata": {},
   "source": [
    "A continuación realizaremos el proceso anteriormente explicado.\n",
    "\n",
    "Escogemos las variables predictoras y la variable objetivo será *overall*:"
   ]
  },
  {
   "cell_type": "code",
   "execution_count": 70,
   "metadata": {},
   "outputs": [],
   "source": [
    "X = ['age',\n",
    " 'acceleration',\n",
    " 'aggression',\n",
    " 'agility',\n",
    " 'balance',\n",
    " 'ball control',\n",
    " 'composure',\n",
    " 'crossing',\n",
    " 'curve',\n",
    " 'dribbling',\n",
    " 'finishing',\n",
    " 'heading accuracy',\n",
    " 'interceptions',\n",
    " 'jumping',\n",
    " 'long passing',\n",
    " 'long shots',\n",
    " 'marking',\n",
    " 'penalties',\n",
    " 'positioning',\n",
    " 'reactions',\n",
    " 'short passing',\n",
    " 'shot power',\n",
    " 'sliding tackle',\n",
    " 'sprint speed',\n",
    " 'stamina',\n",
    " 'standing tackle',\n",
    " 'strength',\n",
    " 'vision',\n",
    " 'volleys']"
   ]
  },
  {
   "cell_type": "markdown",
   "metadata": {},
   "source": [
    "Para partir nuestros datos usaremos *train_test_split* de *sklearn.model_selection*:"
   ]
  },
  {
   "cell_type": "code",
   "execution_count": 71,
   "metadata": {},
   "outputs": [],
   "source": [
    "from sklearn.model_selection import train_test_split\n",
    "\n",
    "X_train, X_test, y_train, y_test = train_test_split(df[X],df.overall, test_size = 0.2, random_state = 0)"
   ]
  },
  {
   "cell_type": "markdown",
   "metadata": {},
   "source": [
    "* test_size: determina el tamaño del conjunto de prueba, e.g. si es igual a 0.2 entonces el 20% de los datos se irán a prueba y el 80% se irá a entrenamiento.\n",
    "* random_state: semilla de aleateoridad, si se cambia, los conjuntos de entrenamiento y de prueba generados serán diferentes.\n",
    "\n",
    "Este método de sklearn escoge registros de manera aleatoria y los consolida en los conjuntos de entrenamiento y de prueba. Para que dos modelos sean comparables entre ellos DEBEN de ser evaluados con los MISMOS conjuntos de entrenamiento y prueba y para ello el random_state debe ser el mismo."
   ]
  },
  {
   "cell_type": "markdown",
   "metadata": {},
   "source": [
    "Como estamos trabajando con una regresión lineal,convendría estandarizar las variables, pero no vamos a hacerlo. :V"
   ]
  },
  {
   "cell_type": "code",
   "execution_count": null,
   "metadata": {},
   "outputs": [],
   "source": [
    "# X_train = (X_train - X_train.mean())/X_train.std()\n",
    "# X_test = (X_test - X_test.mean())/X_test.std()"
   ]
  },
  {
   "cell_type": "markdown",
   "metadata": {},
   "source": [
    "Ajustemos el modelo a los datos como hicimos antes, pero ahora SOLO al conjunto de entrenamiento:"
   ]
  },
  {
   "cell_type": "code",
   "execution_count": 72,
   "metadata": {},
   "outputs": [
    {
     "data": {
      "text/plain": [
       "LinearRegression()"
      ]
     },
     "execution_count": 72,
     "metadata": {},
     "output_type": "execute_result"
    }
   ],
   "source": [
    "regressor = LinearRegression()\n",
    "regressor.fit(X_train,y_train)"
   ]
  },
  {
   "cell_type": "markdown",
   "metadata": {},
   "source": [
    "Ahora hagamos las predicciones sobre el conjunto de prueba: "
   ]
  },
  {
   "cell_type": "code",
   "execution_count": 73,
   "metadata": {},
   "outputs": [
    {
     "data": {
      "text/plain": [
       "array([62.80682284, 72.06913287, 61.18335406, 67.59980219, 68.54838953,\n",
       "       68.65570281, 58.59428476, 74.72423011, 70.41109642, 71.23628616])"
      ]
     },
     "execution_count": 73,
     "metadata": {},
     "output_type": "execute_result"
    }
   ],
   "source": [
    "y_pred = regressor.predict(X_test)\n",
    "y_pred[0:10]"
   ]
  },
  {
   "cell_type": "markdown",
   "metadata": {},
   "source": [
    "Finalmente, tenemos que comparar estas predicciones con los valores reales contenidos en y_test para ver qué tanto nos acercamos a la relidad, ¿cómo evaluamos qué tan bueno es el modelo?"
   ]
  },
  {
   "cell_type": "markdown",
   "metadata": {},
   "source": [
    "## Métricas de evaluación de modelo\n",
    "\n",
    "* Error Cuadrático Medio (Mean Square Error MSE): \n",
    "\n",
    "$$ \\frac{1}{n} \\Sigma_{i =1}^{n} (y_i - \\hat y_i)^2 $$\n",
    "\n",
    "$y_i$: valor real\n",
    "\n",
    "$\\hat y_i$: valor predicho\n",
    "\n",
    "n: número de registros \n",
    "\n",
    "Básicamente está cuantificando la diferencia cuadrática promedio entre predicción y valor real. Por lo general se trabaja con la raíz cuadrada de este valor."
   ]
  },
  {
   "cell_type": "markdown",
   "metadata": {},
   "source": [
    "* Coeficiente de Determinación ($R^2$). Métrica de qué tan bueno fue el ajuste del modelo. En regresiones, es una medida estadística de qué tanto las predicciones de la regresión se aproximan a los datos reales. Un $R^2$ de 1 indicará que la regresión se ajusta perfectamente a los datos.\n",
    "\n",
    "<img src = \"Imagenes/ML4.jpg\">"
   ]
  },
  {
   "cell_type": "code",
   "execution_count": 74,
   "metadata": {},
   "outputs": [
    {
     "name": "stdout",
     "output_type": "stream",
     "text": [
      "Raíz del error cuadrático medio: 3.33\n",
      "Error porcentual promedio 4.04\n"
     ]
    },
    {
     "data": {
      "image/png": "[encoded data removed]",
      "text/plain": [
       "<Figure size 720x360 with 1 Axes>"
      ]
     },
     "metadata": {},
     "output_type": "display_data"
    }
   ],
   "source": [
    "print(\"Raíz del error cuadrático medio:\", round(np.sqrt(mean_squared_error(y_test,y_pred)),2))\n",
    "\n",
    "res = abs((y_test - y_pred)/y_test) * 100\n",
    "\n",
    "plt.figure(figsize = (10,5))\n",
    "plt.hist(res,bins=100)\n",
    "plt.xlabel('Porcentaje de error')\n",
    "plt.ylabel('Frecuencia')\n",
    "plt.title('Histograma de error porcentual')\n",
    "print('Error porcentual promedio',round(res.mean(),2) );"
   ]
  },
  {
   "cell_type": "markdown",
   "metadata": {},
   "source": [
    "En cuanto a la $R^2$:"
   ]
  },
  {
   "cell_type": "code",
   "execution_count": 75,
   "metadata": {},
   "outputs": [
    {
     "name": "stdout",
     "output_type": "stream",
     "text": [
      "R*2: 0.7752\n"
     ]
    }
   ],
   "source": [
    "print(\"R*2: %1.4f\" % r2_score(y_test,y_pred))"
   ]
  },
  {
   "cell_type": "code",
   "execution_count": 76,
   "metadata": {},
   "outputs": [
    {
     "data": {
      "image/png": "[encoded data removed]",
      "text/plain": [
       "<Figure size 648x648 with 1 Axes>"
      ]
     },
     "metadata": {},
     "output_type": "display_data"
    }
   ],
   "source": [
    "coef = regressor.coef_\n",
    "coefs = pd.DataFrame(index = X_train.columns, \n",
    "                     data =coef,columns=['coeficiente'])\n",
    "\n",
    "coefs.sort_values('coeficiente').plot.barh(figsize=(9,9))\n",
    "plt.legend(\"\");"
   ]
  },
  {
   "cell_type": "markdown",
   "metadata": {},
   "source": [
    "¿Qué variables pesan para el puntaje del jugador?\n",
    "\n"
   ]
  },
  {
   "cell_type": "markdown",
   "metadata": {},
   "source": [
    "Hagamos algunas predicciones individuales:"
   ]
  },
  {
   "cell_type": "code",
   "execution_count": 83,
   "metadata": {},
   "outputs": [
    {
     "name": "stdout",
     "output_type": "stream",
     "text": [
      "Valor real: 1    93\n",
      "Name: overall, dtype: int32\n",
      "Valor predicho: 87.6\n"
     ]
    }
   ],
   "source": [
    "messi = df[df.name == 'L. Messi']\n",
    "print(\"Valor real:\", messi.overall)\n",
    "print(\"Valor predicho:\", round(regressor.predict(messi[X])[0],2))"
   ]
  },
  {
   "cell_type": "code",
   "execution_count": 84,
   "metadata": {},
   "outputs": [
    {
     "name": "stdout",
     "output_type": "stream",
     "text": [
      "Valor real: 710    78\n",
      "Name: overall, dtype: int32\n",
      "Valor predicho: 75.32\n"
     ]
    }
   ],
   "source": [
    "Hirving = df[df.name == 'H. Lozano']\n",
    "print(\"Valor real:\", Hirving.overall)\n",
    "print(\"Valor predicho:\", round(regressor.predict(Hirving[X])[0],2))"
   ]
  }
 ],
 "metadata": {
  "kernelspec": {
   "display_name": "Python 3",
   "language": "python",
   "name": "python3"
  },
  "language_info": {
   "codemirror_mode": {
    "name": "ipython",
    "version": 3
   },
   "file_extension": ".py",
   "mimetype": "text/x-python",
   "name": "python",
   "nbconvert_exporter": "python",
   "pygments_lexer": "ipython3",
   "version": "3.8.3"
  }
 },
 "nbformat": 4,
 "nbformat_minor": 4
}
