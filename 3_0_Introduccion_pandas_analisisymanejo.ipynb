{
 "cells": [
  {
   "cell_type": "markdown",
   "metadata": {},
   "source": [
    "# Introducción a Pandas: Análisis y manejo de datos\n",
    "\n",
    "Pandas es una _paquetería basada en Numpy para la manipulación y análisis de datos_.\n",
    "\n",
    "Maneja desde tablas numéricas hasta series de tiempo."
   ]
  },
  {
   "cell_type": "code",
   "execution_count": null,
   "metadata": {
    "ExecuteTime": {
     "end_time": "2018-02-08T03:05:14.546755Z",
     "start_time": "2018-02-08T03:05:08.371485Z"
    }
   },
   "outputs": [],
   "source": [
    "import pandas as pd   # Biblioteca de manipulación de datos\n",
    "import numpy as np   # Cálculo numérico\n",
    "import matplotlib.pyplot as plt   # Biblioteca de graficación"
   ]
  },
  {
   "cell_type": "markdown",
   "metadata": {},
   "source": [
    "# Selección de Datos\n",
    "Existen dos tipos de estructuras principales en Python:\n",
    "    \n",
    "   + **Series**: Lista con valores (como un diccionario)\n",
    "   + **Dataframes**: Tabla de datos con columnas e índices "
   ]
  },
  {
   "cell_type": "code",
   "execution_count": null,
   "metadata": {
    "ExecuteTime": {
     "end_time": "2018-02-03T16:21:50.982926Z",
     "start_time": "2018-02-03T16:21:50.951639Z"
    }
   },
   "outputs": [],
   "source": [
    "# Series\n",
    "dict_paises = {'Germany': 81.3, 'Belgium': 11.3, 'France': 64.3, \n",
    "                        'United Kingdom': 64.9, 'Netherlands': 16.9}\n",
    "population = pd.Series(dict_paises)\n",
    "population"
   ]
  },
  {
   "cell_type": "markdown",
   "metadata": {},
   "source": [
    "Los dataframes pueden generar con diccionarios o listas."
   ]
  },
  {
   "cell_type": "code",
   "execution_count": null,
   "metadata": {
    "ExecuteTime": {
     "end_time": "2018-02-03T16:21:50.982926Z",
     "start_time": "2018-02-03T16:21:50.951639Z"
    }
   },
   "outputs": [],
   "source": [
    "# Dataframe\n",
    "data = {'country': ['Belgium', 'France', 'Germany', 'Netherlands', 'United Kingdom'], \n",
    "        'population': [11.3, 64.3, 81.3, 16.9, 64.9],        \n",
    "        'area': [30510, 671308, 357050, 41526, 244820], \n",
    "        'capital': ['Brussels', 'Paris', 'Berlin', 'Amsterdam', 'London']}\n",
    "countries = pd.DataFrame(data)\n",
    "countries"
   ]
  },
  {
   "cell_type": "code",
   "execution_count": null,
   "metadata": {},
   "outputs": [],
   "source": [
    "type(countries)"
   ]
  },
  {
   "cell_type": "markdown",
   "metadata": {},
   "source": [
    "Para colocar un valor como índice y poder seleccionar registros más fácilmente, se usa el siguiene comando:"
   ]
  },
  {
   "cell_type": "code",
   "execution_count": null,
   "metadata": {
    "ExecuteTime": {
     "end_time": "2018-02-03T16:25:39.370533Z",
     "start_time": "2018-02-03T16:25:39.339518Z"
    }
   },
   "outputs": [],
   "source": [
    "countries.set_index('country')"
   ]
  },
  {
   "cell_type": "code",
   "execution_count": null,
   "metadata": {},
   "outputs": [],
   "source": [
    "countries"
   ]
  },
  {
   "cell_type": "code",
   "execution_count": null,
   "metadata": {
    "ExecuteTime": {
     "end_time": "2018-02-03T16:25:39.370533Z",
     "start_time": "2018-02-03T16:25:39.339518Z"
    }
   },
   "outputs": [],
   "source": [
    "countries.set_index('country', inplace = True)\n",
    "countries"
   ]
  },
  {
   "cell_type": "markdown",
   "metadata": {},
   "source": [
    "Existen dos maneras de seleccionar datos en pandas:\n",
    " + Una es por columnas\n",
    " + La otra es por posicion de fila"
   ]
  },
  {
   "cell_type": "code",
   "execution_count": null,
   "metadata": {},
   "outputs": [],
   "source": [
    "print(countries.index)   # Indices\n",
    "print(countries.columns)   # Columnas"
   ]
  },
  {
   "cell_type": "markdown",
   "metadata": {},
   "source": [
    "## Por Columna"
   ]
  },
  {
   "cell_type": "code",
   "execution_count": null,
   "metadata": {
    "ExecuteTime": {
     "end_time": "2018-02-03T16:39:25.403509Z",
     "start_time": "2018-02-03T16:39:25.372251Z"
    }
   },
   "outputs": [],
   "source": [
    "# Para elegir una fila solo es necesario elegir la columna con el siguiente formato\n",
    "# Cabe mencionar que nos devolvera una serie. Cualquiera de las dos es válida.\n",
    "\n",
    "# countries['capital']\n",
    "countries.area"
   ]
  },
  {
   "cell_type": "code",
   "execution_count": null,
   "metadata": {},
   "outputs": [],
   "source": [
    "countries['capital']"
   ]
  },
  {
   "cell_type": "code",
   "execution_count": null,
   "metadata": {},
   "outputs": [],
   "source": [
    "countries.capital"
   ]
  },
  {
   "cell_type": "code",
   "execution_count": null,
   "metadata": {},
   "outputs": [],
   "source": [
    "countries['area']"
   ]
  },
  {
   "cell_type": "code",
   "execution_count": null,
   "metadata": {},
   "outputs": [],
   "source": [
    "countries.area"
   ]
  },
  {
   "cell_type": "code",
   "execution_count": null,
   "metadata": {
    "ExecuteTime": {
     "end_time": "2018-02-03T16:40:44.754503Z",
     "start_time": "2018-02-03T16:40:44.723444Z"
    }
   },
   "outputs": [],
   "source": [
    "# Si queremos seleccionar multiples columnas\n",
    "countries[['area','population']]\n",
    "\n",
    "# Esto funciona para limpiar las columnas que no queremos"
   ]
  },
  {
   "cell_type": "code",
   "execution_count": null,
   "metadata": {},
   "outputs": [],
   "source": [
    "countries['area']"
   ]
  },
  {
   "cell_type": "code",
   "execution_count": null,
   "metadata": {},
   "outputs": [],
   "source": [
    "countries[['area']]"
   ]
  },
  {
   "cell_type": "markdown",
   "metadata": {},
   "source": [
    "## Por índice o etiqueta"
   ]
  },
  {
   "cell_type": "code",
   "execution_count": null,
   "metadata": {},
   "outputs": [],
   "source": [
    "countries.iloc[1:3]"
   ]
  },
  {
   "cell_type": "code",
   "execution_count": null,
   "metadata": {},
   "outputs": [],
   "source": [
    "countries.loc[['France']]"
   ]
  },
  {
   "cell_type": "markdown",
   "metadata": {},
   "source": [
    "# Filtros"
   ]
  },
  {
   "cell_type": "code",
   "execution_count": null,
   "metadata": {
    "ExecuteTime": {
     "end_time": "2018-02-03T16:45:48.473033Z",
     "start_time": "2018-02-03T16:45:48.457433Z"
    }
   },
   "outputs": [],
   "source": [
    "countries.capital == 'Paris'"
   ]
  },
  {
   "cell_type": "code",
   "execution_count": null,
   "metadata": {
    "ExecuteTime": {
     "end_time": "2018-02-03T16:45:56.208508Z",
     "start_time": "2018-02-03T16:45:56.192915Z"
    }
   },
   "outputs": [],
   "source": [
    "# Podemos hacerlo por condicionales. Por ejemplo:\n",
    "countries[countries.capital == 'Paris']"
   ]
  },
  {
   "cell_type": "code",
   "execution_count": null,
   "metadata": {
    "ExecuteTime": {
     "end_time": "2018-02-03T16:45:18.654636Z",
     "start_time": "2018-02-03T16:45:18.623391Z"
    }
   },
   "outputs": [],
   "source": [
    "# Excluyendo:\n",
    "countries.loc[countries.capital != 'Paris']"
   ]
  },
  {
   "cell_type": "markdown",
   "metadata": {},
   "source": [
    "# Datos Titanic\n",
    "\n",
    "Ahora leeremos el archivo titanic.csv con el método *pd.read_csv* para analizar sus datos, generar gráficos y medir algunas métricas importantes."
   ]
  },
  {
   "cell_type": "code",
   "execution_count": null,
   "metadata": {
    "ExecuteTime": {
     "end_time": "2018-02-08T03:05:16.153431Z",
     "start_time": "2018-02-08T03:05:16.082631Z"
    }
   },
   "outputs": [],
   "source": [
    "datos = pd.read_csv(\"Datos/titanic.csv\")\n",
    "datos.info()"
   ]
  },
  {
   "cell_type": "markdown",
   "metadata": {},
   "source": [
    "# Dictionary Data\n",
    "\n",
    "| Variable  | Definition  | Key  |\n",
    "|---|---|---|\n",
    "| survival  |  Survival |  0 = No, 1 = Yes |\n",
    "| pclass  | Ticket class  | 1 = 1st, 2 = 2nd, 3 = 3rd  |\n",
    "| sex  | Sex  |   |\n",
    "|Age |Age in years | |\n",
    "|sibsp |# of siblings / spouses aboard the Titanic | |\n",
    "|parch |# of parents / children aboard the Titanic | |\n",
    "|ticket |Ticket number | |\n",
    "|fare |Passenger fare  | |\n",
    "|cabin|Cabin number |\n",
    "|embarked|Port of Embarkation|C = Cherbourg, Q = Queenstown, S = Southampton|\n",
    "\n",
    "## Variable Notes\n",
    "\n",
    "+ pclass: A proxy for socio-economic status (SES)\n",
    "    + 1st = Upper\n",
    "    + 2nd = Middle\n",
    "    + 3rd = Lower\n",
    "\n",
    "+ age: Age is fractional if less than 1. If the age is estimated, is it in the form of xx.5\n",
    "\n",
    "+ sibsp: The dataset defines family relations in this way...\n",
    "    + Sibling = brother, sister, stepbrother, stepsister\n",
    "    + Spouse = husband, wife (mistresses and fiancés were ignored)\n",
    "\n",
    "+ parch: The dataset defines family relations in this way...\n",
    "    + Parent = mother, father\n",
    "    + Child = daughter, son, stepdaughter, stepson\n",
    "    + Some children travelled only with a nanny, therefore parch=0 for them."
   ]
  },
  {
   "cell_type": "code",
   "execution_count": null,
   "metadata": {},
   "outputs": [],
   "source": [
    "datos.head(3)"
   ]
  },
  {
   "cell_type": "code",
   "execution_count": null,
   "metadata": {},
   "outputs": [],
   "source": [
    "datos.tail(1)"
   ]
  },
  {
   "cell_type": "code",
   "execution_count": null,
   "metadata": {
    "ExecuteTime": {
     "end_time": "2018-02-03T17:28:16.973872Z",
     "start_time": "2018-02-03T17:28:16.192533Z"
    }
   },
   "outputs": [],
   "source": [
    "datos[['Age', 'Fare']].hist(bins=100, figsize=(10,5));"
   ]
  },
  {
   "cell_type": "code",
   "execution_count": null,
   "metadata": {},
   "outputs": [],
   "source": [
    "plt.style.use('ggplot') # Aplicando un tema de colores a nuestros gráficos."
   ]
  },
  {
   "cell_type": "markdown",
   "metadata": {},
   "source": [
    "Podemos encontrar más estilos en la siguiente [liga](https://matplotlib.org/3.1.0/gallery/style_sheets/style_sheets_reference.html)."
   ]
  },
  {
   "cell_type": "code",
   "execution_count": null,
   "metadata": {},
   "outputs": [],
   "source": [
    "datos.Age.hist()\n",
    "plt.xlabel('Edad')\n",
    "plt.ylabel('Frecuencia')\n",
    "plt.title('Histograma de la edad')"
   ]
  },
  {
   "cell_type": "code",
   "execution_count": null,
   "metadata": {},
   "outputs": [],
   "source": [
    "datos[['Age', 'Fare']].hist(bins=10, figsize=(10,5))\n",
    "plt.ylabel('Frecuencias');"
   ]
  },
  {
   "cell_type": "code",
   "execution_count": null,
   "metadata": {},
   "outputs": [],
   "source": [
    "datos.hist(figsize=(10,5));"
   ]
  },
  {
   "cell_type": "code",
   "execution_count": null,
   "metadata": {},
   "outputs": [],
   "source": [
    "datos.hist(bins=10,figsize=(10,5))\n",
    "plt.tight_layout();"
   ]
  },
  {
   "cell_type": "code",
   "execution_count": null,
   "metadata": {
    "ExecuteTime": {
     "end_time": "2018-02-03T17:29:53.148258Z",
     "start_time": "2018-02-03T17:29:53.117009Z"
    }
   },
   "outputs": [],
   "source": [
    "datos.median()"
   ]
  },
  {
   "cell_type": "code",
   "execution_count": null,
   "metadata": {},
   "outputs": [],
   "source": [
    "datos.mean()"
   ]
  },
  {
   "cell_type": "code",
   "execution_count": null,
   "metadata": {
    "ExecuteTime": {
     "end_time": "2018-02-03T17:30:01.231979Z",
     "start_time": "2018-02-03T17:30:01.216355Z"
    }
   },
   "outputs": [],
   "source": [
    "datos[['Age', 'Fare']].mode()"
   ]
  },
  {
   "cell_type": "code",
   "execution_count": null,
   "metadata": {
    "ExecuteTime": {
     "end_time": "2018-02-03T17:31:44.623954Z",
     "start_time": "2018-02-03T17:31:44.561446Z"
    }
   },
   "outputs": [],
   "source": [
    "datos.describe()"
   ]
  },
  {
   "cell_type": "markdown",
   "metadata": {},
   "source": [
    "---------------------------------\n",
    "## Cuantiles y Momentos"
   ]
  },
  {
   "cell_type": "markdown",
   "metadata": {},
   "source": [
    "### Cuantiles \n",
    "\n",
    "Valores de la variable que dividen a la distribución en un cierto número de partes de manera que cada una de ellas contiene el mismo número de frecuencia.\n",
    "\n",
    "**Ejemplos** \n",
    "\n",
    "* **Cuartiles** ($Q_i$):  son valores de la variable que dividen a la distribución en 4 partes, cada una de las cuales engloba el 25% de las mismas. Se denotan de la siguiente forma: $Q_1$ es el primer cuartil que deja a su izquierda el 25% de los datos; $Q_2$ es el segundo cuartil que deja a su izquierda al 50% de los datos; $Q_3$ es el tercer cuartil que deja a su izquierda el 75% de los datos. \n",
    "\n",
    "    ($Q_2$ = Mediana)\n",
    "\n",
    "<img src = \"Imagenes/cuantil.png\">"
   ]
  },
  {
   "cell_type": "markdown",
   "metadata": {},
   "source": [
    "* **Deciles** ($D_i$): son los valores de la variable que dividen a la distribución en diez partes iguales, cada una de las cuales engloba el 10% de los datos. En total se tienen 9 deciles. \n",
    "\n",
    "    ($Q_2 = D_5 = $ Mediana)\n",
    "\n",
    "<img src=\"Imagenes/decil.png\" width=\"500\">"
   ]
  },
  {
   "cell_type": "markdown",
   "metadata": {},
   "source": [
    "* **Centiles** o **Percentiles** ($P_i$): son los valores de la variable que dividen a la distribución en cien partes iguales, cada una de las cuales engloba el 1% de los datos. En total se tienen 99 percentiles ($Q_2 = D_5 = $ Mediana $ = P_{50}$)\n"
   ]
  },
  {
   "cell_type": "markdown",
   "metadata": {},
   "source": [
    "## Momentos\n",
    "\n",
    "Un **momento** es una _medida cuantitativa específica de la forma de una función_ y es usada tanto en física como en estadística. Si la función es una distribución de probabilidad el momento cero es la probabilidad total (i.e. 1), el segundo momento central es la varianza, el tercer momento estandarizado es la asimetría y el cuarto momento estandarizado es la curtosis."
   ]
  },
  {
   "cell_type": "markdown",
   "metadata": {},
   "source": [
    "De forma general, el **k-ésimo momento** $\\mu_k$ de una variable aleatoria X se define como:\n",
    "\n",
    "$ \\mu_k = E(X^k)$"
   ]
  },
  {
   "cell_type": "markdown",
   "metadata": {},
   "source": [
    "El primer momento es la **media aritmética** y, en el caso de una variable aleatoria discreta se define como:\n",
    "\n",
    "$ \\mu_1 = E(X) = \\frac{\\Sigma^n x_i}{n}$"
   ]
  },
  {
   "cell_type": "markdown",
   "metadata": {},
   "source": [
    "De forma general, el **k-ésimo momento central** $\\mu_k$ de una variable aleatoria X se define como:\n",
    "\n",
    "$ momento$ $central = E[(X-\\mu_1)^k]$"
   ]
  },
  {
   "cell_type": "markdown",
   "metadata": {},
   "source": [
    "La **varianza** es una cantidad específica que _mide la dispersión de los valores de la variable respecto a la media aritmética_. Cuanto mayor sea la varianza mayor dispersión existirá y por tanto la media aritmética tendrá menor representatividad.\n",
    "\n",
    "Matemáticamente, la varianza $\\sigma^2$se define como el segundo momento central. En términos de los momentos, puede demostrarse que:\n",
    "\n",
    "$\\sigma^2 = E[(X-\\mu_1)^2] = E(X^2) -E(\\mu_1^2) = \\mu_2 - \\mu_1^2$\n",
    "\n",
    "Para el caso de una variable discreta se tiene que:\n",
    "\n",
    "$\\sigma^2 = \\frac{1}{n} \\Sigma_{i=1}^n (x_i^2 - \\mu_1^2) $"
   ]
  },
  {
   "cell_type": "markdown",
   "metadata": {},
   "source": [
    "Para el coeficiente de asimetría y la curtosis se define la **variable estandarizada** $X^*$ como:\n",
    "\n",
    "$X^* = \\frac{X-\\mu_1}{\\sigma}$\n",
    "\n",
    "Así, el tercer momento central $\\beta_3$ de la variable aleatoria estandarizada $X^*$ recibe el nombre de **coefciente de asimetría**:\n",
    "\n",
    "$\\beta_3 = E[(X^*)^3] = \\frac{1}{\\sigma^3}E[(X-\\mu_1)^3]$"
   ]
  },
  {
   "cell_type": "markdown",
   "metadata": {},
   "source": [
    "Para el caso de una variable discreta tenemos que:\n",
    "\n",
    "$\\beta_3 = \\frac{1}{n \\sigma^3} \\Sigma_{i=1}^n(x_i-\\mu_1)^3$ \n"
   ]
  },
  {
   "cell_type": "markdown",
   "metadata": {},
   "source": [
    "* Una distribución que es simétrica alrededor de su media aritmética tendrá un coeficiente de asimetría igual a cero.\n",
    "\n",
    "* Una distribución que esté cargada a la derecha tendrá un coeficiente de asimetría positivo.\n",
    "\n",
    "* Una distribución que esté cargada a la izquierda tendrá un coeficiente de asimetría negativo\n",
    "\n",
    "<img src=\"Imagenes/skewness.jpg\" width = 800>"
   ]
  },
  {
   "cell_type": "markdown",
   "metadata": {},
   "source": [
    "El cuarto momento central $\\beta_4$ de la variable aleatoria estandarizada $X^*$ recibe el nombre de **curtosis**:\n",
    "\n",
    "$\\beta_4 = E[(X^*)^4] = \\frac{1}{\\sigma^4}E[(X-\\mu_1)^4]$\n",
    "\n",
    "Bajo esta definición la curtosis de una distribución normal es igual a 3. Con esto en mente, se suele definir la curtosis bajo la misma definición de arriba, pero restándole un 3 para que la distribución normal tenga curtosis igual a cero:\n",
    "\n",
    "$\\beta_4 = \\frac{1}{\\sigma^4}E[(X-\\mu_1)^4] -3$\n",
    "\n",
    "De esta manera, se tiene que:\n",
    "\n",
    "* Una distribución que normal tiene curtosis igual a cero y recibe el nombre de mesocúrtica.\n",
    "\n",
    "* Una distribución más \"puntiaguda\" que la normal cuyos datos se aglomeran alrededor de la media tiene curtosis positiva y recibe el nombre de leptocúrtica.\n",
    "\n",
    "* Una distribución \"plana\" tiene curtosis negativa y recibe el nombre de platicúrtica.\n",
    "\n",
    "<img src=\"Imagenes/kurtosis.jpg\">\n",
    "\n",
    "Y para el caso de una variable discreta se tiene que:\n",
    "\n",
    "$\\beta_4 = \\frac{1}{n \\sigma^4} \\Sigma_{i=1}^n(x_i-\\mu_1)^4 - 3$ "
   ]
  },
  {
   "cell_type": "code",
   "execution_count": null,
   "metadata": {},
   "outputs": [],
   "source": [
    "# np.arange(0,1,0.1)"
   ]
  },
  {
   "cell_type": "code",
   "execution_count": null,
   "metadata": {},
   "outputs": [],
   "source": [
    "datos.quantile(0.90)"
   ]
  },
  {
   "cell_type": "code",
   "execution_count": null,
   "metadata": {},
   "outputs": [],
   "source": [
    "np.arange(0,1,0.1)"
   ]
  },
  {
   "cell_type": "code",
   "execution_count": null,
   "metadata": {
    "ExecuteTime": {
     "end_time": "2018-02-03T17:31:28.244327Z",
     "start_time": "2018-02-03T17:31:28.228706Z"
    }
   },
   "outputs": [],
   "source": [
    "#quantil 75\n",
    "datos.quantile(np.arange(0,1,0.1))"
   ]
  },
  {
   "cell_type": "code",
   "execution_count": null,
   "metadata": {},
   "outputs": [],
   "source": [
    "datos.Sex.value_counts(normalize = True) * 100"
   ]
  },
  {
   "cell_type": "code",
   "execution_count": null,
   "metadata": {},
   "outputs": [],
   "source": [
    "df_temp = datos.Sex.value_counts(normalize=True)\n",
    "df_temp"
   ]
  },
  {
   "cell_type": "code",
   "execution_count": null,
   "metadata": {},
   "outputs": [],
   "source": [
    "(datos.Sex.value_counts(normalize = True) * 100).plot.bar(rot = 0, color='cyan')\n",
    "\n",
    "plt.title('Género')\n",
    "plt.xlabel('Sexo')\n",
    "plt.ylabel('Porcentaje de genero')\n",
    "for i, j in enumerate((datos.Sex.value_counts(normalize = True) * 100)):\n",
    "    plt.text(i, j + 1, \"%.2f %%\" % j);"
   ]
  },
  {
   "cell_type": "markdown",
   "metadata": {},
   "source": [
    "# Ejercicios\n",
    "\n",
    "1. Tomar el dataframe original (con vivos/muertos), filtrar todos los registros con edad mayor al quantil 75 y guardarlos en un nuevo dataframe.\n",
    "\n",
    "2. ¿Cuál es la edad promedio del DataFrame con edad mayor al cuantil 75?\n",
    "\n",
    "3. ¿Cómo es su distribución de edad?\n",
    "\n",
    "4. ¿Cuál es el porcentaje de sobrevientes?"
   ]
  },
  {
   "cell_type": "code",
   "execution_count": null,
   "metadata": {},
   "outputs": [],
   "source": []
  },
  {
   "cell_type": "code",
   "execution_count": null,
   "metadata": {},
   "outputs": [],
   "source": []
  },
  {
   "cell_type": "code",
   "execution_count": null,
   "metadata": {},
   "outputs": [],
   "source": []
  },
  {
   "cell_type": "code",
   "execution_count": null,
   "metadata": {},
   "outputs": [],
   "source": []
  },
  {
   "cell_type": "markdown",
   "metadata": {},
   "source": [
    "----"
   ]
  },
  {
   "cell_type": "code",
   "execution_count": null,
   "metadata": {
    "jupyter": {
     "source_hidden": true
    }
   },
   "outputs": [],
   "source": [
    "df = datos[datos.Age > datos.Age.quantile(0.75)]\n",
    "df.head()"
   ]
  },
  {
   "cell_type": "code",
   "execution_count": null,
   "metadata": {
    "jupyter": {
     "source_hidden": true
    }
   },
   "outputs": [],
   "source": [
    "df.Age.mean()"
   ]
  },
  {
   "cell_type": "code",
   "execution_count": null,
   "metadata": {
    "jupyter": {
     "source_hidden": true
    }
   },
   "outputs": [],
   "source": [
    "df.Age.hist()\n",
    "plt.title('Histograma edad viejitos')\n",
    "plt.xlabel('edad')\n",
    "plt.ylabel('Frecuencia')\n",
    "plt.vlines(df.Age.mean(),0,53);"
   ]
  },
  {
   "cell_type": "code",
   "execution_count": null,
   "metadata": {
    "jupyter": {
     "source_hidden": true
    }
   },
   "outputs": [],
   "source": [
    "df.Survived.value_counts(normalize=True).plot.bar(rot=0, \n",
    "                                                  color='magenta');\n"
   ]
  },
  {
   "cell_type": "markdown",
   "metadata": {},
   "source": [
    "# Agrupaciones"
   ]
  },
  {
   "cell_type": "markdown",
   "metadata": {},
   "source": [
    "Más cosas con los datos originales:"
   ]
  },
  {
   "cell_type": "code",
   "execution_count": null,
   "metadata": {},
   "outputs": [],
   "source": [
    "datos.groupby('Pclass').Survived.value_counts(normalize=True)"
   ]
  },
  {
   "cell_type": "code",
   "execution_count": null,
   "metadata": {},
   "outputs": [],
   "source": [
    "datos.groupby('Pclass').Survived.value_counts(normalize=True).unstack()"
   ]
  },
  {
   "cell_type": "code",
   "execution_count": null,
   "metadata": {},
   "outputs": [],
   "source": [
    "datos.groupby('Pclass').Survived.value_counts(\n",
    "    normalize=True).unstack().plot.bar(rot=0, figsize = (10,5))\n",
    "plt.title('Sobrevivientes agrupados por Clase');"
   ]
  },
  {
   "cell_type": "code",
   "execution_count": null,
   "metadata": {},
   "outputs": [],
   "source": [
    "datos.groupby('Sex').Survived.value_counts(\n",
    "    normalize=True).unstack().plot.bar(rot = 0);"
   ]
  },
  {
   "cell_type": "code",
   "execution_count": null,
   "metadata": {},
   "outputs": [],
   "source": [
    "datos.groupby('Sex').Survived.value_counts(\n",
    "    normalize=True).unstack().plot.bar(rot=0, figsize = (10,5))\n",
    "plt.title('Sobrevivientes agrupados por sexo');"
   ]
  },
  {
   "cell_type": "code",
   "execution_count": null,
   "metadata": {},
   "outputs": [],
   "source": [
    "labels = [\"{0} - {1}\".format(i, i+9) for i in range(0,100,10)]\n",
    "pd.cut(datos.Age.values, range(0,105,10), right=False, labels=labels)"
   ]
  },
  {
   "cell_type": "code",
   "execution_count": null,
   "metadata": {},
   "outputs": [],
   "source": [
    "# Agrupado por rangos de edad\n",
    "labels = [\"{0} - {1}\".format(i, i+9) for i in range(0,100,10)]\n",
    "datos[\"edad_agrupada\"] = pd.cut(datos.Age.values, range(0,105,10), right=False, labels=labels)"
   ]
  },
  {
   "cell_type": "code",
   "execution_count": null,
   "metadata": {},
   "outputs": [],
   "source": [
    "datos"
   ]
  },
  {
   "cell_type": "code",
   "execution_count": null,
   "metadata": {},
   "outputs": [],
   "source": [
    "datos.groupby(\"edad_agrupada\").Survived.mean()"
   ]
  },
  {
   "cell_type": "code",
   "execution_count": null,
   "metadata": {},
   "outputs": [],
   "source": [
    "plt.figure(figsize = (10,5))\n",
    "datos.groupby(\"edad_agrupada\").Survived.mean().plot.barh()\n",
    "plt.title('Porcentaje de Sobrevivientes por grupo de edad');"
   ]
  },
  {
   "cell_type": "code",
   "execution_count": null,
   "metadata": {},
   "outputs": [],
   "source": [
    "datos.groupby([\"Sex\",\"edad_agrupada\"]).Survived.mean().unstack(0)"
   ]
  },
  {
   "cell_type": "code",
   "execution_count": null,
   "metadata": {},
   "outputs": [],
   "source": [
    "datos.groupby([\"Sex\",\"edad_agrupada\"]).Survived.mean().unstack(0).plot.barh(figsize = (10,5))\n",
    "plt.title('Porcentaje de Sobrevivientes agrupados por edad y sexo');"
   ]
  },
  {
   "cell_type": "code",
   "execution_count": null,
   "metadata": {},
   "outputs": [],
   "source": [
    "datos.groupby(['Sex','Pclass']).Survived.value_counts(\n",
    "    normalize=True).unstack(1).plot.bar(stacked=False,rot=0, figsize = (10,5))\n",
    "plt.title('Sobrevivientes agrupados por Sexo y Clase');"
   ]
  },
  {
   "cell_type": "code",
   "execution_count": null,
   "metadata": {},
   "outputs": [],
   "source": [
    "datos.groupby('Sex').Fare.median().plot.bar(rot=0,color='navy', figsize = (10,5))\n",
    "plt.title('Mediana del Costo del boleto agrupada por sexo');"
   ]
  },
  {
   "cell_type": "code",
   "execution_count": null,
   "metadata": {},
   "outputs": [],
   "source": [
    "datos.groupby(['Sex','Pclass']).Survived.mean().unstack(1).plot.bar(rot=1)\n",
    "plt.title('Mujeres ricas sobrevivieron más');"
   ]
  },
  {
   "cell_type": "code",
   "execution_count": null,
   "metadata": {},
   "outputs": [],
   "source": [
    "datos.groupby(['Sex','Pclass']).Fare.median().unstack().plot.bar(rot=0, figsize = (10,5))\n",
    "plt.title('Mediana del costo del boleto agrupada por clase y sexo');"
   ]
  },
  {
   "cell_type": "code",
   "execution_count": null,
   "metadata": {},
   "outputs": [],
   "source": [
    "for i in datos.groupby('Sex'):\n",
    "    print(i[1])"
   ]
  },
  {
   "cell_type": "code",
   "execution_count": null,
   "metadata": {},
   "outputs": [],
   "source": [
    "for i in datos.groupby('Sex'):\n",
    "    print(i[0])\n",
    "    print('----------------------------------------------')\n",
    "    print(i[1].describe())\n",
    "    print('\\n \\n \\n')"
   ]
  },
  {
   "cell_type": "code",
   "execution_count": null,
   "metadata": {},
   "outputs": [],
   "source": [
    "plt.figure(figsize = (10,5))\n",
    "datos.Age.plot.kde()\n",
    "plt.title('Kernel Density Plot')\n",
    "plt.xlim(0,80);"
   ]
  },
  {
   "cell_type": "code",
   "execution_count": null,
   "metadata": {},
   "outputs": [],
   "source": [
    "plt.figure(figsize = (10,5))\n",
    "datos.Age.hist()\n",
    "plt.title('Pasajeros están entre 20 y 40 años');"
   ]
  },
  {
   "cell_type": "markdown",
   "metadata": {},
   "source": [
    "# Ejercicio\n",
    "\n",
    "* Agrupar por genero y por Parch y  calcular el porcentaje de sobrevivientes.\n",
    "\n",
    "* Agrupar por clase y por SibSp y calcular el procentaje de sobrevivientes.\n",
    "\n",
    "* Graficar los resultados de manera adecuada."
   ]
  },
  {
   "cell_type": "code",
   "execution_count": null,
   "metadata": {},
   "outputs": [],
   "source": []
  },
  {
   "cell_type": "code",
   "execution_count": null,
   "metadata": {},
   "outputs": [],
   "source": []
  },
  {
   "cell_type": "code",
   "execution_count": null,
   "metadata": {},
   "outputs": [],
   "source": []
  },
  {
   "cell_type": "code",
   "execution_count": null,
   "metadata": {},
   "outputs": [],
   "source": []
  },
  {
   "cell_type": "markdown",
   "metadata": {},
   "source": [
    "## Referencias\n",
    "\n",
    "[1](https://mathcs.clarku.edu/~djoyce/ma217/moment.pdf) Moments and the moment generation function\n",
    "\n",
    "[2](https://www.universoformulas.com/estadistica/descriptiva/asimetria-curtosis/) Asimetría y Curtosis\n",
    "\n",
    "[3](http://www.economia.unam.mx/profesores/blopez/estadistica-descriptiva.pdf) Estadística y Conceptos. "
   ]
  }
 ],
 "metadata": {
  "kernelspec": {
   "display_name": "Python 3",
   "language": "python",
   "name": "python3"
  },
  "language_info": {
   "codemirror_mode": {
    "name": "ipython",
    "version": 3
   },
   "file_extension": ".py",
   "mimetype": "text/x-python",
   "name": "python",
   "nbconvert_exporter": "python",
   "pygments_lexer": "ipython3",
   "version": "3.8.3"
  },
  "toc": {
   "base_numbering": 1,
   "nav_menu": {},
   "number_sections": true,
   "sideBar": true,
   "skip_h1_title": false,
   "title_cell": "Table of Contents",
   "title_sidebar": "Contents",
   "toc_cell": false,
   "toc_position": {},
   "toc_section_display": "block",
   "toc_window_display": false
  },
  "varInspector": {
   "cols": {
    "lenName": 16,
    "lenType": 16,
    "lenVar": 40
   },
   "kernels_config": {
    "python": {
     "delete_cmd_postfix": "",
     "delete_cmd_prefix": "del ",
     "library": "var_list.py",
     "varRefreshCmd": "print(var_dic_list())"
    },
    "r": {
     "delete_cmd_postfix": ") ",
     "delete_cmd_prefix": "rm(",
     "library": "var_list.r",
     "varRefreshCmd": "cat(var_dic_list()) "
    }
   },
   "types_to_exclude": [
    "module",
    "function",
    "builtin_function_or_method",
    "instance",
    "_Feature"
   ],
   "window_display": false
  }
 },
 "nbformat": 4,
 "nbformat_minor": 4
}
