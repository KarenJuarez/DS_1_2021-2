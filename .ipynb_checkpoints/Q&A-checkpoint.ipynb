{
 "cells": [
  {
   "cell_type": "markdown",
   "metadata": {},
   "source": [
    "# Q&A "
   ]
  },
  {
   "cell_type": "markdown",
   "metadata": {},
   "source": [
    "\n",
    "\n",
    "## ¿Cómo poner el eje en formato de porcentaje?"
   ]
  },
  {
   "cell_type": "code",
   "execution_count": 1,
   "metadata": {},
   "outputs": [],
   "source": [
    "import pandas as pd\n",
    "import numpy as np\n",
    "import matplotlib.pyplot as plt"
   ]
  },
  {
   "cell_type": "code",
   "execution_count": 2,
   "metadata": {},
   "outputs": [
    {
     "data": {
      "image/png": "[encoded data removed]",
      "text/plain": [
       "<Figure size 432x288 with 1 Axes>"
      ]
     },
     "metadata": {
      "needs_background": "light"
     },
     "output_type": "display_data"
    }
   ],
   "source": [
    "titanic = pd.read_csv('Datos/Titanic.csv')\n",
    "\n",
    "\n",
    "(titanic['Sex'].value_counts(normalize = True) *100).plot.bar(rot = 0);"
   ]
  },
  {
   "cell_type": "code",
   "execution_count": 3,
   "metadata": {},
   "outputs": [],
   "source": [
    "from matplotlib.ticker import PercentFormatter"
   ]
  },
  {
   "cell_type": "code",
   "execution_count": 4,
   "metadata": {},
   "outputs": [
    {
     "data": {
      "image/png": "[encoded data removed]",
      "text/plain": [
       "<Figure size 432x288 with 1 Axes>"
      ]
     },
     "metadata": {
      "needs_background": "light"
     },
     "output_type": "display_data"
    }
   ],
   "source": [
    "ax = (titanic['Sex'].value_counts(normalize = True) *100).plot.bar(rot = 0)\n",
    "ax.yaxis.set_major_formatter(PercentFormatter())\n",
    "plt.title('Porcentaje de Supervivientes por Sexo');"
   ]
  },
  {
   "cell_type": "markdown",
   "metadata": {},
   "source": [
    "## ¿Cómo poner el número asociado a cada bin en un histograma?"
   ]
  },
  {
   "cell_type": "code",
   "execution_count": 5,
   "metadata": {},
   "outputs": [
    {
     "data": {
      "image/png": "[encoded data removed]",
      "text/plain": [
       "<Figure size 432x288 with 1 Axes>"
      ]
     },
     "metadata": {
      "needs_background": "light"
     },
     "output_type": "display_data"
    }
   ],
   "source": [
    "ax = titanic['Age'].hist()"
   ]
  },
  {
   "cell_type": "markdown",
   "metadata": {},
   "source": [
    "NO HAY UN MÉTODO PRECONSTRUIDO PARA HACER ESTO (O AL MENOS NO LO ENCONTRÉ)"
   ]
  },
  {
   "cell_type": "code",
   "execution_count": 6,
   "metadata": {},
   "outputs": [],
   "source": [
    "def label_densityHist(ax, n, bins, x=4, y=0.01, **kwargs):\n",
    "    \"\"\"Add labels,relative value of bin, to each bin in a density histogram.\n",
    "    :param ax: Object axe of matplotlib\n",
    "    The axis to plot.\n",
    "    :param n: list, array of int, float\n",
    "    The values of the histogram bins.\n",
    "    :param bins: list, array of int, float\n",
    "        The edges of the bins.\n",
    "    :param x: int, float\n",
    "        Related the x position of the bin labels. The higher, the lower the value on the x-axis.\n",
    "        Default: 4\n",
    "    :param y: int, float\n",
    "        Related the y position of the bin labels. The higher, the greater the value on the y-axis.\n",
    "        Default: 0.01\n",
    "    :param r: int\n",
    "        Number of decimal places.\n",
    "        Default: 2\n",
    "    :param **kwargs: Text properties in matplotlib\n",
    "    :return: None\n",
    "\n",
    "\n",
    "    Example\n",
    "\n",
    "    import matplotlib.pyplot as plt\n",
    "    import numpy as np\n",
    "\n",
    "    dados = np.random.randn(100)\n",
    "\n",
    "    axe = plt.gca()\n",
    "    n, bins, _ = axe.hist(x=dados, edgecolor='black')\n",
    "    label_densityHist(axe,n, bins)\n",
    "    plt.show()\n",
    "\n",
    "    Example:\n",
    "    import matplotlib.pyplot as plt\n",
    "    import numpy as np\n",
    "\n",
    "\n",
    "    dados = np.random.randn(100)\n",
    "\n",
    "    axe = plt.gca()\n",
    "    n, bins, _ = axe.hist(x=dados, edgecolor='black')\n",
    "    label_densityHist(axe,n, bins, x=6, fontsize='large')\n",
    "    plt.show()\n",
    "\n",
    "\n",
    "    Reference:\n",
    "    [1]https://matplotlib.org/3.1.1/api/text_api.html#matplotlib.text.Text\"\"\"\n",
    "\n",
    "#    k = []\n",
    "# calculate the relative frequency of each bin\n",
    "#    for i in range(0,len(n)):\n",
    "#        k.append((bins[i+1]-bins[i])*n[i])\n",
    "\n",
    "# rounded\n",
    "    #k = k.round(decimals=2); #print(k)\n",
    "#    k = [round(num, 1) for num in k]\n",
    "\n",
    "# plot the label/text to each bin\n",
    "    for i in range(0, len(n)):\n",
    "        x_pos = (bins[i + 1] - bins[i]) / x + bins[i]\n",
    "        y_pos = n[i] + (n[i] * y)\n",
    "        label = str(round(n[i],0)) # relative frequency of each bin\n",
    "        ax.text(x_pos, y_pos, label, kwargs)"
   ]
  },
  {
   "cell_type": "code",
   "execution_count": 7,
   "metadata": {},
   "outputs": [
    {
     "name": "stderr",
     "output_type": "stream",
     "text": [
      "C:\\Users\\iVoy\\Anaconda3\\lib\\site-packages\\numpy\\lib\\histograms.py:824: RuntimeWarning: invalid value encountered in greater_equal\n",
      "  keep = (tmp_a >= first_edge)\n",
      "C:\\Users\\iVoy\\Anaconda3\\lib\\site-packages\\numpy\\lib\\histograms.py:825: RuntimeWarning: invalid value encountered in less_equal\n",
      "  keep &= (tmp_a <= last_edge)\n"
     ]
    },
    {
     "data": {
      "image/png": "[encoded data removed]",
      "text/plain": [
       "<Figure size 576x360 with 1 Axes>"
      ]
     },
     "metadata": {
      "needs_background": "light"
     },
     "output_type": "display_data"
    }
   ],
   "source": [
    "plt.figure(figsize = (8,5))\n",
    "axe = plt.gca()\n",
    "n, bins, _ = axe.hist(x=titanic.Age, bins = 10,edgecolor='black')\n",
    "\n",
    "label_densityHist(axe, n,bins, x= 10)"
   ]
  },
  {
   "cell_type": "code",
   "execution_count": 99,
   "metadata": {},
   "outputs": [
    {
     "data": {
      "text/plain": [
       "array([ 54.,  46., 177., 169., 118.,  70.,  45.,  24.,   9.,   2.])"
      ]
     },
     "execution_count": 99,
     "metadata": {},
     "output_type": "execute_result"
    }
   ],
   "source": [
    "n"
   ]
  },
  {
   "cell_type": "code",
   "execution_count": 100,
   "metadata": {},
   "outputs": [
    {
     "data": {
      "text/plain": [
       "array([ 0.42 ,  8.378, 16.336, 24.294, 32.252, 40.21 , 48.168, 56.126,\n",
       "       64.084, 72.042, 80.   ])"
      ]
     },
     "execution_count": 100,
     "metadata": {},
     "output_type": "execute_result"
    }
   ],
   "source": [
    "bins"
   ]
  },
  {
   "cell_type": "code",
   "execution_count": 101,
   "metadata": {},
   "outputs": [
    {
     "data": {
      "text/plain": [
       "<a list of 10 Patch objects>"
      ]
     },
     "execution_count": 101,
     "metadata": {},
     "output_type": "execute_result"
    }
   ],
   "source": [
    "_"
   ]
  }
 ],
 "metadata": {
  "kernelspec": {
   "display_name": "Python 3",
   "language": "python",
   "name": "python3"
  },
  "language_info": {
   "codemirror_mode": {
    "name": "ipython",
    "version": 3
   },
   "file_extension": ".py",
   "mimetype": "text/x-python",
   "name": "python",
   "nbconvert_exporter": "python",
   "pygments_lexer": "ipython3",
   "version": "3.7.4"
  }
 },
 "nbformat": 4,
 "nbformat_minor": 4
}
