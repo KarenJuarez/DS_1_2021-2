{
 "cells": [
  {
   "cell_type": "markdown",
   "metadata": {},
   "source": [
    "# Variables Categóricas / *Dummy Variables*"
   ]
  },
  {
   "cell_type": "markdown",
   "metadata": {},
   "source": [
    "Las variables categóricas son aquellas que pueden tomar valores de un número finito de categorías (Sexo: hombre o mujer; Pago: Sí o No; Equipo: equipo de fútbol americano al que apoya...). Cuando las variables categóricas no tienen un orden lógico reciben el nombre de __nominales__ y cuando sí lo siguen reciben el nombre de __ordinales__."
   ]
  },
  {
   "cell_type": "code",
   "execution_count": null,
   "metadata": {},
   "outputs": [],
   "source": [
    "import numpy as np\n",
    "import pandas as pd\n",
    "import matplotlib.pyplot as plt"
   ]
  },
  {
   "cell_type": "code",
   "execution_count": null,
   "metadata": {},
   "outputs": [],
   "source": [
    "data = {'Nombre': ['Sergio', 'Guadalupe', 'Roldi'],\n",
    "       'Sexo': ['Hombre', 'Mujer', 'Hombre'],\n",
    "       'Compañía': ['Movistar', 'Telcel', 'Telcel'],\n",
    "       'Salario': [3000,10000, 0],\n",
    "       'Recargas': [10,8,3],\n",
    "       'Opinión del Servicio': ['Excelente','Malo', 'Bueno']}\n",
    "\n",
    "df = pd.DataFrame(data)\n",
    "df"
   ]
  },
  {
   "cell_type": "markdown",
   "metadata": {},
   "source": [
    "Dado que los algoritmos de *machine learning* no trabajan con strings sino con números, estas variables deben ser transformadas antes de ser implementadas en los modelos de predicción."
   ]
  },
  {
   "cell_type": "markdown",
   "metadata": {},
   "source": [
    "## Tratamiento de Variables Ordinales\n",
    "\n",
    "Supongamos que el siguiente *DataFrame* corresponde a una columna de una base de datos con la que estamos trabajando:"
   ]
  },
  {
   "cell_type": "code",
   "execution_count": null,
   "metadata": {},
   "outputs": [],
   "source": [
    "data = {'servicio': ['Muy Satisfecho', 'Satisfecho',\n",
    "                    'Muy Insatisfecho', 'Satisfecho', 'Insatisfecho']}\n",
    "customers = pd.DataFrame(data)\n",
    "customers"
   ]
  },
  {
   "cell_type": "markdown",
   "metadata": {},
   "source": [
    "En este caso vamos a asignar el menor valor 0 a la variable categórica Muy Insatisfecho, 1 a Insatisfecho, 2 a Satisfecho y 3 a Muy Satisfecho:"
   ]
  },
  {
   "cell_type": "code",
   "execution_count": null,
   "metadata": {},
   "outputs": [],
   "source": [
    "nominal = {\"Muy Insatisfecho\": 0, \"Insatisfecho\": 1, \"Satisfecho\": 2, \"Muy Satisfecho\": 3}\n",
    "nominal"
   ]
  },
  {
   "cell_type": "code",
   "execution_count": null,
   "metadata": {},
   "outputs": [],
   "source": [
    "customers.replace(nominal)"
   ]
  },
  {
   "cell_type": "code",
   "execution_count": null,
   "metadata": {},
   "outputs": [],
   "source": [
    "customers.replace(nominal, inplace = True)"
   ]
  },
  {
   "cell_type": "code",
   "execution_count": null,
   "metadata": {},
   "outputs": [],
   "source": [
    "customers"
   ]
  },
  {
   "cell_type": "markdown",
   "metadata": {},
   "source": [
    "## Tratamiento de Variables Nominales\n",
    "\n",
    "Supongamos que el siguiente DataFrame corresponde a una columna de una base de datos con la que estamos trabajando:"
   ]
  },
  {
   "cell_type": "code",
   "execution_count": null,
   "metadata": {},
   "outputs": [],
   "source": [
    "data = {'country': ['Belgium', 'France', 'France', 'Netherlands', 'Belgium']}\n",
    "countries = pd.DataFrame(data)\n",
    "countries"
   ]
  },
  {
   "cell_type": "code",
   "execution_count": null,
   "metadata": {},
   "outputs": [],
   "source": [
    "pd.get_dummies(countries)"
   ]
  },
  {
   "cell_type": "markdown",
   "metadata": {},
   "source": [
    "## Multicolinealidad\n",
    "\n",
    "La **multicolinealidad** es una situación en la que se presenta una _fuerte correlación entre variables explicativas de un modelo predictivo de regresión lineal múltiple_.\n",
    "\n",
    "$ y = \\beta_{0} + \\beta_{1}x_{1} +  \\beta_{2}x_{2} + ... + \\beta_{m}x_{m}$\n",
    "\n",
    "Un caso extremo de variables correlacionadas puede generar multicolinealidad, que consiste en tener redundancias entre tus variables predictoras. La multicolinealidad perfecta o casi perfecta ocurre si una variable predictiva puede ser expresada como o casi como combinación lineal de otra u otras variables lo que lleva a que valores $\\beta$ obtenidos presenten problemas de precisión y estabilidad.\n",
    "\n",
    "A resumidas cuentas: **la multicolinealidad afecta la capacidad del modelo para hacer predicciones acertadas**."
   ]
  },
  {
   "cell_type": "markdown",
   "metadata": {},
   "source": [
    "Si utilizamos un algoritmo de regresión con variables colineales el *performance* del modelo se verá afectado, por lo que debemos remover dichas variables. **En el caso de árboles, clustering o vecinos-cercanos no es necesario tener en cuenta la multicolinealidad**.\n",
    "\n",
    "Más información [acá](http://www.hrc.es/bioest/Reglin_15.html)."
   ]
  },
  {
   "cell_type": "code",
   "execution_count": null,
   "metadata": {},
   "outputs": [],
   "source": [
    "data = {'Nombre': ['Sergio', 'Guadalupe', 'Roldi'],\n",
    "        'Compañía': ['Movistar', 'Telcel', 'Telcel'],\n",
    "        'Recargas por semana': [10,8,3],\n",
    "        'Salario': [10000, 5000, 0],\n",
    "        'Recargas cada siete días': [10, 8, 3]}\n",
    "       \n",
    "df = pd.DataFrame(data)"
   ]
  },
  {
   "cell_type": "markdown",
   "metadata": {},
   "source": [
    "La multicolinealidad ocurre cuando:\n",
    "\n",
    "+ Una variable A se incluye múltiples veces por error"
   ]
  },
  {
   "cell_type": "code",
   "execution_count": null,
   "metadata": {},
   "outputs": [],
   "source": [
    "df"
   ]
  },
  {
   "cell_type": "markdown",
   "metadata": {},
   "source": [
    "+ Una variable está perfectamente correlacionadas con otra variable."
   ]
  },
  {
   "cell_type": "code",
   "execution_count": null,
   "metadata": {},
   "outputs": [],
   "source": [
    "data = {'Nombre': ['Sergio', 'Guadalupe', 'Roldi'],\n",
    "        'Compañía': ['Movistar', 'Telcel', 'Telcel'],\n",
    "        'Número de Recargas de 100 pesos': [3,5,1],\n",
    "       'Dinero gastado en Recargas de 100 pesos': [300,500,100]}\n",
    "       \n",
    "pd.DataFrame(data)"
   ]
  },
  {
   "cell_type": "markdown",
   "metadata": {},
   "source": [
    "+ P dummies, en lugar de P - 1 dummies."
   ]
  },
  {
   "cell_type": "code",
   "execution_count": null,
   "metadata": {},
   "outputs": [],
   "source": [
    "pd.get_dummies(countries)"
   ]
  },
  {
   "cell_type": "markdown",
   "metadata": {},
   "source": [
    "Para solucionar esto hay que deshacernos de alguna de estas columnas con la opción **drop_first** de la función get_dummies:"
   ]
  },
  {
   "cell_type": "code",
   "execution_count": null,
   "metadata": {},
   "outputs": [],
   "source": [
    "pd.get_dummies(countries, drop_first = True)"
   ]
  },
  {
   "cell_type": "markdown",
   "metadata": {},
   "source": [
    "# Ejercicio\n",
    "\n",
    "* Usar la función get_dummies para tratar el siguiente DataFrame con variables categóricas."
   ]
  },
  {
   "cell_type": "code",
   "execution_count": null,
   "metadata": {},
   "outputs": [],
   "source": [
    "data = {'country': ['Belgium', 'France', 'Germany', 'Netherlands', 'United Kingdom'],\n",
    "        'population': [11.3, 64.3, 81.3, 16.9, 64.9],\n",
    "        'area': [30510, 671308, 357050, 41526, 244820],\n",
    "        'capital': ['Brussels', 'Paris', 'Berlin', 'Amsterdam', 'London']}\n",
    "countries = pd.DataFrame(data)\n",
    "countries"
   ]
  },
  {
   "cell_type": "code",
   "execution_count": null,
   "metadata": {},
   "outputs": [],
   "source": []
  },
  {
   "cell_type": "code",
   "execution_count": null,
   "metadata": {},
   "outputs": [],
   "source": []
  },
  {
   "cell_type": "markdown",
   "metadata": {},
   "source": [
    "---"
   ]
  },
  {
   "cell_type": "code",
   "execution_count": null,
   "metadata": {},
   "outputs": [],
   "source": []
  },
  {
   "cell_type": "code",
   "execution_count": null,
   "metadata": {
    "jupyter": {
     "source_hidden": true
    }
   },
   "outputs": [],
   "source": [
    "pd.get_dummies(countries, drop_first=1)"
   ]
  },
  {
   "cell_type": "markdown",
   "metadata": {},
   "source": [
    "# Ejercicio:\n",
    "* Cargar el dataset de titanic \n",
    "* Hacer OneHotEncoding y asegurarse de que no haya multicolinealidad"
   ]
  },
  {
   "cell_type": "code",
   "execution_count": null,
   "metadata": {},
   "outputs": [],
   "source": []
  },
  {
   "cell_type": "code",
   "execution_count": null,
   "metadata": {},
   "outputs": [],
   "source": []
  },
  {
   "cell_type": "code",
   "execution_count": null,
   "metadata": {},
   "outputs": [],
   "source": []
  },
  {
   "cell_type": "code",
   "execution_count": null,
   "metadata": {},
   "outputs": [],
   "source": []
  },
  {
   "cell_type": "markdown",
   "metadata": {},
   "source": [
    "## Otros parámetros del método get_dummies:"
   ]
  },
  {
   "cell_type": "code",
   "execution_count": null,
   "metadata": {},
   "outputs": [],
   "source": [
    "cine = {'spoken_languages': ['English, German, Asgardian', 'Spanish, English', \n",
    "                             'French, Portuguese', 'Italian, French', 'Spanish']}\n",
    "cine = pd.DataFrame(cine)  \n",
    "cine"
   ]
  },
  {
   "cell_type": "code",
   "execution_count": null,
   "metadata": {},
   "outputs": [],
   "source": [
    "cine.values"
   ]
  },
  {
   "cell_type": "code",
   "execution_count": null,
   "metadata": {},
   "outputs": [],
   "source": [
    "pd.get_dummies(cine)"
   ]
  },
  {
   "cell_type": "code",
   "execution_count": null,
   "metadata": {},
   "outputs": [],
   "source": [
    "cine['spoken_languages'].str.get_dummies(sep = ', ')"
   ]
  },
  {
   "cell_type": "code",
   "execution_count": null,
   "metadata": {},
   "outputs": [],
   "source": [
    "casa = {'Cerca': [np.NAN, 'MnPrv', 'GdWo', 'GdPrv', 'MnWw']}\n",
    "casa = pd.DataFrame(casa)\n",
    "casa"
   ]
  },
  {
   "cell_type": "code",
   "execution_count": null,
   "metadata": {},
   "outputs": [],
   "source": [
    "pd.get_dummies(casa, dummy_na = True)"
   ]
  },
  {
   "cell_type": "markdown",
   "metadata": {},
   "source": [
    "--------\n",
    "# Visualización de Datos y Detección de *Outliers*"
   ]
  },
  {
   "cell_type": "markdown",
   "metadata": {},
   "source": [
    "<img src=\"Imagenes/housew.jpg\">"
   ]
  },
  {
   "cell_type": "markdown",
   "metadata": {},
   "source": [
    "El *dataset* se extrajo de [__*Kaggle*__](https://www.kaggle.com/) y almacena todas las características de casas vendidas en Iowa."
   ]
  },
  {
   "cell_type": "code",
   "execution_count": null,
   "metadata": {},
   "outputs": [],
   "source": [
    "train = pd.read_csv('Datos/train.csv')\n",
    "train.head()"
   ]
  },
  {
   "cell_type": "code",
   "execution_count": null,
   "metadata": {},
   "outputs": [],
   "source": [
    "train.columns"
   ]
  },
  {
   "cell_type": "markdown",
   "metadata": {},
   "source": [
    "## Descripción de algunas variables: \n",
    "\n",
    "* SalePrice: precio al que se vendió la casa\n",
    "* OverallQual: condición de la casa (del 1 al 10)\n",
    "* GrLvArea: área de zonas verdes y sala\n",
    "* GarageCars: número de coches que caben en el garage\n",
    "* GarageArea: área total del garage\n",
    "* 1stFlrSF: área total del primer piso\n",
    "* FullBath: número de baños completos\n",
    "* TotRmsAbvGrd: número de cuartos\n",
    "* YearBuilt: año de construcción"
   ]
  },
  {
   "cell_type": "markdown",
   "metadata": {},
   "source": [
    "## Análisis Estadístico de la Variable SalePrice"
   ]
  },
  {
   "cell_type": "code",
   "execution_count": null,
   "metadata": {},
   "outputs": [],
   "source": [
    "plt.figure(figsize = (10,6))\n",
    "(train.SalePrice/1000).hist(bins = 100)\n",
    "plt.title('Sale Price Histogram', fontsize = 15)\n",
    "plt.xlabel('Sale Price in thousands of dollars', fontsize = 15)\n",
    "plt.ylabel('Number of Houses', fontsize = 15)\n",
    "plt.xticks(fontsize = 12)\n",
    "plt.yticks(fontsize = 12)\n",
    "plt.xlim(0 , (train.SalePrice/1000).quantile(0.99));"
   ]
  },
  {
   "cell_type": "code",
   "execution_count": null,
   "metadata": {},
   "outputs": [],
   "source": [
    "(train.SalePrice/1000).describe()"
   ]
  },
  {
   "cell_type": "markdown",
   "metadata": {},
   "source": [
    "## Análisis Exploratorio de las Variables Independientes"
   ]
  },
  {
   "cell_type": "markdown",
   "metadata": {},
   "source": [
    "### Living Area"
   ]
  },
  {
   "cell_type": "markdown",
   "metadata": {},
   "source": [
    "Opción 1: \n",
    "\n",
    "Usar **MatplotLib** como hasta ahora."
   ]
  },
  {
   "cell_type": "code",
   "execution_count": null,
   "metadata": {},
   "outputs": [],
   "source": [
    "plt.figure(figsize=(9,7))\n",
    "plt.scatter(train.GrLivArea, train.SalePrice/1000, alpha = 0.2)\n",
    "plt.xlabel('Living Area', fontsize = 15)\n",
    "plt.ylabel('Sale Price in Thousands of Dollars', fontsize = 15)\n",
    "plt.xticks(fontsize = 12)\n",
    "plt.yticks(fontsize = 12);"
   ]
  },
  {
   "cell_type": "markdown",
   "metadata": {},
   "source": [
    "Opción 2:\n",
    "\n",
    "* Usar **seaborn**."
   ]
  },
  {
   "cell_type": "code",
   "execution_count": null,
   "metadata": {},
   "outputs": [],
   "source": [
    "import seaborn as sbn"
   ]
  },
  {
   "cell_type": "code",
   "execution_count": null,
   "metadata": {},
   "outputs": [],
   "source": [
    "sbn.jointplot(train.GrLivArea, (train.SalePrice/1000), kind = 'reg', \n",
    "              color = 'g', height = 7, \n",
    "              scatter_kws=dict(alpha=0.3))\n",
    "plt.xlabel('Living Area', fontsize = 15)\n",
    "plt.ylabel('Sale Price in Thousands of Dollars', fontsize = 15)\n",
    "plt.xticks(fontsize = 12)\n",
    "plt.yticks(fontsize = 12);"
   ]
  },
  {
   "cell_type": "markdown",
   "metadata": {},
   "source": [
    "A medida que *Living Area* aumenta obviamente sube el precio de la casa. En la gráfica vemos 2 *outliers* en los que en un living area de más de 4000 unidades cuadradas tienen un precio demasiado bajo. Vamos a remover estos dos puntos:"
   ]
  },
  {
   "cell_type": "code",
   "execution_count": null,
   "metadata": {},
   "outputs": [],
   "source": [
    "# train[(train['GrLivArea']> 4000) & (train['SalePrice'] < 300000)].index"
   ]
  },
  {
   "cell_type": "code",
   "execution_count": null,
   "metadata": {},
   "outputs": [],
   "source": [
    "train[(train['GrLivArea']> train.GrLivArea.quantile(0.999)) \n",
    "           & (train['SalePrice'] < train.SalePrice.quantile(0.93))].index"
   ]
  },
  {
   "cell_type": "code",
   "execution_count": null,
   "metadata": {},
   "outputs": [],
   "source": [
    "train.drop(train[(train['GrLivArea']> train.GrLivArea.quantile(0.999)) \n",
    "           & (train['SalePrice'] < train.SalePrice.quantile(0.93))].index).reset_index(drop = True).iloc[520:530,:]"
   ]
  },
  {
   "cell_type": "code",
   "execution_count": null,
   "metadata": {},
   "outputs": [],
   "source": [
    "train = train.drop(train[(train['GrLivArea']> train.GrLivArea.quantile(0.999)) \n",
    "           & (train['SalePrice'] < train.SalePrice.quantile(0.93))].index).reset_index(drop = True)"
   ]
  },
  {
   "cell_type": "code",
   "execution_count": null,
   "metadata": {},
   "outputs": [],
   "source": [
    "sbn.jointplot(train.GrLivArea, (train.SalePrice/1000), kind = 'reg', color = 'g', height = 7,\n",
    "             scatter_kws=dict(alpha=0.3))\n",
    "plt.xlabel('Living Area', fontsize = 15)\n",
    "plt.ylabel('Sale Price in Thousands of Dollars', fontsize = 15)\n",
    "plt.xticks(fontsize = 12)\n",
    "plt.yticks(fontsize = 12);"
   ]
  },
  {
   "cell_type": "markdown",
   "metadata": {},
   "source": [
    "### OverallQual"
   ]
  },
  {
   "cell_type": "code",
   "execution_count": null,
   "metadata": {},
   "outputs": [],
   "source": [
    "plt.figure(figsize = (10,5))\n",
    "sbn.boxplot(train.OverallQual,(train.SalePrice/1000))\n",
    "plt.title('SalePrice vs OverallQual', fontsize = 15)\n",
    "plt.xlabel('OverallQual',fontsize = 15)\n",
    "plt.ylabel('Sale Price  in Thousands of Dollars',fontsize = 15)\n",
    "plt.xticks(fontsize = 12)\n",
    "plt.yticks(fontsize = 12);"
   ]
  },
  {
   "cell_type": "markdown",
   "metadata": {},
   "source": [
    "A medida que la calidad de la casa aumenta, también lo hace su precio. Nada más que decir.\n",
    "\n",
    "### ¿Saben lo que son los boxplots?\n",
    "\n",
    "----------------------------"
   ]
  },
  {
   "cell_type": "markdown",
   "metadata": {},
   "source": [
    "## Boxplots\n",
    "\n",
    "Un boxplot es una _forma estandarizada de desplegar la distribución de datos_ basados en el resumen de cinco números, a saber:\n",
    "\n",
    "* \"Mínimo\"\n",
    "* Primer Cuartil ($Q_1$)\n",
    "* Mediana\n",
    "* Tercer Cuartil ($Q_3$)\n",
    "* \"Máximo\"\n",
    "\n",
    "A partir de ellos se pueden discernir *outliers*, si los datos son simétricos, si están sesgados (cargados a la derecha o a la izquierda) y también si están fuertemente concentrados en alguna zona.\n",
    "\n",
    "Para algunos *datasets*, se requiere más información de la proporcionada por las medias de tendencia central (mediana, promedio y moda).\n",
    "\n",
    "<img src = \"Imagenes/dataviz1.png\" width = 400>"
   ]
  },
  {
   "cell_type": "markdown",
   "metadata": {},
   "source": [
    "Si se busca información sobre la variabilidad o la dispersión de los datos, un boxplot puede ser la solución pues proporciona un buen indicador que tan dispersos están los datos. Aunque los los boxplot parezcan primitivos en comparación con un histograma o un *kernel density plot*, tienen la ventaja de usar menos espacio lo que resulta útil cuando se comparan las distribuciones entre muchos grupos o datos.\n",
    "\n",
    "<img src= \"Imagenes/dataviz2.png\">"
   ]
  },
  {
   "cell_type": "markdown",
   "metadata": {},
   "source": [
    "* Mediana ($Q_2$): el valor central de los datos. \n",
    "* Primer Cuartil ($Q_1$): ubicado entre el valor más pequeño de los datos (no el \"mínimo\") y la mediana de los datos.\n",
    "* Tercer Cuartil ($Q_3$): ubicado entre el valor más grande de los datos (no el \"máximo\") y la mediana de los datos.\n",
    "* Región Intercuantil (IQR): Región del percentil 25 al 50.\n",
    "* Bigotes: pintados de azul en el gráfico.\n",
    "* “Máximo”: Q3 + 1.5*IQR\n",
    "* “Mínimo”: Q1 -1.5*IQR\n",
    "* *Outliers*: todo lo que quede más allá del máximo o antes del mínimo (mostrados como círculos verdes en el gráfico).\n",
    "\n",
    "A continuación una compración entre un histograma y un boxplot:\n",
    "\n",
    "<img src = \"Imagenes/dataviz3.png\">"
   ]
  },
  {
   "cell_type": "markdown",
   "metadata": {},
   "source": [
    "¿Cómo se ve el sesgo en los boxplots?"
   ]
  },
  {
   "cell_type": "markdown",
   "metadata": {},
   "source": [
    "<img src=\"Imagenes/dataviz4.png\" width = 700> \n",
    "\n",
    "<img src=\"Imagenes/dataviz5.png\" width = 700>"
   ]
  },
  {
   "cell_type": "markdown",
   "metadata": {},
   "source": [
    "## Test de Tukey para valores atípicos"
   ]
  },
  {
   "cell_type": "markdown",
   "metadata": {},
   "source": [
    "Una forma muy sencilla de eliminar outliers de manera analítica es a través del test de Tukey. Éste dice que **se considera como valor atípico a todo aquel que esté fuera del rango**:\n",
    "\n",
    "* Valor atípico: $Q_1 - 1.5*IQR > x > Q_3 + 1.5*IQR$\n",
    "* Valor atípico extremo: $Q_1 - 3*IQR > x > Q_3 + 3*IQR$\n",
    "\n",
    "**Si la distribución es normal**, entonces queda de la siguiente forma:\n",
    "\n",
    "* Valor atípico: $-\\sigma > x > \\sigma $\n",
    "* Valor atípico extremo: $-2\\sigma > x > 2\\sigma $\n",
    "\n",
    "Sabiendo lo anterior, definimos la función del **test de Tukey** de la siguiente manera:"
   ]
  },
  {
   "cell_type": "markdown",
   "metadata": {},
   "source": [
    "def tukey_outliers(df,column,extreme=False):\n",
    "  \"\"\"df: dataframe, column: str nombre de la columna, extreme [True, False]\"\"\"\n",
    "  q1, q3 = np.percentile(df[column],[25,75])\n",
    "  iqr = q3 - q1\n",
    "  constant = 1.5 if not extreme else 3\n",
    "  return df[~((df[column]>(q3+constant*iqr)) | (df[column]<(q1-constant*iqr)))]"
   ]
  },
  {
   "cell_type": "markdown",
   "metadata": {},
   "source": [
    "Esta función nos devuelve un DataFrame libre de outliers. \n",
    "\n",
    "La forma general para eliminar los outliers de la columna _column_name_ del DataFrame _df_ a partir de la función del test de Tukey que acabamos de definir es:"
   ]
  },
  {
   "cell_type": "raw",
   "metadata": {},
   "source": [
    "df_clean = tukey_outliers(df, \"column_name\", extreme=False)"
   ]
  },
  {
   "cell_type": "markdown",
   "metadata": {},
   "source": [
    "-------------------\n",
    "\n",
    "Pero por ahora, volvamos a la clase: \n",
    "\n",
    "### Total Rooms Above Grade"
   ]
  },
  {
   "cell_type": "code",
   "execution_count": null,
   "metadata": {},
   "outputs": [],
   "source": [
    "plt.figure(figsize = (10,5))\n",
    "sbn.boxplot(train.TotRmsAbvGrd, (train.SalePrice/1000))\n",
    "plt.title('Sale Price vs Total Rooms Above Grade', fontsize = 15)\n",
    "plt.xlabel('Total Rooms Above Grade',fontsize = 15)\n",
    "plt.ylabel('Sale Price in Thousands of Dollars',fontsize = 15)\n",
    "plt.xticks(fontsize = 12)\n",
    "plt.yticks(fontsize = 12)\n",
    "plt.grid(axis = 'y');"
   ]
  },
  {
   "cell_type": "markdown",
   "metadata": {},
   "source": [
    "Parece que tenemos una casa con 14 cuartos que es ridículamente barata. Quitemos este outlier:"
   ]
  },
  {
   "cell_type": "code",
   "execution_count": null,
   "metadata": {},
   "outputs": [],
   "source": [
    "train = train.drop(train[train['TotRmsAbvGrd'] == 14].index).reset_index(drop=True)"
   ]
  },
  {
   "cell_type": "code",
   "execution_count": null,
   "metadata": {},
   "outputs": [],
   "source": [
    "plt.figure(figsize = (10,5))\n",
    "sbn.boxplot(train.TotRmsAbvGrd, (train.SalePrice/1000))\n",
    "plt.title('Sale Price vs Total Rooms Above Grade', fontsize = 15)\n",
    "plt.xlabel('Total Rooms Above Grade',fontsize = 15)\n",
    "plt.ylabel('Sale Price in Thousands of Dollars',fontsize = 15)\n",
    "plt.xticks(fontsize = 12)\n",
    "plt.yticks(fontsize = 12)\n",
    "plt.grid(axis = 'y');"
   ]
  },
  {
   "cell_type": "markdown",
   "metadata": {},
   "source": [
    "El problema ha sido arreglado."
   ]
  },
  {
   "cell_type": "markdown",
   "metadata": {},
   "source": [
    "### Garage Cars\n",
    "\n",
    "\n",
    "#### Ejemplo\n",
    "\n",
    "* Hacer un boxplot de la variable GarageCars vs SalePrice, identificar outliers, eliminarlos y graficar de nuevo."
   ]
  },
  {
   "cell_type": "code",
   "execution_count": null,
   "metadata": {},
   "outputs": [],
   "source": [
    "plt.figure(figsize = (10,5))\n",
    "sbn.boxplot(train.GarageCars, (train.SalePrice/1000))\n",
    "plt.title('Sale Price vs GarageCars', fontsize = 15)\n",
    "plt.xlabel('GarageCars',fontsize = 15)\n",
    "plt.ylabel('Sale Price in Thousands of Dollars',fontsize = 15)\n",
    "plt.xticks(fontsize = 12)\n",
    "plt.yticks(fontsize = 12)\n",
    "plt.grid(axis = 'y');"
   ]
  },
  {
   "cell_type": "code",
   "execution_count": null,
   "metadata": {},
   "outputs": [],
   "source": [
    "train = train.drop(train[train['GarageCars'] == 4].index).reset_index(drop=True)"
   ]
  },
  {
   "cell_type": "code",
   "execution_count": null,
   "metadata": {},
   "outputs": [],
   "source": [
    "plt.figure(figsize = (10,5))\n",
    "sbn.boxplot(train.GarageCars, (train.SalePrice/1000))\n",
    "plt.title('Sale Price vs GarageCars', fontsize = 15)\n",
    "plt.xlabel('GarageCars',fontsize = 15)\n",
    "plt.ylabel('Sale Price in Thousands of Dollars',fontsize = 15)\n",
    "plt.xticks(fontsize = 12)\n",
    "plt.yticks(fontsize = 12)\n",
    "plt.grid(axis = 'y');"
   ]
  },
  {
   "cell_type": "markdown",
   "metadata": {},
   "source": [
    "### Garage Area\n",
    "\n",
    "# Ejercicio\n",
    "\n",
    "* Hacer una gráfica de dispersión de la variable GarageArea vs SalePrice, identificar outliers, eliminarlos y graficar de nuevo.\n"
   ]
  },
  {
   "cell_type": "code",
   "execution_count": null,
   "metadata": {},
   "outputs": [],
   "source": []
  },
  {
   "cell_type": "code",
   "execution_count": null,
   "metadata": {},
   "outputs": [],
   "source": []
  },
  {
   "cell_type": "code",
   "execution_count": null,
   "metadata": {},
   "outputs": [],
   "source": []
  },
  {
   "cell_type": "code",
   "execution_count": null,
   "metadata": {},
   "outputs": [],
   "source": []
  },
  {
   "cell_type": "markdown",
   "metadata": {},
   "source": [
    "----"
   ]
  },
  {
   "cell_type": "code",
   "execution_count": null,
   "metadata": {
    "jupyter": {
     "source_hidden": true
    }
   },
   "outputs": [],
   "source": [
    "sbn.jointplot(train.GarageArea, (train.SalePrice/1000), kind = 'reg', color = 'g', height = 7,\n",
    "             scatter_kws=dict(alpha=0.3))\n",
    "plt.xlabel('GarageArea', fontsize = 15)\n",
    "plt.ylabel('Sale Price in Thousands of Dollars', fontsize = 15)\n",
    "plt.xticks(fontsize = 12)\n",
    "plt.yticks(fontsize = 12);"
   ]
  },
  {
   "cell_type": "code",
   "execution_count": null,
   "metadata": {
    "jupyter": {
     "source_hidden": true
    }
   },
   "outputs": [],
   "source": [
    "train = train.drop(train[(train['GarageArea']> train.GarageArea.quantile(0.999)) \n",
    "           & (train['SalePrice'] < train.SalePrice.quantile(0.93))].index).reset_index(drop = True)"
   ]
  },
  {
   "cell_type": "markdown",
   "metadata": {},
   "source": [
    "# Ejercicio:\n",
    "Detecta outliers vs SalePrice\n",
    "* OverallCond\n",
    "* PoolQC\n",
    "* SaleCondition"
   ]
  },
  {
   "cell_type": "code",
   "execution_count": null,
   "metadata": {},
   "outputs": [],
   "source": []
  },
  {
   "cell_type": "code",
   "execution_count": null,
   "metadata": {},
   "outputs": [],
   "source": []
  },
  {
   "cell_type": "code",
   "execution_count": null,
   "metadata": {},
   "outputs": [],
   "source": []
  },
  {
   "cell_type": "markdown",
   "metadata": {},
   "source": [
    "### 1st Floor Surface"
   ]
  },
  {
   "cell_type": "code",
   "execution_count": null,
   "metadata": {},
   "outputs": [],
   "source": [
    "sbn.jointplot(train['1stFlrSF'], (train.SalePrice/1000), kind = 'reg', height = 7,\n",
    "             scatter_kws=dict(alpha=0.3))\n",
    "plt.xlabel('1stFlrSF', fontsize = 15)\n",
    "plt.ylabel('Sale Price in Thousands of Dollars', fontsize = 15)\n",
    "plt.xticks(fontsize = 12)\n",
    "plt.yticks(fontsize = 12);"
   ]
  },
  {
   "cell_type": "markdown",
   "metadata": {},
   "source": [
    "Tampoco hay algo que arreglar aquí.\n",
    "\n",
    "### Full Bath"
   ]
  },
  {
   "cell_type": "code",
   "execution_count": null,
   "metadata": {},
   "outputs": [],
   "source": [
    "plt.figure(figsize = (10,5))\n",
    "sbn.boxplot(train.FullBath, (train.SalePrice/1000))\n",
    "plt.title('Sale Price vs Full Bath', fontsize = 15)\n",
    "plt.xlabel('Full Bath',fontsize = 15)\n",
    "plt.ylabel('Sale Price in Thousands of Dollars',fontsize = 15)\n",
    "plt.xticks(fontsize = 12)\n",
    "plt.yticks(fontsize = 12)\n",
    "plt.grid(axis = 'y');"
   ]
  },
  {
   "cell_type": "markdown",
   "metadata": {},
   "source": [
    "Pese a que hay un pequeño extraño entre las casas con cero y un baño, no considero pertinente cambiar nada aquí tampoco."
   ]
  },
  {
   "cell_type": "code",
   "execution_count": null,
   "metadata": {},
   "outputs": [],
   "source": [
    "train.FullBath.value_counts()"
   ]
  },
  {
   "cell_type": "markdown",
   "metadata": {},
   "source": [
    "### Year Built"
   ]
  },
  {
   "cell_type": "code",
   "execution_count": null,
   "metadata": {},
   "outputs": [],
   "source": [
    "plt.figure(figsize = (20,10))\n",
    "sbn.boxplot(train.YearBuilt, (train.SalePrice/1000))\n",
    "plt.title('Sale Price vs Year Built', fontsize = 15)\n",
    "plt.xlabel('Year Built',fontsize = 15)\n",
    "plt.ylabel('Sale Price in Thousands of Dollars',fontsize = 15)\n",
    "plt.xticks(fontsize = 10, rotation = 90)\n",
    "plt.yticks(fontsize = 15)\n",
    "plt.grid(axis = 'y');"
   ]
  },
  {
   "cell_type": "markdown",
   "metadata": {},
   "source": [
    "No contamos con información para discriminar si hay un outlier aquí, el precio de una casa puede aumentar o disminuir mientras pasan los años, pero también podría tener que ver el año en qué se vendió y en qué situación económica se encontraba el país en ese año. \n",
    "Damos por terminado el análisis de las variables más correlacionadas con SalePrice."
   ]
  },
  {
   "cell_type": "markdown",
   "metadata": {},
   "source": [
    "## ¿En qué barrio había más casas?"
   ]
  },
  {
   "cell_type": "code",
   "execution_count": null,
   "metadata": {},
   "outputs": [],
   "source": [
    "plt.figure(figsize=(10,6))\n",
    "train.groupby('Neighborhood').SalePrice.count().sort_values(\n",
    "    ascending = True).plot.barh(color='coral')\n",
    "plt.xlabel('Number of houses', fontsize = 15)\n",
    "plt.ylabel('Neighborhood',fontsize = 15)\n",
    "plt.xticks(fontsize = 12)\n",
    "plt.yticks(fontsize = 13);"
   ]
  },
  {
   "cell_type": "markdown",
   "metadata": {},
   "source": [
    "# Ejercicio\n",
    "\n",
    "* Graficar el número de casas contruidas por año."
   ]
  },
  {
   "cell_type": "code",
   "execution_count": null,
   "metadata": {},
   "outputs": [],
   "source": []
  },
  {
   "cell_type": "code",
   "execution_count": null,
   "metadata": {},
   "outputs": [],
   "source": []
  },
  {
   "cell_type": "markdown",
   "metadata": {},
   "source": [
    "# DataViz"
   ]
  },
  {
   "cell_type": "code",
   "execution_count": null,
   "metadata": {},
   "outputs": [],
   "source": [
    "plt.style.use('ggplot')\n",
    "font = {'family' : 'sans',\n",
    "        'weight' : 'bold',\n",
    "        'size'   : 16}\n",
    "plt.rc('font', **font)\n",
    "plt.rcParams['xtick.labelsize'] = 16\n",
    "plt.rcParams['ytick.labelsize'] = 16\n",
    "plt.rcParams[u'figure.figsize'] = (12,6)\n",
    "params = {'legend.fontsize': 'large',\n",
    "         'axes.labelsize': 'x-large',\n",
    "         'axes.titlesize':'x-large'}\n",
    "plt.rcParams.update(params)"
   ]
  },
  {
   "cell_type": "markdown",
   "metadata": {},
   "source": [
    "## Histograma y KDE"
   ]
  },
  {
   "cell_type": "code",
   "execution_count": null,
   "metadata": {},
   "outputs": [],
   "source": [
    "train.SalePrice.hist(bins=40)\n",
    "plt.xlabel(\"Precio de Venta\")\n",
    "plt.ylabel(\"Frecuencia\");"
   ]
  },
  {
   "cell_type": "code",
   "execution_count": null,
   "metadata": {},
   "outputs": [],
   "source": [
    "sbn.kdeplot(train.SalePrice,shade=True)\n",
    "plt.xlabel(\"Precio de Venta\")\n",
    "plt.ylabel(\"Frecuencia\");"
   ]
  },
  {
   "cell_type": "markdown",
   "metadata": {},
   "source": [
    "## Barras"
   ]
  },
  {
   "cell_type": "code",
   "execution_count": null,
   "metadata": {},
   "outputs": [],
   "source": [
    "train.SaleCondition.value_counts().plot.barh(color='navy', title=\"Condiciones de venta\")\n",
    "plt.xlabel(\"Frecuencia\")\n",
    "plt.ylabel(\"Tipo de venta\");"
   ]
  },
  {
   "cell_type": "code",
   "execution_count": null,
   "metadata": {},
   "outputs": [],
   "source": [
    "train.SaleCondition.value_counts().plot.bar(color='navy', title=\"Condiciones de venta\", rot=0)\n",
    "plt.xlabel(\"Tipo de venta\")\n",
    "plt.ylabel(\"Frecuencia\");"
   ]
  },
  {
   "cell_type": "markdown",
   "metadata": {},
   "source": [
    "\n",
    "## Gráficos de Área"
   ]
  },
  {
   "cell_type": "code",
   "execution_count": null,
   "metadata": {},
   "outputs": [],
   "source": [
    "agg = train.groupby([\"RoofStyle\",'YrSold']).SalePrice.mean().unstack()\n",
    "agg.plot.area(alpha=0.5, figsize=(15,8))\n",
    "plt.ylim(175000,)\n",
    "plt.title('Precio Promedio por Año', fontsize = 15)\n",
    "plt.xlabel('Año', fontsize = 15)\n",
    "plt.ylabel('Precio', fontsize = 15);"
   ]
  },
  {
   "cell_type": "markdown",
   "metadata": {},
   "source": [
    "## Dispersion"
   ]
  },
  {
   "cell_type": "code",
   "execution_count": null,
   "metadata": {},
   "outputs": [],
   "source": [
    "sbn.scatterplot(x='LotArea', y='SalePrice', alpha=0.5, data=train, hue='OverallQual')"
   ]
  },
  {
   "cell_type": "code",
   "execution_count": null,
   "metadata": {},
   "outputs": [],
   "source": [
    "sbn.heatmap(train.groupby([\"HouseStyle\", \"Foundation\"]).SalePrice.mean().unstack(1), cmap='viridis',);"
   ]
  },
  {
   "cell_type": "code",
   "execution_count": null,
   "metadata": {},
   "outputs": [],
   "source": [
    "plt.figure(figsize=(14,6))\n",
    "sbn.heatmap(train.corr(),cmap='coolwarm', annot=False, vmin=-1)"
   ]
  },
  {
   "cell_type": "markdown",
   "metadata": {},
   "source": [
    "# Linea Serie de tiempo"
   ]
  },
  {
   "cell_type": "code",
   "execution_count": null,
   "metadata": {},
   "outputs": [],
   "source": [
    "agg.plot(style='*--', ms=15, title='El precio ha caido conforme los años')\n",
    "plt.ylabel('Precio Promedio');"
   ]
  },
  {
   "cell_type": "markdown",
   "metadata": {},
   "source": [
    "# Histograma en 2D"
   ]
  },
  {
   "cell_type": "code",
   "execution_count": null,
   "metadata": {},
   "outputs": [],
   "source": [
    "cmap=plt.cm.gist_heat_r\n",
    "sbn.jointplot(train.LotFrontage,train.SalePrice, kind='hex', space=0, color=cmap(.2),\n",
    "              joint_kws=dict(gridsize=20));"
   ]
  },
  {
   "cell_type": "code",
   "execution_count": null,
   "metadata": {},
   "outputs": [],
   "source": [
    "sbn.jointplot(train.LotFrontage,train.SalePrice, alpha=0.2);"
   ]
  },
  {
   "cell_type": "code",
   "execution_count": null,
   "metadata": {},
   "outputs": [],
   "source": [
    "sbn.jointplot(train.MSSubClass,train.SalePrice, alpha=0.8, kind=\"kde\");"
   ]
  },
  {
   "cell_type": "markdown",
   "metadata": {},
   "source": [
    "# Violin Plots"
   ]
  },
  {
   "cell_type": "code",
   "execution_count": null,
   "metadata": {},
   "outputs": [],
   "source": [
    "for i in train.columns:\n",
    "    if len(train[i].unique()) == 2:\n",
    "        print(i)"
   ]
  },
  {
   "cell_type": "code",
   "execution_count": null,
   "metadata": {},
   "outputs": [],
   "source": [
    "sbn.violinplot(x=\"SaleCondition\", y=\"SalePrice\", \n",
    "               split=True, inner=\"quart\",hue=\"CentralAir\",\n",
    "               data=train);"
   ]
  },
  {
   "cell_type": "markdown",
   "metadata": {},
   "source": [
    "## SwarmPlot"
   ]
  },
  {
   "cell_type": "code",
   "execution_count": null,
   "metadata": {},
   "outputs": [],
   "source": [
    "sbn.swarmplot(x=\"SaleCondition\", y=\"SalePrice\", \n",
    "              hue=\"Foundation\",\n",
    "#               palette=[\"r\", \"c\", \"y\"],\n",
    "              data=train);"
   ]
  },
  {
   "cell_type": "markdown",
   "metadata": {},
   "source": [
    "## Pairplot"
   ]
  },
  {
   "cell_type": "code",
   "execution_count": null,
   "metadata": {},
   "outputs": [],
   "source": [
    "cols_sample = train.select_dtypes(include=\"int64\").columns[:10]"
   ]
  },
  {
   "cell_type": "code",
   "execution_count": null,
   "metadata": {},
   "outputs": [],
   "source": [
    "mask = train.dtypes[train.dtypes == 'int64'].index.values"
   ]
  },
  {
   "cell_type": "code",
   "execution_count": null,
   "metadata": {},
   "outputs": [],
   "source": [
    "sbn.pairplot(train[cols_sample])"
   ]
  },
  {
   "cell_type": "code",
   "execution_count": null,
   "metadata": {},
   "outputs": [],
   "source": [
    "sbn.pairplot(train[mask[5:10]], plot_kws=dict(alpha=0.3, color='purple'),diag_kind='kde',diag_kws=dict(color='cyan'))"
   ]
  },
  {
   "cell_type": "code",
   "execution_count": null,
   "metadata": {},
   "outputs": [],
   "source": [
    "plt.style.use(\"seaborn-poster\")"
   ]
  },
  {
   "cell_type": "markdown",
   "metadata": {},
   "source": [
    "# **Lo que no se tiene que hacer**"
   ]
  },
  {
   "cell_type": "code",
   "execution_count": null,
   "metadata": {},
   "outputs": [],
   "source": [
    "plt.bar(0.3, 0.5)\n",
    "plt.title(\"grafico de barras con un solo valor\")"
   ]
  },
  {
   "cell_type": "code",
   "execution_count": null,
   "metadata": {},
   "outputs": [],
   "source": [
    "# create data\n",
    "size_of_groups=[12,11,10,15]\n",
    " \n",
    "# Create a pieplot\n",
    "plt.pie(size_of_groups)\n",
    "#plt.show()\n",
    " \n",
    "# add a circle at the center\n",
    "my_circle=plt.Circle( (0,0), 0.7, color='white')\n",
    "p=plt.gcf()\n",
    "p.gca().add_artist(my_circle)\n",
    " \n",
    "plt.show()"
   ]
  },
  {
   "cell_type": "code",
   "execution_count": null,
   "metadata": {},
   "outputs": [],
   "source": [
    "train.groupby('YrSold').SalePrice.mean().plot.pie();"
   ]
  },
  {
   "cell_type": "code",
   "execution_count": null,
   "metadata": {},
   "outputs": [],
   "source": [
    "train.groupby([\"GarageCars\",\"BldgType\"]).SalePrice.mean().unstack().plot.bar(stacked=True, rot=0)\n",
    "plt.title(\"\"\"Las barras apiladas son buenas si tenemos pocas categorias, \n",
    "          se nos complica saber quien es más grande con las barras que caen en medio\"\"\");"
   ]
  },
  {
   "cell_type": "markdown",
   "metadata": {},
   "source": [
    "-----\n",
    "\n",
    "# Anexo: mismo método get_dummies, pero con Label Encoder y OneHotEncoder"
   ]
  },
  {
   "cell_type": "code",
   "execution_count": null,
   "metadata": {},
   "outputs": [],
   "source": [
    "import pandas as pd"
   ]
  },
  {
   "cell_type": "code",
   "execution_count": null,
   "metadata": {},
   "outputs": [],
   "source": [
    "data = {'country': ['Belgium', 'France', 'France', 'Netherlands', 'Belgium']}\n",
    "countries = pd.DataFrame(data)\n",
    "countries"
   ]
  },
  {
   "cell_type": "markdown",
   "metadata": {},
   "source": [
    "Necesitamos convertir los objetos de la columna a números para poder incluirlos en el modelo de predicción. Usaremos la función LabelEncoder para lograrlo:"
   ]
  },
  {
   "cell_type": "code",
   "execution_count": null,
   "metadata": {},
   "outputs": [],
   "source": [
    "from sklearn.preprocessing import LabelEncoder"
   ]
  },
  {
   "cell_type": "code",
   "execution_count": null,
   "metadata": {},
   "outputs": [],
   "source": [
    "encoder = LabelEncoder()\n",
    "countries.country = encoder.fit_transform(countries.country)\n",
    "countries"
   ]
  },
  {
   "cell_type": "markdown",
   "metadata": {},
   "source": [
    "Con lo que se han asignado valores numéricos a cada país en estricto orden alfabético:\n",
    "\n",
    "* Belgium = 0\n",
    "* France = 1\n",
    "* Netherlands = 2\n"
   ]
  },
  {
   "cell_type": "markdown",
   "metadata": {},
   "source": [
    "Ahora nos enfrentamos a otro problema. La lista de arriba sugiere que Holanda es mayor que Francia y Bélgica lo cuál no tiene ningún sentido. Usaremos la función OneHotEncoder para solucionarlo:"
   ]
  },
  {
   "cell_type": "code",
   "execution_count": null,
   "metadata": {},
   "outputs": [],
   "source": [
    "from sklearn.preprocessing import OneHotEncoder"
   ]
  },
  {
   "cell_type": "code",
   "execution_count": null,
   "metadata": {},
   "outputs": [],
   "source": [
    "onehotencoder = OneHotEncoder()\n",
    "countries = onehotencoder.fit_transform(countries).toarray()\n",
    "countries"
   ]
  },
  {
   "cell_type": "code",
   "execution_count": null,
   "metadata": {},
   "outputs": [],
   "source": [
    "countries = pd.DataFrame(countries, columns= ['Belgium', 'France', 'Netherlands'])\n",
    "countries"
   ]
  }
 ],
 "metadata": {
  "kernelspec": {
   "display_name": "Python 3",
   "language": "python",
   "name": "python3"
  },
  "language_info": {
   "codemirror_mode": {
    "name": "ipython",
    "version": 3
   },
   "file_extension": ".py",
   "mimetype": "text/x-python",
   "name": "python",
   "nbconvert_exporter": "python",
   "pygments_lexer": "ipython3",
   "version": "3.7.4"
  }
 },
 "nbformat": 4,
 "nbformat_minor": 4
}
