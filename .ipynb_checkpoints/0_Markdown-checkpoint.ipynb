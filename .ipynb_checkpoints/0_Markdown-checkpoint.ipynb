{
 "cells": [
  {
   "cell_type": "markdown",
   "metadata": {},
   "source": [
    "# Notebook Práctico de Markdown\n",
    "\n",
    "Aquí practicarás y aprenderás a moverte en los Notebooks.\n",
    "\n",
    "Verás:\n",
    "+ Comandos en las celdas\n",
    "+ Encabezados\n",
    "+ Crear/Eliminar celdas\n",
    "+ Listas\n",
    "+ Código\n",
    "+ Texto en Markdown\n",
    "    + Negritas\n",
    "    + Cursiva\n",
    "    + Tachado\n",
    "\n",
    "\n",
    "+ Ecuaciones\n",
    "+ Insertar Imágenes\n",
    "+ Hipervínculos"
   ]
  },
  {
   "cell_type": "markdown",
   "metadata": {},
   "source": [
    "Si quieren acceder al código recuerden, doble click en la celda de interés.\n",
    "\n",
    "## Encabezados\n",
    "\n",
    "El símbolo de gato (#) es el método que se utiliza en Markdown para crear encabezados. Este símbolo se coloca al inicio del texto a resaltar y dependiendo de la cantidad de \"#\" utilizados, será el tamaño del encabezado."
   ]
  },
  {
   "cell_type": "markdown",
   "metadata": {},
   "source": [
    "# Tutorial Jupyter\n",
    "\n",
    "## Título 1\n",
    "\n",
    "### Título 2\n",
    "\n",
    "#### Título 3\n",
    "\n",
    "## Crear/Eliminar celdas\n",
    "\n",
    "Para generar celdas hacia abajo presionamos `Esc` seeguido de la tecla `b`.\n",
    "\n",
    "Para generar celdas hacia arriba presionamos `Esc` seguido de la tecla `a`.\n",
    "\n",
    "Para borrar una celda, presionamos `Esc` sobre la celda a eliminar seguido de la tecla `d` dos veces."
   ]
  },
  {
   "cell_type": "markdown",
   "metadata": {},
   "source": [
    "## Listas\n",
    "\n",
    "Para colocar viñetas en las listas se utilizan asteriscos(*), guiones(-), o el símbolo de suma(+).\n",
    "\n",
    "* Elemento 1\n",
    "* Elemento 2\n",
    "* Elemento 3"
   ]
  },
  {
   "cell_type": "markdown",
   "metadata": {},
   "source": [
    "Tambien se pueden crear listas anidadas.\n",
    "\n",
    "* Lista 1\n",
    "    * Elemento 1 lista 1\n",
    "    * Elemento 2 lista 1\n",
    "\n",
    "* Lista 2\n",
    "    * Elemento 1 lista 2\n",
    "    * Elemento 2 lista 2\n",
    "    \n",
    "Y listas enumeradas.\n",
    "\n",
    "1. Uno\n",
    "2. Dos\n",
    "3. Tres"
   ]
  },
  {
   "cell_type": "markdown",
   "metadata": {},
   "source": [
    "## Código\n",
    "\n",
    "Mi código suma 3 más 4."
   ]
  },
  {
   "cell_type": "code",
   "execution_count": null,
   "metadata": {},
   "outputs": [],
   "source": [
    "codigo = 3+4\n",
    "print (codigo)"
   ]
  },
  {
   "cell_type": "markdown",
   "metadata": {},
   "source": [
    "## Texto en Markdown\n",
    "\n",
    "Quiero poner enfasis en __esto__ poniéndolo en __negritas__.\n",
    "\n",
    "Las palabras en *cursiva* parecen borrachitas.\n",
    "\n",
    "Combinando **_negrita y cursiva_**.\n",
    "\n",
    "Nunca hay que ~~tachar~~ a las personas antes de conocerlas."
   ]
  },
  {
   "cell_type": "markdown",
   "metadata": {},
   "source": [
    "## Ecuaciones\n",
    "\n",
    "Utilizamos la composición de textos científicos para la creación de artículos, tesis, etcétera llamado **_LaTeX_**. \n",
    "\n",
    "$ y = mx + b $\n",
    "\n",
    "$ x_{av} = \\frac{1}{N} \\Sigma x_{i}  $"
   ]
  },
  {
   "cell_type": "markdown",
   "metadata": {},
   "source": [
    "## Imágenes \n",
    "\n",
    "<img src=\"Imagenes/python.JPG\">"
   ]
  },
  {
   "cell_type": "markdown",
   "metadata": {},
   "source": [
    "## Hipervínculos\n",
    "\n",
    "Se crean escribiendo la palabra enlazada entre corchetes [ ], y el link entre paréntesis ( ).\n",
    "\n",
    "Por ejemplo, si quieres hacer nuevos amigos presiona [aquí](https://www.facebook.com)."
   ]
  }
 ],
 "metadata": {
  "kernelspec": {
   "display_name": "Python 3",
   "language": "python",
   "name": "python3"
  },
  "language_info": {
   "codemirror_mode": {
    "name": "ipython",
    "version": 3
   },
   "file_extension": ".py",
   "mimetype": "text/x-python",
   "name": "python",
   "nbconvert_exporter": "python",
   "pygments_lexer": "ipython3",
   "version": "3.7.4"
  }
 },
 "nbformat": 4,
 "nbformat_minor": 4
}
