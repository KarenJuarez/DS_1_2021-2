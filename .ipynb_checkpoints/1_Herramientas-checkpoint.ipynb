{
 "cells": [
  {
   "cell_type": "markdown",
   "metadata": {},
   "source": [
    "# Introducción\n",
    "\n",
    "## Temario\n",
    "\n",
    " + _Introducción a la programación orientada a objetos en Python_ (no se profundizará en el lenguaje Python).\n",
    " \n",
    " + _Introducción a las herramientas de la Ciencia de Datos_. \n",
    "     * [Python](https://www.python.org)\n",
    "     * [Anaconda](https://www.anaconda.com/products/individual)\n",
    "     * [Jupyter-Lab](https://jupyter.org)\n",
    "     * [Git](https://git-scm.com)\n",
    "     * [Slack](https://slack.com/intl/es-mx)\n",
    "   \n",
    " \n",
    " + _Análisis de datos en Python_. Aprenderás las herramientas más usadas para adentrarte en la ciencia de los datos.\n",
    "     * Biblioteca [Pandas](https://pandas.pydata.org)\n",
    "     * Biblioteca [Numpy](https://numpy.org)\n",
    " \n",
    " \n",
    " + _Visualización de datos_.\n",
    "     * Graficación en [Matplotlib](https://matplotlib.org)\n",
    "     * Graficación en [Seaborns](https://seaborn.pydata.org)\n",
    " \n",
    " \n",
    " + _Introducción a la inteligencia artificial y Machine Learning_.\n",
    "    * Regresión Lineal\n",
    "        - Regresión Multilineal\n",
    "        - Regresión Polinomial\n",
    "    * Regresión Logística\n",
    "    * Árboles de Decisión\n",
    "    * Random Forest\n",
    "    * K-means\n",
    "    * Redes Neuronales\n",
    " \n",
    " \n",
    " + _Aplicación de Machine Learning con aprendizaje supervisado_ \n",
    "     * Regresiones y Clasificaciones \n",
    " \n",
    " \n",
    " + _Aplicación de Machine Learning con aprendizaje No supervisado_ \n",
    "     * Clustering (biblioteca [scikit-learn](https://scikit-learn.org/stable))\n",
    "\n",
    "\n",
    " + _Proyecto Final de [Kaggle](https://www.kaggle.com)_ (libre) \n",
    " \n",
    " ---------------------------------"
   ]
  },
  {
   "cell_type": "markdown",
   "metadata": {},
   "source": [
    "# Introducción a las herramientas de la Ciencia de Datos\n",
    "\n",
    "Las herramientas necesarias a partir de este notebook son:\n",
    "\n",
    "* [Anaconda Python 3.8](https://www.anaconda.com/products/individual)\n",
    "* [Jupyter-Lab](https://jupyter.org)\n",
    "* [Slack](https://slack.com/intl/es-mx)"
   ]
  },
  {
   "cell_type": "markdown",
   "metadata": {},
   "source": [
    "### Jupyter... ¿Y por qué?\n",
    "\n",
    "JupyterLab es una aplicación web que _permite crear y compartir documentos con código fuente, ecuaciones en LaTeX, visualizaciones y texto regular_.\n",
    "\n",
    "El sistema Jupyter da soporte a más de 100 lenguajes de programación (llamados kernel en el ecosistema dentro de la aplicación) incluyendo **Python**, Java, R, Julia, MATLAB, Octave, Scheme, C#, Scala y muchos más.\n",
    "\n",
    "Jupyter se ha puesto de moda en las áreas de negocio y ciencia dada su versatilidad para compartir código y/o metodologías.\n",
    "\n",
    "En el notebook puedes escribir diversos formatos como\n",
    "\n",
    "__Código:__\n",
    "\n",
    "~~~ \n",
    "import pandas as pd\n",
    "pd.read_csv('docu.csv')\n",
    "~~~\n",
    "\n",
    "__Imágenes:__\n",
    "\n",
    "<img src=\"Imagenes/pqo.png\">\n",
    "\n",
    "__Ecuaciones:__\n",
    "\n",
    "$ x_1 = 10x_2 + f(y) -  \\frac{d^2 u}{dx^2} \\times \\int_{x_1}^{x_2} x^3 $\n",
    "\n",
    "__Emoticones:__\n",
    "\n",
    "🦄🦄🦄\n",
    "\n",
    "Para más tips de guapura de markdowns [lee esto](https://markdown.es/sintaxis-markdown/)."
   ]
  },
  {
   "cell_type": "markdown",
   "metadata": {},
   "source": [
    "---------------------------------\n",
    "# Instalación de Anaconda\n",
    "\n",
    "Dado que Jupyter es un Ambiente de Desarrollo Integrado (IDE por sus siglas en inglés) es necesario tener los lenguajes de programación antes de poder utilizar el Notebook interactivo. En él, se documenta todo el desarrollo del proyecto."
   ]
  },
  {
   "cell_type": "markdown",
   "metadata": {},
   "source": [
    "* Descargar e instalar __Anaconda__. \n",
    "\n",
    "### _Windows_\n",
    "   Según tu computadora, puedes instalar la version de 32-bits o de 64-bits, acorde con la versión de Python instalada previamente. [Descarga Anaconda aquí](https://www.anaconda.com/download/).\n",
    "\n",
    "   Si no sabes cómo revisar de cuántos bits es tu computadora, sigue los pasos de este [link](https://support.hp.com/ar-es/document/c02026273).\n",
    "\n",
    "   Durante la instalación, acepta todas las opciones por default y **NO OLVIDES _TACHAR EN AGREGAR AL PATH_**, __DE LO CONTRARIO TENDRÁS QUE REPETIR LA INSTALACIÓN DESDE EL PRINCIPIO__.\n",
    "\n",
    "<img src=\"Imagenes/anaconda.JPG\">\n",
    "\n",
    "### _MacOS_\n",
    "   Descarga el ejecutable de [Anaconda](https://www.anaconda.com/download/) correspondiente y sigue los [siguientes pasos](https://www.datacamp.com/community/tutorials/installing-anaconda-mac-os-x).\n",
    "\n",
    "\n",
    "### _Linux_\n",
    "   Descarga el ejecutable de [Anaconda](https://www.anaconda.com/download/) para Linux. Puedes abrir esta [guía](https://www.digitalocean.com/community/tutorials/how-to-install-anaconda-on-ubuntu-18-04-quickstart) o seguir leyendo.\n",
    "\n",
    "   Abrir una terminal e ingresar a la carpeta de descargas mediante:\n",
    "    `cd Descargas` o `cd Downloads`\n",
    "\n",
    "   *Nota: Las XXXX son el número actual de la versión*\n",
    "\n",
    "`chmod +x Anaconda3-XXXX.XXXXXXXXX.XX.sh` recuerda autocompletar con tabulador.\n",
    "\n",
    "   Después probar con:\n",
    "`bash Anaconda3-XXXX.XXXXXXXXX.XX.sh` o `./Anaconda3-XXXX.XXXXXXXXX.XX.sh`\n",
    "\n",
    "   y saldrá una ventana como esta:\n",
    "\n",
    "<img src='Imagenes/img_anaconda_2.jpg'>\n",
    "\n",
    "   Elegir la opción `yes`. Después:\n",
    "\n",
    "<img src='Imagenes/img_anaconda_3.jpg'>\n",
    "\n",
    "Se recomienda sólo teclear `ENTER` pero igual se puede indicar en que carpeta guardarlo.\n",
    "\n",
    "Continuamos:\n",
    "\n",
    "<img src='Imagenes/img_anaconda_4.jpg'>\n",
    "\n",
    "Nuevamente `yes`\n",
    "\n",
    "Y terminar la instalación para que se guarden las nuevas variables de entorno. Para este último paso, teclear el siguiente comando:\n",
    "\n",
    "`source ~/.bashrc`"
   ]
  },
  {
   "cell_type": "markdown",
   "metadata": {},
   "source": [
    "### Sí, sí... mucha instalación y todo pero, ¿por qué Python y Anaconda?\n",
    "\n",
    "__Python__ ha venido agarrando popularidad en el area de ciencia de datos y manejo de datos científicos, por su facilidad para aprender y su sintaxis accesible.\n",
    "\n",
    "__Anaconda__ es una distribución de bibliotecas enfocadas a ciencia de datos y machine learning.\n",
    "\n",
    "__Python__ nos permite programar y aprender relativamente rápido mientras que __Anaconda__ nos instala todas las bibliotecas necesarias  para la realización de proyectos."
   ]
  },
  {
   "cell_type": "markdown",
   "metadata": {},
   "source": [
    "---------------------------------\n",
    "## Instalación de bibliotecas por medio de pip\n",
    "\n",
    "Abrir una Anaconda Prompt. En Windows seleccionando Inicio, escribe Anaconda Prompt y elige el recuadro negro. En MacOs presiona las teclas `cmd` + `espacio`, teclea la palabra `terminal` y pulsa `ENTER`.\n",
    "\n",
    "Una vez dentro de la Anaconda Prompt, teclea el siguiete código:\n",
    "\n",
    "`pip install biblioteca` donde *biblioteca* lo sustituirás por una de la siguiente lista:\n",
    "\n",
    "+ graphviz    -   (biblioteca de interpretación de árboles de decisión)\n",
    "+ scikit-plot -   (biblioteca de gráficos de métricas de evaluación de modelos de ML)\n",
    "+ statsmodel  -   (biblioteca de ML para regresiones)\n",
    "\n",
    "__Por ejemplo, para instalar graphviz tendríamos que ejecutar el comando:__ `pip install graphviz`"
   ]
  },
  {
   "cell_type": "markdown",
   "metadata": {},
   "source": [
    "---------------------------------\n",
    "## Verificando el funcionamiento de Anaconda y JupyterLab\n",
    "\n",
    "Abrir una Anaconda Prompt y teclear el cómando:\n",
    "\n",
    "`jupyter-lab`"
   ]
  },
  {
   "cell_type": "markdown",
   "metadata": {},
   "source": [
    "<img src= \"Imagenes/jupyter-lab.jpg\" width = 600>"
   ]
  },
  {
   "cell_type": "markdown",
   "metadata": {},
   "source": [
    "Si realizamos la instalación de forma adecuada, se nos abrirá una pestaña de nuestro navegador web preferido y deberá mostrarnos algo como esto:\n",
    "\n",
    "<img src= \"Imagenes/jupyter-lab2.jpg\" width = 700>"
   ]
  },
  {
   "cell_type": "markdown",
   "metadata": {},
   "source": [
    "---------------------------------\n",
    "# Instalación de Slack\n",
    "\n",
    "Es un _servicio mensajería instantánea_ con diversas herramientas integradas (Dropbox, Google Drive, etc.) enfocado a las empresas pero que se puede utilizar para fines diversos.\n",
    "\n",
    "Para mantener la comunicación en el grupo les pediré que descarguen Slack directamente a su ordenador\n",
    "([Descargar Slack](https://slack.com/intl/es/downloads/)) y que se inscriban al grupo:\n",
    "\n",
    "__dsciencias-1-2021-2.slack.com__\n",
    "\n",
    "También pueden descargar la aplicación para telefonos móviles y una vez que tengan la herramienta integrada a su celular y/o computadora, entran al grupo, le dan en canales y se unen. Ahí encontrarán material de apoyo para los diversos temas que veremos aquí.\n",
    "\n",
    "Para más información pueden revisar el siguiente link:\n",
    "[¿Para qué es y para qué sirve Slack?](http://www.naiarafernandez.com/tutorial-slack-que-es-para-que-sirve-y-como-funciona/)"
   ]
  },
  {
   "cell_type": "markdown",
   "metadata": {},
   "source": [
    "---------------------------------\n",
    "# El Google Drive del curso"
   ]
  },
  {
   "cell_type": "markdown",
   "metadata": {},
   "source": [
    "Por último, accede al [Google Drive del curso](https://drive.google.com/drive/folders/17Ao61O5wfuWYJ1p-IuGcd16Ro4ES4d2P?usp=sharing). Haz clic derecho sobre la carpeta _DS_1_2021-2_ y elegir la opción de descarga. Comenzaras a descargar un archivo .ZIP que contiene los archivos y datos con los que trabajaremos a lo largo del curso. Descomprimelo en un lugar seguro en el que no lo puedas eliminar por error y sobre todo, **no modifiques nada de su contenido y/o distribución**, pues los archivos están nombrados y organizados de tal forma que garanticen el correcto funcionamiento de nuestros códigos.\n",
    "\n",
    "Los videos de las clases se subirán a este mismo Drive. De cualquier forma, se compartirá el link de descarga de cada video clase a través del Slack del curso.\n",
    "\n",
    "¡C'est fini!\n",
    "\n",
    "Has terminado la instalación y estás listo para empezar el curso.\n",
    "\n",
    "🥳🥳🥳🥳🥳🥳🥳🥳🥳\n",
    "\n",
    "👏🏼👏🏼👏🏼👏🏼👏🏼👏🏼👏🏼\n",
    "\n",
    "👨💻 👩💻 "
   ]
  },
  {
   "cell_type": "markdown",
   "metadata": {},
   "source": [
    "---------------------------------\n",
    "# ACTIVIDAD\n",
    "\n",
    "1) Crear un notebook de python y escribir su famosísísísímo saludo a sí mismos para asegurarnos que todos los componentes se instalaron adecuadamente.\n",
    "2) Copiamos, pegamos y ejecutamos las siguientes celdas:"
   ]
  },
  {
   "cell_type": "code",
   "execution_count": null,
   "metadata": {},
   "outputs": [],
   "source": []
  },
  {
   "cell_type": "code",
   "execution_count": null,
   "metadata": {},
   "outputs": [],
   "source": []
  },
  {
   "cell_type": "code",
   "execution_count": 1,
   "metadata": {
    "ExecuteTime": {
     "end_time": "2018-01-13T14:21:32.583000Z",
     "start_time": "2018-01-13T14:21:29.670000Z"
    }
   },
   "outputs": [],
   "source": [
    "import numpy as np\n",
    "import matplotlib.pyplot as plt"
   ]
  },
  {
   "cell_type": "code",
   "execution_count": 2,
   "metadata": {
    "ExecuteTime": {
     "end_time": "2018-01-13T15:09:39.690000Z",
     "start_time": "2018-01-13T15:09:39.540000Z"
    }
   },
   "outputs": [
    {
     "data": {
      "image/png": "[encoded data removed]",
      "text/plain": [
       "<Figure size 432x288 with 1 Axes>"
      ]
     },
     "metadata": {
      "needs_background": "light"
     },
     "output_type": "display_data"
    }
   ],
   "source": [
    "plt.plot(np.arange(50),np.random.rand(50));"
   ]
  },
  {
   "cell_type": "code",
   "execution_count": 3,
   "metadata": {},
   "outputs": [
    {
     "data": {
      "image/png": "[encoded data removed]",
      "text/plain": [
       "<Figure size 432x288 with 1 Axes>"
      ]
     },
     "metadata": {
      "needs_background": "light"
     },
     "output_type": "display_data"
    }
   ],
   "source": [
    "x = np.arange(0, 50,0.1)\n",
    "plt.plot(x,np.sin(x));"
   ]
  },
  {
   "cell_type": "markdown",
   "metadata": {
    "ExecuteTime": {
     "end_time": "2018-01-13T15:09:39.690000Z",
     "start_time": "2018-01-13T15:09:39.540000Z"
    }
   },
   "source": [
    "Tu primera gráfica 😮"
   ]
  }
 ],
 "metadata": {
  "kernelspec": {
   "display_name": "Python 3",
   "language": "python",
   "name": "python3"
  },
  "language_info": {
   "codemirror_mode": {
    "name": "ipython",
    "version": 3
   },
   "file_extension": ".py",
   "mimetype": "text/x-python",
   "name": "python",
   "nbconvert_exporter": "python",
   "pygments_lexer": "ipython3",
   "version": "3.7.4"
  },
  "toc": {
   "base_numbering": 1,
   "nav_menu": {},
   "number_sections": true,
   "sideBar": true,
   "skip_h1_title": false,
   "title_cell": "Table of Contents",
   "title_sidebar": "Contents",
   "toc_cell": false,
   "toc_position": {},
   "toc_section_display": "block",
   "toc_window_display": false
  },
  "varInspector": {
   "cols": {
    "lenName": 16,
    "lenType": 16,
    "lenVar": 40
   },
   "kernels_config": {
    "python": {
     "delete_cmd_postfix": "",
     "delete_cmd_prefix": "del ",
     "library": "var_list.py",
     "varRefreshCmd": "print(var_dic_list())"
    },
    "r": {
     "delete_cmd_postfix": ") ",
     "delete_cmd_prefix": "rm(",
     "library": "var_list.r",
     "varRefreshCmd": "cat(var_dic_list()) "
    }
   },
   "types_to_exclude": [
    "module",
    "function",
    "builtin_function_or_method",
    "instance",
    "_Feature"
   ],
   "window_display": false
  }
 },
 "nbformat": 4,
 "nbformat_minor": 4
}
